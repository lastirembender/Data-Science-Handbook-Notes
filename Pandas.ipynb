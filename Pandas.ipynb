{
  "nbformat": 4,
  "nbformat_minor": 0,
  "metadata": {
    "colab": {
      "name": "Pandas",
      "provenance": [],
      "toc_visible": true,
      "authorship_tag": "ABX9TyOixwyzrTtBYAFcWMMDzuLk",
      "include_colab_link": true
    },
    "kernelspec": {
      "name": "python3",
      "display_name": "Python 3"
    }
  },
  "cells": [
    {
      "cell_type": "markdown",
      "metadata": {
        "id": "view-in-github",
        "colab_type": "text"
      },
      "source": [
        "<a href=\"https://colab.research.google.com/github/lastirembender/Data-Science-Handbook-Notes/blob/main/Pandas.ipynb\" target=\"_parent\"><img src=\"https://colab.research.google.com/assets/colab-badge.svg\" alt=\"Open In Colab\"/></a>"
      ]
    },
    {
      "cell_type": "markdown",
      "metadata": {
        "id": "B9vNxVkW17Yz"
      },
      "source": [
        "Pandas NumPy gibi veri manipülasyonuna yarayan bir Python kütüphanesidir. NumPy'da ndarray veri yapıları varken Pandas'da DataFrames adlı yapıları vardır. DataFrames, satır ve sütunlardan oluşan ve genellikle heterojen türler ve / veya eksik veriler içeren çok boyutlu dizilerdir."
      ]
    },
    {
      "cell_type": "markdown",
      "metadata": {
        "id": "9KHQo9aU42_n"
      },
      "source": [
        "*Pandas kütüphanesi koda şu şekilde dahil edilir:*"
      ]
    },
    {
      "cell_type": "code",
      "metadata": {
        "id": "7xxD0USF49lX"
      },
      "source": [
        "import pandas as pd"
      ],
      "execution_count": 1,
      "outputs": []
    },
    {
      "cell_type": "code",
      "metadata": {
        "id": "-hDjCpsiuBlg"
      },
      "source": [
        "import numpy as np"
      ],
      "execution_count": 3,
      "outputs": []
    },
    {
      "cell_type": "markdown",
      "metadata": {
        "id": "9eJsRA1h_AUe"
      },
      "source": [
        "# Pandas Series tanımlama ve kullanımı"
      ]
    },
    {
      "cell_type": "markdown",
      "metadata": {
        "id": "RvZZ5EXg5IH9"
      },
      "source": [
        "En basit haliyle Pandas nesneleri, satırların ve sütunların indeksler yerine etiketlerle tanımlandığı NumPy arraylerinin gelişmiş sürümleri olarak düşünülebilir."
      ]
    },
    {
      "cell_type": "markdown",
      "metadata": {
        "id": "zyQxH0AI6A37"
      },
      "source": [
        "*Bir Pandas series oluşturulurken şu işlem yapılır:*"
      ]
    },
    {
      "cell_type": "code",
      "metadata": {
        "colab": {
          "base_uri": "https://localhost:8080/"
        },
        "id": "hu4IYmda5g4Q",
        "outputId": "5cddc917-9ea0-494e-afea-6947793507ff"
      },
      "source": [
        "data = pd.Series([0.25, 0.5, 0.75, 1.0])\r\n",
        "data"
      ],
      "execution_count": null,
      "outputs": [
        {
          "output_type": "execute_result",
          "data": {
            "text/plain": [
              "0    0.25\n",
              "1    0.50\n",
              "2    0.75\n",
              "3    1.00\n",
              "dtype: float64"
            ]
          },
          "metadata": {
            "tags": []
          },
          "execution_count": 49
        }
      ]
    },
    {
      "cell_type": "code",
      "metadata": {
        "colab": {
          "base_uri": "https://localhost:8080/"
        },
        "id": "us3Tjp3Q5-4X",
        "outputId": "607ad0f1-307a-430c-aa68-7d3b4de7378d"
      },
      "source": [
        "data.values #Series içindeki verilere ulaşırız"
      ],
      "execution_count": null,
      "outputs": [
        {
          "output_type": "execute_result",
          "data": {
            "text/plain": [
              "array([0.25, 0.5 , 0.75, 1.  ])"
            ]
          },
          "metadata": {
            "tags": []
          },
          "execution_count": 50
        }
      ]
    },
    {
      "cell_type": "code",
      "metadata": {
        "colab": {
          "base_uri": "https://localhost:8080/"
        },
        "id": "5YUowGbc6dxv",
        "outputId": "1809d989-9c91-4180-84ac-7721b1c47469"
      },
      "source": [
        "data.index  #Series içindeki verilerin index değerlerine ulaşırız"
      ],
      "execution_count": null,
      "outputs": [
        {
          "output_type": "execute_result",
          "data": {
            "text/plain": [
              "RangeIndex(start=0, stop=4, step=1)"
            ]
          },
          "metadata": {
            "tags": []
          },
          "execution_count": 51
        }
      ]
    },
    {
      "cell_type": "markdown",
      "metadata": {
        "id": "DY_Ewiso6lfl"
      },
      "source": [
        "Pandas Series içindeki verilere NumPy arraylerde olduğu gibi ulaşılabilir"
      ]
    },
    {
      "cell_type": "code",
      "metadata": {
        "colab": {
          "base_uri": "https://localhost:8080/"
        },
        "id": "AUAiRCA66xI8",
        "outputId": "3d503641-3315-4d24-c4fe-9617d1abd0ee"
      },
      "source": [
        "data[1]"
      ],
      "execution_count": null,
      "outputs": [
        {
          "output_type": "execute_result",
          "data": {
            "text/plain": [
              "0.5"
            ]
          },
          "metadata": {
            "tags": []
          },
          "execution_count": 52
        }
      ]
    },
    {
      "cell_type": "code",
      "metadata": {
        "colab": {
          "base_uri": "https://localhost:8080/"
        },
        "id": "ormXBFxz6zV0",
        "outputId": "cb4d3a2d-bf04-4366-db37-69bea82e05e3"
      },
      "source": [
        "data[1:3]"
      ],
      "execution_count": null,
      "outputs": [
        {
          "output_type": "execute_result",
          "data": {
            "text/plain": [
              "1    0.50\n",
              "2    0.75\n",
              "dtype: float64"
            ]
          },
          "metadata": {
            "tags": []
          },
          "execution_count": 53
        }
      ]
    },
    {
      "cell_type": "markdown",
      "metadata": {
        "id": "9by94jHL628S"
      },
      "source": [
        "Bir NumPy arrayde index değerlerini değiştiremezken Pandas Series'de index değerlerini örnekte olduğu gibi mümkünüdür"
      ]
    },
    {
      "cell_type": "code",
      "metadata": {
        "colab": {
          "base_uri": "https://localhost:8080/"
        },
        "id": "W1ogmn5W8aHB",
        "outputId": "7aa574f9-e402-4f6f-817e-58f41573e042"
      },
      "source": [
        "data = pd.Series([0.25, 0.5, 0.75, 1.0],\r\n",
        "                 index=['a', 'b', 'c', 'd'])\r\n",
        "data"
      ],
      "execution_count": null,
      "outputs": [
        {
          "output_type": "execute_result",
          "data": {
            "text/plain": [
              "a    0.25\n",
              "b    0.50\n",
              "c    0.75\n",
              "d    1.00\n",
              "dtype: float64"
            ]
          },
          "metadata": {
            "tags": []
          },
          "execution_count": 54
        }
      ]
    },
    {
      "cell_type": "markdown",
      "metadata": {
        "id": "nwjwyqni8clD"
      },
      "source": [
        "Index değerlerini değiştirdiğimiz için series içindeki herhangi bir değere ulaşmak istersem artık yeni index değerlerini kullanmak zorundayım."
      ]
    },
    {
      "cell_type": "code",
      "metadata": {
        "colab": {
          "base_uri": "https://localhost:8080/"
        },
        "id": "vBgOf-2P8v8U",
        "outputId": "5f56ce9c-81c6-4ca2-d03c-a08d4d55915e"
      },
      "source": [
        "data['b']"
      ],
      "execution_count": null,
      "outputs": [
        {
          "output_type": "execute_result",
          "data": {
            "text/plain": [
              "0.5"
            ]
          },
          "metadata": {
            "tags": []
          },
          "execution_count": 55
        }
      ]
    },
    {
      "cell_type": "markdown",
      "metadata": {
        "id": "99UkhgCB8yMo"
      },
      "source": [
        "Pandas Seriesleri Python'daki dictionary yapılarına benzetmemiz yanlış olmaz. Hatta sözlük yapılarını pandas series haline getirebiliriz"
      ]
    },
    {
      "cell_type": "code",
      "metadata": {
        "colab": {
          "base_uri": "https://localhost:8080/"
        },
        "id": "mDHc7IEJ9Q9s",
        "outputId": "d1d20ef6-9a50-49fc-b002-dafda3f27602"
      },
      "source": [
        "dict={'Spock' : 17,\r\n",
        "      'Kirk' : 19,\r\n",
        "      'McCoy' : 20,\r\n",
        "      'Scotty' : 15}\r\n",
        "star_trek = pd.Series(dict)\r\n",
        "star_trek"
      ],
      "execution_count": null,
      "outputs": [
        {
          "output_type": "execute_result",
          "data": {
            "text/plain": [
              "Spock     17\n",
              "Kirk      19\n",
              "McCoy     20\n",
              "Scotty    15\n",
              "dtype: int64"
            ]
          },
          "metadata": {
            "tags": []
          },
          "execution_count": 56
        }
      ]
    },
    {
      "cell_type": "code",
      "metadata": {
        "colab": {
          "base_uri": "https://localhost:8080/"
        },
        "id": "U-1nKflk971j",
        "outputId": "2d29331d-bd0d-4e2e-9031-4ea3be79a42b"
      },
      "source": [
        "star_trek[\"Spock\"]"
      ],
      "execution_count": null,
      "outputs": [
        {
          "output_type": "execute_result",
          "data": {
            "text/plain": [
              "17"
            ]
          },
          "metadata": {
            "tags": []
          },
          "execution_count": 57
        }
      ]
    },
    {
      "cell_type": "markdown",
      "metadata": {
        "id": "bcV_l_Av_K_C"
      },
      "source": [
        "# Pandas DataFrame tanımlama ve kullanımı"
      ]
    },
    {
      "cell_type": "markdown",
      "metadata": {
        "id": "6ixE_ydN_TSJ"
      },
      "source": [
        "DataFrame hem esnek satır indisleri hem de esnek sütun adlarına sahip iki boyutlu bir dizilerdir"
      ]
    },
    {
      "cell_type": "markdown",
      "metadata": {
        "id": "59LwFJR3BPXH"
      },
      "source": [
        "Örneğin iki tane Pandas Series tanımlayıp bunlarla bir DataFrame oluşturalım"
      ]
    },
    {
      "cell_type": "code",
      "metadata": {
        "colab": {
          "base_uri": "https://localhost:8080/"
        },
        "id": "-me2eRT0_oAd",
        "outputId": "7a7abdef-209a-45b2-a302-5ecc88636709"
      },
      "source": [
        "work_year_dict={'Spock' : 17,\r\n",
        "           'Kirk' : 19,\r\n",
        "           'McCoy' : 20,\r\n",
        "           'Scotty' : 15}\r\n",
        "work_year = pd.Series(work_year_dict)\r\n",
        "work_year                                    "
      ],
      "execution_count": null,
      "outputs": [
        {
          "output_type": "execute_result",
          "data": {
            "text/plain": [
              "Spock     17\n",
              "Kirk      19\n",
              "McCoy     20\n",
              "Scotty    15\n",
              "dtype: int64"
            ]
          },
          "metadata": {
            "tags": []
          },
          "execution_count": 11
        }
      ]
    },
    {
      "cell_type": "code",
      "metadata": {
        "colab": {
          "base_uri": "https://localhost:8080/"
        },
        "id": "oqrHuF5BAwba",
        "outputId": "ac3d45c8-cac5-48ff-862a-f1892aaab81e"
      },
      "source": [
        "age_dict={'Spock' : 30,\r\n",
        "      'Kirk' : 29,\r\n",
        "      'McCoy' : 33,\r\n",
        "      'Scotty' : 36}\r\n",
        "age = pd.Series(age_dict)\r\n",
        "age"
      ],
      "execution_count": null,
      "outputs": [
        {
          "output_type": "execute_result",
          "data": {
            "text/plain": [
              "Spock     30\n",
              "Kirk      29\n",
              "McCoy     33\n",
              "Scotty    36\n",
              "dtype: int64"
            ]
          },
          "metadata": {
            "tags": []
          },
          "execution_count": 12
        }
      ]
    },
    {
      "cell_type": "code",
      "metadata": {
        "colab": {
          "base_uri": "https://localhost:8080/",
          "height": 166
        },
        "id": "KFTv835KA1p1",
        "outputId": "cfd0f545-0ba0-40f5-d42d-ef41e9a629c7"
      },
      "source": [
        "star_trek = pd.DataFrame({'work_year': work_year,\r\n",
        "                          'age': age})\r\n",
        "star_trek"
      ],
      "execution_count": null,
      "outputs": [
        {
          "output_type": "execute_result",
          "data": {
            "text/html": [
              "<div>\n",
              "<style scoped>\n",
              "    .dataframe tbody tr th:only-of-type {\n",
              "        vertical-align: middle;\n",
              "    }\n",
              "\n",
              "    .dataframe tbody tr th {\n",
              "        vertical-align: top;\n",
              "    }\n",
              "\n",
              "    .dataframe thead th {\n",
              "        text-align: right;\n",
              "    }\n",
              "</style>\n",
              "<table border=\"1\" class=\"dataframe\">\n",
              "  <thead>\n",
              "    <tr style=\"text-align: right;\">\n",
              "      <th></th>\n",
              "      <th>work_year</th>\n",
              "      <th>age</th>\n",
              "    </tr>\n",
              "  </thead>\n",
              "  <tbody>\n",
              "    <tr>\n",
              "      <th>Spock</th>\n",
              "      <td>17</td>\n",
              "      <td>30</td>\n",
              "    </tr>\n",
              "    <tr>\n",
              "      <th>Kirk</th>\n",
              "      <td>19</td>\n",
              "      <td>29</td>\n",
              "    </tr>\n",
              "    <tr>\n",
              "      <th>McCoy</th>\n",
              "      <td>20</td>\n",
              "      <td>33</td>\n",
              "    </tr>\n",
              "    <tr>\n",
              "      <th>Scotty</th>\n",
              "      <td>15</td>\n",
              "      <td>36</td>\n",
              "    </tr>\n",
              "  </tbody>\n",
              "</table>\n",
              "</div>"
            ],
            "text/plain": [
              "        work_year  age\n",
              "Spock          17   30\n",
              "Kirk           19   29\n",
              "McCoy          20   33\n",
              "Scotty         15   36"
            ]
          },
          "metadata": {
            "tags": []
          },
          "execution_count": 13
        }
      ]
    },
    {
      "cell_type": "code",
      "metadata": {
        "colab": {
          "base_uri": "https://localhost:8080/"
        },
        "id": "kXaCHzrhBGnk",
        "outputId": "bbc15363-2232-469e-c00e-83a47d74e248"
      },
      "source": [
        "star_trek.index"
      ],
      "execution_count": null,
      "outputs": [
        {
          "output_type": "execute_result",
          "data": {
            "text/plain": [
              "Index(['Spock', 'Kirk', 'McCoy', 'Scotty'], dtype='object')"
            ]
          },
          "metadata": {
            "tags": []
          },
          "execution_count": 14
        }
      ]
    },
    {
      "cell_type": "code",
      "metadata": {
        "colab": {
          "base_uri": "https://localhost:8080/"
        },
        "id": "7d2Fef8mCO01",
        "outputId": "700186eb-2b13-49cb-a826-82d8916ba0f1"
      },
      "source": [
        "star_trek.columns"
      ],
      "execution_count": null,
      "outputs": [
        {
          "output_type": "execute_result",
          "data": {
            "text/plain": [
              "Index(['work_year', 'age'], dtype='object')"
            ]
          },
          "metadata": {
            "tags": []
          },
          "execution_count": 15
        }
      ]
    },
    {
      "cell_type": "markdown",
      "metadata": {
        "id": "3IonWQatCmgE"
      },
      "source": [
        "Pandas Dataframe'lerin sütunlarının adını değiştirmek mümkün"
      ]
    },
    {
      "cell_type": "code",
      "metadata": {
        "colab": {
          "base_uri": "https://localhost:8080/",
          "height": 166
        },
        "id": "2i6EnK9PCSdY",
        "outputId": "79f215b0-1081-490f-d90a-4ff0da6e40fa"
      },
      "source": [
        "pd.DataFrame(age, columns=['Age'])"
      ],
      "execution_count": null,
      "outputs": [
        {
          "output_type": "execute_result",
          "data": {
            "text/html": [
              "<div>\n",
              "<style scoped>\n",
              "    .dataframe tbody tr th:only-of-type {\n",
              "        vertical-align: middle;\n",
              "    }\n",
              "\n",
              "    .dataframe tbody tr th {\n",
              "        vertical-align: top;\n",
              "    }\n",
              "\n",
              "    .dataframe thead th {\n",
              "        text-align: right;\n",
              "    }\n",
              "</style>\n",
              "<table border=\"1\" class=\"dataframe\">\n",
              "  <thead>\n",
              "    <tr style=\"text-align: right;\">\n",
              "      <th></th>\n",
              "      <th>Age</th>\n",
              "    </tr>\n",
              "  </thead>\n",
              "  <tbody>\n",
              "    <tr>\n",
              "      <th>Spock</th>\n",
              "      <td>30</td>\n",
              "    </tr>\n",
              "    <tr>\n",
              "      <th>Kirk</th>\n",
              "      <td>29</td>\n",
              "    </tr>\n",
              "    <tr>\n",
              "      <th>McCoy</th>\n",
              "      <td>33</td>\n",
              "    </tr>\n",
              "    <tr>\n",
              "      <th>Scotty</th>\n",
              "      <td>36</td>\n",
              "    </tr>\n",
              "  </tbody>\n",
              "</table>\n",
              "</div>"
            ],
            "text/plain": [
              "        Age\n",
              "Spock    30\n",
              "Kirk     29\n",
              "McCoy    33\n",
              "Scotty   36"
            ]
          },
          "metadata": {
            "tags": []
          },
          "execution_count": 16
        }
      ]
    },
    {
      "cell_type": "markdown",
      "metadata": {
        "id": "S0W0YzCHCkrn"
      },
      "source": [
        "##**Liste Elemanlarından DataFrame oluşturmak**"
      ]
    },
    {
      "cell_type": "code",
      "metadata": {
        "colab": {
          "base_uri": "https://localhost:8080/",
          "height": 136
        },
        "id": "5SEIvB85C3MV",
        "outputId": "b4c453e7-05dc-4595-f872-f09ed0458341"
      },
      "source": [
        "data = [{'a': i, 'b': 2 * i}\r\n",
        "        for i in range(3)]\r\n",
        "pd.DataFrame(data)"
      ],
      "execution_count": null,
      "outputs": [
        {
          "output_type": "execute_result",
          "data": {
            "text/html": [
              "<div>\n",
              "<style scoped>\n",
              "    .dataframe tbody tr th:only-of-type {\n",
              "        vertical-align: middle;\n",
              "    }\n",
              "\n",
              "    .dataframe tbody tr th {\n",
              "        vertical-align: top;\n",
              "    }\n",
              "\n",
              "    .dataframe thead th {\n",
              "        text-align: right;\n",
              "    }\n",
              "</style>\n",
              "<table border=\"1\" class=\"dataframe\">\n",
              "  <thead>\n",
              "    <tr style=\"text-align: right;\">\n",
              "      <th></th>\n",
              "      <th>a</th>\n",
              "      <th>b</th>\n",
              "    </tr>\n",
              "  </thead>\n",
              "  <tbody>\n",
              "    <tr>\n",
              "      <th>0</th>\n",
              "      <td>0</td>\n",
              "      <td>0</td>\n",
              "    </tr>\n",
              "    <tr>\n",
              "      <th>1</th>\n",
              "      <td>1</td>\n",
              "      <td>2</td>\n",
              "    </tr>\n",
              "    <tr>\n",
              "      <th>2</th>\n",
              "      <td>2</td>\n",
              "      <td>4</td>\n",
              "    </tr>\n",
              "  </tbody>\n",
              "</table>\n",
              "</div>"
            ],
            "text/plain": [
              "   a  b\n",
              "0  0  0\n",
              "1  1  2\n",
              "2  2  4"
            ]
          },
          "metadata": {
            "tags": []
          },
          "execution_count": 17
        }
      ]
    },
    {
      "cell_type": "markdown",
      "metadata": {
        "id": "l5XK8IHIDIKG"
      },
      "source": [
        "Aşağıdaki örnekte oluğu gibi DataFrame oluştururken NaN değerler oluşabilir. Bunlara eksik veriler denir. Sağlıklı bir data set için bu tarz eksik değerlerin temizlenmesi gerekir"
      ]
    },
    {
      "cell_type": "code",
      "metadata": {
        "colab": {
          "base_uri": "https://localhost:8080/",
          "height": 106
        },
        "id": "4q0S5mdkDCHU",
        "outputId": "97be4a93-26f4-4efe-c698-2ccb27ea7e83"
      },
      "source": [
        "pd.DataFrame([{'a': 1, 'b': 2}, {'b': 3, 'c': 4}])"
      ],
      "execution_count": null,
      "outputs": [
        {
          "output_type": "execute_result",
          "data": {
            "text/html": [
              "<div>\n",
              "<style scoped>\n",
              "    .dataframe tbody tr th:only-of-type {\n",
              "        vertical-align: middle;\n",
              "    }\n",
              "\n",
              "    .dataframe tbody tr th {\n",
              "        vertical-align: top;\n",
              "    }\n",
              "\n",
              "    .dataframe thead th {\n",
              "        text-align: right;\n",
              "    }\n",
              "</style>\n",
              "<table border=\"1\" class=\"dataframe\">\n",
              "  <thead>\n",
              "    <tr style=\"text-align: right;\">\n",
              "      <th></th>\n",
              "      <th>a</th>\n",
              "      <th>b</th>\n",
              "      <th>c</th>\n",
              "    </tr>\n",
              "  </thead>\n",
              "  <tbody>\n",
              "    <tr>\n",
              "      <th>0</th>\n",
              "      <td>1.0</td>\n",
              "      <td>2</td>\n",
              "      <td>NaN</td>\n",
              "    </tr>\n",
              "    <tr>\n",
              "      <th>1</th>\n",
              "      <td>NaN</td>\n",
              "      <td>3</td>\n",
              "      <td>4.0</td>\n",
              "    </tr>\n",
              "  </tbody>\n",
              "</table>\n",
              "</div>"
            ],
            "text/plain": [
              "     a  b    c\n",
              "0  1.0  2  NaN\n",
              "1  NaN  3  4.0"
            ]
          },
          "metadata": {
            "tags": []
          },
          "execution_count": 18
        }
      ]
    },
    {
      "cell_type": "markdown",
      "metadata": {
        "id": "zWDS3TIsDHM-"
      },
      "source": [
        "##**NumPy arraylerinden Pandas DataFrame oluşturma**"
      ]
    },
    {
      "cell_type": "code",
      "metadata": {
        "id": "xDPpF0jSEX5h"
      },
      "source": [
        "import numpy as np"
      ],
      "execution_count": null,
      "outputs": []
    },
    {
      "cell_type": "code",
      "metadata": {
        "colab": {
          "base_uri": "https://localhost:8080/"
        },
        "id": "wgj1qmI-Eaw-",
        "outputId": "1b2df16f-23d6-452b-9f89-bad7ebf537be"
      },
      "source": [
        "A = np.zeros(3, dtype=[('A','<i8'), ('B','<f8')])\r\n",
        "A"
      ],
      "execution_count": null,
      "outputs": [
        {
          "output_type": "execute_result",
          "data": {
            "text/plain": [
              "array([(0, 0.), (0, 0.), (0, 0.)], dtype=[('A', '<i8'), ('B', '<f8')])"
            ]
          },
          "metadata": {
            "tags": []
          },
          "execution_count": 20
        }
      ]
    },
    {
      "cell_type": "code",
      "metadata": {
        "colab": {
          "base_uri": "https://localhost:8080/",
          "height": 136
        },
        "id": "ulvE_FsaD9Ud",
        "outputId": "182df5ad-b220-4a11-e404-570e64527b61"
      },
      "source": [
        "pd.DataFrame(A)"
      ],
      "execution_count": null,
      "outputs": [
        {
          "output_type": "execute_result",
          "data": {
            "text/html": [
              "<div>\n",
              "<style scoped>\n",
              "    .dataframe tbody tr th:only-of-type {\n",
              "        vertical-align: middle;\n",
              "    }\n",
              "\n",
              "    .dataframe tbody tr th {\n",
              "        vertical-align: top;\n",
              "    }\n",
              "\n",
              "    .dataframe thead th {\n",
              "        text-align: right;\n",
              "    }\n",
              "</style>\n",
              "<table border=\"1\" class=\"dataframe\">\n",
              "  <thead>\n",
              "    <tr style=\"text-align: right;\">\n",
              "      <th></th>\n",
              "      <th>A</th>\n",
              "      <th>B</th>\n",
              "    </tr>\n",
              "  </thead>\n",
              "  <tbody>\n",
              "    <tr>\n",
              "      <th>0</th>\n",
              "      <td>0</td>\n",
              "      <td>0.0</td>\n",
              "    </tr>\n",
              "    <tr>\n",
              "      <th>1</th>\n",
              "      <td>0</td>\n",
              "      <td>0.0</td>\n",
              "    </tr>\n",
              "    <tr>\n",
              "      <th>2</th>\n",
              "      <td>0</td>\n",
              "      <td>0.0</td>\n",
              "    </tr>\n",
              "  </tbody>\n",
              "</table>\n",
              "</div>"
            ],
            "text/plain": [
              "   A    B\n",
              "0  0  0.0\n",
              "1  0  0.0\n",
              "2  0  0.0"
            ]
          },
          "metadata": {
            "tags": []
          },
          "execution_count": 21
        }
      ]
    },
    {
      "cell_type": "markdown",
      "metadata": {
        "id": "abP0atZXE7f5"
      },
      "source": [
        "# Pandas Index Nesnesi"
      ]
    },
    {
      "cell_type": "markdown",
      "metadata": {
        "id": "B3nx4aicE_OE"
      },
      "source": [
        "Index nesnesi değişmez bir dizi ya da sıralı bir küme olarak düşünülebilir"
      ]
    },
    {
      "cell_type": "code",
      "metadata": {
        "colab": {
          "base_uri": "https://localhost:8080/"
        },
        "id": "eAvFwObrFLJc",
        "outputId": "2202f1f4-cad9-4765-80b0-bd7017413804"
      },
      "source": [
        "ind = pd.Index([2, 3, 5, 7, 11])\r\n",
        "ind"
      ],
      "execution_count": null,
      "outputs": [
        {
          "output_type": "execute_result",
          "data": {
            "text/plain": [
              "Int64Index([2, 3, 5, 7, 11], dtype='int64')"
            ]
          },
          "metadata": {
            "tags": []
          },
          "execution_count": 58
        }
      ]
    },
    {
      "cell_type": "code",
      "metadata": {
        "colab": {
          "base_uri": "https://localhost:8080/"
        },
        "id": "0pw4ZhjWFc3_",
        "outputId": "bbde3d9b-dcb8-4f7f-9270-eed8f323615b"
      },
      "source": [
        "ind[1]"
      ],
      "execution_count": null,
      "outputs": [
        {
          "output_type": "execute_result",
          "data": {
            "text/plain": [
              "3"
            ]
          },
          "metadata": {
            "tags": []
          },
          "execution_count": 59
        }
      ]
    },
    {
      "cell_type": "code",
      "metadata": {
        "colab": {
          "base_uri": "https://localhost:8080/"
        },
        "id": "fWD08bNYFfp1",
        "outputId": "2de28a95-cd89-4c3e-ed97-f40988f566ad"
      },
      "source": [
        "ind[::-1]"
      ],
      "execution_count": null,
      "outputs": [
        {
          "output_type": "execute_result",
          "data": {
            "text/plain": [
              "Int64Index([11, 7, 5, 3, 2], dtype='int64')"
            ]
          },
          "metadata": {
            "tags": []
          },
          "execution_count": 60
        }
      ]
    },
    {
      "cell_type": "code",
      "metadata": {
        "colab": {
          "base_uri": "https://localhost:8080/"
        },
        "id": "XIrIVtwKFmal",
        "outputId": "6651eb4a-a9f7-4627-bf9a-597aeb2e0de1"
      },
      "source": [
        "print(ind.size, ind.shape, ind.ndim, ind.dtype)"
      ],
      "execution_count": null,
      "outputs": [
        {
          "output_type": "stream",
          "text": [
            "5 (5,) 1 int64\n"
          ],
          "name": "stdout"
        }
      ]
    },
    {
      "cell_type": "markdown",
      "metadata": {
        "id": "aDWCNizqFP4i"
      },
      "source": [
        "Index nesnesinin değerlerini değiştiremezsiniz"
      ]
    },
    {
      "cell_type": "code",
      "metadata": {
        "id": "ffddwJV5Fr6_"
      },
      "source": [
        "#ind[1] = 0 Bu tarz bir işlem hata üretir"
      ],
      "execution_count": null,
      "outputs": []
    },
    {
      "cell_type": "markdown",
      "metadata": {
        "id": "27xnsDadFx3k"
      },
      "source": [
        "Index nesneleri üzerinde bazı işlemler yapılabilir"
      ]
    },
    {
      "cell_type": "code",
      "metadata": {
        "id": "FRSZYj6AGC04"
      },
      "source": [
        "indA = pd.Index([1, 3, 5, 7, 9])\r\n",
        "indB = pd.Index([2, 3, 5, 7, 11])"
      ],
      "execution_count": null,
      "outputs": []
    },
    {
      "cell_type": "code",
      "metadata": {
        "colab": {
          "base_uri": "https://localhost:8080/"
        },
        "id": "QlsLWCMzGKNf",
        "outputId": "eac880e9-988c-40b9-d2ba-0a5d1f769c52"
      },
      "source": [
        "indA & indB #Aynı olan değerler döndürülür"
      ],
      "execution_count": null,
      "outputs": [
        {
          "output_type": "execute_result",
          "data": {
            "text/plain": [
              "Int64Index([3, 5, 7], dtype='int64')"
            ]
          },
          "metadata": {
            "tags": []
          },
          "execution_count": 64
        }
      ]
    },
    {
      "cell_type": "code",
      "metadata": {
        "colab": {
          "base_uri": "https://localhost:8080/"
        },
        "id": "ws_U0jz9GO38",
        "outputId": "9153f287-c0ce-41e8-aaa4-08673497df1e"
      },
      "source": [
        "indA | indB #İki Index verisini birleştirir"
      ],
      "execution_count": null,
      "outputs": [
        {
          "output_type": "execute_result",
          "data": {
            "text/plain": [
              "Int64Index([1, 2, 3, 5, 7, 9, 11], dtype='int64')"
            ]
          },
          "metadata": {
            "tags": []
          },
          "execution_count": 65
        }
      ]
    },
    {
      "cell_type": "markdown",
      "metadata": {
        "id": "jK4Nm5uJM916"
      },
      "source": [
        "# Pandas Veri Indeksleme ve Seçme"
      ]
    },
    {
      "cell_type": "markdown",
      "metadata": {
        "id": "ioEDUWysNz-q"
      },
      "source": [
        "##**Pandas Serieslerde Veri Seçme(Data Selection)**"
      ]
    },
    {
      "cell_type": "code",
      "metadata": {
        "colab": {
          "base_uri": "https://localhost:8080/"
        },
        "id": "SjWuDrVbOlSQ",
        "outputId": "dfedd413-06d3-4708-8a31-47928aed3078"
      },
      "source": [
        "data = pd.Series([0.25, 0.5, 0.75, 1.0],\r\n",
        "                 index=['a', 'b', 'c', 'd'])\r\n",
        "data"
      ],
      "execution_count": null,
      "outputs": [
        {
          "output_type": "execute_result",
          "data": {
            "text/plain": [
              "a    0.25\n",
              "b    0.50\n",
              "c    0.75\n",
              "d    1.00\n",
              "dtype: float64"
            ]
          },
          "metadata": {
            "tags": []
          },
          "execution_count": 30
        }
      ]
    },
    {
      "cell_type": "code",
      "metadata": {
        "colab": {
          "base_uri": "https://localhost:8080/"
        },
        "id": "ibJvBVGhOxU8",
        "outputId": "9478bda5-e6bb-4811-85cc-f023d8089fae"
      },
      "source": [
        "data['b']"
      ],
      "execution_count": null,
      "outputs": [
        {
          "output_type": "execute_result",
          "data": {
            "text/plain": [
              "0.5"
            ]
          },
          "metadata": {
            "tags": []
          },
          "execution_count": 31
        }
      ]
    },
    {
      "cell_type": "code",
      "metadata": {
        "colab": {
          "base_uri": "https://localhost:8080/"
        },
        "id": "918Qhm7fOz0q",
        "outputId": "92c2dc7e-bdd7-488c-948b-c846a41cfe59"
      },
      "source": [
        "'a' in data"
      ],
      "execution_count": null,
      "outputs": [
        {
          "output_type": "execute_result",
          "data": {
            "text/plain": [
              "True"
            ]
          },
          "metadata": {
            "tags": []
          },
          "execution_count": 32
        }
      ]
    },
    {
      "cell_type": "code",
      "metadata": {
        "colab": {
          "base_uri": "https://localhost:8080/"
        },
        "id": "baQ3ccSiO3I2",
        "outputId": "a32f8827-7d32-4811-af7f-4b4d9e754d14"
      },
      "source": [
        "list(data.items())"
      ],
      "execution_count": null,
      "outputs": [
        {
          "output_type": "execute_result",
          "data": {
            "text/plain": [
              "[('a', 0.25), ('b', 0.5), ('c', 0.75), ('d', 1.0)]"
            ]
          },
          "metadata": {
            "tags": []
          },
          "execution_count": 33
        }
      ]
    },
    {
      "cell_type": "code",
      "metadata": {
        "colab": {
          "base_uri": "https://localhost:8080/"
        },
        "id": "xK9Yfe3sPEIK",
        "outputId": "b48acef4-5f46-4623-c0df-40287b306135"
      },
      "source": [
        "data['c']=5\r\n",
        "data            #Pandas Serieslerdeki veriler değiştirilebilir"
      ],
      "execution_count": null,
      "outputs": [
        {
          "output_type": "execute_result",
          "data": {
            "text/plain": [
              "a    0.25\n",
              "b    0.50\n",
              "c    5.00\n",
              "d    1.00\n",
              "dtype: float64"
            ]
          },
          "metadata": {
            "tags": []
          },
          "execution_count": 34
        }
      ]
    },
    {
      "cell_type": "code",
      "metadata": {
        "colab": {
          "base_uri": "https://localhost:8080/"
        },
        "id": "QJMeMKWqPC_8",
        "outputId": "585d2253-6c53-4290-84e2-1325cba82bfb"
      },
      "source": [
        "print(data[0:2])\r\n",
        "print(\"\\n\")\r\n",
        "print(data['a':'c'])"
      ],
      "execution_count": null,
      "outputs": [
        {
          "output_type": "stream",
          "text": [
            "a    0.25\n",
            "b    0.50\n",
            "dtype: float64\n",
            "\n",
            "\n",
            "a    0.25\n",
            "b    0.50\n",
            "c    5.00\n",
            "dtype: float64\n"
          ],
          "name": "stdout"
        }
      ]
    },
    {
      "cell_type": "markdown",
      "metadata": {
        "id": "ihvaH8q0QwXU"
      },
      "source": [
        "Yukarıdaki kod satırında görüldüğü gibi 'a':'c' işlemi son elemanı kapsarken 0:2 son elemanı kapsamaz"
      ]
    },
    {
      "cell_type": "code",
      "metadata": {
        "colab": {
          "base_uri": "https://localhost:8080/"
        },
        "id": "g1XcuV68QPEr",
        "outputId": "57974c23-50de-4032-c200-79d2966fff8e"
      },
      "source": [
        "#maskeleme(masking)\r\n",
        "data[(data > 0.3) & (data < 0.8)]"
      ],
      "execution_count": null,
      "outputs": [
        {
          "output_type": "execute_result",
          "data": {
            "text/plain": [
              "b    0.5\n",
              "dtype: float64"
            ]
          },
          "metadata": {
            "tags": []
          },
          "execution_count": 36
        }
      ]
    },
    {
      "cell_type": "code",
      "metadata": {
        "colab": {
          "base_uri": "https://localhost:8080/"
        },
        "id": "5fdLPdkKQYF0",
        "outputId": "754371ff-ce80-42d8-f422-28c57cbe6518"
      },
      "source": [
        "#fancy indeksleme(fancy indexing)\r\n",
        "data[['a', 'd']]"
      ],
      "execution_count": null,
      "outputs": [
        {
          "output_type": "execute_result",
          "data": {
            "text/plain": [
              "a    0.25\n",
              "d    1.00\n",
              "dtype: float64"
            ]
          },
          "metadata": {
            "tags": []
          },
          "execution_count": 37
        }
      ]
    },
    {
      "cell_type": "code",
      "metadata": {
        "colab": {
          "base_uri": "https://localhost:8080/"
        },
        "id": "g2gP3dq0Q9vL",
        "outputId": "fb056e32-776c-4bce-ab24-268116cf0397"
      },
      "source": [
        "#iloc \r\n",
        "print(data.iloc[1])\r\n",
        "print(data.iloc[1:3])"
      ],
      "execution_count": null,
      "outputs": [
        {
          "output_type": "stream",
          "text": [
            "0.5\n",
            "b    0.5\n",
            "c    5.0\n",
            "dtype: float64\n"
          ],
          "name": "stdout"
        }
      ]
    },
    {
      "cell_type": "code",
      "metadata": {
        "id": "hJZrG9dFSih6"
      },
      "source": [
        "#Burada iloc gibi kullanılan loc metodu da var ancak google colab'da çalıştıramadım"
      ],
      "execution_count": null,
      "outputs": []
    },
    {
      "cell_type": "markdown",
      "metadata": {
        "id": "LMVQcnCzSqAL"
      },
      "source": [
        "##**Pandas DataFrame'lerde veri seçme(Data Selection)**"
      ]
    },
    {
      "cell_type": "code",
      "metadata": {
        "id": "tN36Jp7wS7u2",
        "colab": {
          "base_uri": "https://localhost:8080/",
          "height": 195
        },
        "outputId": "33f3ec49-7d75-4254-ebb3-b7eb8d0bc88c"
      },
      "source": [
        "area = pd.Series({'California': 423967, 'Texas': 695662,\r\n",
        "                  'New York': 141297, 'Florida': 170312,\r\n",
        "                  'Illinois': 149995})\r\n",
        "pop = pd.Series({'California': 38332521, 'Texas': 26448193,\r\n",
        "                 'New York': 19651127, 'Florida': 19552860,\r\n",
        "                 'Illinois': 12882135})\r\n",
        "data = pd.DataFrame({'area':area, 'pop':pop})\r\n",
        "data"
      ],
      "execution_count": null,
      "outputs": [
        {
          "output_type": "execute_result",
          "data": {
            "text/html": [
              "<div>\n",
              "<style scoped>\n",
              "    .dataframe tbody tr th:only-of-type {\n",
              "        vertical-align: middle;\n",
              "    }\n",
              "\n",
              "    .dataframe tbody tr th {\n",
              "        vertical-align: top;\n",
              "    }\n",
              "\n",
              "    .dataframe thead th {\n",
              "        text-align: right;\n",
              "    }\n",
              "</style>\n",
              "<table border=\"1\" class=\"dataframe\">\n",
              "  <thead>\n",
              "    <tr style=\"text-align: right;\">\n",
              "      <th></th>\n",
              "      <th>area</th>\n",
              "      <th>pop</th>\n",
              "    </tr>\n",
              "  </thead>\n",
              "  <tbody>\n",
              "    <tr>\n",
              "      <th>California</th>\n",
              "      <td>423967</td>\n",
              "      <td>38332521</td>\n",
              "    </tr>\n",
              "    <tr>\n",
              "      <th>Texas</th>\n",
              "      <td>695662</td>\n",
              "      <td>26448193</td>\n",
              "    </tr>\n",
              "    <tr>\n",
              "      <th>New York</th>\n",
              "      <td>141297</td>\n",
              "      <td>19651127</td>\n",
              "    </tr>\n",
              "    <tr>\n",
              "      <th>Florida</th>\n",
              "      <td>170312</td>\n",
              "      <td>19552860</td>\n",
              "    </tr>\n",
              "    <tr>\n",
              "      <th>Illinois</th>\n",
              "      <td>149995</td>\n",
              "      <td>12882135</td>\n",
              "    </tr>\n",
              "  </tbody>\n",
              "</table>\n",
              "</div>"
            ],
            "text/plain": [
              "              area       pop\n",
              "California  423967  38332521\n",
              "Texas       695662  26448193\n",
              "New York    141297  19651127\n",
              "Florida     170312  19552860\n",
              "Illinois    149995  12882135"
            ]
          },
          "metadata": {
            "tags": []
          },
          "execution_count": 40
        }
      ]
    },
    {
      "cell_type": "code",
      "metadata": {
        "colab": {
          "base_uri": "https://localhost:8080/"
        },
        "id": "tb7rIQL3c2z8",
        "outputId": "2e6748cb-ad40-4f29-aa5f-f136529c11b5"
      },
      "source": [
        "print(data['area'])\r\n",
        "print(\"\\n\")\r\n",
        "print(data.area)"
      ],
      "execution_count": null,
      "outputs": [
        {
          "output_type": "stream",
          "text": [
            "California    423967\n",
            "Texas         695662\n",
            "New York      141297\n",
            "Florida       170312\n",
            "Illinois      149995\n",
            "Name: area, dtype: int64\n",
            "\n",
            "\n",
            "California    423967\n",
            "Texas         695662\n",
            "New York      141297\n",
            "Florida       170312\n",
            "Illinois      149995\n",
            "Name: area, dtype: int64\n"
          ],
          "name": "stdout"
        }
      ]
    },
    {
      "cell_type": "code",
      "metadata": {
        "colab": {
          "base_uri": "https://localhost:8080/",
          "height": 195
        },
        "id": "dARKx4w1hb3O",
        "outputId": "1db16299-b151-4eda-c391-abb25d955b95"
      },
      "source": [
        "data['density'] = data['pop'] / data['area']\r\n",
        "data\r\n",
        "#Böylece DataFramelere yeni sütun oluşturulabilir"
      ],
      "execution_count": null,
      "outputs": [
        {
          "output_type": "execute_result",
          "data": {
            "text/html": [
              "<div>\n",
              "<style scoped>\n",
              "    .dataframe tbody tr th:only-of-type {\n",
              "        vertical-align: middle;\n",
              "    }\n",
              "\n",
              "    .dataframe tbody tr th {\n",
              "        vertical-align: top;\n",
              "    }\n",
              "\n",
              "    .dataframe thead th {\n",
              "        text-align: right;\n",
              "    }\n",
              "</style>\n",
              "<table border=\"1\" class=\"dataframe\">\n",
              "  <thead>\n",
              "    <tr style=\"text-align: right;\">\n",
              "      <th></th>\n",
              "      <th>area</th>\n",
              "      <th>pop</th>\n",
              "      <th>density</th>\n",
              "    </tr>\n",
              "  </thead>\n",
              "  <tbody>\n",
              "    <tr>\n",
              "      <th>California</th>\n",
              "      <td>423967</td>\n",
              "      <td>38332521</td>\n",
              "      <td>90.413926</td>\n",
              "    </tr>\n",
              "    <tr>\n",
              "      <th>Texas</th>\n",
              "      <td>695662</td>\n",
              "      <td>26448193</td>\n",
              "      <td>38.018740</td>\n",
              "    </tr>\n",
              "    <tr>\n",
              "      <th>New York</th>\n",
              "      <td>141297</td>\n",
              "      <td>19651127</td>\n",
              "      <td>139.076746</td>\n",
              "    </tr>\n",
              "    <tr>\n",
              "      <th>Florida</th>\n",
              "      <td>170312</td>\n",
              "      <td>19552860</td>\n",
              "      <td>114.806121</td>\n",
              "    </tr>\n",
              "    <tr>\n",
              "      <th>Illinois</th>\n",
              "      <td>149995</td>\n",
              "      <td>12882135</td>\n",
              "      <td>85.883763</td>\n",
              "    </tr>\n",
              "  </tbody>\n",
              "</table>\n",
              "</div>"
            ],
            "text/plain": [
              "              area       pop     density\n",
              "California  423967  38332521   90.413926\n",
              "Texas       695662  26448193   38.018740\n",
              "New York    141297  19651127  139.076746\n",
              "Florida     170312  19552860  114.806121\n",
              "Illinois    149995  12882135   85.883763"
            ]
          },
          "metadata": {
            "tags": []
          },
          "execution_count": 42
        }
      ]
    },
    {
      "cell_type": "markdown",
      "metadata": {
        "id": "jWk4o3cMhuS2"
      },
      "source": [
        "İki Boyutlu Dizilerde DataFrame"
      ]
    },
    {
      "cell_type": "code",
      "metadata": {
        "colab": {
          "base_uri": "https://localhost:8080/"
        },
        "id": "QmrNmC7_h5cq",
        "outputId": "255e2060-5c5f-42dd-9656-d0f486dbd837"
      },
      "source": [
        "data.values"
      ],
      "execution_count": null,
      "outputs": [
        {
          "output_type": "execute_result",
          "data": {
            "text/plain": [
              "array([[4.23967000e+05, 3.83325210e+07, 9.04139261e+01],\n",
              "       [6.95662000e+05, 2.64481930e+07, 3.80187404e+01],\n",
              "       [1.41297000e+05, 1.96511270e+07, 1.39076746e+02],\n",
              "       [1.70312000e+05, 1.95528600e+07, 1.14806121e+02],\n",
              "       [1.49995000e+05, 1.28821350e+07, 8.58837628e+01]])"
            ]
          },
          "metadata": {
            "tags": []
          },
          "execution_count": 43
        }
      ]
    },
    {
      "cell_type": "code",
      "metadata": {
        "colab": {
          "base_uri": "https://localhost:8080/",
          "height": 136
        },
        "id": "x8y9dH--h8XX",
        "outputId": "bb453073-62c3-450a-a36c-fb85282dddce"
      },
      "source": [
        "data.T"
      ],
      "execution_count": null,
      "outputs": [
        {
          "output_type": "execute_result",
          "data": {
            "text/html": [
              "<div>\n",
              "<style scoped>\n",
              "    .dataframe tbody tr th:only-of-type {\n",
              "        vertical-align: middle;\n",
              "    }\n",
              "\n",
              "    .dataframe tbody tr th {\n",
              "        vertical-align: top;\n",
              "    }\n",
              "\n",
              "    .dataframe thead th {\n",
              "        text-align: right;\n",
              "    }\n",
              "</style>\n",
              "<table border=\"1\" class=\"dataframe\">\n",
              "  <thead>\n",
              "    <tr style=\"text-align: right;\">\n",
              "      <th></th>\n",
              "      <th>California</th>\n",
              "      <th>Texas</th>\n",
              "      <th>New York</th>\n",
              "      <th>Florida</th>\n",
              "      <th>Illinois</th>\n",
              "    </tr>\n",
              "  </thead>\n",
              "  <tbody>\n",
              "    <tr>\n",
              "      <th>area</th>\n",
              "      <td>4.239670e+05</td>\n",
              "      <td>6.956620e+05</td>\n",
              "      <td>1.412970e+05</td>\n",
              "      <td>1.703120e+05</td>\n",
              "      <td>1.499950e+05</td>\n",
              "    </tr>\n",
              "    <tr>\n",
              "      <th>pop</th>\n",
              "      <td>3.833252e+07</td>\n",
              "      <td>2.644819e+07</td>\n",
              "      <td>1.965113e+07</td>\n",
              "      <td>1.955286e+07</td>\n",
              "      <td>1.288214e+07</td>\n",
              "    </tr>\n",
              "    <tr>\n",
              "      <th>density</th>\n",
              "      <td>9.041393e+01</td>\n",
              "      <td>3.801874e+01</td>\n",
              "      <td>1.390767e+02</td>\n",
              "      <td>1.148061e+02</td>\n",
              "      <td>8.588376e+01</td>\n",
              "    </tr>\n",
              "  </tbody>\n",
              "</table>\n",
              "</div>"
            ],
            "text/plain": [
              "           California         Texas      New York       Florida      Illinois\n",
              "area     4.239670e+05  6.956620e+05  1.412970e+05  1.703120e+05  1.499950e+05\n",
              "pop      3.833252e+07  2.644819e+07  1.965113e+07  1.955286e+07  1.288214e+07\n",
              "density  9.041393e+01  3.801874e+01  1.390767e+02  1.148061e+02  8.588376e+01"
            ]
          },
          "metadata": {
            "tags": []
          },
          "execution_count": 44
        }
      ]
    },
    {
      "cell_type": "code",
      "metadata": {
        "colab": {
          "base_uri": "https://localhost:8080/",
          "height": 136
        },
        "id": "qe60P44_iDRz",
        "outputId": "40804865-4b67-495f-ce96-152a943a413c"
      },
      "source": [
        "data.iloc[:3, :2]"
      ],
      "execution_count": null,
      "outputs": [
        {
          "output_type": "execute_result",
          "data": {
            "text/html": [
              "<div>\n",
              "<style scoped>\n",
              "    .dataframe tbody tr th:only-of-type {\n",
              "        vertical-align: middle;\n",
              "    }\n",
              "\n",
              "    .dataframe tbody tr th {\n",
              "        vertical-align: top;\n",
              "    }\n",
              "\n",
              "    .dataframe thead th {\n",
              "        text-align: right;\n",
              "    }\n",
              "</style>\n",
              "<table border=\"1\" class=\"dataframe\">\n",
              "  <thead>\n",
              "    <tr style=\"text-align: right;\">\n",
              "      <th></th>\n",
              "      <th>area</th>\n",
              "      <th>pop</th>\n",
              "    </tr>\n",
              "  </thead>\n",
              "  <tbody>\n",
              "    <tr>\n",
              "      <th>California</th>\n",
              "      <td>423967</td>\n",
              "      <td>38332521</td>\n",
              "    </tr>\n",
              "    <tr>\n",
              "      <th>Texas</th>\n",
              "      <td>695662</td>\n",
              "      <td>26448193</td>\n",
              "    </tr>\n",
              "    <tr>\n",
              "      <th>New York</th>\n",
              "      <td>141297</td>\n",
              "      <td>19651127</td>\n",
              "    </tr>\n",
              "  </tbody>\n",
              "</table>\n",
              "</div>"
            ],
            "text/plain": [
              "              area       pop\n",
              "California  423967  38332521\n",
              "Texas       695662  26448193\n",
              "New York    141297  19651127"
            ]
          },
          "metadata": {
            "tags": []
          },
          "execution_count": 45
        }
      ]
    },
    {
      "cell_type": "code",
      "metadata": {
        "colab": {
          "base_uri": "https://localhost:8080/",
          "height": 195
        },
        "id": "pQy8zIHbiEZ-",
        "outputId": "99189ce7-d076-4537-8eb4-bafa826ab8f9"
      },
      "source": [
        "data.loc[:'Illinois', :'pop']"
      ],
      "execution_count": null,
      "outputs": [
        {
          "output_type": "execute_result",
          "data": {
            "text/html": [
              "<div>\n",
              "<style scoped>\n",
              "    .dataframe tbody tr th:only-of-type {\n",
              "        vertical-align: middle;\n",
              "    }\n",
              "\n",
              "    .dataframe tbody tr th {\n",
              "        vertical-align: top;\n",
              "    }\n",
              "\n",
              "    .dataframe thead th {\n",
              "        text-align: right;\n",
              "    }\n",
              "</style>\n",
              "<table border=\"1\" class=\"dataframe\">\n",
              "  <thead>\n",
              "    <tr style=\"text-align: right;\">\n",
              "      <th></th>\n",
              "      <th>area</th>\n",
              "      <th>pop</th>\n",
              "    </tr>\n",
              "  </thead>\n",
              "  <tbody>\n",
              "    <tr>\n",
              "      <th>California</th>\n",
              "      <td>423967</td>\n",
              "      <td>38332521</td>\n",
              "    </tr>\n",
              "    <tr>\n",
              "      <th>Texas</th>\n",
              "      <td>695662</td>\n",
              "      <td>26448193</td>\n",
              "    </tr>\n",
              "    <tr>\n",
              "      <th>New York</th>\n",
              "      <td>141297</td>\n",
              "      <td>19651127</td>\n",
              "    </tr>\n",
              "    <tr>\n",
              "      <th>Florida</th>\n",
              "      <td>170312</td>\n",
              "      <td>19552860</td>\n",
              "    </tr>\n",
              "    <tr>\n",
              "      <th>Illinois</th>\n",
              "      <td>149995</td>\n",
              "      <td>12882135</td>\n",
              "    </tr>\n",
              "  </tbody>\n",
              "</table>\n",
              "</div>"
            ],
            "text/plain": [
              "              area       pop\n",
              "California  423967  38332521\n",
              "Texas       695662  26448193\n",
              "New York    141297  19651127\n",
              "Florida     170312  19552860\n",
              "Illinois    149995  12882135"
            ]
          },
          "metadata": {
            "tags": []
          },
          "execution_count": 46
        }
      ]
    },
    {
      "cell_type": "code",
      "metadata": {
        "id": "t8m2WLKniIAy"
      },
      "source": [
        "# data.ix[:3, :'pop'] yöntemi de çalıştırılabilir ancak google colabda çalıştıramadım"
      ],
      "execution_count": null,
      "outputs": []
    },
    {
      "cell_type": "code",
      "metadata": {
        "colab": {
          "base_uri": "https://localhost:8080/",
          "height": 106
        },
        "id": "LLYATpaWiSx1",
        "outputId": "4676f416-8c94-4fb3-ce17-0e169fe55b1e"
      },
      "source": [
        "data.loc[data.density > 100, ['pop', 'density']]"
      ],
      "execution_count": null,
      "outputs": [
        {
          "output_type": "execute_result",
          "data": {
            "text/html": [
              "<div>\n",
              "<style scoped>\n",
              "    .dataframe tbody tr th:only-of-type {\n",
              "        vertical-align: middle;\n",
              "    }\n",
              "\n",
              "    .dataframe tbody tr th {\n",
              "        vertical-align: top;\n",
              "    }\n",
              "\n",
              "    .dataframe thead th {\n",
              "        text-align: right;\n",
              "    }\n",
              "</style>\n",
              "<table border=\"1\" class=\"dataframe\">\n",
              "  <thead>\n",
              "    <tr style=\"text-align: right;\">\n",
              "      <th></th>\n",
              "      <th>pop</th>\n",
              "      <th>density</th>\n",
              "    </tr>\n",
              "  </thead>\n",
              "  <tbody>\n",
              "    <tr>\n",
              "      <th>New York</th>\n",
              "      <td>19651127</td>\n",
              "      <td>139.076746</td>\n",
              "    </tr>\n",
              "    <tr>\n",
              "      <th>Florida</th>\n",
              "      <td>19552860</td>\n",
              "      <td>114.806121</td>\n",
              "    </tr>\n",
              "  </tbody>\n",
              "</table>\n",
              "</div>"
            ],
            "text/plain": [
              "               pop     density\n",
              "New York  19651127  139.076746\n",
              "Florida   19552860  114.806121"
            ]
          },
          "metadata": {
            "tags": []
          },
          "execution_count": 48
        }
      ]
    },
    {
      "cell_type": "markdown",
      "metadata": {
        "id": "21EiCeqQD1pN"
      },
      "source": [
        "# Veri Üzerinde İşlemler"
      ]
    },
    {
      "cell_type": "code",
      "metadata": {
        "id": "_cNXw-sDEXh4"
      },
      "source": [
        "import numpy as np"
      ],
      "execution_count": null,
      "outputs": []
    },
    {
      "cell_type": "code",
      "metadata": {
        "colab": {
          "base_uri": "https://localhost:8080/"
        },
        "id": "KlS8Jc-0EBt-",
        "outputId": "24f4ac83-e6cc-4ba0-9b45-3b2292edc4e0"
      },
      "source": [
        "rand = np.random.RandomState(42)\r\n",
        "veri = pd.Series(rand.randint(0, 10, 4))\r\n",
        "veri"
      ],
      "execution_count": null,
      "outputs": [
        {
          "output_type": "execute_result",
          "data": {
            "text/plain": [
              "0    6\n",
              "1    3\n",
              "2    7\n",
              "3    4\n",
              "dtype: int64"
            ]
          },
          "metadata": {
            "tags": []
          },
          "execution_count": 5
        }
      ]
    },
    {
      "cell_type": "code",
      "metadata": {
        "colab": {
          "base_uri": "https://localhost:8080/",
          "height": 136
        },
        "id": "vhyOr-QMEdYf",
        "outputId": "71d10e28-e3aa-442e-fe01-47d813769b13"
      },
      "source": [
        "df = pd.DataFrame(rand.randint(0, 10, (3, 4)),\r\n",
        "                  columns=['A', 'B', 'C', 'D'])\r\n",
        "df"
      ],
      "execution_count": null,
      "outputs": [
        {
          "output_type": "execute_result",
          "data": {
            "text/html": [
              "<div>\n",
              "<style scoped>\n",
              "    .dataframe tbody tr th:only-of-type {\n",
              "        vertical-align: middle;\n",
              "    }\n",
              "\n",
              "    .dataframe tbody tr th {\n",
              "        vertical-align: top;\n",
              "    }\n",
              "\n",
              "    .dataframe thead th {\n",
              "        text-align: right;\n",
              "    }\n",
              "</style>\n",
              "<table border=\"1\" class=\"dataframe\">\n",
              "  <thead>\n",
              "    <tr style=\"text-align: right;\">\n",
              "      <th></th>\n",
              "      <th>A</th>\n",
              "      <th>B</th>\n",
              "      <th>C</th>\n",
              "      <th>D</th>\n",
              "    </tr>\n",
              "  </thead>\n",
              "  <tbody>\n",
              "    <tr>\n",
              "      <th>0</th>\n",
              "      <td>6</td>\n",
              "      <td>9</td>\n",
              "      <td>2</td>\n",
              "      <td>6</td>\n",
              "    </tr>\n",
              "    <tr>\n",
              "      <th>1</th>\n",
              "      <td>7</td>\n",
              "      <td>4</td>\n",
              "      <td>3</td>\n",
              "      <td>7</td>\n",
              "    </tr>\n",
              "    <tr>\n",
              "      <th>2</th>\n",
              "      <td>7</td>\n",
              "      <td>2</td>\n",
              "      <td>5</td>\n",
              "      <td>4</td>\n",
              "    </tr>\n",
              "  </tbody>\n",
              "</table>\n",
              "</div>"
            ],
            "text/plain": [
              "   A  B  C  D\n",
              "0  6  9  2  6\n",
              "1  7  4  3  7\n",
              "2  7  2  5  4"
            ]
          },
          "metadata": {
            "tags": []
          },
          "execution_count": 7
        }
      ]
    },
    {
      "cell_type": "code",
      "metadata": {
        "colab": {
          "base_uri": "https://localhost:8080/",
          "height": 136
        },
        "id": "N1Ecw0QBEqnY",
        "outputId": "d657d363-6935-40dc-acca-36908af782b7"
      },
      "source": [
        "np.sin(df * np.pi / 4)"
      ],
      "execution_count": null,
      "outputs": [
        {
          "output_type": "execute_result",
          "data": {
            "text/html": [
              "<div>\n",
              "<style scoped>\n",
              "    .dataframe tbody tr th:only-of-type {\n",
              "        vertical-align: middle;\n",
              "    }\n",
              "\n",
              "    .dataframe tbody tr th {\n",
              "        vertical-align: top;\n",
              "    }\n",
              "\n",
              "    .dataframe thead th {\n",
              "        text-align: right;\n",
              "    }\n",
              "</style>\n",
              "<table border=\"1\" class=\"dataframe\">\n",
              "  <thead>\n",
              "    <tr style=\"text-align: right;\">\n",
              "      <th></th>\n",
              "      <th>A</th>\n",
              "      <th>B</th>\n",
              "      <th>C</th>\n",
              "      <th>D</th>\n",
              "    </tr>\n",
              "  </thead>\n",
              "  <tbody>\n",
              "    <tr>\n",
              "      <th>0</th>\n",
              "      <td>-1.000000</td>\n",
              "      <td>7.071068e-01</td>\n",
              "      <td>1.000000</td>\n",
              "      <td>-1.000000e+00</td>\n",
              "    </tr>\n",
              "    <tr>\n",
              "      <th>1</th>\n",
              "      <td>-0.707107</td>\n",
              "      <td>1.224647e-16</td>\n",
              "      <td>0.707107</td>\n",
              "      <td>-7.071068e-01</td>\n",
              "    </tr>\n",
              "    <tr>\n",
              "      <th>2</th>\n",
              "      <td>-0.707107</td>\n",
              "      <td>1.000000e+00</td>\n",
              "      <td>-0.707107</td>\n",
              "      <td>1.224647e-16</td>\n",
              "    </tr>\n",
              "  </tbody>\n",
              "</table>\n",
              "</div>"
            ],
            "text/plain": [
              "          A             B         C             D\n",
              "0 -1.000000  7.071068e-01  1.000000 -1.000000e+00\n",
              "1 -0.707107  1.224647e-16  0.707107 -7.071068e-01\n",
              "2 -0.707107  1.000000e+00 -0.707107  1.224647e-16"
            ]
          },
          "metadata": {
            "tags": []
          },
          "execution_count": 9
        }
      ]
    },
    {
      "cell_type": "markdown",
      "metadata": {
        "id": "n0aQe53rFCbM"
      },
      "source": [
        "İki Pandas DataFrame toplanmak istendiği zaman indexleri farklıysa ortaya şöyle bir problem çıkar. (NaN değerler)"
      ]
    },
    {
      "cell_type": "code",
      "metadata": {
        "colab": {
          "base_uri": "https://localhost:8080/"
        },
        "id": "jV-ZcB1GFnFt",
        "outputId": "291eafd8-be60-4e69-ed29-a2ffaa6e6642"
      },
      "source": [
        "A = pd.Series([2, 4, 6], index=[0, 1, 2])\r\n",
        "B = pd.Series([1, 3, 5], index=[1, 2, 3])\r\n",
        "A + B"
      ],
      "execution_count": null,
      "outputs": [
        {
          "output_type": "execute_result",
          "data": {
            "text/plain": [
              "0    NaN\n",
              "1    5.0\n",
              "2    9.0\n",
              "3    NaN\n",
              "dtype: float64"
            ]
          },
          "metadata": {
            "tags": []
          },
          "execution_count": 10
        }
      ]
    },
    {
      "cell_type": "markdown",
      "metadata": {
        "id": "BVe0uxBJFpYP"
      },
      "source": [
        "Bu durumu önlemek için şu  fonksiyon kullanılır"
      ]
    },
    {
      "cell_type": "code",
      "metadata": {
        "colab": {
          "base_uri": "https://localhost:8080/"
        },
        "id": "X8qLL34LFzub",
        "outputId": "7791a0ae-bfc5-4e6c-d0fa-7c577a0941ef"
      },
      "source": [
        "A.add(B, fill_value=0)"
      ],
      "execution_count": null,
      "outputs": [
        {
          "output_type": "execute_result",
          "data": {
            "text/plain": [
              "0    2.0\n",
              "1    5.0\n",
              "2    9.0\n",
              "3    5.0\n",
              "dtype: float64"
            ]
          },
          "metadata": {
            "tags": []
          },
          "execution_count": 11
        }
      ]
    },
    {
      "cell_type": "markdown",
      "metadata": {
        "id": "TIa-7AQeF2tE"
      },
      "source": [
        "![methods.JPG](data:image/jpeg;base64,/9j/4AAQSkZJRgABAQEAeAB4AAD/4RDaRXhpZgAATU0AKgAAAAgABAE7AAIAAAAFAAAISodpAAQAAAABAAAIUJydAAEAAAAKAAAQyOocAAcAAAgMAAAAPgAAAAAc6gAAAAgAAAAAAAAAAAAAAAAAAAAAAAAAAAAAAAAAAAAAAAAAAAAAAAAAAAAAAAAAAAAAAAAAAAAAAAAAAAAAAAAAAAAAAAAAAAAAAAAAAAAAAAAAAAAAAAAAAAAAAAAAAAAAAAAAAAAAAAAAAAAAAAAAAAAAAAAAAAAAAAAAAAAAAAAAAAAAAAAAAAAAAAAAAAAAAAAAAAAAAAAAAAAAAAAAAAAAAAAAAAAAAAAAAAAAAAAAAAAAAAAAAAAAAAAAAAAAAAAAAAAAAAAAAAAAAAAAAAAAAAAAAAAAAAAAAAAAAAAAAAAAAAAAAAAAAAAAAAAAAAAAAAAAAAAAAAAAAAAAAAAAAAAAAAAAAAAAAAAAAAAAAAAAAAAAAAAAAAAAAAAAAAAAAAAAAAAAAAAAAAAAAAAAAAAAAAAAAAAAAAAAAAAAAAAAAAAAAAAAAAAAAAAAAAAAAAAAAAAAAAAAAAAAAAAAAAAAAAAAAAAAAAAAAAAAAAAAAAAAAAAAAAAAAAAAAAAAAAAAAAAAAAAAAAAAAAAAAAAAAAAAAAAAAAAAAAAAAAAAAAAAAAAAAAAAAAAAAAAAAAAAAAAAAAAAAAAAAAAAAAAAAAAAAAAAAAAAAAAAAAAAAAAAAAAAAAAAAAAAAAAAAAAAAAAAAAAAAAAAAAAAAAAAAAAAAAAAAAAAAAAAAAAAAAAAAAAAAAAAAAAAAAAAAAAAAAAAAAAAAAAAAAAAAAAAAAAAAAAAAAAAAAAAAAAAAAAAAAAAAAAAAAAAAAAAAAAAAAAAAAAAAAAAAAAAAAAAAAAAAAAAAAAAAAAAAAAAAAAAAAAAAAAAAAAAAAAAAAAAAAAAAAAAAAAAAAAAAAAAAAAAAAAAAAAAAAAAAAAAAAAAAAAAAAAAAAAAAAAAAAAAAAAAAAAAAAAAAAAAAAAAAAAAAAAAAAAAAAAAAAAAAAAAAAAAAAAAAAAAAAAAAAAAAAAAAAAAAAAAAAAAAAAAAAAAAAAAAAAAAAAAAAAAAAAAAAAAAAAAAAAAAAAAAAAAAAAAAAAAAAAAAAAAAAAAAAAAAAAAAAAAAAAAAAAAAAAAAAAAAAAAAAAAAAAAAAAAAAAAAAAAAAAAAAAAAAAAAAAAAAAAAAAAAAAAAAAAAAAAAAAAAAAAAAAAAAAAAAAAAAAAAAAAAAAAAAAAAAAAAAAAAAAAAAAAAAAAAAAAAAAAAAAAAAAAAAAAAAAAAAAAAAAAAAAAAAAAAAAAAAAAAAAAAAAAAAAAAAAAAAAAAAAAAAAAAAAAAAAAAAAAAAAAAAAAAAAAAAAAAAAAAAAAAAAAAAAAAAAAAAAAAAAAAAAAAAAAAAAAAAAAAAAAAAAAAAAAAAAAAAAAAAAAAAAAAAAAAAAAAAAAAAAAAAAAAAAAAAAAAAAAAAAAAAAAAAAAAAAAAAAAAAAAAAAAAAAAAAAAAAAAAAAAAAAAAAAAAAAAAAAAAAAAAAAAAAAAAAAAAAAAAAAAAAAAAAAAAAAAAAAAAAAAAAAAAAAAAAAAAAAAAAAAAAAAAAAAAAAAAAAAAAAAAAAAAAAAAAAAAAAAAAAAAAAAAAAAAAAAAAAAAAAAAAAAAAAAAAAAAAAAAAAAAAAAAAAAAAAAAAAAAAAAAAAAAAAAAAAAAAAAAAAAAAAAAAAAAAAAAAAAAAAAAAAAAAAAAAAAAAAAAAAAAAAAAAAAAAAAAAAAAAAAAAAAAAAAAAAAAAAAAAAAAAAAAAAAAAAAAAAAAAAAAAAAAAAAAAAAAAAAAAAAAAAAAAAAAAAAAAAAAAAAAAAAAAAAAAAAAAAAAAAAAAAAAAAAAAAAAAAAAAAAAAAAAAAAAAAAAAAAAAAAAAAAAAAAAAAAAAAAAAAAAAAAAAAAAAAAAAAAAAAAAAAAAAAAAAAAAAAAAAAAAAAAAAAAAAAAAAAAAAAAAAAAAAAAAAAAAAAAAAAAAAAAAAAAAAAAAAAAAAAAAAAAAAAAAAAAAAAAAAAAAAAAAAAAAAAAAAAAAAAAAAAAAAAAAAAAAAAAAAAAAAAAAAAAAAAAAAAAAAAAAAAAAAAAAAAAAAAAAAAAAAAAAAAAAAAAAAAAAAAAAAAAAAAAAAAAAAAAAAAAAAAAAAAAAAAAAAAAAAAAAAAAAAAAAAAAAAAAAAAAAAAAAAAAAAAAAAAAAAAAAAAAAAAAAAAAAAAAAAAAAAAAAAAAAAAAAAAAAAAAAAAAAAAAAAAAAAAAAAAAAAAAAAAAAAAAAAAAAAAAAAAAAAAAAAAAAAAAAAAAAAAAAAAAAAAAAAAAAAAAAAAAAAAAAAAAAAAAAAAAAAAAAAAAAAAAAAAAAAAAAAAAAAAAAAAAAAAAAAAAAAAAAAAAAAAAAAAAAAAAAAAAAAAAAAAAAAAAAAAAAAAAAAAAAAAAAAAAAAAAAAAAAAAAAAAAAAAAAAAAAAAAAAAAAAAAAAAAAAAAAAAAAAAAAAAAAAAAAAAAAAAAAAAAAAAAAAAAAAAAAAAAAAAAAAAAAAAAAAAAAAAAAAAAAAAAAAAAAAAAAAAAAAAAAAAAAAAAAAAAAAAAAAAAAAAAAAAAAAAAAAAAAAAAAAAAAAAAAAAAAAAAAAAAAAAAAAAAAAAAAAAAAAAAAAAAAAAAAAAAAAAAAAAAAAAAAAAAAAAAAAAAAAAAAAAAAAAAAAAAAAAAAAAAAAAAAAAAAAAAAAAAAAAAAAAAAAAAAAAAAAAAAAAAAAAAAAAAAAAAAAAAAAAAAAAAAGlyZW0AAAAFkAMAAgAAABQAABCekAQAAgAAABQAABCykpEAAgAAAAM3NQAAkpIAAgAAAAM3NQAA6hwABwAACAwAAAiSAAAAABzqAAAACAAAAAAAAAAAAAAAAAAAAAAAAAAAAAAAAAAAAAAAAAAAAAAAAAAAAAAAAAAAAAAAAAAAAAAAAAAAAAAAAAAAAAAAAAAAAAAAAAAAAAAAAAAAAAAAAAAAAAAAAAAAAAAAAAAAAAAAAAAAAAAAAAAAAAAAAAAAAAAAAAAAAAAAAAAAAAAAAAAAAAAAAAAAAAAAAAAAAAAAAAAAAAAAAAAAAAAAAAAAAAAAAAAAAAAAAAAAAAAAAAAAAAAAAAAAAAAAAAAAAAAAAAAAAAAAAAAAAAAAAAAAAAAAAAAAAAAAAAAAAAAAAAAAAAAAAAAAAAAAAAAAAAAAAAAAAAAAAAAAAAAAAAAAAAAAAAAAAAAAAAAAAAAAAAAAAAAAAAAAAAAAAAAAAAAAAAAAAAAAAAAAAAAAAAAAAAAAAAAAAAAAAAAAAAAAAAAAAAAAAAAAAAAAAAAAAAAAAAAAAAAAAAAAAAAAAAAAAAAAAAAAAAAAAAAAAAAAAAAAAAAAAAAAAAAAAAAAAAAAAAAAAAAAAAAAAAAAAAAAAAAAAAAAAAAAAAAAAAAAAAAAAAAAAAAAAAAAAAAAAAAAAAAAAAAAAAAAAAAAAAAAAAAAAAAAAAAAAAAAAAAAAAAAAAAAAAAAAAAAAAAAAAAAAAAAAAAAAAAAAAAAAAAAAAAAAAAAAAAAAAAAAAAAAAAAAAAAAAAAAAAAAAAAAAAAAAAAAAAAAAAAAAAAAAAAAAAAAAAAAAAAAAAAAAAAAAAAAAAAAAAAAAAAAAAAAAAAAAAAAAAAAAAAAAAAAAAAAAAAAAAAAAAAAAAAAAAAAAAAAAAAAAAAAAAAAAAAAAAAAAAAAAAAAAAAAAAAAAAAAAAAAAAAAAAAAAAAAAAAAAAAAAAAAAAAAAAAAAAAAAAAAAAAAAAAAAAAAAAAAAAAAAAAAAAAAAAAAAAAAAAAAAAAAAAAAAAAAAAAAAAAAAAAAAAAAAAAAAAAAAAAAAAAAAAAAAAAAAAAAAAAAAAAAAAAAAAAAAAAAAAAAAAAAAAAAAAAAAAAAAAAAAAAAAAAAAAAAAAAAAAAAAAAAAAAAAAAAAAAAAAAAAAAAAAAAAAAAAAAAAAAAAAAAAAAAAAAAAAAAAAAAAAAAAAAAAAAAAAAAAAAAAAAAAAAAAAAAAAAAAAAAAAAAAAAAAAAAAAAAAAAAAAAAAAAAAAAAAAAAAAAAAAAAAAAAAAAAAAAAAAAAAAAAAAAAAAAAAAAAAAAAAAAAAAAAAAAAAAAAAAAAAAAAAAAAAAAAAAAAAAAAAAAAAAAAAAAAAAAAAAAAAAAAAAAAAAAAAAAAAAAAAAAAAAAAAAAAAAAAAAAAAAAAAAAAAAAAAAAAAAAAAAAAAAAAAAAAAAAAAAAAAAAAAAAAAAAAAAAAAAAAAAAAAAAAAAAAAAAAAAAAAAAAAAAAAAAAAAAAAAAAAAAAAAAAAAAAAAAAAAAAAAAAAAAAAAAAAAAAAAAAAAAAAAAAAAAAAAAAAAAAAAAAAAAAAAAAAAAAAAAAAAAAAAAAAAAAAAAAAAAAAAAAAAAAAAAAAAAAAAAAAAAAAAAAAAAAAAAAAAAAAAAAAAAAAAAAAAAAAAAAAAAAAAAAAAAAAAAAAAAAAAAAAAAAAAAAAAAAAAAAAAAAAAAAAAAAAAAAAAAAAAAAAAAAAAAAAAAAAAAAAAAAAAAAAAAAAAAAAAAAAAAAAAAAAAAAAAAAAAAAAAAAAAAAAAAAAAAAAAAAAAAAAAAAAAAAAAAAAAAAAAAAAAAAAAAAAAAAAAAAAAAAAAAAAAAAAAAAAAAAAAAAAAAAAAAAAAAAAAAAAAAAAAAAAAAAAAAAAAAAAAAAAAAAAAAAAAAAAAAAAAAAAAAAAAAAAAAAAAAAAAAAAAAAAAAAAAAAAAAAAAAAAAAAAAAAAAAAAAAAAAAAAAAAAAAAAAAAAAAAAAAAAAAAAAAAAAAAAAAAAAAAAAAAAAAAAAAAAAAAAAAAAAAAAAAAAAAAAAAAAAAAAAAAAAAAAAAAAAAAAAAAAAAAAAAAAAAAAAAAAAAAAAAAAAAAAAAAAAAAAAAAAAAAAAAAAAAAAAAAAAAAAAAAAAAAAAAAAAAAAAAAAAAAAAAAAAAAAAAAAAAAAAAAAAAAAAAAAAAAAAAAAAAAAAAAAAAAAAAAAAAAAAAAAAAAAAAAAAAAAAAAAAAAAAAAAAAAAAAAAAAAAAAAAAAAAAAAAAAAAAAAAAAAAAAAAAAAAAAAAAAAAAAAAAAAAAAAAAAAAAAAAAAAAAAAAAAAAAAAAAAAAAAAAAAAAAAAAAAAAAAAAAAAAAAAAAAAAAAAAAAAAAAAAAAAAAAAAAAAAAAAAAAAAAAAAAAAAAAAAAAAAAAAAAAAAAAAAAAAAAAAAAAAAAAAAAAAAAAAAAAAAAAAAAAAAAAAAAAAAAAAAAAAAAAAAAAAAAAAAAAAAAAAAAAAAAAAAAAAAAAAAAAAAAAAAAAAAAAAAAAAAAAAAAAAAAAAAAAAAAAAAAAAAAAAAAAAAAAAAAAAAAAAAAAAAAAAAAAAAAAAAAAAAAAAAAAAAAAAAAAAAAAAAAAAAAAAAAAAAAAAAAAAAAAAAAAAAAAAAAAAAAAAAAAAAAAAAAAAAAAAAAAAAAAAAAAAAAAAAAAAAAAAAAAAAAAAAAAAAAAAAAAAAAAAAAAAAAAAAAAAAAAAAAAAAAAAAAAAAAAAAAAAAAAAAAAAAAAAAAAAAAAAAAAAAAAMjAyMTowMToyMSAyMDo1Nzo1MQAyMDIxOjAxOjIxIDIwOjU3OjUxAAAAaQByAGUAbQAAAP/hCxdodHRwOi8vbnMuYWRvYmUuY29tL3hhcC8xLjAvADw/eHBhY2tldCBiZWdpbj0n77u/JyBpZD0nVzVNME1wQ2VoaUh6cmVTek5UY3prYzlkJz8+DQo8eDp4bXBtZXRhIHhtbG5zOng9ImFkb2JlOm5zOm1ldGEvIj48cmRmOlJERiB4bWxuczpyZGY9Imh0dHA6Ly93d3cudzMub3JnLzE5OTkvMDIvMjItcmRmLXN5bnRheC1ucyMiPjxyZGY6RGVzY3JpcHRpb24gcmRmOmFib3V0PSJ1dWlkOmZhZjViZGQ1LWJhM2QtMTFkYS1hZDMxLWQzM2Q3NTE4MmYxYiIgeG1sbnM6ZGM9Imh0dHA6Ly9wdXJsLm9yZy9kYy9lbGVtZW50cy8xLjEvIi8+PHJkZjpEZXNjcmlwdGlvbiByZGY6YWJvdXQ9InV1aWQ6ZmFmNWJkZDUtYmEzZC0xMWRhLWFkMzEtZDMzZDc1MTgyZjFiIiB4bWxuczp4bXA9Imh0dHA6Ly9ucy5hZG9iZS5jb20veGFwLzEuMC8iPjx4bXA6Q3JlYXRlRGF0ZT4yMDIxLTAxLTIxVDIwOjU3OjUxLjc1MzwveG1wOkNyZWF0ZURhdGU+PC9yZGY6RGVzY3JpcHRpb24+PHJkZjpEZXNjcmlwdGlvbiByZGY6YWJvdXQ9InV1aWQ6ZmFmNWJkZDUtYmEzZC0xMWRhLWFkMzEtZDMzZDc1MTgyZjFiIiB4bWxuczpkYz0iaHR0cDovL3B1cmwub3JnL2RjL2VsZW1lbnRzLzEuMS8iPjxkYzpjcmVhdG9yPjxyZGY6U2VxIHhtbG5zOnJkZj0iaHR0cDovL3d3dy53My5vcmcvMTk5OS8wMi8yMi1yZGYtc3ludGF4LW5zIyI+PHJkZjpsaT5pcmVtPC9yZGY6bGk+PC9yZGY6U2VxPg0KCQkJPC9kYzpjcmVhdG9yPjwvcmRmOkRlc2NyaXB0aW9uPjwvcmRmOlJERj48L3g6eG1wbWV0YT4NCiAgICAgICAgICAgICAgICAgICAgICAgICAgICAgICAgICAgICAgICAgICAgICAgICAgICAgICAgICAgICAgICAgICAgICAgICAgICAgICAgICAgICAgICAgICAgICAgICAgICAKICAgICAgICAgICAgICAgICAgICAgICAgICAgICAgICAgICAgICAgICAgICAgICAgICAgICAgICAgICAgICAgICAgICAgICAgICAgICAgICAgICAgICAgICAgICAgICAgICAgIAogICAgICAgICAgICAgICAgICAgICAgICAgICAgICAgICAgICAgICAgICAgICAgICAgICAgICAgICAgICAgICAgICAgICAgICAgICAgICAgICAgICAgICAgICAgICAgICAgICAgCiAgICAgICAgICAgICAgICAgICAgICAgICAgICAgICAgICAgICAgICAgICAgICAgICAgICAgICAgICAgICAgICAgICAgICAgICAgICAgICAgICAgICAgICAgICAgICAgICAgICAKICAgICAgICAgICAgICAgICAgICAgICAgICAgICAgICAgICAgICAgICAgICAgICAgICAgICAgICAgICAgICAgICAgICAgICAgICAgICAgICAgICAgICAgICAgICAgICAgICAgIAogICAgICAgICAgICAgICAgICAgICAgICAgICAgICAgICAgICAgICAgICAgICAgICAgICAgICAgICAgICAgICAgICAgICAgICAgICAgICAgICAgICAgICAgICAgICAgICAgICAgCiAgICAgICAgICAgICAgICAgICAgICAgICAgICAgICAgICAgICAgICAgICAgICAgICAgICAgICAgICAgICAgICAgICAgICAgICAgICAgICAgICAgICAgICAgICAgICAgICAgICAKICAgICAgICAgICAgICAgICAgICAgICAgICAgICAgICAgICAgICAgICAgICAgICAgICAgICAgICAgICAgICAgICAgICAgICAgICAgICAgICAgICAgICAgICAgICAgICAgICAgIAogICAgICAgICAgICAgICAgICAgICAgICAgICAgICAgICAgICAgICAgICAgICAgICAgICAgICAgICAgICAgICAgICAgICAgICAgICAgICAgICAgICAgICAgICAgICAgICAgICAgCiAgICAgICAgICAgICAgICAgICAgICAgICAgICAgICAgICAgICAgICAgICAgICAgICAgICAgICAgICAgICAgICAgICAgICAgICAgICAgICAgICAgICAgICAgICAgICAgICAgICAKICAgICAgICAgICAgICAgICAgICAgICAgICAgICAgICAgICAgICAgICAgICAgICAgICAgICAgICAgICAgICAgICAgICAgICAgICAgICAgICAgICAgICAgICAgICAgICAgICAgIAogICAgICAgICAgICAgICAgICAgICAgICAgICAgICAgICAgICAgICAgICAgICAgICAgICAgICAgICAgICAgICAgICAgICAgICAgICAgICAgICAgICAgICAgICAgICAgICAgICAgCiAgICAgICAgICAgICAgICAgICAgICAgICAgICAgICAgICAgICAgICAgICAgICAgICAgICAgICAgICAgICAgICAgICAgICAgICAgICAgICAgICAgICAgICAgICAgICAgICAgICAKICAgICAgICAgICAgICAgICAgICAgICAgICAgICAgICAgICAgICAgICAgICAgICAgICAgICAgICAgICAgICAgICAgICAgICAgICAgICAgICAgICAgICAgICAgICAgICAgICAgIAogICAgICAgICAgICAgICAgICAgICAgICAgICAgICAgICAgICAgICAgICAgICAgICAgICAgICAgICAgICAgICAgICAgICAgICAgICAgICAgICAgICAgICAgICAgICAgICAgICAgCiAgICAgICAgICAgICAgICAgICAgICAgICAgICAgICAgICAgICAgICAgICAgICAgICAgICAgICAgICAgICAgICAgICAgICAgICAgICAgICAgICAgICAgICAgICAgICAgICAgICAKICAgICAgICAgICAgICAgICAgICAgICAgICAgICAgICAgICAgICAgICAgICAgICAgICAgICAgICAgICAgICAgICAgICAgICAgICAgICAgICAgICAgICAgICAgICAgICAgICAgIAogICAgICAgICAgICAgICAgICAgICAgICAgICAgICAgICAgICAgICAgICAgICAgICAgICAgICAgICAgICAgICAgICAgICAgICAgICAgICAgICAgICAgICAgICAgICAgICAgICAgCiAgICAgICAgICAgICAgICAgICAgICAgICAgICAgICAgICAgICAgICAgICAgICAgICAgICAgICAgICAgICAgICAgICAgICAgICAgICAgICAgICAgICAgICAgICAgICAgICAgICAKICAgICAgICAgICAgICAgICAgICAgICAgICAgICAgICAgICAgICAgICAgICAgICAgICAgICAgICAgICAgICAgICAgICAgICAgICAgICAgICAgICAgICAgICAgICAgICAgICAgIAogICAgICAgICAgICAgICAgICAgICAgICAgICAgPD94cGFja2V0IGVuZD0ndyc/Pv/bAEMABwUFBgUEBwYFBggHBwgKEQsKCQkKFQ8QDBEYFRoZGBUYFxseJyEbHSUdFxgiLiIlKCkrLCsaIC8zLyoyJyorKv/bAEMBBwgICgkKFAsLFCocGBwqKioqKioqKioqKioqKioqKioqKioqKioqKioqKioqKioqKioqKioqKioqKioqKioqKv/AABEIASkCIwMBIgACEQEDEQH/xAAfAAABBQEBAQEBAQAAAAAAAAAAAQIDBAUGBwgJCgv/xAC1EAACAQMDAgQDBQUEBAAAAX0BAgMABBEFEiExQQYTUWEHInEUMoGRoQgjQrHBFVLR8CQzYnKCCQoWFxgZGiUmJygpKjQ1Njc4OTpDREVGR0hJSlNUVVZXWFlaY2RlZmdoaWpzdHV2d3h5eoOEhYaHiImKkpOUlZaXmJmaoqOkpaanqKmqsrO0tba3uLm6wsPExcbHyMnK0tPU1dbX2Nna4eLj5OXm5+jp6vHy8/T19vf4+fr/xAAfAQADAQEBAQEBAQEBAAAAAAAAAQIDBAUGBwgJCgv/xAC1EQACAQIEBAMEBwUEBAABAncAAQIDEQQFITEGEkFRB2FxEyIygQgUQpGhscEJIzNS8BVictEKFiQ04SXxFxgZGiYnKCkqNTY3ODk6Q0RFRkdISUpTVFVWV1hZWmNkZWZnaGlqc3R1dnd4eXqCg4SFhoeIiYqSk5SVlpeYmZqio6Slpqeoqaqys7S1tre4ubrCw8TFxsfIycrS09TV1tfY2dri4+Tl5ufo6ery8/T19vf4+fr/2gAMAwEAAhEDEQA/APpGiiigAooooAKKKKACiiigAooooAKKKKACiiigAooooAKKKKACiiigAooooAKKKKACiiigAooooAKKKKACiiigAooooAKKKKACiiigAooooAKKKKACiiigAooooAKKKKACiiigAooooAKKKKACiiigAooooAKKKKACiiigAooooAKKKKACiiigAooooAKKKKACiiigAooooAKKKKACivnf4zf8In/wv3QP+Fg/8gP+xz53+t+9vl2/6r5vvY6VB4T17xL4P8E+Ldf8DW7XPg+zv0k0m21WOU7rbc3nNDllYKCVOTno3G7dRFpq7/rW2v5+g5Lldl5fir6H0fVTVNTs9F0m61PU5vIs7OJpp5NpbYijJOACTx6CuAuviBrmt+PIdB8CppUsDaF/aj3N8kjKHcfuVJRhgHKE8E4JxXmXgOfxNdfAXxtcXv8AZX9iS22ov+6En2r7SQC3X5PLxnHfpSd0n5Jv7nb/ADErNrzaX3q59FaPq9jr+j2uq6TP9osruMSQy7GXep74YAj8RV2vn3wX488YeE/Cvw+jvtK0keG9Vki06PZK73mSSBITwig9QuGOBgkE11GsfEnxfqfiTxHZfD7S9Ils/C6/6fNqbybrhwCSkIQgAjaw+bvjp3qVot9tfw7/AHr7xRu0vl+J61RXjepfGvVLnTPAt/4V0a1nPiaeWCW0vJWVo5EZU2rIOAAxPzFTkDoK3/h7438Sav4y8Q+FfGdppkWo6OsUgm0vzPJkVxnHzknPI54+nHJZ3t6/huN6JP8Are35notFeL+KrUfEL4/p4L1+W6Ph3TtKF69hFM0aXUpYYLlSCQNwxzwV4xk1T0eeX4Y/FjXvCnh2WZ9C/sGTVLWxuJGljtJlycKSchSQc887hzxmo5ko8z21/C/+TG072Xl+Nv8ANHulFeDW/wAZ/HEHgrRvHGraLoY8N3NwLa7S3kl+1Z3upkUE7VXK4CnccjrzxZ+IXx4uNB8ZXWg6BPotmLCJWnuNZiupBO7KGCRrApxgEZLYBJ7Y5p6OzEtT3CivGZ/jVrN+vgaTwzotpMfFEdyr21zIymKaMhBiTIGwNkk7SSo4ANHjr4l+MvA1lYRatfeCLXUGhMlwJHu5fOYs21YoUBdVAX77naScZGKJe7v6Atdj2aivnD4geNdf8b+APAGuabb6baw32sQhoZzIWW9R3VeR/wAsjgk/xciu81fx342h8R6R4J0ex0KfxZPZte6hcytMLCCMFgAoH7wk4HPbI4Ocq7NNp73t+orp/df8bHqdFeK3Xxu1a3+GGuau+l2cPiDw/qMen31u297eRi4UunIYA/NgEnGO9SfE288Uah8B/FN54ptNNsobhLeSxtrOR5JYozKhImY/KX6fc461DdouS/q9v8y4Lmmo9/8AOzPZqK+WvCcfht/FXgg/Bv7autqU/wCEiaH7R5IgwhlEvmfLgkHG3jOO+2ur17486z4d8bJZXcnha7sftogksdPmuJ7uKPcV3mbaIcgjO37wyAQDkjTl1Ue7t/Xl/wAEz5vd5vK571RXk+q/ELxvc/FLX/B/hLTNEmOn2kVzDc6g8qBAVRmDhSS5O7AA246kms9Pjfqc/wAK9D1a20m1fxHrV+dNgtmdhbiUNtLnnO37vGc89eM1K1V1/V3b8y2rPX+tL/keoJ4q0aTxdJ4XS8zrMdt9qe28p+Isgbt2NvccZzWxXhPhKXxCf2nL/wD4SyHTU1WPw9hzp8j/AGeQb0Kld43LwQDnPIJ6EUyz+POrxfEPTtH1OXwxfWl9eratBo8lxLNa7yAhaZgIpMbhnZ156U4q/Kurv+bSFLS76L/K57zRXjerfFjxKvxWvfDGnR+G9OhspYkSDXZpoJr9WIyYZAPLGcgAEE9wG5A2/j/k/A/W9+Af3Gcc4/fJU391SXUqMbz5D0mivl/VfE93d/B1PhzLcSLq2nTzwXpwVZrG2jMyvjnCuojUE8HnrXRy/Fhvh/8ACrwJpmn/AGGPUNQ0yOT7VqSytb20aqOWWIF2LHgYHHU03ZN/K3nf+vz7Eq9k/X8D32sjX/FWjeFzYjXbz7L/AGhcraW37p38yVui/KDj6nAr5/8AGnxN1jx98B9ceJNJxY3sVtqU1uJglxGzqY3gDgMvzcEP2Ge+Bp/FOXxPD4K8CS+IbfTLnVk16BoINMd0ilUL+7UtJyGPQnoKNb/NL77f5iuraef4f8E+hKK8o0b4neIdM8ZeI9C+IdlpcP8AZOlHVY5tJMjKYlxuU7zkn5gOi8qexFZMPxh8YWOmaN4s8RaHpMPhPWrsW8MVtLI17bhidruT8jDCk4ABPHSmtbW6/wCdvzTQ3pf+ul/yPZ7u6hsbKe7un8uCCNpJHwTtVRknA5PArFh8d+G7jwSfF0epr/YSqzm8aJ1GAxQ/KVDZ3DGMZPavOvEnxB8UeJNZ8X6J4O07SZdJ8P2rRalLfTSLNOWRtyw7eFI2sPmBGR1GcVyXhpvtfwa+FuiSki21LxAftCgDDpHPK+0+xbb+VKPvK/8Aht/283/SCdoK76Xv8lc+j4J4rm3jnt3WSKVA6OpyGUjII/CqJ8QaUPEo8Pm9j/tU232sWvO7yt23d6de3WvNfiN8Utf8N/EC08NaONB0yKa0M41DxC0ywTtn7iPHgKQAcljjJxkcbrHj+7mtda+G3iG4ihh1BtXSzlW2m8xNlxGQ6q2BvXIBzj3px95q2zdv0/P8BO8U097X/U9TooopDCiiigAooooAKKKKACiiigAooooAKKKKACiiigAooooAKKKKACiiigAooooAKKKKACiiigAooooAKKKKACiiigDj9Q8Bfb/i1pfjb+0vL/s+xe0+xeRnzN2/5t+7j7/TaenWtXxhrGh6H4TvrvxXOsGlNGYbhmRnyH+TbtUEnOcdK26KTV48o0/e5uv+R5F+z54Sm0bwpd61qEdwLjVnVbY3QxILOJdsII7ZGT9CKs6T8G7/AEXR/EWgWHi6T/hHtZhuEi0+WwVzaySgDeJN4ZsAY28A59ea9Uoqnq/lb5f1+IldL53/AK/L0PObn4TfaPCvg3Rf7a2/8IveQ3XnfZM/afL/AIdu/wCTPrlqh8Q/CO7vPEGran4U8V3Hh1dej8vVrdbNLhbnjGVLEGM4LcjJycjFemUUnq7v+r7/AJLQForL+rHnE/wd0+NvBUWj372Vp4UuGnWOSHzWuixVjuYFdpJUknB69BitvRvA/wDZHxJ8QeLP7Q87+2YoY/svkbfJ8tQM79x3Zx6Cusop3d7+v47h0t/Wjv8AmcR4z+HB8R+ILDxJoOtzeHvEVghhiv4oFmV4znKPG2A3U454yevGMq1+HK+F9F8V+INZ1ebX/EWpadMlzqM0KwgIEOESNchBgLnk52jp0r0yis5RvFxXW/4lKVpJv+rHzt8Lfhld+Nvhf4ZfWPFFy3huKeS5bQltUAeRJpB/rvvbSeSpB6nBGQR6Pr3wy1CXxlc+KPBPiyfwxqN9CsN+BZR3cVwFACHY5AVgBjPPtjJz6FRWspc0rrTf8SErHC6n8ObnVvE3g/W77X3muPDYk8xntRuvWYAbiQwCH5ewPWqfiT4U3Gs+PpvE2keJ7jRXvbMWV9HDZxyvJF0Ijkb/AFRIA5AJ4zXo1FQ0n+P47jWn4fhseVv8EUb4V6V4Rj8QSxXekXv2601OO2A2yb2YZj3c8OR94cgH2q3qnwt1jUbrSNdh8Zy2fi/T4WtpdZi06PZdQksdr25bbkbuDnHU46bfSaKptt3/AK7B/X6nlVz8DbSX4aal4Zj1uX7fq12l7f6tNbh2mlDBiRGGAC5zgZ4yeTXXeNPBv/CX/Dy78Lfbvsf2iKOP7V5PmbdjK2du4Zzt9e9dPRU2Vmv60HFuLUluv+HKGjaYNJ8PWOlNL5wtLWO3Mm3bv2qFzjJxnHTNeRj9nq4TQ5dEi8a3CaQt+L+2tBp0Y2vu5MrghpTt4HKgYBxwBXtdFVd83P1/p/mTZKHJ0/pHG6f8P/sHxR1rxj/afmf2rZpa/ZPs+PK2qg3b93P3OmB1rmU+BcC/Dix8N/8ACQTJf6bqDahZapDbBDFITnmMscj/AIEOQD7V6xRS6W/re/5lXv8A15W/I810b4SXVt4wvPEXiHxXca3d6hpT6dd77NIN24gbk2HCAKANuDzk55xWJp/wEvLS30O0n8az3FjoWope2VoNNjjjAD7mDbW3O5OPnJ454549loprRpr+tb/mJ6qz/rS35HmHiz4R6r4y1KWLWvGtxP4flu1ujpkmmwtJEQBlY5/vIOMDA6Eg5ySep8e+Dh428CXnhpL37AtyIwJ/K83YEdW+7uGfu46101FTb3eXoNNqXMtzh7/4WaPd3WtahBI8Gqavo/8AZUtwVDIq7dvmBODuIC5+boo6cms29+EPmaB4Yj0rxDPpmveGbcQWerQ2ysGXADB4WOCCAeN3GT1GQfSqKfW/9df82Lpb+un+SOE1L4d6h4k+G+o+F/F/iibVrm9YONRFnHB5TKwKARpxtBUZGcnLcjIxm3vwq1nWdB8P2HiDxh/aE+h6pHfR3R0xYzJGgAERCydeD8/J55B616bRR/wPw2DdW9fxOKn+HFvefEnU/FF9eCe21LSDpcunmDA2kjLb93cDGNvfrXM2fwMdG07TNW8XXmpeFtJuftNlo0lrGrKwJKh5hy6/M3GB14xXrdFC0tbp/m3+bYPVa/1pb8jzLVfhBcz+LtY1Xw/4tvNEs9fjCatZRWscpn4IJSRv9XkE84JBJ55wMzWPh1qHhD4S6Ba6JJNrWo+FNSXUYhBBse6XzWLoqZbnbIeMnOPwr2CihXirLy/DYH7z1/q6sed+NPAGueOVl+yeMrjTdI1G3RLjSrrSYrhQByNu/DRtzknlg2ORgAVb3wpJ/wAJd4G8L6Za3Z0PwxEb6a8njO13RfLhQPgKz5LMQOg9K9OooWj073/y+4Tu1Z+n+f3hRRRQMKKKKACiiigAooooAKKKKACiiigAooooAKKKKACiiigAooooAKKKKACiiigAooooAKKKKACiiigAooooAKKKKAKEkjiVgHbG496b5sn99vzptzIIvNkYMVTLEKpY8egHJPsK5nS/GMGo+I73TvIvFjiMQhJ025QgsCT5hZMIOmC238aPINjsbRmbfuYnp1NWKq2f8f4VaoAKKKKACiiigAooooAKKKKACiiigAooooAKr3bMuzaxHXoasVVvP4PxoAg82T++350ebJ/fb8653xL4n/sBkUHS1LRlwNQ1NbUvjsg2sWPrnA5HJ5wieJptQi04aFYLcT3tmt7tup/JSKJsY3MqudxJwAAeh5Hc3/r+uwbHR+bJ/fb86PNk/vt+dcV4e1a4svDGnW1vZx3Go3lzchITOUjXbK5ctJtJ2jpkKSSRwOyafqV3pnh7xbqVxBFHd211PKYopDKgZYUIAYqpI4HYUd/L/gf5gtbeb/zOyW+RvO23SnyDtlxJ/qzgHDenBB57EU6O586JJIpt8bqGV1fIYHoQe4rN0DTU0vQ7a2VjI5XfNK33ppG5d29SSSaoeG1+warrGjxH/RbSVJbdMcRJKudg9gwbA7AgU3o7CTurnXWrFoiWJJ3dzU1QWn+pP+9U9IYUUUUAFFFFABRRRQAUUUUAFFFFABRRRQAUUUUAFFFFABRRRQAUUUUAFFFFABRRRQAUUUUAFFFFABRRRQAUUUUAFFFFABRRRQAUUUUAFFFFABRRRQAUUUUAZ0v+uf8A3jVSDT7a3vrm8hj2z3Wzzn3E7towvHQYHpW0Y0JyUXP0o8qP+4v5UAV7P+P8KtUiqq/dUD6CloAKKKKACiiigAooooAKKKKACiiigAooooAKq3n8H41apGVW+8oP1FAHJ3/hqO91WW/i1C+s5LiBbe4S2ZAJkUsQCWQsv325UqeeueajXwnbwwaeljf31k9haizWaFkLSRDHytuQj+EHIAI5wRXX+VH/AHF/Kjyo/wC4v5Uf1/X3gcgvhK0h06ztbO8vbV7GWSW3uUkV5ULltwJdWDA7iPmBPQ5zzViz8OWdppt/ZNJcXMWoO73BuJN7MWQK3PoQOnbPGBgDp/Kj/uL+VHlR/wBxfyo3v5htY5nQotQs9HFpqSmWaz/cxzKw/wBJRQNr47Ejgg9we2DTdAsLm2iubzUgq32oS+dMiHcsQ2hVjB77VA57nJ711HlR/wBxfyo8qP8AuL+VO+tw6WRFaf6k/wC9U9IFCjCgAewpaQBRRRQAUUUUAFFFFABRRRQAUUUUAFFFFABRRRQAUUUUAFFFFABRRRQAUUUUAFFFFABRRRQAUUUUAFFFFABRRRQAUUUUAFFFFABRRRQAUUUUAFFFFABRRRQBnS/65/8AeNNp0v8Arn/3jWba6jdXF88E2jX1rGucXEzwFGwewWRm591HvigDZs/4/wAKtVVs/wCP8KtUAFFFFABRRRQAUUUUAFFFFABRRRQAUUUUAFVbz+D8atVVvP4PxoArUVzniTWdS0y9iW322tl5LPJePp0t4oYH7pWJlKADnc3B9sc2E1qV/FFjp0bW81tc6dJdmaMH5mV4wCpyRtIcnv25oWv9f12B6GtJcwQyxRTTRxyTMViRnAMhAJIUdzgE8dhUtcDfalqGrTeFrqBbZLx9Su40LhvLQKkybiActhRnGRk8ZXqNOfXtRj8MeJTceS2o6Qkqia3jKI58oSKwVicYDDIyenvQ9hpXaR0VvqFrdrcG2l80W0jRSlFJw6gEgcckZxxnnI6ginWd5b6hZQ3dlKs1vMgeORejA1BoljBpuhWVpaj91FCoUk5LccknuSeSfeszQF+y+IvEFlCCLdZ47hF7K8iZcD6kbvq1N6OxKd1c620/1J/3qZefwfjUSX9nZ+RFd3cEEl1L5cCSyBTK+M7VB+8cAnA9KlvP4PxpDK1Fcxq+u6hYa8YZpYdO09RHtuZ9OluEl3HDZlR1WHBwPn+vTirq6zcN4n1PTtkXk2ljDcRtg7izmQEHnGPkHb1pX0uHWxqtcwLdJbNNGJ5FLpEXG5lGASB1IGRz7ipa4CO/1TWNe8K31mbSG8vNElmkeVGaOPcYGOEBBbngDcOucnGCa9qGq6v4JMnnWcEttqSWtyPszusjpdIgZP3g2rkZIO70yOtU01p/W9gWv9eVzv6K53W9T1jQPDL3cr2V/e/aIY0CQvBGweRUwQXcg/Mecn6esq3+r6cmoS66bD7LBbieK6j3RID826NwWY8YU7gBnPTIxSA3aK5DSvFd42q3NtqGLiGOxa7WRdLuLFhsOCu2YnfkEcgjGOetaehz65qFpDqF9Pp8UF1D5sdrFbOXi3cqDIZMNgHnCLk9MUf1+f8Akw0vb+v61Nyq91fW1m8CXMoR7iURQrgkuxBOAB7Ak+gBJrlfCsGtjXteM2oWDxLqY+0Kli6tIfIi5U+cdoxjghuh9cDRtlF18Q7+Sfk2NjClup/hEjOXYfXYo/4DT7f10uHc2TfWy6iti0oFy0RlWMggsoOCR2OCRnHTI9RVqL/XJ/vCub8Zr5WmWeoRgi5sr+3eEr1+eRY2X6FHYfjXSRf65P8AeFLoBo0UUUAFFFFABRRRQAUUUUAFFFFABRRRQAUUUUAFFFFABRRRQAUUUUAFFFFABRRRQAUUUUAFFFFABRRRQAUUUUAZ0v8Arn/3jTa0TIgOC65+tHmx/wB9fzoAr2f8f4VapFZW+6wP0NLQAUUUUAFFFFABRRRQAUUUUAFFFFABRRRQAVVvP4Pxq1SMyr95gPqaAOb1LQrPVZA93Jej5Nm2C/ngUj3WNwD16kU298O6ZfrbCa3aP7KhjhNtM8BVDjKZjIyvA+U8cDiul82P++v50ebH/fX86AOVk8KaM9haWaWrwQWcjS2wtriSExM27O1kYED5mGM4wau22k2Vpp72UMA8iXd5odi5lLcMXZiSxPckkmt3zY/76/nR5sf99fzo3A5rRLC70nSvsEsqXCWxKWjsx3NEB8gfj7w+7kZyAD1OKXQ9Lk021le8lWa+u5TPdSoMKXIAwo/ugAKM84HPNdJ5sf8AfX86PNj/AL6/nTvrcPIwNQ8ORa7faTcXTQ+Tpl19qVDbhpGkA+TbIT8ig8kAZbAGQMg695/B+NWQwYZUgj2NDMq/eYD6mlsrB1ucze+HdP1C7M959rk3EFoft0whbGODEH2Eccgrg980aj4b0vVboXF9bu8nliJ9k7osqZzskVWAkXk8MCOT6mul82P++v50ebH/AH1/OgDlZvCmkzR2KCK4h+wQ/Z7Zra8mhZI+Pl3I4JHyr1J6VbfRdOfRm0lrVPsLJsMQJHGc5yOc553ZznnOa3/Nj/vr+dHmx/31/OjcDnP7AsG037BMtxcW/mrNi4u5ZW3KwZfmdi2AVBxnFWr6yt9SsJ7K+iE1vcIY5EJI3KRgjjkVs+bH/fX86PNj/vr+dAbHM2PhzTNOuzdW8Uz3DRmIzXFzLO5QkHbmRicZHA7c46nK6d4e0/SZvM09biFcELB9rlaFATnCxFiij0wBjtXS+bH/AH1/OjzY/wC+v50Ac6dCsP7XbU0WeK5chn8q6lRJCBgF41YIxxxkg9B6VHd6VKdftdWsJESUJ9nukfOJoc5HT+JTyO3LDvkdN5sf99fzo82P++v50Ac1qGmT6jqtk00iLYWjeeYh96WYfdz6KvX1Jx0A51ov9cn+8Kv+bH/fX86BIhOA65+tHQOo6iiigAooooAKKKKACiiigAooooAKKKKACiiigAooooAKKKKACiiigAooooAKKKKACiiigAooooAKKKKACiiigDOl/wBa/wDvGqUGqWVzIEguo3LbdhDcPuXcNp6N8uTxnpV2X/Wv/vGuV0Xwg2k66+pG6ikd87gttGobcMttAUGP5ueCcj7244IA6HY2f8f4VaqrZ/x/hVqgAooooAKKKKACiiigAooooAKKKKACiiigAqrefwfjVqqt5/B+NAFaiuF1jVtbPie6tLLVTaQRXlpbIi28b8TIdxJYEkjGV9zzuHFTeHtf1C61PSYb+73wy6ddSzMyIu9450QOSAMHaTkDA56Uk7/12Vw/r8bHUalqdtpNmbq8E/lA4JgtpJivBOSEUkDjr0qe3uIru1iuLdt8UyCRGwRlSMg8+1c9p2pS6t8P7q9mnW4MkV0FlXGGUM4XGOMbQOaS4lng+FLy2ZInTRt0ZU4IIh6j3ovZS8rfr/kC1lFLrf8AT/M2dP1WHVLea4skkkhjkaNJMACbb1KHPIzkZ4yQe2DT9M1K31bT47u0LbHyGRxteNgcMjDswOQR6ik0iG3t9FsorIKLZLdBEE6bdoxj8Ky9DXy/FPiKOEAQedC5weBKYhv47cBD+NU1Z2EndJnWWn+pP+9TLz+D8aoXPiHS9Fm0+11S7W3m1O5+zWisrHzZNuduQMDgdTgVfvP4PxpDK1Fec3eta/NqFysGsvbRC7vYFRLaI7UhTzFILKfmz8uTkbe2fmrY0zxFdSX122oXUcVtHotre5cKio7+ZvbJ7fKOpwMUr6X9H96v+gdbf1ul+pv6trVlolus+omdIjnLxW0kqp7sUU7R7nAq3NcQ20Pm3MscMeQu+RgoySABk+pIH1Ncjf3k+o/BsXt4/mXFxpccsr4A3MyAk4HA5Pap/iBayzeGRJHqFxaJFcW5dYljKsPPj+ZiyEjb1GCB65HFVJOLs+4k7nVEhVJPQDJqppeqWetabDqGmTefazAmOTaVzgkHggHqDUaaddJpslq2s3zzM2RdskHmp04AEYTHHdT1PtXOvrmpQfCe61f7UX1CG3mZZ3jXlldgCVAC9AO1Ia1djsSdqknPAzwM1R0vWrLWPP8AsLTbrdwkqT20kLoxAYArIoPQg9O9ZNjPqVl4qt9PvNTfUkurJ7iUNDGgt2VlA2hQCEbcQAxY/L9481JoYz4m8UAEg/a4eR2/0eOj+vxsC1OhqneapBZ3lpaOHkuLtyscUYycDlnPoo4yfcDqQK5yw1jUrq4tNCe7P9qW104v51jTJgjwwbbjA8wPGOB/E2OlXrLD/ETVWm5kisLZYQT0RmkLEfVgM/7oo7B0ZqS6pb2+rQafPvjluUZoXYfJIV6oD/eA5x3GSM4OL8X+uT/eFc540X/iS20sYzcxahatb84O8zKpx9VLA+xNdHF/rk/3hQtgNGiiigAooooAKKKKACiiigAooooAKKKKACiiigAooooAKKKKACiiigAooooAKKKKACiiigAooooAKKKKACiiigChJG5lYhGxuPam+VJ/cb8qum4iViC3I68Gk+0xf3v0NADLRWXfuUjp1FWKakiSZ2HOOvFOoAKKKKACiiigAooooAKKKKACiiigAooooAKr3as2zapPXoKsU15EjxvOM9OKAMhtLtnmaZ7GJpWdXZzCCxZfusTjqOx7VBceHtMu7eKC60i0nhhYvFHJbKyxseSVBGAfpW39pi/vfoaPtMX979DQBi3Xh/Tb61W2vdItbm3RzIsU1srorHJLAEYycnn3NPsdFstLtmt9M02CzgdizRW8AjViRgkgADOAK1/tMX979DR9pi/vfoaAMLSNFl0bT3sbeRnt0Y/ZVeP/AFCHomc/MAc46cYHbNO0fRjpNj5O6W4mkcy3Fw6/NNIfvMR29ABwAAB0rb+0xf3v0NH2mL+9+hoAzptFj1G5sp7uWcJZTGZLYECOSTHyu3GTt5IGcZOSCQMXrtWbZtUnr0FP+0xf3v0NH2mL+9+hoAyf7HtNxb+zocszuT5A5Zhhj06kcE96jn0DTrmS2kudJtZntABbtJbKxhxjGwkfL0HT0ra+0xf3v0NH2mL+9+hoAw7vw1pV/DBDfaLZ3MVuu2FJrRHWIccKCOBwOnpU0OjWdvpp0+302CKyZSptkgCxkHqNoGMHJzWuLiJmADcnpwakJCqSeg60Ac6vhrSU019OTRbNbF23tai0QRM3HJTGCeBz7VRv/BWnTeHdS0vStPtdK/tCExSS21oq/QkLjdjJ7966v7TF/e/Q0faYv736GgFoYtjoGn6ZayW+n6VbWsMv+tjgtlRZOMcgDnj1qG08K6Rps/2jS9DsLO5CkLNDZIjLkeqgHH410H2mL+9+ho+0xf3v0NAeRz+k6HcWV1dX9/KLrULvassscHlIEXO1FXLEAZJ5YkknnGAJLzRGuNWs9SgZ7e5tsozBMiWJvvRsPqAQeoI9CQdz7TF/e/Q0faYv736GgDDutGe91e0u7h5GhtMvFbBML5pyPMY98AkAdBknk4xpRxuJVJRsbh2q4s8bsFVsk+1OZgilmOAKAFoqL7TF/e/Q0faYv736GgCWiovtMX979DR9pi/vfoaAJaKi+0xf3v0NH2mL+9+hoAloqL7TF/e/Q0faYv736GgCWiovtMX979DR9pi/vfoaAJaKKKACiiigAooooAKKKKACiiigAooooAKKKKACiiigAooooAKKKKACiiigDOl/1z/7xqjcajFb6laWJSSSa6DsoQDCKg5ZsngZKjjPLD3IvS/65/8AeNc9oZ/tLWNS1lhmMv8AYrU/9M4yd7D6yFvqEWjqHQ6iz/j/AAq1VWz/AI/wq1QAUUUUAFFFFABRRRQAUUUUAFFFFABRRRQAVVvP4Pxq1VW8/g/GgDOlvbeG9gtJZNs9wGMSbT8wXBbnoOo61Yri/FdjpcHinSdQ1e9ubO1k86OSc6lNBGjbBtAIcBM7T0xnHOal1Bftvibw/Y2OqXa6bNY3Dsba7Y/aFXytpMmSx653g7vfk5SGdfRXHak0/hmbw/8AbtYlNhHfzCe5uJSqrE0chjSVyfmwdoDMeSAetZ95rt5N4c1m8065le3/ALXWMzPI8Qitise4h9pMaYJO8KcAlh60/wCvy/zE9P69f8j0GqjalCusx6YVfzpLdrgNgbdqsFI65zlh2ribLUr+LQNdudK1OzuoYoUaJLLVH1SS3bne291DfdwQpyMqfWrGjPow8bLJpGpTX1sNLl826lvpbhMiSPOJHYqCByQpGOM44o+1b+tmJ7f13R1tnqH2y7vIPsl1B9lkEfmTxbUmyAd0Zz8w5xn1q5XGeENY0qbXNa02x1xL2Pz0NpG+pG5cp5KFijM7MQG3dDwc0zTbjUJdStfDUtzcNNpt0811ceaxeS3X5odzZyd29QfXy3Bo7f16j8/68jpbzVhb6tZ6bBCZ7m5y7KGwIol+9Ix+pAA6kn0BILvVlsdYs7O5hKQ3uUhuN2V80AnyyOxKgkHocEcHGc+ywnxE1VZuJJbC2aEkdUVpAwH0YjP+8KPGimTRLeKPBuJL+1EGRn5xMjZ/BQx+gNC6ev62/rzDq/68/wCvI6OL/XJ/vCr8v+pf/dNUIv8AXJ/vCoNB8QweJdJuLu2tby08meW2khvYfKkVkOCduTweCPY9ulHWwEtVIdShn1W609FcS2qRu7EDaQ+7GOf9k1m+LruS00eJhcPa28lzFHd3MbbWhhZsM27+HsC38IJORjNY3h+TSF1jxFJa38rab9lty15NeyuNuJNzLM7E7R/eVsAg4OQaOjB6WOq07Uf7RW4P2O7tfIneHF1FsMm3+NeeVPY96uVx3hDUtN1O31fSrXW/tZF1MIduomaZYcKAyuWL4BPDZ60mg3uoalqVjpd1PL5uiI41GRZCPOlGUiDY6hlzJg/7NC1t6J/5i7+rOh/tYPr/APZdtCZWji825l3YWAHOwe7MQeOwBJ7ZBqyp4gOlXMJieSLzraTdlZ1GA49mUkcdwQR3xn+G8JrfiSKTi4/tBZGyMExmGMIfp8pH1Bo8RKZNc8NpDjz1v2k6ciMQyBz/AOPKPxFC6f1v/kPv/W3+Z01t/wAfC/j/ACqzc/8AHu34fzqksvkbpSjyCNGbZGu5mwCcAdz7VFo2uQeJfC9vq1pBc20VypIhu4/LljIYqVZcnBBBHWgCSqdnqcN896sKSA2c5gk3AfMwVW456YYVj+LLxLefTIr+9fT9LnmcXVyk5gwQhKKZQQUBI6ggkgDPNZvh6TSItE143V/LbaYdSOLq4vZYWwUjwfOZg/Jxg7uQRjINJa3/AK7f5g9Lf13Oq0vUP7U02G8+yXVn5oJ8i7j8uVMEj5l5x0z9KuVxXh26TxJ8PZbLTdcMmoIki+fFeF5YW3t5ZZgS2PlHXqM9aueHtVn8Q6m2ouZLe2srYQSQiQhTcnBlBHQ7MKufUtT6/wBf1/SF0N211H7VqN7afY7uH7IUHnSxbY5twz+7bPzY6H0NLfajFp7WqzK7G6uFt02AHDEEgnnpxXLeF9a0g+KNW0/TtejvY3ELWkUmpm5LHYxfYWdienIHSse1u7S/l0Ce41G5udcOoqb62+1Ssts2HBRoQdkeD8oyATjqTk0dUvT8x9G/U9MrO1bVhpotoo4Tc3d3KIreBW27z1JJ7Kqgkn27kgHg7vVNRk12/jn1Sx0/UY74paLea3JbYjDDZi18spIrL3JJJY8ggBervMR/ETS2n+7Jp9xHCSOPM3xswz6lRn6KaFrZ9/8AK/8AwAel1/XY0dV1ZdIa1kuYSbSaUQyzhv8AUMxAQkf3SxAz2JHbJGjWJ4z2HwRrCSDd5lpIirjO52XCj67iK1rVZEs4VnOZRGoc+pxzQD6GxRRRQAUUUUAFFFFABRRRQAUUUUAFFFFABRRRQAUUUUAFFFFABRRRQAUUUUAUpbaR2f5eGJ6Niq1jpKabYQWVlB5VvboI403Z2qBgck5P1NaDXSKxBDZBx0pPtcfo35UAFtG8e7eMZxjmp6g+1x+jflT451lbCg5xnmgCSiiigAooooAKKKKACiiigAooooAKKKKACoLmN5NuwZxnPNT0yWZYsbgTn0oAqfZpf7v6ij7NL/d/UVP9rj9G/Kj7XH6N+VAEH2aX+7+oo+zS/wB39RU/2uP0b8qPtcfo35UAQfZpf7v6ij7NL/d/UVP9rj9G/Kj7XH6N+VAEH2aX+7+oo+zS/wB39RU/2uP0b8qPtcfo35UAZd5oa3l5aXbq8dxaOWjljYA4PDIfVTxkewPUA0S6Gtxq0GoTq8ktsjLCjMNkZbq4H94jjPYZAxk51Ptcfo35Ufa4/RvyoAhW2k3DcpAzyQ2KNP0q00jSxY6bD5cKhiAXZ2ZiSSzMxLMxJJLEkknJNTfa4/Rvyo+1x+jflQBB9ml/u/qKPs0v939RV6igCj9ml/u/qKPs0v8Ad/UVeooAxH0NW1iLU1V47lIzExRgBKnUK474PI7jJ7EgkehqmsS6myvJcvGIlLsCIkHJVB2yeT3OB6DG3RQBQaxNxG8M/mLHIjIxilaNgCMcMpDKfcEEVJBYW9hpcVjp0CQW8CLHFEgwFUdAKt0UAUfs0v8Ad/UUfZpf7v6ir1FAFH7NL/d/UUfZpf7v6ir1FAFH7NL/AHf1FH2aX+7+oq9RQBR+zS/3f1FUtS0NdUgjSdXR4ZFlhmjYB4nHRlP5g9iCQcg1t0UAYl9oa6jcWsl2rutrJ5qRbhsZx91mHfb1HYHnqBi79ml/u/qKvUUAFFFFABRRRQAUUUUAFFFFABRRRQAUUUUAFFFFABRRRQAUUUUAFFFFABRRRQBnS/65/wDeNZ1xqfla3aabDCJZJ0eaVt+PKjXA3YxySxUAcdz2xWjL/rX/AN41z3hsnULi/wBcblbyTyrU/wDTvHkKf+BMXb6MKOodDQ1DUvsV3Y2sUPnz3k2wLv27EALO59gB+JIHGc1rWn+uP+7XM6Uf7U8TahqhyYLUfYLb0JBDSsPq2F/7Z101p/rj/u0dA6lyiiigAooooAKKKKACiiigAooooAKKKKACqt5/B+NWqq3n8H40AYWtatJpv2OG0tlury+n8iCN5fLTIVnJZsMQAqnoCc4GKraxrOq6Poa6hJptnIY+bqNb5xsG4AbD5Xz9e4X8aoeJvDWn6l4k0K5n0W2uy124upXtVfMYgk27zj7u7bjPGcU/xkYLLwjLpdjY3BMkYWCCxsZJEUKy8fu1IXjsce1GyB+XY6miuU8QPDqg0m7ubG8vNFEkhurVrGRmLYwheArvZQ2eNp52tjAyMo6ZMuj3n2PT7qPQZNTjlXTkgZHNsFHmgQn5gjOCxjwCRu+X5sEA9Aorz6fTA+k+KD4c0uez0y40sxxWgs3t/Nudr7mSEgEfKUGdo3EDritf/hFUstJe90JZLbWDp0kIfd808jKNrSs3LMGHBY8ZNK+7/rr/AJDtql/XT/P8DbutT+za1YWHlbvtiyt5m7GzYAemOc5p8dzetrE1vJYbLJIleO885T5jknKbOowMHPfNcfolhYDxJo1zpHh+4svLt5VvLqaxaF2cqvDs4DO2cnccgnPJOasaVJp9p8Qr2Ww0q7tYbu1jjaVNIniSScSSFizeWB0K/MTg+tP7VvUn7LZ2lZWsarLZ3FnYWEaS3965EYkztjReXkbHOAOMdyVHGcjnrvSLtdUuvD8Nq7aVqd2t68ojPlxxnmaInplnQcdxK3oa1L9haePtKnm4huLOe0jY9Fl3I4X/AIEqN/3zQun9dP8APQb6/wBf1pqXdb1WbRhbXboj6f5gju253xBiAsg7bQfvD0Oc8YOrWD42cf8ACG6jb4DS3kRtYE/vySfIo/M/kCa24kMcKIzbiqgFj396Af8AX9f1sa1FFFABRRRQAUUUUAFFFFABRRRQAUUUUAFFFFABRRRQAUUUUAFFFFABRRRQAUUUUAFFFFABRRRQAUUUUAFFFFABRRRQAUUUUAFFFFABRRRQBUktGkZ87SrE8H0qODTRbW8cFskUUMahEjjG1UUcAAAcCp2u9rldmcHHWm/bP+mf60AQw6YttF5dvHFFGCTsjXaMk5JwB3JJqzBA0UhLEEYxxToZvO3fLjHvUtABRRRQAUUUUAFFFFABRRRQAUUUUAFFFFABUNxC0u3aQMZ61NUU03k7flzn3oAg+ySeq/nR9kk9V/OnfbP+mf60fbP+mf60AN+ySeq/nR9kk9V/OnfbP+mf60fbP+mf60AN+ySeq/nR9kk9V/OnfbP+mf60fbP+mf60AN+ySeq/nR9kk9V/OrMMvmoWxjnHWn0AU/sknqv51XvdFi1G1NvexpLEWVsEkEMDkEEcgggEEcitSigDLm0WK4vLe6njR5rXd5LFj8hYYJA6ZxxnqASO5qx9kk9V/OrlFABRRRQAUUUUAFFFFABRRRQAUUUUAFFFFABRRRQAUUUUAFFFFABRRRQAUUUUAFFFFABRRRQAUUUUAFFFFABRRRQAUUUUAFFFFABRRRQAUUUUAYetXcmn6bf3kEBuJLeKSVIR1kKgkL+OK5fQfFWoa1cCyt3sLuSO4zLfWyN5DW4VSWUbydxYtGPmIyjH+ErXX3sjxJPJFC07oGKxIQC59ASQOfcgVwraF4jTXLe833DT3LwzTywXISCBhJmVHTIMi+VtRPlbkE/KSTRH4tQfwnotn/H+FWqq2f8AH+FWqACiiigAooooAKKKKACiiigAooooAKKKKACqt5/B+NWqq3n8H40AZFzrWl2U/k3mpWdvLz8ks6q3C7jwT2Xn6c0lxrukWlhDe3Wq2UFpPjyriS4RY5MjI2sTg8elczqHhq8u/E95dmxSSGa/sZQ7FDujiB3HBOeCen5U3SdK1XQ5rC9l0mW+MdtNbtDBNF5kBaYvuG91UhhjOGzwOD2S8/60v/wBdf67/wBM62XVLCDTRqE99bRWRVXFy8yiMqeh3E4wcjH1rL0nxNb6hYavqDXFvJY2Fw6pPbtuVo1jVi2QSCeT09KyLfQ9S0yDS7saeboQX1zdPp8MkYMAm3FQm4qhKbsHkD5mxnirMOi6jfeHPEtre262c+qSzNColDgBolVcke45HscZGCTv6f5f8ErS6Xn+Gpr6FLqF5o4u9SYxTXn76OFVH+jIwG1M9yBySe5PbApnh/Ubm6jurLUsG/0+XyZnVdqzDAZZAO25SDjscjtU2gakmqaHbXKqY3C7Jom+9DIvDo3oQQRVHw4VvtU1jWITm2u5Uit37SpGuN49ixYA9wAe9U/iaX9f1+JKu4ps6y0/1J/3qnqC0/1J/wB6p6QwooooAKKKKACiiigAooooAKKKKACiiigAooooAKKKKACiiigAooooAKKKKACiiigAooooAKKKKACiiigAooooAKKKKACiiigAooooAKKKKACiiigAooooArtabnLb8ZOelN+x/wDTT9KHunWRgAuAcdKb9rk9F/KgCeGHyd3zZz7VLVP7XJ6L+VSwTtLIQwGMZ4oAnooooAKKKKACiiigAooooAKKKKACiiigAqKaHztvzYx7VLUNxM0W3aAc560AR/Y/+mn6UfY/+mn6U37XJ6L+VH2uT0X8qAHfY/8App+lH2P/AKafpTftcnov5Ufa5PRfyoAaulQL521Ix553S4jH7w4Ay3rwAOewFOj05IYkjiKpGihVRUwFA6ADsKPtcnov5Ufa5PRfyoAswxeUhXOec9KfUcEhljJbGc44qSgAooooAKKKKACiiigAooooAKKKKACiiigAooooAKKKKACiiigAooooAKKKKACiiigAooooAKKKKACiiigAooooAKKKKACiiigAooooAKKKKACiiigAooooAzpf9a/+8a43QPFF/qWui1ufIED/AHZljlCTYTP7rcg4b73zMeAdu8fMOyl/1z/7xqJYo0keRI1V5CC7BcFsDAye/FAdDkofFF+/ixtPYQfZfNEQuPLl8s/O4wDs++cBPvbMjgk/JXb2n+uP+7VURRiYzCNRKyhS+35iBkgZ9OT+dWrT/XH/AHaOlge9y5RRRQAUUUUAFFFFABRRRQAUUUUAFFFFABVW8/g/GrVVbz+D8aAOf1DxTpGmX72N1cSG7jiWZoIbaWZwhz8+1FJ2/KcnoOM4yMvufEemWsNrKZ3nF2nmQLawSXDyJgHeFjVjt5HOMcj1FYMj6ovxI1UaRbWcxbTbUO11cNHs+ebBAVG3fTK/Wp7Tw3qGgPp8ui/Zb5raxFlKl5K0O4BtwdWVXxzn5cenPHJ/X5/8AHv/AF5G3Z65p2oG1FncrL9rieWHCkblQgPnI4ILAFTgg544NJe65ZWUGpO7l202Dz7hFU5VdpYc9CSFNc+3g67MFpmaAyyT3L3x3MAI7g7pEj4yegAzj168VYtPCtwdB1vTtQnjf7eht4ZFJYrCIhGhbIHzcEkdMnrSd7McbX12NTQbe8/sZZdWmd7y8/fTKHO2EsB+7T0CjA46kE9TUPhy6uQ19pWoStPPpsojWdz800TKGRm/2sZBPcqT3qXw/qZvNFVrxBb3dqPJvIm48qRQN3PoRhge4INVvDatd3Oo640bRpqMifZw67WMKLhGI7biWYZ5wRVP4nb+u39epKvZXOrtP9Sf96p6gtP9Sf8AeqekMKKKKACiiigAooooAKKKKACiiigAooooAKKKKACiiigAooooAKKKKACiiigAooooAKKKKACiiigAooooAKKKKACiiigAooooAKKKKACiiigAooooAKKKKAIWtUZiSWyTnrSfZI/VvzqeigCD7JH6t+dPjgWJsqSTjHNSUUAFFFFABRRRQAUUUUAFFFFABRRRQAUUUUAFMlhWXG4kY9KfRQBB9kj9W/Oj7JH6t+dT0UAQfZI/Vvzo+yR+rfnU9FAEH2SP1b86Pskfq351PRQAyOMRLhckZzzT6KKACiiigAooooAKKKKACiiigAooooAKKKKACiiigAooooAKKKKACiiigAooooAKKKKACiiigAooooAKKKKACiiigAooooAKKKKACiiigAooooAKKKKACiiigAooooAKKKKACiiigAooooAKKKKACiiigAooooAKKKKACiiigAooooAKKKKACiiigAooooAKKKKACiiigAooooAKKKKACiiigAooooAKKKKACiiigAooooAKKKKACiiigAooooAKKKKACiiigAooooAKKKKACiiigAooooAKKKKACiiigAooooAKKKKACiiigAooooAKKKKACiiigAooooAKKKKACiiigAooooAKKKKACiiigAooooAKKKKACiiigAooooAKKKKACiiigAooooAKKKKACiiigAooooAKKKKACiiigAooooAKKKKACiiigAooooAKKKKACiiigAooooAKKKKACiiigD//2Q==)"
      ]
    },
    {
      "cell_type": "markdown",
      "metadata": {
        "id": "4hrpcoySGNY3"
      },
      "source": [
        "Indexleme işlemini uzun uzun tanımlamak istemiyorsak şöyle kısa bir yol da izlenebilir."
      ]
    },
    {
      "cell_type": "code",
      "metadata": {
        "colab": {
          "base_uri": "https://localhost:8080/",
          "height": 136
        },
        "id": "4LbPZqyQGkCa",
        "outputId": "f093bfd1-164e-4633-9018-bd4c8d1b0540"
      },
      "source": [
        "B = pd.DataFrame(rand.randint(0, 10, (3, 3)),\r\n",
        "                 columns=list('BAC'))\r\n",
        "B"
      ],
      "execution_count": null,
      "outputs": [
        {
          "output_type": "execute_result",
          "data": {
            "text/html": [
              "<div>\n",
              "<style scoped>\n",
              "    .dataframe tbody tr th:only-of-type {\n",
              "        vertical-align: middle;\n",
              "    }\n",
              "\n",
              "    .dataframe tbody tr th {\n",
              "        vertical-align: top;\n",
              "    }\n",
              "\n",
              "    .dataframe thead th {\n",
              "        text-align: right;\n",
              "    }\n",
              "</style>\n",
              "<table border=\"1\" class=\"dataframe\">\n",
              "  <thead>\n",
              "    <tr style=\"text-align: right;\">\n",
              "      <th></th>\n",
              "      <th>B</th>\n",
              "      <th>A</th>\n",
              "      <th>C</th>\n",
              "    </tr>\n",
              "  </thead>\n",
              "  <tbody>\n",
              "    <tr>\n",
              "      <th>0</th>\n",
              "      <td>1</td>\n",
              "      <td>7</td>\n",
              "      <td>5</td>\n",
              "    </tr>\n",
              "    <tr>\n",
              "      <th>1</th>\n",
              "      <td>1</td>\n",
              "      <td>4</td>\n",
              "      <td>0</td>\n",
              "    </tr>\n",
              "    <tr>\n",
              "      <th>2</th>\n",
              "      <td>9</td>\n",
              "      <td>5</td>\n",
              "      <td>8</td>\n",
              "    </tr>\n",
              "  </tbody>\n",
              "</table>\n",
              "</div>"
            ],
            "text/plain": [
              "   B  A  C\n",
              "0  1  7  5\n",
              "1  1  4  0\n",
              "2  9  5  8"
            ]
          },
          "metadata": {
            "tags": []
          },
          "execution_count": 12
        }
      ]
    },
    {
      "cell_type": "markdown",
      "metadata": {
        "id": "u2iVUIh1GyDQ"
      },
      "source": [
        "# Handling Missing Data"
      ]
    },
    {
      "cell_type": "markdown",
      "metadata": {
        "id": "qFrO8x8YG6QK"
      },
      "source": [
        "**Conventions**"
      ]
    },
    {
      "cell_type": "markdown",
      "metadata": {
        "id": "uLV-fmxqHZXj"
      },
      "source": [
        "Bir tabloda eksik verileri gizlemek için kullanılan yöntemlerden biri de Conventions'dır.\r\n",
        "Bu durumda eksik veri yerine bir değer atanarak boş değer maskelenir."
      ]
    },
    {
      "cell_type": "code",
      "metadata": {
        "colab": {
          "base_uri": "https://localhost:8080/"
        },
        "id": "ggd31EjpHuNm",
        "outputId": "af3fcc02-027a-4e61-cf34-43ce7fab9f8f"
      },
      "source": [
        "vals1 = np.array([1, None, 3, 4])\r\n",
        "vals1"
      ],
      "execution_count": null,
      "outputs": [
        {
          "output_type": "execute_result",
          "data": {
            "text/plain": [
              "array([1, None, 3, 4], dtype=object)"
            ]
          },
          "metadata": {
            "tags": []
          },
          "execution_count": 13
        }
      ]
    },
    {
      "cell_type": "code",
      "metadata": {
        "id": "og-AhM-RIrJ_"
      },
      "source": [
        "#vals1.sum()\r\n",
        "#Bu kod çalıştırıldğında nan değerden ötürü hata verecektir. "
      ],
      "execution_count": null,
      "outputs": []
    },
    {
      "cell_type": "code",
      "metadata": {
        "colab": {
          "base_uri": "https://localhost:8080/"
        },
        "id": "uJUgjKwPJpxe",
        "outputId": "02e9082b-1dbd-4e56-c08c-a5178db697c8"
      },
      "source": [
        "vals2 = np.array([1, np.nan, 3, 4]) \r\n",
        "np.nansum(vals2)\r\n",
        "#Böyle bir kod yazdığımızda ise hata almayız çünkü nan değer np.nan değerindedir"
      ],
      "execution_count": null,
      "outputs": [
        {
          "output_type": "execute_result",
          "data": {
            "text/plain": [
              "8.0"
            ]
          },
          "metadata": {
            "tags": []
          },
          "execution_count": 19
        }
      ]
    },
    {
      "cell_type": "markdown",
      "metadata": {
        "id": "yaskYjnvKHKh"
      },
      "source": [
        "Bunun NaNözellikle bir kayan nokta değeri olduğunu unutmayın; tamsayılar, dizeler veya diğer türler için eşdeğer bir NaN değeri yoktur."
      ]
    },
    {
      "cell_type": "code",
      "metadata": {
        "colab": {
          "base_uri": "https://localhost:8080/"
        },
        "id": "53u7T9B-Mjn6",
        "outputId": "e407b7b3-dd55-445c-b1e9-576b18477241"
      },
      "source": [
        "pd.Series([1, np.nan, 2, None])"
      ],
      "execution_count": null,
      "outputs": [
        {
          "output_type": "execute_result",
          "data": {
            "text/plain": [
              "0    1.0\n",
              "1    NaN\n",
              "2    2.0\n",
              "3    NaN\n",
              "dtype: float64"
            ]
          },
          "metadata": {
            "tags": []
          },
          "execution_count": 21
        }
      ]
    },
    {
      "cell_type": "markdown",
      "metadata": {
        "id": "wOyjWbNvM-Jj"
      },
      "source": [
        "Pandas veri yapılarında boş değerleri tespit etmek, kaldırmak ve değiştirmek için birkaç yararlı yöntem vardır. "
      ]
    },
    {
      "cell_type": "markdown",
      "metadata": {
        "id": "bmcQTtaTNeh0"
      },
      "source": [
        "isnull(): Eksik değerleri gösteren bir boole maskesi oluşturun\r\n",
        "notnull(): Tam tersi isnull()\r\n",
        "dropna(): Verilerin filtrelenmiş bir sürümünü döndürür\r\n",
        "fillna(): Doldurulmuş veya atanmış eksik değerlere sahip verilerin bir kopyasını döndür"
      ]
    },
    {
      "cell_type": "code",
      "metadata": {
        "id": "BE2w0UQfNpG6"
      },
      "source": [
        "data = pd.Series([1, np.nan, 'hello', None])"
      ],
      "execution_count": null,
      "outputs": []
    },
    {
      "cell_type": "code",
      "metadata": {
        "colab": {
          "base_uri": "https://localhost:8080/"
        },
        "id": "xdqBWASGNwZ-",
        "outputId": "5d4e44d6-8d64-4d1d-aafa-3914565e1aea"
      },
      "source": [
        "data.isnull()"
      ],
      "execution_count": null,
      "outputs": [
        {
          "output_type": "execute_result",
          "data": {
            "text/plain": [
              "0    False\n",
              "1     True\n",
              "2    False\n",
              "3     True\n",
              "dtype: bool"
            ]
          },
          "metadata": {
            "tags": []
          },
          "execution_count": 23
        }
      ]
    },
    {
      "cell_type": "code",
      "metadata": {
        "colab": {
          "base_uri": "https://localhost:8080/"
        },
        "id": "LFp4g37ENn1h",
        "outputId": "c8129d0a-af0a-406c-c0e4-9f054fbcb674"
      },
      "source": [
        "data.notnull()"
      ],
      "execution_count": null,
      "outputs": [
        {
          "output_type": "execute_result",
          "data": {
            "text/plain": [
              "0     True\n",
              "1    False\n",
              "2     True\n",
              "3    False\n",
              "dtype: bool"
            ]
          },
          "metadata": {
            "tags": []
          },
          "execution_count": 25
        }
      ]
    },
    {
      "cell_type": "code",
      "metadata": {
        "colab": {
          "base_uri": "https://localhost:8080/"
        },
        "id": "mAQXdDo0N30A",
        "outputId": "9bebc50b-ffaa-4749-d25d-ab63c76c59fa"
      },
      "source": [
        "#dropna() NaN değerlerini kaldırır.\r\n",
        "#fillna() NaN değerlerini doldurur\r\n",
        "data.dropna()"
      ],
      "execution_count": null,
      "outputs": [
        {
          "output_type": "execute_result",
          "data": {
            "text/plain": [
              "0        1\n",
              "2    hello\n",
              "dtype: object"
            ]
          },
          "metadata": {
            "tags": []
          },
          "execution_count": 26
        }
      ]
    },
    {
      "cell_type": "code",
      "metadata": {
        "colab": {
          "base_uri": "https://localhost:8080/",
          "height": 136
        },
        "id": "tGNHg_yqOVZQ",
        "outputId": "c6a63ab2-75a4-4f37-ca1d-e8475812de99"
      },
      "source": [
        "df = pd.DataFrame([[1,      np.nan, 2],\r\n",
        "                   [2,      3,      5],\r\n",
        "                   [np.nan, 4,      6]])\r\n",
        "df"
      ],
      "execution_count": null,
      "outputs": [
        {
          "output_type": "execute_result",
          "data": {
            "text/html": [
              "<div>\n",
              "<style scoped>\n",
              "    .dataframe tbody tr th:only-of-type {\n",
              "        vertical-align: middle;\n",
              "    }\n",
              "\n",
              "    .dataframe tbody tr th {\n",
              "        vertical-align: top;\n",
              "    }\n",
              "\n",
              "    .dataframe thead th {\n",
              "        text-align: right;\n",
              "    }\n",
              "</style>\n",
              "<table border=\"1\" class=\"dataframe\">\n",
              "  <thead>\n",
              "    <tr style=\"text-align: right;\">\n",
              "      <th></th>\n",
              "      <th>0</th>\n",
              "      <th>1</th>\n",
              "      <th>2</th>\n",
              "    </tr>\n",
              "  </thead>\n",
              "  <tbody>\n",
              "    <tr>\n",
              "      <th>0</th>\n",
              "      <td>1.0</td>\n",
              "      <td>NaN</td>\n",
              "      <td>2</td>\n",
              "    </tr>\n",
              "    <tr>\n",
              "      <th>1</th>\n",
              "      <td>2.0</td>\n",
              "      <td>3.0</td>\n",
              "      <td>5</td>\n",
              "    </tr>\n",
              "    <tr>\n",
              "      <th>2</th>\n",
              "      <td>NaN</td>\n",
              "      <td>4.0</td>\n",
              "      <td>6</td>\n",
              "    </tr>\n",
              "  </tbody>\n",
              "</table>\n",
              "</div>"
            ],
            "text/plain": [
              "     0    1  2\n",
              "0  1.0  NaN  2\n",
              "1  2.0  3.0  5\n",
              "2  NaN  4.0  6"
            ]
          },
          "metadata": {
            "tags": []
          },
          "execution_count": 27
        }
      ]
    },
    {
      "cell_type": "code",
      "metadata": {
        "colab": {
          "base_uri": "https://localhost:8080/",
          "height": 77
        },
        "id": "q0HjEnJEOYub",
        "outputId": "eabc741b-01e6-4f59-ce36-ace75809b102"
      },
      "source": [
        "df.dropna()"
      ],
      "execution_count": null,
      "outputs": [
        {
          "output_type": "execute_result",
          "data": {
            "text/html": [
              "<div>\n",
              "<style scoped>\n",
              "    .dataframe tbody tr th:only-of-type {\n",
              "        vertical-align: middle;\n",
              "    }\n",
              "\n",
              "    .dataframe tbody tr th {\n",
              "        vertical-align: top;\n",
              "    }\n",
              "\n",
              "    .dataframe thead th {\n",
              "        text-align: right;\n",
              "    }\n",
              "</style>\n",
              "<table border=\"1\" class=\"dataframe\">\n",
              "  <thead>\n",
              "    <tr style=\"text-align: right;\">\n",
              "      <th></th>\n",
              "      <th>0</th>\n",
              "      <th>1</th>\n",
              "      <th>2</th>\n",
              "    </tr>\n",
              "  </thead>\n",
              "  <tbody>\n",
              "    <tr>\n",
              "      <th>1</th>\n",
              "      <td>2.0</td>\n",
              "      <td>3.0</td>\n",
              "      <td>5</td>\n",
              "    </tr>\n",
              "  </tbody>\n",
              "</table>\n",
              "</div>"
            ],
            "text/plain": [
              "     0    1  2\n",
              "1  2.0  3.0  5"
            ]
          },
          "metadata": {
            "tags": []
          },
          "execution_count": 29
        }
      ]
    },
    {
      "cell_type": "code",
      "metadata": {
        "colab": {
          "base_uri": "https://localhost:8080/",
          "height": 136
        },
        "id": "8n2ipVUzOfYJ",
        "outputId": "19c3adde-7567-4e5d-d039-38a90a0063ae"
      },
      "source": [
        "df.fillna(0)"
      ],
      "execution_count": null,
      "outputs": [
        {
          "output_type": "execute_result",
          "data": {
            "text/html": [
              "<div>\n",
              "<style scoped>\n",
              "    .dataframe tbody tr th:only-of-type {\n",
              "        vertical-align: middle;\n",
              "    }\n",
              "\n",
              "    .dataframe tbody tr th {\n",
              "        vertical-align: top;\n",
              "    }\n",
              "\n",
              "    .dataframe thead th {\n",
              "        text-align: right;\n",
              "    }\n",
              "</style>\n",
              "<table border=\"1\" class=\"dataframe\">\n",
              "  <thead>\n",
              "    <tr style=\"text-align: right;\">\n",
              "      <th></th>\n",
              "      <th>0</th>\n",
              "      <th>1</th>\n",
              "      <th>2</th>\n",
              "    </tr>\n",
              "  </thead>\n",
              "  <tbody>\n",
              "    <tr>\n",
              "      <th>0</th>\n",
              "      <td>1.0</td>\n",
              "      <td>0.0</td>\n",
              "      <td>2</td>\n",
              "    </tr>\n",
              "    <tr>\n",
              "      <th>1</th>\n",
              "      <td>2.0</td>\n",
              "      <td>3.0</td>\n",
              "      <td>5</td>\n",
              "    </tr>\n",
              "    <tr>\n",
              "      <th>2</th>\n",
              "      <td>0.0</td>\n",
              "      <td>4.0</td>\n",
              "      <td>6</td>\n",
              "    </tr>\n",
              "  </tbody>\n",
              "</table>\n",
              "</div>"
            ],
            "text/plain": [
              "     0    1  2\n",
              "0  1.0  0.0  2\n",
              "1  2.0  3.0  5\n",
              "2  0.0  4.0  6"
            ]
          },
          "metadata": {
            "tags": []
          },
          "execution_count": 31
        }
      ]
    },
    {
      "cell_type": "code",
      "metadata": {
        "colab": {
          "base_uri": "https://localhost:8080/"
        },
        "id": "baymHbUgOz9A",
        "outputId": "6552aa35-95cf-4ae0-c51a-a16b635b00fe"
      },
      "source": [
        "data.fillna(method='ffill')\r\n",
        "#Boşlukları bir önceki değerle doldurur"
      ],
      "execution_count": null,
      "outputs": [
        {
          "output_type": "execute_result",
          "data": {
            "text/plain": [
              "0        1\n",
              "1        1\n",
              "2    hello\n",
              "3    hello\n",
              "dtype: object"
            ]
          },
          "metadata": {
            "tags": []
          },
          "execution_count": 35
        }
      ]
    },
    {
      "cell_type": "code",
      "metadata": {
        "colab": {
          "base_uri": "https://localhost:8080/"
        },
        "id": "cLwA-YVcO9lQ",
        "outputId": "4892b1c5-5c77-43be-c71e-087574957d39"
      },
      "source": [
        "data.fillna(method='bfill')\r\n",
        "#Boşlukları bir sonraki değerle doldurur"
      ],
      "execution_count": null,
      "outputs": [
        {
          "output_type": "execute_result",
          "data": {
            "text/plain": [
              "0        1\n",
              "1    hello\n",
              "2    hello\n",
              "3     None\n",
              "dtype: object"
            ]
          },
          "metadata": {
            "tags": []
          },
          "execution_count": 36
        }
      ]
    },
    {
      "cell_type": "markdown",
      "metadata": {
        "id": "NLRWg7XqpS5s"
      },
      "source": [
        "#Hierarchical Indexing"
      ]
    },
    {
      "cell_type": "markdown",
      "metadata": {
        "id": "GvSyAbXypcZW"
      },
      "source": [
        "Bu bölümde, MultiIndex nesnelerinin doğrudan oluşturulmasını inceleyeceğiz"
      ]
    },
    {
      "cell_type": "markdown",
      "metadata": {
        "id": "VoAx4HnWuTfA"
      },
      "source": [
        "##Bad Way"
      ]
    },
    {
      "cell_type": "markdown",
      "metadata": {
        "id": "dKiH_ikn6h0r"
      },
      "source": [
        "İki farklı yıla ait eyaletlerle ilgili verileri izlemek istediğinizi varsayalım."
      ]
    },
    {
      "cell_type": "code",
      "metadata": {
        "colab": {
          "base_uri": "https://localhost:8080/"
        },
        "id": "malLRi7p6oAA",
        "outputId": "ab9e79fb-f162-4685-eee5-a78413d9198a"
      },
      "source": [
        "index = [('California', 2000), ('California', 2010),\r\n",
        "         ('New York', 2000), ('New York', 2010),\r\n",
        "         ('Texas', 2000), ('Texas', 2010)]\r\n",
        "populations = [33871648, 37253956,\r\n",
        "               18976457, 19378102,\r\n",
        "               20851820, 25145561]\r\n",
        "pop = pd.Series(populations, index=index)\r\n",
        "pop"
      ],
      "execution_count": null,
      "outputs": [
        {
          "output_type": "execute_result",
          "data": {
            "text/plain": [
              "(California, 2000)    33871648\n",
              "(California, 2010)    37253956\n",
              "(New York, 2000)      18976457\n",
              "(New York, 2010)      19378102\n",
              "(Texas, 2000)         20851820\n",
              "(Texas, 2010)         25145561\n",
              "dtype: int64"
            ]
          },
          "metadata": {
            "tags": []
          },
          "execution_count": 3
        }
      ]
    },
    {
      "cell_type": "markdown",
      "metadata": {
        "id": "XZ4J8ZYI6umz"
      },
      "source": [
        "Bu indexlenmiş şemada slicing işlemi yapabilirsiniz"
      ]
    },
    {
      "cell_type": "code",
      "metadata": {
        "colab": {
          "base_uri": "https://localhost:8080/"
        },
        "id": "Bai-zWV368dq",
        "outputId": "74c9609e-a4d8-4743-ddbf-f155ce21cb13"
      },
      "source": [
        "pop[('California', 2010):('Texas', 2000)]"
      ],
      "execution_count": null,
      "outputs": [
        {
          "output_type": "execute_result",
          "data": {
            "text/plain": [
              "(California, 2010)    37253956\n",
              "(New York, 2000)      18976457\n",
              "(New York, 2010)      19378102\n",
              "(Texas, 2000)         20851820\n",
              "dtype: int64"
            ]
          },
          "metadata": {
            "tags": []
          },
          "execution_count": 4
        }
      ]
    },
    {
      "cell_type": "markdown",
      "metadata": {
        "id": "U1wFqvYC6_eJ"
      },
      "source": [
        "Örneğin 2010'daki bir veriye erişmek istediğinizde biraz da uzun ve çetrefilli bir yol seçmek zorundasınız. O yüzden bu kötü yoldur."
      ]
    },
    {
      "cell_type": "code",
      "metadata": {
        "colab": {
          "base_uri": "https://localhost:8080/"
        },
        "id": "ddKJEqm37S3P",
        "outputId": "399a8985-15c3-4e3d-ff27-c422714e1fb0"
      },
      "source": [
        "pop[[i for i in pop.index if i[1] == 2010]]"
      ],
      "execution_count": null,
      "outputs": [
        {
          "output_type": "execute_result",
          "data": {
            "text/plain": [
              "(California, 2010)    37253956\n",
              "(New York, 2010)      19378102\n",
              "(Texas, 2010)         25145561\n",
              "dtype: int64"
            ]
          },
          "metadata": {
            "tags": []
          },
          "execution_count": 5
        }
      ]
    },
    {
      "cell_type": "markdown",
      "metadata": {
        "id": "M_8Dtz4G7XXL"
      },
      "source": [
        "##Better Way: Pandas MultiIndex"
      ]
    },
    {
      "cell_type": "code",
      "metadata": {
        "colab": {
          "base_uri": "https://localhost:8080/"
        },
        "id": "2rcwlhpZ7h0h",
        "outputId": "3b279a1c-ca60-4eec-8c2b-664be3daaeb1"
      },
      "source": [
        "index = pd.MultiIndex.from_tuples(index)\r\n",
        "index"
      ],
      "execution_count": null,
      "outputs": [
        {
          "output_type": "execute_result",
          "data": {
            "text/plain": [
              "MultiIndex([('California', 2000),\n",
              "            ('California', 2010),\n",
              "            (  'New York', 2000),\n",
              "            (  'New York', 2010),\n",
              "            (     'Texas', 2000),\n",
              "            (     'Texas', 2010)],\n",
              "           )"
            ]
          },
          "metadata": {
            "tags": []
          },
          "execution_count": 6
        }
      ]
    },
    {
      "cell_type": "code",
      "metadata": {
        "colab": {
          "base_uri": "https://localhost:8080/"
        },
        "id": "br_JvscY7rpe",
        "outputId": "515058f8-aa2b-4331-f9e4-61af26c50f5a"
      },
      "source": [
        "pop = pop.reindex(index)\r\n",
        "pop"
      ],
      "execution_count": null,
      "outputs": [
        {
          "output_type": "execute_result",
          "data": {
            "text/plain": [
              "California  2000    33871648\n",
              "            2010    37253956\n",
              "New York    2000    18976457\n",
              "            2010    19378102\n",
              "Texas       2000    20851820\n",
              "            2010    25145561\n",
              "dtype: int64"
            ]
          },
          "metadata": {
            "tags": []
          },
          "execution_count": 7
        }
      ]
    },
    {
      "cell_type": "markdown",
      "metadata": {
        "id": "OdPn9pt571GB"
      },
      "source": [
        "Burada her değere karşılık sütunlar olduğu için slicing işlemi daha kolaydır."
      ]
    },
    {
      "cell_type": "code",
      "metadata": {
        "colab": {
          "base_uri": "https://localhost:8080/"
        },
        "id": "tPkOV7A_8HaJ",
        "outputId": "48f83c66-bd40-4c8a-c2c4-a7d1c528a8e8"
      },
      "source": [
        "pop[:, 2010]"
      ],
      "execution_count": null,
      "outputs": [
        {
          "output_type": "execute_result",
          "data": {
            "text/plain": [
              "California    37253956\n",
              "New York      19378102\n",
              "Texas         25145561\n",
              "dtype: int64"
            ]
          },
          "metadata": {
            "tags": []
          },
          "execution_count": 8
        }
      ]
    },
    {
      "cell_type": "markdown",
      "metadata": {
        "id": "CBcZtcNw8KB6"
      },
      "source": [
        "##Yeni Bir Boyutta MultiIndex"
      ]
    },
    {
      "cell_type": "markdown",
      "metadata": {
        "id": "vaHOsAKA8YiP"
      },
      "source": [
        "Bu durumda unstack() metodunu kulanacağız"
      ]
    },
    {
      "cell_type": "code",
      "metadata": {
        "colab": {
          "base_uri": "https://localhost:8080/",
          "height": 136
        },
        "id": "zAI21wZB_Eko",
        "outputId": "8421bd46-da52-4f1a-d09f-2945777fd87b"
      },
      "source": [
        "pop_df = pop.unstack()\r\n",
        "pop_df"
      ],
      "execution_count": null,
      "outputs": [
        {
          "output_type": "execute_result",
          "data": {
            "text/html": [
              "<div>\n",
              "<style scoped>\n",
              "    .dataframe tbody tr th:only-of-type {\n",
              "        vertical-align: middle;\n",
              "    }\n",
              "\n",
              "    .dataframe tbody tr th {\n",
              "        vertical-align: top;\n",
              "    }\n",
              "\n",
              "    .dataframe thead th {\n",
              "        text-align: right;\n",
              "    }\n",
              "</style>\n",
              "<table border=\"1\" class=\"dataframe\">\n",
              "  <thead>\n",
              "    <tr style=\"text-align: right;\">\n",
              "      <th></th>\n",
              "      <th>2000</th>\n",
              "      <th>2010</th>\n",
              "    </tr>\n",
              "  </thead>\n",
              "  <tbody>\n",
              "    <tr>\n",
              "      <th>California</th>\n",
              "      <td>33871648</td>\n",
              "      <td>37253956</td>\n",
              "    </tr>\n",
              "    <tr>\n",
              "      <th>New York</th>\n",
              "      <td>18976457</td>\n",
              "      <td>19378102</td>\n",
              "    </tr>\n",
              "    <tr>\n",
              "      <th>Texas</th>\n",
              "      <td>20851820</td>\n",
              "      <td>25145561</td>\n",
              "    </tr>\n",
              "  </tbody>\n",
              "</table>\n",
              "</div>"
            ],
            "text/plain": [
              "                2000      2010\n",
              "California  33871648  37253956\n",
              "New York    18976457  19378102\n",
              "Texas       20851820  25145561"
            ]
          },
          "metadata": {
            "tags": []
          },
          "execution_count": 9
        }
      ]
    },
    {
      "cell_type": "markdown",
      "metadata": {
        "id": "r3l1HHaD_H4S"
      },
      "source": [
        "stack() metodu ise unstack() metodunun tam tersi işlem yapar."
      ]
    },
    {
      "cell_type": "code",
      "metadata": {
        "colab": {
          "base_uri": "https://localhost:8080/"
        },
        "id": "J2rAxP4H_UYy",
        "outputId": "c2a5d41f-9214-464a-a8ba-95133c715d5d"
      },
      "source": [
        "pop_df.stack()"
      ],
      "execution_count": null,
      "outputs": [
        {
          "output_type": "execute_result",
          "data": {
            "text/plain": [
              "California  2000  total      33871648\n",
              "                  under18     9267089\n",
              "            2010  total      37253956\n",
              "                  under18     9284094\n",
              "New York    2000  total      18976457\n",
              "                  under18     4687374\n",
              "            2010  total      19378102\n",
              "                  under18     4318033\n",
              "Texas       2000  total      20851820\n",
              "                  under18     5906301\n",
              "            2010  total      25145561\n",
              "                  under18     6879014\n",
              "dtype: int64"
            ]
          },
          "metadata": {
            "tags": []
          },
          "execution_count": 12
        }
      ]
    },
    {
      "cell_type": "markdown",
      "metadata": {
        "id": "o3NHZ-Db_rTI"
      },
      "source": [
        "Pop ile pandas dataframe haline dönüştürdüğümüz veri setimize yeni sütun ekleyebiliriz."
      ]
    },
    {
      "cell_type": "code",
      "metadata": {
        "colab": {
          "base_uri": "https://localhost:8080/",
          "height": 225
        },
        "id": "gv5DGy5G_W_O",
        "outputId": "d7e0e0fe-1e7c-468a-fe88-f4b11f184b4c"
      },
      "source": [
        "pop_df = pd.DataFrame({'total': pop,\r\n",
        "                       'under18': [9267089, 9284094,\r\n",
        "                                   4687374, 4318033,\r\n",
        "                                   5906301, 6879014]})\r\n",
        "pop_df"
      ],
      "execution_count": null,
      "outputs": [
        {
          "output_type": "execute_result",
          "data": {
            "text/html": [
              "<div>\n",
              "<style scoped>\n",
              "    .dataframe tbody tr th:only-of-type {\n",
              "        vertical-align: middle;\n",
              "    }\n",
              "\n",
              "    .dataframe tbody tr th {\n",
              "        vertical-align: top;\n",
              "    }\n",
              "\n",
              "    .dataframe thead th {\n",
              "        text-align: right;\n",
              "    }\n",
              "</style>\n",
              "<table border=\"1\" class=\"dataframe\">\n",
              "  <thead>\n",
              "    <tr style=\"text-align: right;\">\n",
              "      <th></th>\n",
              "      <th></th>\n",
              "      <th>total</th>\n",
              "      <th>under18</th>\n",
              "    </tr>\n",
              "  </thead>\n",
              "  <tbody>\n",
              "    <tr>\n",
              "      <th rowspan=\"2\" valign=\"top\">California</th>\n",
              "      <th>2000</th>\n",
              "      <td>33871648</td>\n",
              "      <td>9267089</td>\n",
              "    </tr>\n",
              "    <tr>\n",
              "      <th>2010</th>\n",
              "      <td>37253956</td>\n",
              "      <td>9284094</td>\n",
              "    </tr>\n",
              "    <tr>\n",
              "      <th rowspan=\"2\" valign=\"top\">New York</th>\n",
              "      <th>2000</th>\n",
              "      <td>18976457</td>\n",
              "      <td>4687374</td>\n",
              "    </tr>\n",
              "    <tr>\n",
              "      <th>2010</th>\n",
              "      <td>19378102</td>\n",
              "      <td>4318033</td>\n",
              "    </tr>\n",
              "    <tr>\n",
              "      <th rowspan=\"2\" valign=\"top\">Texas</th>\n",
              "      <th>2000</th>\n",
              "      <td>20851820</td>\n",
              "      <td>5906301</td>\n",
              "    </tr>\n",
              "    <tr>\n",
              "      <th>2010</th>\n",
              "      <td>25145561</td>\n",
              "      <td>6879014</td>\n",
              "    </tr>\n",
              "  </tbody>\n",
              "</table>\n",
              "</div>"
            ],
            "text/plain": [
              "                    total  under18\n",
              "California 2000  33871648  9267089\n",
              "           2010  37253956  9284094\n",
              "New York   2000  18976457  4687374\n",
              "           2010  19378102  4318033\n",
              "Texas      2000  20851820  5906301\n",
              "           2010  25145561  6879014"
            ]
          },
          "metadata": {
            "tags": []
          },
          "execution_count": 11
        }
      ]
    },
    {
      "cell_type": "code",
      "metadata": {
        "colab": {
          "base_uri": "https://localhost:8080/",
          "height": 136
        },
        "id": "rLwk7ZIu_k8I",
        "outputId": "2846703b-a492-461b-970c-fcb4a7e14e8d"
      },
      "source": [
        "f_u18 = pop_df['under18'] / pop_df['total']\r\n",
        "f_u18.unstack()"
      ],
      "execution_count": null,
      "outputs": [
        {
          "output_type": "execute_result",
          "data": {
            "text/html": [
              "<div>\n",
              "<style scoped>\n",
              "    .dataframe tbody tr th:only-of-type {\n",
              "        vertical-align: middle;\n",
              "    }\n",
              "\n",
              "    .dataframe tbody tr th {\n",
              "        vertical-align: top;\n",
              "    }\n",
              "\n",
              "    .dataframe thead th {\n",
              "        text-align: right;\n",
              "    }\n",
              "</style>\n",
              "<table border=\"1\" class=\"dataframe\">\n",
              "  <thead>\n",
              "    <tr style=\"text-align: right;\">\n",
              "      <th></th>\n",
              "      <th>2000</th>\n",
              "      <th>2010</th>\n",
              "    </tr>\n",
              "  </thead>\n",
              "  <tbody>\n",
              "    <tr>\n",
              "      <th>California</th>\n",
              "      <td>0.273594</td>\n",
              "      <td>0.249211</td>\n",
              "    </tr>\n",
              "    <tr>\n",
              "      <th>New York</th>\n",
              "      <td>0.247010</td>\n",
              "      <td>0.222831</td>\n",
              "    </tr>\n",
              "    <tr>\n",
              "      <th>Texas</th>\n",
              "      <td>0.283251</td>\n",
              "      <td>0.273568</td>\n",
              "    </tr>\n",
              "  </tbody>\n",
              "</table>\n",
              "</div>"
            ],
            "text/plain": [
              "                2000      2010\n",
              "California  0.273594  0.249211\n",
              "New York    0.247010  0.222831\n",
              "Texas       0.283251  0.273568"
            ]
          },
          "metadata": {
            "tags": []
          },
          "execution_count": 13
        }
      ]
    },
    {
      "cell_type": "markdown",
      "metadata": {
        "id": "HoZHnljeAANQ"
      },
      "source": [
        "##MultiIndex DataFrame oluşturmak"
      ]
    },
    {
      "cell_type": "code",
      "metadata": {
        "colab": {
          "base_uri": "https://localhost:8080/",
          "height": 166
        },
        "id": "OBoFo6wwAQ9s",
        "outputId": "dde182fc-d8c3-4d20-f092-f7259d70b505"
      },
      "source": [
        "df = pd.DataFrame(np.random.rand(4, 2),\r\n",
        "                  index=[['a', 'a', 'b', 'b'], [1, 2, 1, 2]],\r\n",
        "                  columns=['data1', 'data2'])\r\n",
        "df"
      ],
      "execution_count": null,
      "outputs": [
        {
          "output_type": "execute_result",
          "data": {
            "text/html": [
              "<div>\n",
              "<style scoped>\n",
              "    .dataframe tbody tr th:only-of-type {\n",
              "        vertical-align: middle;\n",
              "    }\n",
              "\n",
              "    .dataframe tbody tr th {\n",
              "        vertical-align: top;\n",
              "    }\n",
              "\n",
              "    .dataframe thead th {\n",
              "        text-align: right;\n",
              "    }\n",
              "</style>\n",
              "<table border=\"1\" class=\"dataframe\">\n",
              "  <thead>\n",
              "    <tr style=\"text-align: right;\">\n",
              "      <th></th>\n",
              "      <th></th>\n",
              "      <th>data1</th>\n",
              "      <th>data2</th>\n",
              "    </tr>\n",
              "  </thead>\n",
              "  <tbody>\n",
              "    <tr>\n",
              "      <th rowspan=\"2\" valign=\"top\">a</th>\n",
              "      <th>1</th>\n",
              "      <td>0.777681</td>\n",
              "      <td>0.084031</td>\n",
              "    </tr>\n",
              "    <tr>\n",
              "      <th>2</th>\n",
              "      <td>0.287928</td>\n",
              "      <td>0.789941</td>\n",
              "    </tr>\n",
              "    <tr>\n",
              "      <th rowspan=\"2\" valign=\"top\">b</th>\n",
              "      <th>1</th>\n",
              "      <td>0.045150</td>\n",
              "      <td>0.858984</td>\n",
              "    </tr>\n",
              "    <tr>\n",
              "      <th>2</th>\n",
              "      <td>0.620577</td>\n",
              "      <td>0.769541</td>\n",
              "    </tr>\n",
              "  </tbody>\n",
              "</table>\n",
              "</div>"
            ],
            "text/plain": [
              "        data1     data2\n",
              "a 1  0.777681  0.084031\n",
              "  2  0.287928  0.789941\n",
              "b 1  0.045150  0.858984\n",
              "  2  0.620577  0.769541"
            ]
          },
          "metadata": {
            "tags": []
          },
          "execution_count": 14
        }
      ]
    },
    {
      "cell_type": "markdown",
      "metadata": {
        "id": "zyvbdJmVA_2U"
      },
      "source": [
        "Benzer olarak bir tuple'ın key olarak kullanıldığı bir dictionary yapısını da multiindex hale getirebiliriz"
      ]
    },
    {
      "cell_type": "code",
      "metadata": {
        "colab": {
          "base_uri": "https://localhost:8080/"
        },
        "id": "hKOSQG8WBV-s",
        "outputId": "40edd149-a3b6-41d1-8cf5-e03e7e803d21"
      },
      "source": [
        "data = {('California', 2000): 33871648,\r\n",
        "        ('California', 2010): 37253956,\r\n",
        "        ('Texas', 2000): 20851820,\r\n",
        "        ('Texas', 2010): 25145561,\r\n",
        "        ('New York', 2000): 18976457,\r\n",
        "        ('New York', 2010): 19378102}\r\n",
        "pd.Series(data)"
      ],
      "execution_count": null,
      "outputs": [
        {
          "output_type": "execute_result",
          "data": {
            "text/plain": [
              "California  2000    33871648\n",
              "            2010    37253956\n",
              "Texas       2000    20851820\n",
              "            2010    25145561\n",
              "New York    2000    18976457\n",
              "            2010    19378102\n",
              "dtype: int64"
            ]
          },
          "metadata": {
            "tags": []
          },
          "execution_count": 15
        }
      ]
    },
    {
      "cell_type": "markdown",
      "metadata": {
        "id": "gwJcrRwIBYvA"
      },
      "source": [
        "Daha esnek indexleme işlemleri için daha önce yaptığımız gibi pd.MultiIndex yapıları oluşturabiliriz"
      ]
    },
    {
      "cell_type": "code",
      "metadata": {
        "colab": {
          "base_uri": "https://localhost:8080/"
        },
        "id": "N_r1lxtLCD_L",
        "outputId": "00232be9-4514-47d2-89ed-ce53dab151be"
      },
      "source": [
        "pd.MultiIndex.from_arrays([['a', 'a', 'b', 'b'], [1, 2, 1, 2]])"
      ],
      "execution_count": null,
      "outputs": [
        {
          "output_type": "execute_result",
          "data": {
            "text/plain": [
              "MultiIndex([('a', 1),\n",
              "            ('a', 2),\n",
              "            ('b', 1),\n",
              "            ('b', 2)],\n",
              "           )"
            ]
          },
          "metadata": {
            "tags": []
          },
          "execution_count": 16
        }
      ]
    },
    {
      "cell_type": "markdown",
      "metadata": {
        "id": "E-3W17rHCNbt"
      },
      "source": [
        "Tuple halindeki verilerle de pd.MultiIndex kullanabiliriz"
      ]
    },
    {
      "cell_type": "code",
      "metadata": {
        "colab": {
          "base_uri": "https://localhost:8080/"
        },
        "id": "5YS7gd-YCccv",
        "outputId": "63918918-b534-41ab-d6bc-3d16bfbceb16"
      },
      "source": [
        "pd.MultiIndex.from_tuples([('a', 1), ('a', 2), ('b', 1), ('b', 2)])"
      ],
      "execution_count": null,
      "outputs": [
        {
          "output_type": "execute_result",
          "data": {
            "text/plain": [
              "MultiIndex([('a', 1),\n",
              "            ('a', 2),\n",
              "            ('b', 1),\n",
              "            ('b', 2)],\n",
              "           )"
            ]
          },
          "metadata": {
            "tags": []
          },
          "execution_count": 17
        }
      ]
    },
    {
      "cell_type": "markdown",
      "metadata": {
        "id": "fMr8I3TXCfCI"
      },
      "source": [
        "Kartezyen çarpımı kullanarak da MultiIndex yapısını oluşturabiliriz"
      ]
    },
    {
      "cell_type": "code",
      "metadata": {
        "colab": {
          "base_uri": "https://localhost:8080/"
        },
        "id": "SzdqVfJ_CsC2",
        "outputId": "b5f67532-5a89-4c24-88d9-5af7fdcbdae4"
      },
      "source": [
        "pd.MultiIndex.from_product([['a', 'b'], [1, 2]])"
      ],
      "execution_count": null,
      "outputs": [
        {
          "output_type": "execute_result",
          "data": {
            "text/plain": [
              "MultiIndex([('a', 1),\n",
              "            ('a', 2),\n",
              "            ('b', 1),\n",
              "            ('b', 2)],\n",
              "           )"
            ]
          },
          "metadata": {
            "tags": []
          },
          "execution_count": 18
        }
      ]
    },
    {
      "cell_type": "markdown",
      "metadata": {
        "id": "Meece8m1C1JG"
      },
      "source": [
        "**MultiIndex level names**"
      ]
    },
    {
      "cell_type": "code",
      "metadata": {
        "colab": {
          "base_uri": "https://localhost:8080/"
        },
        "id": "SbXV_TBQDI3U",
        "outputId": "0144ef4e-a881-42a7-b862-1f294e6d36ec"
      },
      "source": [
        "pop.index.names = ['state', 'year']\r\n",
        "pop"
      ],
      "execution_count": null,
      "outputs": [
        {
          "output_type": "execute_result",
          "data": {
            "text/plain": [
              "state       year\n",
              "California  2000    33871648\n",
              "            2010    37253956\n",
              "New York    2000    18976457\n",
              "            2010    19378102\n",
              "Texas       2000    20851820\n",
              "            2010    25145561\n",
              "dtype: int64"
            ]
          },
          "metadata": {
            "tags": []
          },
          "execution_count": 20
        }
      ]
    },
    {
      "cell_type": "markdown",
      "metadata": {
        "id": "dYLOqCiIC_CR"
      },
      "source": [
        "**MultiIndex sütunlar**"
      ]
    },
    {
      "cell_type": "markdown",
      "metadata": {
        "id": "o7ZDSqCHDZCo"
      },
      "source": [
        "Satırlarda olabildiği gibi sütunlar da çok sayıda olabilir. Şimdi gerçekçi bir sağlık verisini inceleyeceğiz"
      ]
    },
    {
      "cell_type": "code",
      "metadata": {
        "colab": {
          "base_uri": "https://localhost:8080/",
          "height": 225
        },
        "id": "XlIrvycWDxwY",
        "outputId": "0e406d78-2663-497d-c7b0-63285d14d477"
      },
      "source": [
        "# hierarchical indices and columns\r\n",
        "index = pd.MultiIndex.from_product([[2013, 2014], [1, 2]],\r\n",
        "                                   names=['year', 'visit'])\r\n",
        "columns = pd.MultiIndex.from_product([['Bob', 'Guido', 'Sue'], ['HR', 'Temp']],\r\n",
        "                                     names=['subject', 'type'])\r\n",
        "\r\n",
        "# mock some data\r\n",
        "data = np.round(np.random.randn(4, 6), 1)\r\n",
        "data[:, ::2] *= 10\r\n",
        "data += 37\r\n",
        "\r\n",
        "# create the DataFrame\r\n",
        "health_data = pd.DataFrame(data, index=index, columns=columns)\r\n",
        "health_data"
      ],
      "execution_count": null,
      "outputs": [
        {
          "output_type": "execute_result",
          "data": {
            "text/html": [
              "<div>\n",
              "<style scoped>\n",
              "    .dataframe tbody tr th:only-of-type {\n",
              "        vertical-align: middle;\n",
              "    }\n",
              "\n",
              "    .dataframe tbody tr th {\n",
              "        vertical-align: top;\n",
              "    }\n",
              "\n",
              "    .dataframe thead tr th {\n",
              "        text-align: left;\n",
              "    }\n",
              "\n",
              "    .dataframe thead tr:last-of-type th {\n",
              "        text-align: right;\n",
              "    }\n",
              "</style>\n",
              "<table border=\"1\" class=\"dataframe\">\n",
              "  <thead>\n",
              "    <tr>\n",
              "      <th></th>\n",
              "      <th>subject</th>\n",
              "      <th colspan=\"2\" halign=\"left\">Bob</th>\n",
              "      <th colspan=\"2\" halign=\"left\">Guido</th>\n",
              "      <th colspan=\"2\" halign=\"left\">Sue</th>\n",
              "    </tr>\n",
              "    <tr>\n",
              "      <th></th>\n",
              "      <th>type</th>\n",
              "      <th>HR</th>\n",
              "      <th>Temp</th>\n",
              "      <th>HR</th>\n",
              "      <th>Temp</th>\n",
              "      <th>HR</th>\n",
              "      <th>Temp</th>\n",
              "    </tr>\n",
              "    <tr>\n",
              "      <th>year</th>\n",
              "      <th>visit</th>\n",
              "      <th></th>\n",
              "      <th></th>\n",
              "      <th></th>\n",
              "      <th></th>\n",
              "      <th></th>\n",
              "      <th></th>\n",
              "    </tr>\n",
              "  </thead>\n",
              "  <tbody>\n",
              "    <tr>\n",
              "      <th rowspan=\"2\" valign=\"top\">2013</th>\n",
              "      <th>1</th>\n",
              "      <td>36.0</td>\n",
              "      <td>35.8</td>\n",
              "      <td>50.0</td>\n",
              "      <td>36.0</td>\n",
              "      <td>18.0</td>\n",
              "      <td>35.8</td>\n",
              "    </tr>\n",
              "    <tr>\n",
              "      <th>2</th>\n",
              "      <td>36.0</td>\n",
              "      <td>37.1</td>\n",
              "      <td>18.0</td>\n",
              "      <td>36.8</td>\n",
              "      <td>34.0</td>\n",
              "      <td>37.7</td>\n",
              "    </tr>\n",
              "    <tr>\n",
              "      <th rowspan=\"2\" valign=\"top\">2014</th>\n",
              "      <th>1</th>\n",
              "      <td>27.0</td>\n",
              "      <td>37.3</td>\n",
              "      <td>47.0</td>\n",
              "      <td>36.6</td>\n",
              "      <td>37.0</td>\n",
              "      <td>36.1</td>\n",
              "    </tr>\n",
              "    <tr>\n",
              "      <th>2</th>\n",
              "      <td>45.0</td>\n",
              "      <td>36.3</td>\n",
              "      <td>38.0</td>\n",
              "      <td>38.9</td>\n",
              "      <td>37.0</td>\n",
              "      <td>37.8</td>\n",
              "    </tr>\n",
              "  </tbody>\n",
              "</table>\n",
              "</div>"
            ],
            "text/plain": [
              "subject      Bob       Guido         Sue      \n",
              "type          HR  Temp    HR  Temp    HR  Temp\n",
              "year visit                                    \n",
              "2013 1      36.0  35.8  50.0  36.0  18.0  35.8\n",
              "     2      36.0  37.1  18.0  36.8  34.0  37.7\n",
              "2014 1      27.0  37.3  47.0  36.6  37.0  36.1\n",
              "     2      45.0  36.3  38.0  38.9  37.0  37.8"
            ]
          },
          "metadata": {
            "tags": []
          },
          "execution_count": 21
        }
      ]
    },
    {
      "cell_type": "markdown",
      "metadata": {
        "id": "tNZcgVT_D0-i"
      },
      "source": [
        "Veride de gördüğümüz gibi satır ve sütunlar multiindex olabilir. "
      ]
    },
    {
      "cell_type": "code",
      "metadata": {
        "colab": {
          "base_uri": "https://localhost:8080/",
          "height": 195
        },
        "id": "tn4S4WUIEOmb",
        "outputId": "5a414ee0-8514-4a78-e0fc-8585974546d1"
      },
      "source": [
        "health_data['Sue']"
      ],
      "execution_count": null,
      "outputs": [
        {
          "output_type": "execute_result",
          "data": {
            "text/html": [
              "<div>\n",
              "<style scoped>\n",
              "    .dataframe tbody tr th:only-of-type {\n",
              "        vertical-align: middle;\n",
              "    }\n",
              "\n",
              "    .dataframe tbody tr th {\n",
              "        vertical-align: top;\n",
              "    }\n",
              "\n",
              "    .dataframe thead th {\n",
              "        text-align: right;\n",
              "    }\n",
              "</style>\n",
              "<table border=\"1\" class=\"dataframe\">\n",
              "  <thead>\n",
              "    <tr style=\"text-align: right;\">\n",
              "      <th></th>\n",
              "      <th>type</th>\n",
              "      <th>HR</th>\n",
              "      <th>Temp</th>\n",
              "    </tr>\n",
              "    <tr>\n",
              "      <th>year</th>\n",
              "      <th>visit</th>\n",
              "      <th></th>\n",
              "      <th></th>\n",
              "    </tr>\n",
              "  </thead>\n",
              "  <tbody>\n",
              "    <tr>\n",
              "      <th rowspan=\"2\" valign=\"top\">2013</th>\n",
              "      <th>1</th>\n",
              "      <td>18.0</td>\n",
              "      <td>35.8</td>\n",
              "    </tr>\n",
              "    <tr>\n",
              "      <th>2</th>\n",
              "      <td>34.0</td>\n",
              "      <td>37.7</td>\n",
              "    </tr>\n",
              "    <tr>\n",
              "      <th rowspan=\"2\" valign=\"top\">2014</th>\n",
              "      <th>1</th>\n",
              "      <td>37.0</td>\n",
              "      <td>36.1</td>\n",
              "    </tr>\n",
              "    <tr>\n",
              "      <th>2</th>\n",
              "      <td>37.0</td>\n",
              "      <td>37.8</td>\n",
              "    </tr>\n",
              "  </tbody>\n",
              "</table>\n",
              "</div>"
            ],
            "text/plain": [
              "type          HR  Temp\n",
              "year visit            \n",
              "2013 1      18.0  35.8\n",
              "     2      34.0  37.7\n",
              "2014 1      37.0  36.1\n",
              "     2      37.0  37.8"
            ]
          },
          "metadata": {
            "tags": []
          },
          "execution_count": 23
        }
      ]
    },
    {
      "cell_type": "markdown",
      "metadata": {
        "id": "dRf3265mEVEW"
      },
      "source": [
        "##Indexing and Slicing a MultiIndex"
      ]
    },
    {
      "cell_type": "markdown",
      "metadata": {
        "id": "Z9lWpaiSFFwU"
      },
      "source": [
        "###**Multiply indexed Series**"
      ]
    },
    {
      "cell_type": "code",
      "metadata": {
        "colab": {
          "base_uri": "https://localhost:8080/"
        },
        "id": "u-Gf4XLhET_4",
        "outputId": "b7b621f4-62f7-4f12-d209-41ec982a2cb6"
      },
      "source": [
        "pop"
      ],
      "execution_count": null,
      "outputs": [
        {
          "output_type": "execute_result",
          "data": {
            "text/plain": [
              "state       year\n",
              "California  2000    33871648\n",
              "            2010    37253956\n",
              "New York    2000    18976457\n",
              "            2010    19378102\n",
              "Texas       2000    20851820\n",
              "            2010    25145561\n",
              "dtype: int64"
            ]
          },
          "metadata": {
            "tags": []
          },
          "execution_count": 31
        }
      ]
    },
    {
      "cell_type": "code",
      "metadata": {
        "colab": {
          "base_uri": "https://localhost:8080/"
        },
        "id": "NlX6r3bAEhBp",
        "outputId": "c5defeef-d03e-4d82-983a-a0a6f7c308d5"
      },
      "source": [
        "pop['California', 2000]"
      ],
      "execution_count": null,
      "outputs": [
        {
          "output_type": "execute_result",
          "data": {
            "text/plain": [
              "33871648"
            ]
          },
          "metadata": {
            "tags": []
          },
          "execution_count": 25
        }
      ]
    },
    {
      "cell_type": "code",
      "metadata": {
        "colab": {
          "base_uri": "https://localhost:8080/"
        },
        "id": "GdIuvq_HElnS",
        "outputId": "ce0e954b-87df-47aa-ba64-a84cc220674c"
      },
      "source": [
        "pop['California']"
      ],
      "execution_count": null,
      "outputs": [
        {
          "output_type": "execute_result",
          "data": {
            "text/plain": [
              "year\n",
              "2000    33871648\n",
              "2010    37253956\n",
              "dtype: int64"
            ]
          },
          "metadata": {
            "tags": []
          },
          "execution_count": 26
        }
      ]
    },
    {
      "cell_type": "code",
      "metadata": {
        "colab": {
          "base_uri": "https://localhost:8080/"
        },
        "id": "AJi2KMKeEoTX",
        "outputId": "266c8a03-973b-4615-b940-f84588c22d1f"
      },
      "source": [
        "pop.loc['California':'New York']"
      ],
      "execution_count": null,
      "outputs": [
        {
          "output_type": "execute_result",
          "data": {
            "text/plain": [
              "state       year\n",
              "California  2000    33871648\n",
              "            2010    37253956\n",
              "New York    2000    18976457\n",
              "            2010    19378102\n",
              "dtype: int64"
            ]
          },
          "metadata": {
            "tags": []
          },
          "execution_count": 27
        }
      ]
    },
    {
      "cell_type": "code",
      "metadata": {
        "colab": {
          "base_uri": "https://localhost:8080/"
        },
        "id": "w3y-Gtu4E07I",
        "outputId": "fae12376-1f73-4fe2-8611-301c6eee53a2"
      },
      "source": [
        "pop[:, 2000]"
      ],
      "execution_count": null,
      "outputs": [
        {
          "output_type": "execute_result",
          "data": {
            "text/plain": [
              "state\n",
              "California    33871648\n",
              "New York      18976457\n",
              "Texas         20851820\n",
              "dtype: int64"
            ]
          },
          "metadata": {
            "tags": []
          },
          "execution_count": 28
        }
      ]
    },
    {
      "cell_type": "code",
      "metadata": {
        "colab": {
          "base_uri": "https://localhost:8080/"
        },
        "id": "PBqewREJE4Yo",
        "outputId": "5673bad2-1034-4c14-ffcd-400f12dbc8c4"
      },
      "source": [
        "pop[pop > 22000000]"
      ],
      "execution_count": null,
      "outputs": [
        {
          "output_type": "execute_result",
          "data": {
            "text/plain": [
              "state       year\n",
              "California  2000    33871648\n",
              "            2010    37253956\n",
              "Texas       2010    25145561\n",
              "dtype: int64"
            ]
          },
          "metadata": {
            "tags": []
          },
          "execution_count": 29
        }
      ]
    },
    {
      "cell_type": "markdown",
      "metadata": {
        "id": "mMVfkNsHE80c"
      },
      "source": [
        "###**Multiply indexed DataFrames**"
      ]
    },
    {
      "cell_type": "code",
      "metadata": {
        "colab": {
          "base_uri": "https://localhost:8080/",
          "height": 225
        },
        "id": "8jCgqEpgFaxJ",
        "outputId": "75189187-4f7d-4c3c-9b45-7a45751c2cf3"
      },
      "source": [
        "health_data"
      ],
      "execution_count": null,
      "outputs": [
        {
          "output_type": "execute_result",
          "data": {
            "text/html": [
              "<div>\n",
              "<style scoped>\n",
              "    .dataframe tbody tr th:only-of-type {\n",
              "        vertical-align: middle;\n",
              "    }\n",
              "\n",
              "    .dataframe tbody tr th {\n",
              "        vertical-align: top;\n",
              "    }\n",
              "\n",
              "    .dataframe thead tr th {\n",
              "        text-align: left;\n",
              "    }\n",
              "\n",
              "    .dataframe thead tr:last-of-type th {\n",
              "        text-align: right;\n",
              "    }\n",
              "</style>\n",
              "<table border=\"1\" class=\"dataframe\">\n",
              "  <thead>\n",
              "    <tr>\n",
              "      <th></th>\n",
              "      <th>subject</th>\n",
              "      <th colspan=\"2\" halign=\"left\">Bob</th>\n",
              "      <th colspan=\"2\" halign=\"left\">Guido</th>\n",
              "      <th colspan=\"2\" halign=\"left\">Sue</th>\n",
              "    </tr>\n",
              "    <tr>\n",
              "      <th></th>\n",
              "      <th>type</th>\n",
              "      <th>HR</th>\n",
              "      <th>Temp</th>\n",
              "      <th>HR</th>\n",
              "      <th>Temp</th>\n",
              "      <th>HR</th>\n",
              "      <th>Temp</th>\n",
              "    </tr>\n",
              "    <tr>\n",
              "      <th>year</th>\n",
              "      <th>visit</th>\n",
              "      <th></th>\n",
              "      <th></th>\n",
              "      <th></th>\n",
              "      <th></th>\n",
              "      <th></th>\n",
              "      <th></th>\n",
              "    </tr>\n",
              "  </thead>\n",
              "  <tbody>\n",
              "    <tr>\n",
              "      <th rowspan=\"2\" valign=\"top\">2013</th>\n",
              "      <th>1</th>\n",
              "      <td>36.0</td>\n",
              "      <td>35.8</td>\n",
              "      <td>50.0</td>\n",
              "      <td>36.0</td>\n",
              "      <td>18.0</td>\n",
              "      <td>35.8</td>\n",
              "    </tr>\n",
              "    <tr>\n",
              "      <th>2</th>\n",
              "      <td>36.0</td>\n",
              "      <td>37.1</td>\n",
              "      <td>18.0</td>\n",
              "      <td>36.8</td>\n",
              "      <td>34.0</td>\n",
              "      <td>37.7</td>\n",
              "    </tr>\n",
              "    <tr>\n",
              "      <th rowspan=\"2\" valign=\"top\">2014</th>\n",
              "      <th>1</th>\n",
              "      <td>27.0</td>\n",
              "      <td>37.3</td>\n",
              "      <td>47.0</td>\n",
              "      <td>36.6</td>\n",
              "      <td>37.0</td>\n",
              "      <td>36.1</td>\n",
              "    </tr>\n",
              "    <tr>\n",
              "      <th>2</th>\n",
              "      <td>45.0</td>\n",
              "      <td>36.3</td>\n",
              "      <td>38.0</td>\n",
              "      <td>38.9</td>\n",
              "      <td>37.0</td>\n",
              "      <td>37.8</td>\n",
              "    </tr>\n",
              "  </tbody>\n",
              "</table>\n",
              "</div>"
            ],
            "text/plain": [
              "subject      Bob       Guido         Sue      \n",
              "type          HR  Temp    HR  Temp    HR  Temp\n",
              "year visit                                    \n",
              "2013 1      36.0  35.8  50.0  36.0  18.0  35.8\n",
              "     2      36.0  37.1  18.0  36.8  34.0  37.7\n",
              "2014 1      27.0  37.3  47.0  36.6  37.0  36.1\n",
              "     2      45.0  36.3  38.0  38.9  37.0  37.8"
            ]
          },
          "metadata": {
            "tags": []
          },
          "execution_count": 32
        }
      ]
    },
    {
      "cell_type": "code",
      "metadata": {
        "colab": {
          "base_uri": "https://localhost:8080/"
        },
        "id": "ZGOJ4qtEFc6R",
        "outputId": "abfec46c-1aae-4685-fc5c-66f440aa9638"
      },
      "source": [
        "health_data['Guido', 'HR']"
      ],
      "execution_count": null,
      "outputs": [
        {
          "output_type": "execute_result",
          "data": {
            "text/plain": [
              "year  visit\n",
              "2013  1        50.0\n",
              "      2        18.0\n",
              "2014  1        47.0\n",
              "      2        38.0\n",
              "Name: (Guido, HR), dtype: float64"
            ]
          },
          "metadata": {
            "tags": []
          },
          "execution_count": 33
        }
      ]
    },
    {
      "cell_type": "code",
      "metadata": {
        "colab": {
          "base_uri": "https://localhost:8080/",
          "height": 166
        },
        "id": "TN0MSwkOFhs1",
        "outputId": "7e0b238c-9bfd-4134-8a5b-6d36ad55575e"
      },
      "source": [
        "health_data.iloc[:2, :2]"
      ],
      "execution_count": null,
      "outputs": [
        {
          "output_type": "execute_result",
          "data": {
            "text/html": [
              "<div>\n",
              "<style scoped>\n",
              "    .dataframe tbody tr th:only-of-type {\n",
              "        vertical-align: middle;\n",
              "    }\n",
              "\n",
              "    .dataframe tbody tr th {\n",
              "        vertical-align: top;\n",
              "    }\n",
              "\n",
              "    .dataframe thead tr th {\n",
              "        text-align: left;\n",
              "    }\n",
              "\n",
              "    .dataframe thead tr:last-of-type th {\n",
              "        text-align: right;\n",
              "    }\n",
              "</style>\n",
              "<table border=\"1\" class=\"dataframe\">\n",
              "  <thead>\n",
              "    <tr>\n",
              "      <th></th>\n",
              "      <th>subject</th>\n",
              "      <th colspan=\"2\" halign=\"left\">Bob</th>\n",
              "    </tr>\n",
              "    <tr>\n",
              "      <th></th>\n",
              "      <th>type</th>\n",
              "      <th>HR</th>\n",
              "      <th>Temp</th>\n",
              "    </tr>\n",
              "    <tr>\n",
              "      <th>year</th>\n",
              "      <th>visit</th>\n",
              "      <th></th>\n",
              "      <th></th>\n",
              "    </tr>\n",
              "  </thead>\n",
              "  <tbody>\n",
              "    <tr>\n",
              "      <th rowspan=\"2\" valign=\"top\">2013</th>\n",
              "      <th>1</th>\n",
              "      <td>36.0</td>\n",
              "      <td>35.8</td>\n",
              "    </tr>\n",
              "    <tr>\n",
              "      <th>2</th>\n",
              "      <td>36.0</td>\n",
              "      <td>37.1</td>\n",
              "    </tr>\n",
              "  </tbody>\n",
              "</table>\n",
              "</div>"
            ],
            "text/plain": [
              "subject      Bob      \n",
              "type          HR  Temp\n",
              "year visit            \n",
              "2013 1      36.0  35.8\n",
              "     2      36.0  37.1"
            ]
          },
          "metadata": {
            "tags": []
          },
          "execution_count": 37
        }
      ]
    },
    {
      "cell_type": "code",
      "metadata": {
        "colab": {
          "base_uri": "https://localhost:8080/"
        },
        "id": "8FuwEZsmFpjN",
        "outputId": "7080d667-7152-4831-c4e5-86a05d25b202"
      },
      "source": [
        "health_data.loc[:, ('Bob', 'HR')]"
      ],
      "execution_count": null,
      "outputs": [
        {
          "output_type": "execute_result",
          "data": {
            "text/plain": [
              "year  visit\n",
              "2013  1        36.0\n",
              "      2        36.0\n",
              "2014  1        27.0\n",
              "      2        45.0\n",
              "Name: (Bob, HR), dtype: float64"
            ]
          },
          "metadata": {
            "tags": []
          },
          "execution_count": 38
        }
      ]
    },
    {
      "cell_type": "markdown",
      "metadata": {
        "id": "Or5J2p-NGJia"
      },
      "source": [
        "##Rearranging Multi-Indices"
      ]
    },
    {
      "cell_type": "markdown",
      "metadata": {
        "id": "39cE486qGWRH"
      },
      "source": [
        "###**Sorted and unsorted indices**"
      ]
    },
    {
      "cell_type": "code",
      "metadata": {
        "colab": {
          "base_uri": "https://localhost:8080/"
        },
        "id": "KSDcsv3HGh27",
        "outputId": "7153eec0-aeda-4fc9-8b14-c4de4852a702"
      },
      "source": [
        "index = pd.MultiIndex.from_product([['a', 'c', 'b'], [1, 2]])\r\n",
        "data = pd.Series(np.random.rand(6), index=index)\r\n",
        "data.index.names = ['char', 'int']\r\n",
        "data"
      ],
      "execution_count": null,
      "outputs": [
        {
          "output_type": "execute_result",
          "data": {
            "text/plain": [
              "char  int\n",
              "a     1      0.442025\n",
              "      2      0.074383\n",
              "c     1      0.085659\n",
              "      2      0.024405\n",
              "b     1      0.525692\n",
              "      2      0.558065\n",
              "dtype: float64"
            ]
          },
          "metadata": {
            "tags": []
          },
          "execution_count": 39
        }
      ]
    },
    {
      "cell_type": "markdown",
      "metadata": {
        "id": "Cu3z-LXSGnLI"
      },
      "source": [
        "Bu veride slicing işlemi yapacakken hata alırız"
      ]
    },
    {
      "cell_type": "code",
      "metadata": {
        "colab": {
          "base_uri": "https://localhost:8080/"
        },
        "id": "yzBzTh3dG6tc",
        "outputId": "5371ad4c-a98b-421f-8853-30b14bd13dd3"
      },
      "source": [
        "try:\r\n",
        "    data['a':'b']\r\n",
        "except KeyError as e:\r\n",
        "    print(type(e))\r\n",
        "    print(e)"
      ],
      "execution_count": null,
      "outputs": [
        {
          "output_type": "stream",
          "text": [
            "<class 'pandas.errors.UnsortedIndexError'>\n",
            "'Key length (1) was greater than MultiIndex lexsort depth (0)'\n"
          ],
          "name": "stdout"
        }
      ]
    },
    {
      "cell_type": "markdown",
      "metadata": {
        "id": "JFaSHRSgG92r"
      },
      "source": [
        "Hata mesajından tam olarak anlaşılmasa da, bu MultiIndex'in sıralanmamış olmasının sonucudur. Çeşitli nedenlerden dolayı, kısmi dilimler ve diğer benzer işlemler, içindeki seviyelerin MultiIndexsıralı (yani sözlü) sırada olmasını gerektirir. Bunun için sort_index(), sortlevel() veya sortindex() kullanabiliriz."
      ]
    },
    {
      "cell_type": "code",
      "metadata": {
        "colab": {
          "base_uri": "https://localhost:8080/"
        },
        "id": "xJPu9JKEHMny",
        "outputId": "f3262dfc-8f59-4268-d87b-4b207ebe0435"
      },
      "source": [
        "data = data.sort_index()\r\n",
        "data"
      ],
      "execution_count": null,
      "outputs": [
        {
          "output_type": "execute_result",
          "data": {
            "text/plain": [
              "char  int\n",
              "a     1      0.442025\n",
              "      2      0.074383\n",
              "b     1      0.525692\n",
              "      2      0.558065\n",
              "c     1      0.085659\n",
              "      2      0.024405\n",
              "dtype: float64"
            ]
          },
          "metadata": {
            "tags": []
          },
          "execution_count": 41
        }
      ]
    },
    {
      "cell_type": "code",
      "metadata": {
        "colab": {
          "base_uri": "https://localhost:8080/"
        },
        "id": "p5uyrV7DHPor",
        "outputId": "921d1d6c-31ad-4347-e3b0-1ee36ed213c1"
      },
      "source": [
        "data['a':'b']"
      ],
      "execution_count": null,
      "outputs": [
        {
          "output_type": "execute_result",
          "data": {
            "text/plain": [
              "char  int\n",
              "a     1      0.442025\n",
              "      2      0.074383\n",
              "b     1      0.525692\n",
              "      2      0.558065\n",
              "dtype: float64"
            ]
          },
          "metadata": {
            "tags": []
          },
          "execution_count": 42
        }
      ]
    },
    {
      "cell_type": "markdown",
      "metadata": {
        "id": "UTL27ysrHTiK"
      },
      "source": [
        "###Stacking and unstacking indices"
      ]
    },
    {
      "cell_type": "code",
      "metadata": {
        "colab": {
          "base_uri": "https://localhost:8080/",
          "height": 136
        },
        "id": "e984hxDWHoZF",
        "outputId": "a2d9941c-95ea-4862-e5cd-8802a90f785f"
      },
      "source": [
        "pop.unstack(level=0)"
      ],
      "execution_count": null,
      "outputs": [
        {
          "output_type": "execute_result",
          "data": {
            "text/html": [
              "<div>\n",
              "<style scoped>\n",
              "    .dataframe tbody tr th:only-of-type {\n",
              "        vertical-align: middle;\n",
              "    }\n",
              "\n",
              "    .dataframe tbody tr th {\n",
              "        vertical-align: top;\n",
              "    }\n",
              "\n",
              "    .dataframe thead th {\n",
              "        text-align: right;\n",
              "    }\n",
              "</style>\n",
              "<table border=\"1\" class=\"dataframe\">\n",
              "  <thead>\n",
              "    <tr style=\"text-align: right;\">\n",
              "      <th>state</th>\n",
              "      <th>California</th>\n",
              "      <th>New York</th>\n",
              "      <th>Texas</th>\n",
              "    </tr>\n",
              "    <tr>\n",
              "      <th>year</th>\n",
              "      <th></th>\n",
              "      <th></th>\n",
              "      <th></th>\n",
              "    </tr>\n",
              "  </thead>\n",
              "  <tbody>\n",
              "    <tr>\n",
              "      <th>2000</th>\n",
              "      <td>33871648</td>\n",
              "      <td>18976457</td>\n",
              "      <td>20851820</td>\n",
              "    </tr>\n",
              "    <tr>\n",
              "      <th>2010</th>\n",
              "      <td>37253956</td>\n",
              "      <td>19378102</td>\n",
              "      <td>25145561</td>\n",
              "    </tr>\n",
              "  </tbody>\n",
              "</table>\n",
              "</div>"
            ],
            "text/plain": [
              "state  California  New York     Texas\n",
              "year                                 \n",
              "2000     33871648  18976457  20851820\n",
              "2010     37253956  19378102  25145561"
            ]
          },
          "metadata": {
            "tags": []
          },
          "execution_count": 43
        }
      ]
    },
    {
      "cell_type": "code",
      "metadata": {
        "colab": {
          "base_uri": "https://localhost:8080/",
          "height": 166
        },
        "id": "Yc18---wHrTQ",
        "outputId": "ba54a00e-a0f0-4550-dcb1-e91e14efb38e"
      },
      "source": [
        "pop.unstack(level=1)"
      ],
      "execution_count": null,
      "outputs": [
        {
          "output_type": "execute_result",
          "data": {
            "text/html": [
              "<div>\n",
              "<style scoped>\n",
              "    .dataframe tbody tr th:only-of-type {\n",
              "        vertical-align: middle;\n",
              "    }\n",
              "\n",
              "    .dataframe tbody tr th {\n",
              "        vertical-align: top;\n",
              "    }\n",
              "\n",
              "    .dataframe thead th {\n",
              "        text-align: right;\n",
              "    }\n",
              "</style>\n",
              "<table border=\"1\" class=\"dataframe\">\n",
              "  <thead>\n",
              "    <tr style=\"text-align: right;\">\n",
              "      <th>year</th>\n",
              "      <th>2000</th>\n",
              "      <th>2010</th>\n",
              "    </tr>\n",
              "    <tr>\n",
              "      <th>state</th>\n",
              "      <th></th>\n",
              "      <th></th>\n",
              "    </tr>\n",
              "  </thead>\n",
              "  <tbody>\n",
              "    <tr>\n",
              "      <th>California</th>\n",
              "      <td>33871648</td>\n",
              "      <td>37253956</td>\n",
              "    </tr>\n",
              "    <tr>\n",
              "      <th>New York</th>\n",
              "      <td>18976457</td>\n",
              "      <td>19378102</td>\n",
              "    </tr>\n",
              "    <tr>\n",
              "      <th>Texas</th>\n",
              "      <td>20851820</td>\n",
              "      <td>25145561</td>\n",
              "    </tr>\n",
              "  </tbody>\n",
              "</table>\n",
              "</div>"
            ],
            "text/plain": [
              "year            2000      2010\n",
              "state                         \n",
              "California  33871648  37253956\n",
              "New York    18976457  19378102\n",
              "Texas       20851820  25145561"
            ]
          },
          "metadata": {
            "tags": []
          },
          "execution_count": 44
        }
      ]
    },
    {
      "cell_type": "markdown",
      "metadata": {
        "id": "rTfiQRpVH2Je"
      },
      "source": [
        "###Index setting and resetting"
      ]
    },
    {
      "cell_type": "markdown",
      "metadata": {
        "id": "JUTiWBGrIGDF"
      },
      "source": [
        "Hiyerarşik verileri yeniden düzenlemenin bir başka yolu da dizin etiketlerini sütunlara dönüştürmektir. Bunun için reset_index() methodu kullanılabilir."
      ]
    },
    {
      "cell_type": "code",
      "metadata": {
        "colab": {
          "base_uri": "https://localhost:8080/",
          "height": 225
        },
        "id": "ruRo8aGDIUdb",
        "outputId": "ea84ca5c-f209-494a-c983-7ddc260d156a"
      },
      "source": [
        "pop_flat = pop.reset_index(name='population')\r\n",
        "pop_flat"
      ],
      "execution_count": null,
      "outputs": [
        {
          "output_type": "execute_result",
          "data": {
            "text/html": [
              "<div>\n",
              "<style scoped>\n",
              "    .dataframe tbody tr th:only-of-type {\n",
              "        vertical-align: middle;\n",
              "    }\n",
              "\n",
              "    .dataframe tbody tr th {\n",
              "        vertical-align: top;\n",
              "    }\n",
              "\n",
              "    .dataframe thead th {\n",
              "        text-align: right;\n",
              "    }\n",
              "</style>\n",
              "<table border=\"1\" class=\"dataframe\">\n",
              "  <thead>\n",
              "    <tr style=\"text-align: right;\">\n",
              "      <th></th>\n",
              "      <th>state</th>\n",
              "      <th>year</th>\n",
              "      <th>population</th>\n",
              "    </tr>\n",
              "  </thead>\n",
              "  <tbody>\n",
              "    <tr>\n",
              "      <th>0</th>\n",
              "      <td>California</td>\n",
              "      <td>2000</td>\n",
              "      <td>33871648</td>\n",
              "    </tr>\n",
              "    <tr>\n",
              "      <th>1</th>\n",
              "      <td>California</td>\n",
              "      <td>2010</td>\n",
              "      <td>37253956</td>\n",
              "    </tr>\n",
              "    <tr>\n",
              "      <th>2</th>\n",
              "      <td>New York</td>\n",
              "      <td>2000</td>\n",
              "      <td>18976457</td>\n",
              "    </tr>\n",
              "    <tr>\n",
              "      <th>3</th>\n",
              "      <td>New York</td>\n",
              "      <td>2010</td>\n",
              "      <td>19378102</td>\n",
              "    </tr>\n",
              "    <tr>\n",
              "      <th>4</th>\n",
              "      <td>Texas</td>\n",
              "      <td>2000</td>\n",
              "      <td>20851820</td>\n",
              "    </tr>\n",
              "    <tr>\n",
              "      <th>5</th>\n",
              "      <td>Texas</td>\n",
              "      <td>2010</td>\n",
              "      <td>25145561</td>\n",
              "    </tr>\n",
              "  </tbody>\n",
              "</table>\n",
              "</div>"
            ],
            "text/plain": [
              "        state  year  population\n",
              "0  California  2000    33871648\n",
              "1  California  2010    37253956\n",
              "2    New York  2000    18976457\n",
              "3    New York  2010    19378102\n",
              "4       Texas  2000    20851820\n",
              "5       Texas  2010    25145561"
            ]
          },
          "metadata": {
            "tags": []
          },
          "execution_count": 45
        }
      ]
    },
    {
      "cell_type": "code",
      "metadata": {
        "colab": {
          "base_uri": "https://localhost:8080/",
          "height": 254
        },
        "id": "N-ombMyxIWfP",
        "outputId": "35011edc-50be-4fc9-b4c0-06f9866511ba"
      },
      "source": [
        "pop_flat.set_index(['state', 'year'])"
      ],
      "execution_count": null,
      "outputs": [
        {
          "output_type": "execute_result",
          "data": {
            "text/html": [
              "<div>\n",
              "<style scoped>\n",
              "    .dataframe tbody tr th:only-of-type {\n",
              "        vertical-align: middle;\n",
              "    }\n",
              "\n",
              "    .dataframe tbody tr th {\n",
              "        vertical-align: top;\n",
              "    }\n",
              "\n",
              "    .dataframe thead th {\n",
              "        text-align: right;\n",
              "    }\n",
              "</style>\n",
              "<table border=\"1\" class=\"dataframe\">\n",
              "  <thead>\n",
              "    <tr style=\"text-align: right;\">\n",
              "      <th></th>\n",
              "      <th></th>\n",
              "      <th>population</th>\n",
              "    </tr>\n",
              "    <tr>\n",
              "      <th>state</th>\n",
              "      <th>year</th>\n",
              "      <th></th>\n",
              "    </tr>\n",
              "  </thead>\n",
              "  <tbody>\n",
              "    <tr>\n",
              "      <th rowspan=\"2\" valign=\"top\">California</th>\n",
              "      <th>2000</th>\n",
              "      <td>33871648</td>\n",
              "    </tr>\n",
              "    <tr>\n",
              "      <th>2010</th>\n",
              "      <td>37253956</td>\n",
              "    </tr>\n",
              "    <tr>\n",
              "      <th rowspan=\"2\" valign=\"top\">New York</th>\n",
              "      <th>2000</th>\n",
              "      <td>18976457</td>\n",
              "    </tr>\n",
              "    <tr>\n",
              "      <th>2010</th>\n",
              "      <td>19378102</td>\n",
              "    </tr>\n",
              "    <tr>\n",
              "      <th rowspan=\"2\" valign=\"top\">Texas</th>\n",
              "      <th>2000</th>\n",
              "      <td>20851820</td>\n",
              "    </tr>\n",
              "    <tr>\n",
              "      <th>2010</th>\n",
              "      <td>25145561</td>\n",
              "    </tr>\n",
              "  </tbody>\n",
              "</table>\n",
              "</div>"
            ],
            "text/plain": [
              "                 population\n",
              "state      year            \n",
              "California 2000    33871648\n",
              "           2010    37253956\n",
              "New York   2000    18976457\n",
              "           2010    19378102\n",
              "Texas      2000    20851820\n",
              "           2010    25145561"
            ]
          },
          "metadata": {
            "tags": []
          },
          "execution_count": 46
        }
      ]
    },
    {
      "cell_type": "markdown",
      "metadata": {
        "id": "0kn-cmM2IcpL"
      },
      "source": [
        "##Data Aggregations on Multi-Indices"
      ]
    },
    {
      "cell_type": "markdown",
      "metadata": {
        "id": "eW70pLsdIxjA"
      },
      "source": [
        "Daha önce mean(),sum() ve max() gibi methodların Data Aggregations için kullanıldığını gördük. Şimdi verilerin alt kümelerinde bu methodların nasıl kullanıldığını bulmak için level yöntemini kullanacağız"
      ]
    },
    {
      "cell_type": "code",
      "metadata": {
        "colab": {
          "base_uri": "https://localhost:8080/",
          "height": 225
        },
        "id": "-p3AF23SJam7",
        "outputId": "808de8dd-9dab-4eb6-f698-fe344c9de310"
      },
      "source": [
        "health_data"
      ],
      "execution_count": null,
      "outputs": [
        {
          "output_type": "execute_result",
          "data": {
            "text/html": [
              "<div>\n",
              "<style scoped>\n",
              "    .dataframe tbody tr th:only-of-type {\n",
              "        vertical-align: middle;\n",
              "    }\n",
              "\n",
              "    .dataframe tbody tr th {\n",
              "        vertical-align: top;\n",
              "    }\n",
              "\n",
              "    .dataframe thead tr th {\n",
              "        text-align: left;\n",
              "    }\n",
              "\n",
              "    .dataframe thead tr:last-of-type th {\n",
              "        text-align: right;\n",
              "    }\n",
              "</style>\n",
              "<table border=\"1\" class=\"dataframe\">\n",
              "  <thead>\n",
              "    <tr>\n",
              "      <th></th>\n",
              "      <th>subject</th>\n",
              "      <th colspan=\"2\" halign=\"left\">Bob</th>\n",
              "      <th colspan=\"2\" halign=\"left\">Guido</th>\n",
              "      <th colspan=\"2\" halign=\"left\">Sue</th>\n",
              "    </tr>\n",
              "    <tr>\n",
              "      <th></th>\n",
              "      <th>type</th>\n",
              "      <th>HR</th>\n",
              "      <th>Temp</th>\n",
              "      <th>HR</th>\n",
              "      <th>Temp</th>\n",
              "      <th>HR</th>\n",
              "      <th>Temp</th>\n",
              "    </tr>\n",
              "    <tr>\n",
              "      <th>year</th>\n",
              "      <th>visit</th>\n",
              "      <th></th>\n",
              "      <th></th>\n",
              "      <th></th>\n",
              "      <th></th>\n",
              "      <th></th>\n",
              "      <th></th>\n",
              "    </tr>\n",
              "  </thead>\n",
              "  <tbody>\n",
              "    <tr>\n",
              "      <th rowspan=\"2\" valign=\"top\">2013</th>\n",
              "      <th>1</th>\n",
              "      <td>36.0</td>\n",
              "      <td>35.8</td>\n",
              "      <td>50.0</td>\n",
              "      <td>36.0</td>\n",
              "      <td>18.0</td>\n",
              "      <td>35.8</td>\n",
              "    </tr>\n",
              "    <tr>\n",
              "      <th>2</th>\n",
              "      <td>36.0</td>\n",
              "      <td>37.1</td>\n",
              "      <td>18.0</td>\n",
              "      <td>36.8</td>\n",
              "      <td>34.0</td>\n",
              "      <td>37.7</td>\n",
              "    </tr>\n",
              "    <tr>\n",
              "      <th rowspan=\"2\" valign=\"top\">2014</th>\n",
              "      <th>1</th>\n",
              "      <td>27.0</td>\n",
              "      <td>37.3</td>\n",
              "      <td>47.0</td>\n",
              "      <td>36.6</td>\n",
              "      <td>37.0</td>\n",
              "      <td>36.1</td>\n",
              "    </tr>\n",
              "    <tr>\n",
              "      <th>2</th>\n",
              "      <td>45.0</td>\n",
              "      <td>36.3</td>\n",
              "      <td>38.0</td>\n",
              "      <td>38.9</td>\n",
              "      <td>37.0</td>\n",
              "      <td>37.8</td>\n",
              "    </tr>\n",
              "  </tbody>\n",
              "</table>\n",
              "</div>"
            ],
            "text/plain": [
              "subject      Bob       Guido         Sue      \n",
              "type          HR  Temp    HR  Temp    HR  Temp\n",
              "year visit                                    \n",
              "2013 1      36.0  35.8  50.0  36.0  18.0  35.8\n",
              "     2      36.0  37.1  18.0  36.8  34.0  37.7\n",
              "2014 1      27.0  37.3  47.0  36.6  37.0  36.1\n",
              "     2      45.0  36.3  38.0  38.9  37.0  37.8"
            ]
          },
          "metadata": {
            "tags": []
          },
          "execution_count": 48
        }
      ]
    },
    {
      "cell_type": "code",
      "metadata": {
        "colab": {
          "base_uri": "https://localhost:8080/",
          "height": 166
        },
        "id": "zShSn3hUJcQf",
        "outputId": "29ddbaf2-c0ae-4251-b5f0-d89af84079b8"
      },
      "source": [
        "data_mean = health_data.mean(level='year')\r\n",
        "data_mean"
      ],
      "execution_count": null,
      "outputs": [
        {
          "output_type": "execute_result",
          "data": {
            "text/html": [
              "<div>\n",
              "<style scoped>\n",
              "    .dataframe tbody tr th:only-of-type {\n",
              "        vertical-align: middle;\n",
              "    }\n",
              "\n",
              "    .dataframe tbody tr th {\n",
              "        vertical-align: top;\n",
              "    }\n",
              "\n",
              "    .dataframe thead tr th {\n",
              "        text-align: left;\n",
              "    }\n",
              "\n",
              "    .dataframe thead tr:last-of-type th {\n",
              "        text-align: right;\n",
              "    }\n",
              "</style>\n",
              "<table border=\"1\" class=\"dataframe\">\n",
              "  <thead>\n",
              "    <tr>\n",
              "      <th>subject</th>\n",
              "      <th colspan=\"2\" halign=\"left\">Bob</th>\n",
              "      <th colspan=\"2\" halign=\"left\">Guido</th>\n",
              "      <th colspan=\"2\" halign=\"left\">Sue</th>\n",
              "    </tr>\n",
              "    <tr>\n",
              "      <th>type</th>\n",
              "      <th>HR</th>\n",
              "      <th>Temp</th>\n",
              "      <th>HR</th>\n",
              "      <th>Temp</th>\n",
              "      <th>HR</th>\n",
              "      <th>Temp</th>\n",
              "    </tr>\n",
              "    <tr>\n",
              "      <th>year</th>\n",
              "      <th></th>\n",
              "      <th></th>\n",
              "      <th></th>\n",
              "      <th></th>\n",
              "      <th></th>\n",
              "      <th></th>\n",
              "    </tr>\n",
              "  </thead>\n",
              "  <tbody>\n",
              "    <tr>\n",
              "      <th>2013</th>\n",
              "      <td>36.0</td>\n",
              "      <td>36.45</td>\n",
              "      <td>34.0</td>\n",
              "      <td>36.40</td>\n",
              "      <td>26.0</td>\n",
              "      <td>36.75</td>\n",
              "    </tr>\n",
              "    <tr>\n",
              "      <th>2014</th>\n",
              "      <td>36.0</td>\n",
              "      <td>36.80</td>\n",
              "      <td>42.5</td>\n",
              "      <td>37.75</td>\n",
              "      <td>37.0</td>\n",
              "      <td>36.95</td>\n",
              "    </tr>\n",
              "  </tbody>\n",
              "</table>\n",
              "</div>"
            ],
            "text/plain": [
              "subject   Bob        Guido          Sue       \n",
              "type       HR   Temp    HR   Temp    HR   Temp\n",
              "year                                          \n",
              "2013     36.0  36.45  34.0  36.40  26.0  36.75\n",
              "2014     36.0  36.80  42.5  37.75  37.0  36.95"
            ]
          },
          "metadata": {
            "tags": []
          },
          "execution_count": 49
        }
      ]
    },
    {
      "cell_type": "markdown",
      "metadata": {
        "id": "U52hT_21ukeZ"
      },
      "source": [
        "#Combining Datasets: Concat and Append"
      ]
    },
    {
      "cell_type": "code",
      "metadata": {
        "colab": {
          "base_uri": "https://localhost:8080/",
          "height": 136
        },
        "id": "6Rvxx9eEuuC3",
        "outputId": "4686a954-51fb-4d74-c81c-7e21310a4120"
      },
      "source": [
        "def make_df(cols, ind):\r\n",
        "    \"\"\"Quickly make a DataFrame\"\"\"\r\n",
        "    data = {c: [str(c) + str(i) for i in ind]\r\n",
        "            for c in cols}\r\n",
        "    return pd.DataFrame(data, ind)\r\n",
        "\r\n",
        "# example DataFrame\r\n",
        "make_df('ABC', range(3))"
      ],
      "execution_count": null,
      "outputs": [
        {
          "output_type": "execute_result",
          "data": {
            "text/html": [
              "<div>\n",
              "<style scoped>\n",
              "    .dataframe tbody tr th:only-of-type {\n",
              "        vertical-align: middle;\n",
              "    }\n",
              "\n",
              "    .dataframe tbody tr th {\n",
              "        vertical-align: top;\n",
              "    }\n",
              "\n",
              "    .dataframe thead th {\n",
              "        text-align: right;\n",
              "    }\n",
              "</style>\n",
              "<table border=\"1\" class=\"dataframe\">\n",
              "  <thead>\n",
              "    <tr style=\"text-align: right;\">\n",
              "      <th></th>\n",
              "      <th>A</th>\n",
              "      <th>B</th>\n",
              "      <th>C</th>\n",
              "    </tr>\n",
              "  </thead>\n",
              "  <tbody>\n",
              "    <tr>\n",
              "      <th>0</th>\n",
              "      <td>A0</td>\n",
              "      <td>B0</td>\n",
              "      <td>C0</td>\n",
              "    </tr>\n",
              "    <tr>\n",
              "      <th>1</th>\n",
              "      <td>A1</td>\n",
              "      <td>B1</td>\n",
              "      <td>C1</td>\n",
              "    </tr>\n",
              "    <tr>\n",
              "      <th>2</th>\n",
              "      <td>A2</td>\n",
              "      <td>B2</td>\n",
              "      <td>C2</td>\n",
              "    </tr>\n",
              "  </tbody>\n",
              "</table>\n",
              "</div>"
            ],
            "text/plain": [
              "    A   B   C\n",
              "0  A0  B0  C0\n",
              "1  A1  B1  C1\n",
              "2  A2  B2  C2"
            ]
          },
          "metadata": {
            "tags": []
          },
          "execution_count": 3
        }
      ]
    },
    {
      "cell_type": "markdown",
      "metadata": {
        "id": "2A9yDs0_vmUZ"
      },
      "source": [
        "DataFrame yapan bir fonksiyon"
      ]
    },
    {
      "cell_type": "markdown",
      "metadata": {
        "id": "hVFJ-bDPxoZp"
      },
      "source": [
        "###**Recall: Concatenation of NumPy Arrays**"
      ]
    },
    {
      "cell_type": "markdown",
      "metadata": {
        "id": "n5i_gk0nyQGi"
      },
      "source": [
        "İki array birleştirilirken numpy araçları kullanılabilir"
      ]
    },
    {
      "cell_type": "code",
      "metadata": {
        "colab": {
          "base_uri": "https://localhost:8080/"
        },
        "id": "xVDnxsurzrTJ",
        "outputId": "bbabdd51-36e7-4b92-84cc-777a7b0ec1a7"
      },
      "source": [
        "x = [1, 2, 3]\r\n",
        "y = [4, 5, 6]\r\n",
        "z = [7, 8, 9]\r\n",
        "np.concatenate([x, y, z])"
      ],
      "execution_count": null,
      "outputs": [
        {
          "output_type": "execute_result",
          "data": {
            "text/plain": [
              "array([1, 2, 3, 4, 5, 6, 7, 8, 9])"
            ]
          },
          "metadata": {
            "tags": []
          },
          "execution_count": 4
        }
      ]
    },
    {
      "cell_type": "markdown",
      "metadata": {
        "id": "Yp4l5oPfzuLE"
      },
      "source": [
        "Bu araç iki argüman alır. Birincisinde birleştirilecek liste veya tupleları, ikincisi sonucu birleştireceği eksen değeri"
      ]
    },
    {
      "cell_type": "code",
      "metadata": {
        "colab": {
          "base_uri": "https://localhost:8080/"
        },
        "id": "dXLoGAcd0YiZ",
        "outputId": "31caa882-6fa1-4f58-d4af-bbe2c06be167"
      },
      "source": [
        "x = [[1, 2],\r\n",
        "     [3, 4]]\r\n",
        "np.concatenate([x, x], axis=1)"
      ],
      "execution_count": null,
      "outputs": [
        {
          "output_type": "execute_result",
          "data": {
            "text/plain": [
              "array([[1, 2, 1, 2],\n",
              "       [3, 4, 3, 4]])"
            ]
          },
          "metadata": {
            "tags": []
          },
          "execution_count": 7
        }
      ]
    },
    {
      "cell_type": "markdown",
      "metadata": {
        "id": "sJWlM-OE0cP5"
      },
      "source": [
        "##Simple Concatenation with pd.concat"
      ]
    },
    {
      "cell_type": "markdown",
      "metadata": {
        "id": "hpTKd0n41Frl"
      },
      "source": [
        "np.concatenate sadece arrayler için çalışırken pd.concat() DataFrame ve Series'ler üzerinde de işe yarar"
      ]
    },
    {
      "cell_type": "code",
      "metadata": {
        "colab": {
          "base_uri": "https://localhost:8080/"
        },
        "id": "a8ezaww613Ef",
        "outputId": "0a340929-0ce9-478c-ac89-846fa1e15492"
      },
      "source": [
        "ser1 = pd.Series(['A', 'B', 'C'], index=[1, 2, 3])\r\n",
        "ser2 = pd.Series(['D', 'E', 'F'], index=[4, 5, 6])\r\n",
        "pd.concat([ser1, ser2])"
      ],
      "execution_count": null,
      "outputs": [
        {
          "output_type": "execute_result",
          "data": {
            "text/plain": [
              "1    A\n",
              "2    B\n",
              "3    C\n",
              "4    D\n",
              "5    E\n",
              "6    F\n",
              "dtype: object"
            ]
          },
          "metadata": {
            "tags": []
          },
          "execution_count": 8
        }
      ]
    },
    {
      "cell_type": "markdown",
      "metadata": {
        "id": "_2Vf72zD15dj"
      },
      "source": [
        "Çok boyutluları birleştirmeye de yarar."
      ]
    },
    {
      "cell_type": "code",
      "metadata": {
        "colab": {
          "base_uri": "https://localhost:8080/",
          "height": 166
        },
        "id": "v6Ab0Y6d2F1r",
        "outputId": "59de11b6-4196-4dc2-a19b-7a73bce0ba98"
      },
      "source": [
        "df1 = make_df('AB', [1, 2])\r\n",
        "df2 = make_df('AB', [3, 4])\r\n",
        "pd.concat([df1, df2])"
      ],
      "execution_count": null,
      "outputs": [
        {
          "output_type": "execute_result",
          "data": {
            "text/html": [
              "<div>\n",
              "<style scoped>\n",
              "    .dataframe tbody tr th:only-of-type {\n",
              "        vertical-align: middle;\n",
              "    }\n",
              "\n",
              "    .dataframe tbody tr th {\n",
              "        vertical-align: top;\n",
              "    }\n",
              "\n",
              "    .dataframe thead th {\n",
              "        text-align: right;\n",
              "    }\n",
              "</style>\n",
              "<table border=\"1\" class=\"dataframe\">\n",
              "  <thead>\n",
              "    <tr style=\"text-align: right;\">\n",
              "      <th></th>\n",
              "      <th>A</th>\n",
              "      <th>B</th>\n",
              "    </tr>\n",
              "  </thead>\n",
              "  <tbody>\n",
              "    <tr>\n",
              "      <th>1</th>\n",
              "      <td>A1</td>\n",
              "      <td>B1</td>\n",
              "    </tr>\n",
              "    <tr>\n",
              "      <th>2</th>\n",
              "      <td>A2</td>\n",
              "      <td>B2</td>\n",
              "    </tr>\n",
              "    <tr>\n",
              "      <th>3</th>\n",
              "      <td>A3</td>\n",
              "      <td>B3</td>\n",
              "    </tr>\n",
              "    <tr>\n",
              "      <th>4</th>\n",
              "      <td>A4</td>\n",
              "      <td>B4</td>\n",
              "    </tr>\n",
              "  </tbody>\n",
              "</table>\n",
              "</div>"
            ],
            "text/plain": [
              "    A   B\n",
              "1  A1  B1\n",
              "2  A2  B2\n",
              "3  A3  B3\n",
              "4  A4  B4"
            ]
          },
          "metadata": {
            "tags": []
          },
          "execution_count": 10
        }
      ]
    },
    {
      "cell_type": "code",
      "metadata": {
        "id": "h-PjH3pR2bSH"
      },
      "source": [
        "#df3 = make_df('AB', [0, 1])\r\n",
        "#df4 = make_df('CD', [0, 1])\r\n",
        "#pd.concat([df3, df4], axis='col')"
      ],
      "execution_count": null,
      "outputs": []
    },
    {
      "cell_type": "code",
      "metadata": {
        "colab": {
          "base_uri": "https://localhost:8080/",
          "height": 166
        },
        "id": "LGgNpD9r2w-f",
        "outputId": "aeab7800-07aa-4032-93b2-e0355a79cc80"
      },
      "source": [
        "x = make_df('AB', [0, 1])\r\n",
        "y = make_df('AB', [2, 3])\r\n",
        "y.index = x.index  # make duplicate indices!\r\n",
        "pd.concat([x, y])"
      ],
      "execution_count": null,
      "outputs": [
        {
          "output_type": "execute_result",
          "data": {
            "text/html": [
              "<div>\n",
              "<style scoped>\n",
              "    .dataframe tbody tr th:only-of-type {\n",
              "        vertical-align: middle;\n",
              "    }\n",
              "\n",
              "    .dataframe tbody tr th {\n",
              "        vertical-align: top;\n",
              "    }\n",
              "\n",
              "    .dataframe thead th {\n",
              "        text-align: right;\n",
              "    }\n",
              "</style>\n",
              "<table border=\"1\" class=\"dataframe\">\n",
              "  <thead>\n",
              "    <tr style=\"text-align: right;\">\n",
              "      <th></th>\n",
              "      <th>A</th>\n",
              "      <th>B</th>\n",
              "    </tr>\n",
              "  </thead>\n",
              "  <tbody>\n",
              "    <tr>\n",
              "      <th>0</th>\n",
              "      <td>A0</td>\n",
              "      <td>B0</td>\n",
              "    </tr>\n",
              "    <tr>\n",
              "      <th>1</th>\n",
              "      <td>A1</td>\n",
              "      <td>B1</td>\n",
              "    </tr>\n",
              "    <tr>\n",
              "      <th>0</th>\n",
              "      <td>A2</td>\n",
              "      <td>B2</td>\n",
              "    </tr>\n",
              "    <tr>\n",
              "      <th>1</th>\n",
              "      <td>A3</td>\n",
              "      <td>B3</td>\n",
              "    </tr>\n",
              "  </tbody>\n",
              "</table>\n",
              "</div>"
            ],
            "text/plain": [
              "    A   B\n",
              "0  A0  B0\n",
              "1  A1  B1\n",
              "0  A2  B2\n",
              "1  A3  B3"
            ]
          },
          "metadata": {
            "tags": []
          },
          "execution_count": 17
        }
      ]
    },
    {
      "cell_type": "code",
      "metadata": {
        "colab": {
          "base_uri": "https://localhost:8080/",
          "height": 166
        },
        "id": "oxzKRd4h5Th1",
        "outputId": "ea758c94-29f9-42ea-d377-b660277636b9"
      },
      "source": [
        "#Bazen indexin adını göz ardı etmek istersek yazacağımız parametre şudur:\r\n",
        "#Bu durumda yeni integer index yaratılır.\r\n",
        "pd.concat([x, y], ignore_index=True)"
      ],
      "execution_count": null,
      "outputs": [
        {
          "output_type": "execute_result",
          "data": {
            "text/html": [
              "<div>\n",
              "<style scoped>\n",
              "    .dataframe tbody tr th:only-of-type {\n",
              "        vertical-align: middle;\n",
              "    }\n",
              "\n",
              "    .dataframe tbody tr th {\n",
              "        vertical-align: top;\n",
              "    }\n",
              "\n",
              "    .dataframe thead th {\n",
              "        text-align: right;\n",
              "    }\n",
              "</style>\n",
              "<table border=\"1\" class=\"dataframe\">\n",
              "  <thead>\n",
              "    <tr style=\"text-align: right;\">\n",
              "      <th></th>\n",
              "      <th>A</th>\n",
              "      <th>B</th>\n",
              "    </tr>\n",
              "  </thead>\n",
              "  <tbody>\n",
              "    <tr>\n",
              "      <th>0</th>\n",
              "      <td>A0</td>\n",
              "      <td>B0</td>\n",
              "    </tr>\n",
              "    <tr>\n",
              "      <th>1</th>\n",
              "      <td>A1</td>\n",
              "      <td>B1</td>\n",
              "    </tr>\n",
              "    <tr>\n",
              "      <th>2</th>\n",
              "      <td>A2</td>\n",
              "      <td>B2</td>\n",
              "    </tr>\n",
              "    <tr>\n",
              "      <th>3</th>\n",
              "      <td>A3</td>\n",
              "      <td>B3</td>\n",
              "    </tr>\n",
              "  </tbody>\n",
              "</table>\n",
              "</div>"
            ],
            "text/plain": [
              "    A   B\n",
              "0  A0  B0\n",
              "1  A1  B1\n",
              "2  A2  B2\n",
              "3  A3  B3"
            ]
          },
          "metadata": {
            "tags": []
          },
          "execution_count": 21
        }
      ]
    },
    {
      "cell_type": "code",
      "metadata": {
        "colab": {
          "base_uri": "https://localhost:8080/",
          "height": 166
        },
        "id": "YcTih-UR50ij",
        "outputId": "094f8d98-560f-42cc-92a4-666580a804c3"
      },
      "source": [
        "#Birleştirdiğimiz DataFrame'e key eklemek için\r\n",
        "pd.concat([x, y], keys=['x', 'y'])"
      ],
      "execution_count": null,
      "outputs": [
        {
          "output_type": "execute_result",
          "data": {
            "text/html": [
              "<div>\n",
              "<style scoped>\n",
              "    .dataframe tbody tr th:only-of-type {\n",
              "        vertical-align: middle;\n",
              "    }\n",
              "\n",
              "    .dataframe tbody tr th {\n",
              "        vertical-align: top;\n",
              "    }\n",
              "\n",
              "    .dataframe thead th {\n",
              "        text-align: right;\n",
              "    }\n",
              "</style>\n",
              "<table border=\"1\" class=\"dataframe\">\n",
              "  <thead>\n",
              "    <tr style=\"text-align: right;\">\n",
              "      <th></th>\n",
              "      <th></th>\n",
              "      <th>A</th>\n",
              "      <th>B</th>\n",
              "    </tr>\n",
              "  </thead>\n",
              "  <tbody>\n",
              "    <tr>\n",
              "      <th rowspan=\"2\" valign=\"top\">x</th>\n",
              "      <th>0</th>\n",
              "      <td>A0</td>\n",
              "      <td>B0</td>\n",
              "    </tr>\n",
              "    <tr>\n",
              "      <th>1</th>\n",
              "      <td>A1</td>\n",
              "      <td>B1</td>\n",
              "    </tr>\n",
              "    <tr>\n",
              "      <th rowspan=\"2\" valign=\"top\">y</th>\n",
              "      <th>0</th>\n",
              "      <td>A2</td>\n",
              "      <td>B2</td>\n",
              "    </tr>\n",
              "    <tr>\n",
              "      <th>1</th>\n",
              "      <td>A3</td>\n",
              "      <td>B3</td>\n",
              "    </tr>\n",
              "  </tbody>\n",
              "</table>\n",
              "</div>"
            ],
            "text/plain": [
              "      A   B\n",
              "x 0  A0  B0\n",
              "  1  A1  B1\n",
              "y 0  A2  B2\n",
              "  1  A3  B3"
            ]
          },
          "metadata": {
            "tags": []
          },
          "execution_count": 22
        }
      ]
    },
    {
      "cell_type": "code",
      "metadata": {
        "colab": {
          "base_uri": "https://localhost:8080/",
          "height": 166
        },
        "id": "zAfk3n6S6fRg",
        "outputId": "b4e63331-d203-4d0f-ce06-45e585e5a293"
      },
      "source": [
        "#Bu tarz bir birleştirme yaptığımızda NaN değerler ortaya çıkar.\r\n",
        "df5 = make_df('ABC', [1, 2])\r\n",
        "df6 = make_df('BCD', [3, 4])\r\n",
        "pd.concat([df5, df6])"
      ],
      "execution_count": null,
      "outputs": [
        {
          "output_type": "execute_result",
          "data": {
            "text/html": [
              "<div>\n",
              "<style scoped>\n",
              "    .dataframe tbody tr th:only-of-type {\n",
              "        vertical-align: middle;\n",
              "    }\n",
              "\n",
              "    .dataframe tbody tr th {\n",
              "        vertical-align: top;\n",
              "    }\n",
              "\n",
              "    .dataframe thead th {\n",
              "        text-align: right;\n",
              "    }\n",
              "</style>\n",
              "<table border=\"1\" class=\"dataframe\">\n",
              "  <thead>\n",
              "    <tr style=\"text-align: right;\">\n",
              "      <th></th>\n",
              "      <th>A</th>\n",
              "      <th>B</th>\n",
              "      <th>C</th>\n",
              "      <th>D</th>\n",
              "    </tr>\n",
              "  </thead>\n",
              "  <tbody>\n",
              "    <tr>\n",
              "      <th>1</th>\n",
              "      <td>A1</td>\n",
              "      <td>B1</td>\n",
              "      <td>C1</td>\n",
              "      <td>NaN</td>\n",
              "    </tr>\n",
              "    <tr>\n",
              "      <th>2</th>\n",
              "      <td>A2</td>\n",
              "      <td>B2</td>\n",
              "      <td>C2</td>\n",
              "      <td>NaN</td>\n",
              "    </tr>\n",
              "    <tr>\n",
              "      <th>3</th>\n",
              "      <td>NaN</td>\n",
              "      <td>B3</td>\n",
              "      <td>C3</td>\n",
              "      <td>D3</td>\n",
              "    </tr>\n",
              "    <tr>\n",
              "      <th>4</th>\n",
              "      <td>NaN</td>\n",
              "      <td>B4</td>\n",
              "      <td>C4</td>\n",
              "      <td>D4</td>\n",
              "    </tr>\n",
              "  </tbody>\n",
              "</table>\n",
              "</div>"
            ],
            "text/plain": [
              "     A   B   C    D\n",
              "1   A1  B1  C1  NaN\n",
              "2   A2  B2  C2  NaN\n",
              "3  NaN  B3  C3   D3\n",
              "4  NaN  B4  C4   D4"
            ]
          },
          "metadata": {
            "tags": []
          },
          "execution_count": 23
        }
      ]
    },
    {
      "cell_type": "code",
      "metadata": {
        "colab": {
          "base_uri": "https://localhost:8080/",
          "height": 166
        },
        "id": "SAYfW4i67Lq4",
        "outputId": "540ace59-a0b2-4623-e046-d91614dd3585"
      },
      "source": [
        "#join parametresi NaN değerlerin olduğu sütunu siler\r\n",
        "pd.concat([df5, df6], join='inner')"
      ],
      "execution_count": null,
      "outputs": [
        {
          "output_type": "execute_result",
          "data": {
            "text/html": [
              "<div>\n",
              "<style scoped>\n",
              "    .dataframe tbody tr th:only-of-type {\n",
              "        vertical-align: middle;\n",
              "    }\n",
              "\n",
              "    .dataframe tbody tr th {\n",
              "        vertical-align: top;\n",
              "    }\n",
              "\n",
              "    .dataframe thead th {\n",
              "        text-align: right;\n",
              "    }\n",
              "</style>\n",
              "<table border=\"1\" class=\"dataframe\">\n",
              "  <thead>\n",
              "    <tr style=\"text-align: right;\">\n",
              "      <th></th>\n",
              "      <th>B</th>\n",
              "      <th>C</th>\n",
              "    </tr>\n",
              "  </thead>\n",
              "  <tbody>\n",
              "    <tr>\n",
              "      <th>1</th>\n",
              "      <td>B1</td>\n",
              "      <td>C1</td>\n",
              "    </tr>\n",
              "    <tr>\n",
              "      <th>2</th>\n",
              "      <td>B2</td>\n",
              "      <td>C2</td>\n",
              "    </tr>\n",
              "    <tr>\n",
              "      <th>3</th>\n",
              "      <td>B3</td>\n",
              "      <td>C3</td>\n",
              "    </tr>\n",
              "    <tr>\n",
              "      <th>4</th>\n",
              "      <td>B4</td>\n",
              "      <td>C4</td>\n",
              "    </tr>\n",
              "  </tbody>\n",
              "</table>\n",
              "</div>"
            ],
            "text/plain": [
              "    B   C\n",
              "1  B1  C1\n",
              "2  B2  C2\n",
              "3  B3  C3\n",
              "4  B4  C4"
            ]
          },
          "metadata": {
            "tags": []
          },
          "execution_count": 24
        }
      ]
    },
    {
      "cell_type": "code",
      "metadata": {
        "id": "mjw_pZTC7SvK"
      },
      "source": [
        "#pd.concat([df5, df6], join_axes=[df5.columns])"
      ],
      "execution_count": null,
      "outputs": []
    },
    {
      "cell_type": "markdown",
      "metadata": {
        "id": "ZlIsJnqe7VZH"
      },
      "source": [
        "##**The append() method**"
      ]
    },
    {
      "cell_type": "code",
      "metadata": {
        "colab": {
          "base_uri": "https://localhost:8080/",
          "height": 166
        },
        "id": "e_a88SMm-UvV",
        "outputId": "c6de3f70-68f3-4128-d26c-1d86455426f3"
      },
      "source": [
        "df1.append(df2)"
      ],
      "execution_count": null,
      "outputs": [
        {
          "output_type": "execute_result",
          "data": {
            "text/html": [
              "<div>\n",
              "<style scoped>\n",
              "    .dataframe tbody tr th:only-of-type {\n",
              "        vertical-align: middle;\n",
              "    }\n",
              "\n",
              "    .dataframe tbody tr th {\n",
              "        vertical-align: top;\n",
              "    }\n",
              "\n",
              "    .dataframe thead th {\n",
              "        text-align: right;\n",
              "    }\n",
              "</style>\n",
              "<table border=\"1\" class=\"dataframe\">\n",
              "  <thead>\n",
              "    <tr style=\"text-align: right;\">\n",
              "      <th></th>\n",
              "      <th>A</th>\n",
              "      <th>B</th>\n",
              "    </tr>\n",
              "  </thead>\n",
              "  <tbody>\n",
              "    <tr>\n",
              "      <th>1</th>\n",
              "      <td>A1</td>\n",
              "      <td>B1</td>\n",
              "    </tr>\n",
              "    <tr>\n",
              "      <th>2</th>\n",
              "      <td>A2</td>\n",
              "      <td>B2</td>\n",
              "    </tr>\n",
              "    <tr>\n",
              "      <th>3</th>\n",
              "      <td>A3</td>\n",
              "      <td>B3</td>\n",
              "    </tr>\n",
              "    <tr>\n",
              "      <th>4</th>\n",
              "      <td>A4</td>\n",
              "      <td>B4</td>\n",
              "    </tr>\n",
              "  </tbody>\n",
              "</table>\n",
              "</div>"
            ],
            "text/plain": [
              "    A   B\n",
              "1  A1  B1\n",
              "2  A2  B2\n",
              "3  A3  B3\n",
              "4  A4  B4"
            ]
          },
          "metadata": {
            "tags": []
          },
          "execution_count": 29
        }
      ]
    },
    {
      "cell_type": "markdown",
      "metadata": {
        "id": "DYuC-Lur-vXM"
      },
      "source": [
        "append() yöntemi eski veriyi değiştirmez, yeni veri yaratır."
      ]
    },
    {
      "cell_type": "markdown",
      "metadata": {
        "id": "oR7NhhurBA1u"
      },
      "source": [
        "#Combining Datasets: Merge and Join"
      ]
    },
    {
      "cell_type": "markdown",
      "metadata": {
        "id": "kiXJIj0uBI53"
      },
      "source": [
        " pd.merge() çeşitli DataFrame'leri birleştirmeyi sağlar."
      ]
    },
    {
      "cell_type": "code",
      "metadata": {
        "colab": {
          "base_uri": "https://localhost:8080/"
        },
        "id": "oVUi4kSJdYHK",
        "outputId": "0963269d-e899-472d-ad51-cf33be9f314b"
      },
      "source": [
        "df1 = pd.DataFrame({'employee': ['Bob', 'Jake', 'Lisa', 'Sue'],\r\n",
        "                    'group': ['Accounting', 'Engineering', 'Engineering', 'HR']})\r\n",
        "df2 = pd.DataFrame({'employee': ['Lisa', 'Bob', 'Jake', 'Sue'],\r\n",
        "                    'hire_date': [2004, 2008, 2012, 2014]})\r\n",
        "print(df1)\r\n",
        "print(\"\\n\")\r\n",
        "print(df2)"
      ],
      "execution_count": null,
      "outputs": [
        {
          "output_type": "stream",
          "text": [
            "  employee        group\n",
            "0      Bob   Accounting\n",
            "1     Jake  Engineering\n",
            "2     Lisa  Engineering\n",
            "3      Sue           HR\n",
            "\n",
            "\n",
            "  employee  hire_date\n",
            "0     Lisa       2004\n",
            "1      Bob       2008\n",
            "2     Jake       2012\n",
            "3      Sue       2014\n"
          ],
          "name": "stdout"
        }
      ]
    },
    {
      "cell_type": "code",
      "metadata": {
        "colab": {
          "base_uri": "https://localhost:8080/",
          "height": 166
        },
        "id": "WewhEJGddcF1",
        "outputId": "594162e7-1f08-48fb-b169-e43ef66eeed2"
      },
      "source": [
        "df3 = pd.merge(df1, df2)\r\n",
        "df3"
      ],
      "execution_count": null,
      "outputs": [
        {
          "output_type": "execute_result",
          "data": {
            "text/html": [
              "<div>\n",
              "<style scoped>\n",
              "    .dataframe tbody tr th:only-of-type {\n",
              "        vertical-align: middle;\n",
              "    }\n",
              "\n",
              "    .dataframe tbody tr th {\n",
              "        vertical-align: top;\n",
              "    }\n",
              "\n",
              "    .dataframe thead th {\n",
              "        text-align: right;\n",
              "    }\n",
              "</style>\n",
              "<table border=\"1\" class=\"dataframe\">\n",
              "  <thead>\n",
              "    <tr style=\"text-align: right;\">\n",
              "      <th></th>\n",
              "      <th>employee</th>\n",
              "      <th>group</th>\n",
              "      <th>hire_date</th>\n",
              "    </tr>\n",
              "  </thead>\n",
              "  <tbody>\n",
              "    <tr>\n",
              "      <th>0</th>\n",
              "      <td>Bob</td>\n",
              "      <td>Accounting</td>\n",
              "      <td>2008</td>\n",
              "    </tr>\n",
              "    <tr>\n",
              "      <th>1</th>\n",
              "      <td>Jake</td>\n",
              "      <td>Engineering</td>\n",
              "      <td>2012</td>\n",
              "    </tr>\n",
              "    <tr>\n",
              "      <th>2</th>\n",
              "      <td>Lisa</td>\n",
              "      <td>Engineering</td>\n",
              "      <td>2004</td>\n",
              "    </tr>\n",
              "    <tr>\n",
              "      <th>3</th>\n",
              "      <td>Sue</td>\n",
              "      <td>HR</td>\n",
              "      <td>2014</td>\n",
              "    </tr>\n",
              "  </tbody>\n",
              "</table>\n",
              "</div>"
            ],
            "text/plain": [
              "  employee        group  hire_date\n",
              "0      Bob   Accounting       2008\n",
              "1     Jake  Engineering       2012\n",
              "2     Lisa  Engineering       2004\n",
              "3      Sue           HR       2014"
            ]
          },
          "metadata": {
            "tags": []
          },
          "execution_count": 10
        }
      ]
    },
    {
      "cell_type": "code",
      "metadata": {
        "id": "gmf6OZG0d-Ec"
      },
      "source": [
        "#pd.merge iki DataFrame'de de ortak bir employee sütununu tanıyarak DaaFrame'leri birleştirdi"
      ],
      "execution_count": null,
      "outputs": []
    },
    {
      "cell_type": "code",
      "metadata": {
        "colab": {
          "base_uri": "https://localhost:8080/",
          "height": 166
        },
        "id": "2RHryCr5eNt6",
        "outputId": "07aa73c2-134f-4549-a4f3-d9c664d63c35"
      },
      "source": [
        "df4 = pd.DataFrame({'group': ['Accounting', 'Engineering', 'HR'],\r\n",
        "                    'supervisor': ['Carly', 'Guido', 'Steve']})\r\n",
        "pd.merge(df3, df4)"
      ],
      "execution_count": null,
      "outputs": [
        {
          "output_type": "execute_result",
          "data": {
            "text/html": [
              "<div>\n",
              "<style scoped>\n",
              "    .dataframe tbody tr th:only-of-type {\n",
              "        vertical-align: middle;\n",
              "    }\n",
              "\n",
              "    .dataframe tbody tr th {\n",
              "        vertical-align: top;\n",
              "    }\n",
              "\n",
              "    .dataframe thead th {\n",
              "        text-align: right;\n",
              "    }\n",
              "</style>\n",
              "<table border=\"1\" class=\"dataframe\">\n",
              "  <thead>\n",
              "    <tr style=\"text-align: right;\">\n",
              "      <th></th>\n",
              "      <th>employee</th>\n",
              "      <th>group</th>\n",
              "      <th>hire_date</th>\n",
              "      <th>supervisor</th>\n",
              "    </tr>\n",
              "  </thead>\n",
              "  <tbody>\n",
              "    <tr>\n",
              "      <th>0</th>\n",
              "      <td>Bob</td>\n",
              "      <td>Accounting</td>\n",
              "      <td>2008</td>\n",
              "      <td>Carly</td>\n",
              "    </tr>\n",
              "    <tr>\n",
              "      <th>1</th>\n",
              "      <td>Jake</td>\n",
              "      <td>Engineering</td>\n",
              "      <td>2012</td>\n",
              "      <td>Guido</td>\n",
              "    </tr>\n",
              "    <tr>\n",
              "      <th>2</th>\n",
              "      <td>Lisa</td>\n",
              "      <td>Engineering</td>\n",
              "      <td>2004</td>\n",
              "      <td>Guido</td>\n",
              "    </tr>\n",
              "    <tr>\n",
              "      <th>3</th>\n",
              "      <td>Sue</td>\n",
              "      <td>HR</td>\n",
              "      <td>2014</td>\n",
              "      <td>Steve</td>\n",
              "    </tr>\n",
              "  </tbody>\n",
              "</table>\n",
              "</div>"
            ],
            "text/plain": [
              "  employee        group  hire_date supervisor\n",
              "0      Bob   Accounting       2008      Carly\n",
              "1     Jake  Engineering       2012      Guido\n",
              "2     Lisa  Engineering       2004      Guido\n",
              "3      Sue           HR       2014      Steve"
            ]
          },
          "metadata": {
            "tags": []
          },
          "execution_count": 12
        }
      ]
    },
    {
      "cell_type": "code",
      "metadata": {
        "colab": {
          "base_uri": "https://localhost:8080/",
          "height": 225
        },
        "id": "yecnF4tEeb3d",
        "outputId": "c20ee992-f9cb-43f6-bc3d-6ab2882f9817"
      },
      "source": [
        "#pd.merge() birleştireceği iki dataframe'de farklılıkları bulup yeni satır ekleyebilir.\r\n",
        "df5 = pd.DataFrame({'group': ['Accounting', 'Accounting',\r\n",
        "                              'Engineering', 'Engineering', 'HR', 'HR'],\r\n",
        "                    'skills': ['math', 'spreadsheets', 'coding', 'linux',\r\n",
        "                               'spreadsheets', 'organization']})\r\n",
        "pd.merge(df4,df5)"
      ],
      "execution_count": null,
      "outputs": [
        {
          "output_type": "execute_result",
          "data": {
            "text/html": [
              "<div>\n",
              "<style scoped>\n",
              "    .dataframe tbody tr th:only-of-type {\n",
              "        vertical-align: middle;\n",
              "    }\n",
              "\n",
              "    .dataframe tbody tr th {\n",
              "        vertical-align: top;\n",
              "    }\n",
              "\n",
              "    .dataframe thead th {\n",
              "        text-align: right;\n",
              "    }\n",
              "</style>\n",
              "<table border=\"1\" class=\"dataframe\">\n",
              "  <thead>\n",
              "    <tr style=\"text-align: right;\">\n",
              "      <th></th>\n",
              "      <th>group</th>\n",
              "      <th>supervisor</th>\n",
              "      <th>skills</th>\n",
              "    </tr>\n",
              "  </thead>\n",
              "  <tbody>\n",
              "    <tr>\n",
              "      <th>0</th>\n",
              "      <td>Accounting</td>\n",
              "      <td>Carly</td>\n",
              "      <td>math</td>\n",
              "    </tr>\n",
              "    <tr>\n",
              "      <th>1</th>\n",
              "      <td>Accounting</td>\n",
              "      <td>Carly</td>\n",
              "      <td>spreadsheets</td>\n",
              "    </tr>\n",
              "    <tr>\n",
              "      <th>2</th>\n",
              "      <td>Engineering</td>\n",
              "      <td>Guido</td>\n",
              "      <td>coding</td>\n",
              "    </tr>\n",
              "    <tr>\n",
              "      <th>3</th>\n",
              "      <td>Engineering</td>\n",
              "      <td>Guido</td>\n",
              "      <td>linux</td>\n",
              "    </tr>\n",
              "    <tr>\n",
              "      <th>4</th>\n",
              "      <td>HR</td>\n",
              "      <td>Steve</td>\n",
              "      <td>spreadsheets</td>\n",
              "    </tr>\n",
              "    <tr>\n",
              "      <th>5</th>\n",
              "      <td>HR</td>\n",
              "      <td>Steve</td>\n",
              "      <td>organization</td>\n",
              "    </tr>\n",
              "  </tbody>\n",
              "</table>\n",
              "</div>"
            ],
            "text/plain": [
              "         group supervisor        skills\n",
              "0   Accounting      Carly          math\n",
              "1   Accounting      Carly  spreadsheets\n",
              "2  Engineering      Guido        coding\n",
              "3  Engineering      Guido         linux\n",
              "4           HR      Steve  spreadsheets\n",
              "5           HR      Steve  organization"
            ]
          },
          "metadata": {
            "tags": []
          },
          "execution_count": 14
        }
      ]
    },
    {
      "cell_type": "markdown",
      "metadata": {
        "id": "uvdBcAJjfF9z"
      },
      "source": [
        "##Specification of the Merge Key"
      ]
    },
    {
      "cell_type": "markdown",
      "metadata": {
        "id": "NqVCO4f3fjHS"
      },
      "source": [
        "pd.merge() için hangi sütunun key olacağını belirlemek mümkündür"
      ]
    },
    {
      "cell_type": "code",
      "metadata": {
        "colab": {
          "base_uri": "https://localhost:8080/",
          "height": 166
        },
        "id": "foQSwt9EfsHw",
        "outputId": "4b56d7b6-34ce-4150-d73c-79d22c5a833e"
      },
      "source": [
        "pd.merge(df1, df2, on='employee')"
      ],
      "execution_count": null,
      "outputs": [
        {
          "output_type": "execute_result",
          "data": {
            "text/html": [
              "<div>\n",
              "<style scoped>\n",
              "    .dataframe tbody tr th:only-of-type {\n",
              "        vertical-align: middle;\n",
              "    }\n",
              "\n",
              "    .dataframe tbody tr th {\n",
              "        vertical-align: top;\n",
              "    }\n",
              "\n",
              "    .dataframe thead th {\n",
              "        text-align: right;\n",
              "    }\n",
              "</style>\n",
              "<table border=\"1\" class=\"dataframe\">\n",
              "  <thead>\n",
              "    <tr style=\"text-align: right;\">\n",
              "      <th></th>\n",
              "      <th>employee</th>\n",
              "      <th>group</th>\n",
              "      <th>hire_date</th>\n",
              "    </tr>\n",
              "  </thead>\n",
              "  <tbody>\n",
              "    <tr>\n",
              "      <th>0</th>\n",
              "      <td>Bob</td>\n",
              "      <td>Accounting</td>\n",
              "      <td>2008</td>\n",
              "    </tr>\n",
              "    <tr>\n",
              "      <th>1</th>\n",
              "      <td>Jake</td>\n",
              "      <td>Engineering</td>\n",
              "      <td>2012</td>\n",
              "    </tr>\n",
              "    <tr>\n",
              "      <th>2</th>\n",
              "      <td>Lisa</td>\n",
              "      <td>Engineering</td>\n",
              "      <td>2004</td>\n",
              "    </tr>\n",
              "    <tr>\n",
              "      <th>3</th>\n",
              "      <td>Sue</td>\n",
              "      <td>HR</td>\n",
              "      <td>2014</td>\n",
              "    </tr>\n",
              "  </tbody>\n",
              "</table>\n",
              "</div>"
            ],
            "text/plain": [
              "  employee        group  hire_date\n",
              "0      Bob   Accounting       2008\n",
              "1     Jake  Engineering       2012\n",
              "2     Lisa  Engineering       2004\n",
              "3      Sue           HR       2014"
            ]
          },
          "metadata": {
            "tags": []
          },
          "execution_count": 15
        }
      ]
    },
    {
      "cell_type": "code",
      "metadata": {
        "colab": {
          "base_uri": "https://localhost:8080/",
          "height": 401
        },
        "id": "x4wY6NwHfvaE",
        "outputId": "72b2c75c-8464-44fe-c7d4-f3711e4fadfe"
      },
      "source": [
        "df3 = pd.DataFrame({'name': ['Bob', 'Jake', 'Lisa', 'Sue'],\r\n",
        "                    'salary': [70000, 80000, 120000, 90000]})\r\n",
        "print(df1)\r\n",
        "print(\"\\n\")\r\n",
        "print(df2)\r\n",
        "print(\"\\n\")\r\n",
        "pd.merge(df1, df3, left_on=\"employee\", right_on=\"name\")"
      ],
      "execution_count": null,
      "outputs": [
        {
          "output_type": "stream",
          "text": [
            "  employee        group\n",
            "0      Bob   Accounting\n",
            "1     Jake  Engineering\n",
            "2     Lisa  Engineering\n",
            "3      Sue           HR\n",
            "\n",
            "\n",
            "  employee  hire_date\n",
            "0     Lisa       2004\n",
            "1      Bob       2008\n",
            "2     Jake       2012\n",
            "3      Sue       2014\n",
            "\n",
            "\n"
          ],
          "name": "stdout"
        },
        {
          "output_type": "execute_result",
          "data": {
            "text/html": [
              "<div>\n",
              "<style scoped>\n",
              "    .dataframe tbody tr th:only-of-type {\n",
              "        vertical-align: middle;\n",
              "    }\n",
              "\n",
              "    .dataframe tbody tr th {\n",
              "        vertical-align: top;\n",
              "    }\n",
              "\n",
              "    .dataframe thead th {\n",
              "        text-align: right;\n",
              "    }\n",
              "</style>\n",
              "<table border=\"1\" class=\"dataframe\">\n",
              "  <thead>\n",
              "    <tr style=\"text-align: right;\">\n",
              "      <th></th>\n",
              "      <th>employee</th>\n",
              "      <th>group</th>\n",
              "      <th>name</th>\n",
              "      <th>salary</th>\n",
              "    </tr>\n",
              "  </thead>\n",
              "  <tbody>\n",
              "    <tr>\n",
              "      <th>0</th>\n",
              "      <td>Bob</td>\n",
              "      <td>Accounting</td>\n",
              "      <td>Bob</td>\n",
              "      <td>70000</td>\n",
              "    </tr>\n",
              "    <tr>\n",
              "      <th>1</th>\n",
              "      <td>Jake</td>\n",
              "      <td>Engineering</td>\n",
              "      <td>Jake</td>\n",
              "      <td>80000</td>\n",
              "    </tr>\n",
              "    <tr>\n",
              "      <th>2</th>\n",
              "      <td>Lisa</td>\n",
              "      <td>Engineering</td>\n",
              "      <td>Lisa</td>\n",
              "      <td>120000</td>\n",
              "    </tr>\n",
              "    <tr>\n",
              "      <th>3</th>\n",
              "      <td>Sue</td>\n",
              "      <td>HR</td>\n",
              "      <td>Sue</td>\n",
              "      <td>90000</td>\n",
              "    </tr>\n",
              "  </tbody>\n",
              "</table>\n",
              "</div>"
            ],
            "text/plain": [
              "  employee        group  name  salary\n",
              "0      Bob   Accounting   Bob   70000\n",
              "1     Jake  Engineering  Jake   80000\n",
              "2     Lisa  Engineering  Lisa  120000\n",
              "3      Sue           HR   Sue   90000"
            ]
          },
          "metadata": {
            "tags": []
          },
          "execution_count": 17
        }
      ]
    },
    {
      "cell_type": "code",
      "metadata": {
        "colab": {
          "base_uri": "https://localhost:8080/",
          "height": 166
        },
        "id": "EVti-xl3f9dP",
        "outputId": "339e697c-1aa5-47d7-eeb9-39171015654d"
      },
      "source": [
        "pd.merge(df1, df3, left_on=\"employee\", right_on=\"name\").drop('name', axis=1)"
      ],
      "execution_count": null,
      "outputs": [
        {
          "output_type": "execute_result",
          "data": {
            "text/html": [
              "<div>\n",
              "<style scoped>\n",
              "    .dataframe tbody tr th:only-of-type {\n",
              "        vertical-align: middle;\n",
              "    }\n",
              "\n",
              "    .dataframe tbody tr th {\n",
              "        vertical-align: top;\n",
              "    }\n",
              "\n",
              "    .dataframe thead th {\n",
              "        text-align: right;\n",
              "    }\n",
              "</style>\n",
              "<table border=\"1\" class=\"dataframe\">\n",
              "  <thead>\n",
              "    <tr style=\"text-align: right;\">\n",
              "      <th></th>\n",
              "      <th>employee</th>\n",
              "      <th>group</th>\n",
              "      <th>salary</th>\n",
              "    </tr>\n",
              "  </thead>\n",
              "  <tbody>\n",
              "    <tr>\n",
              "      <th>0</th>\n",
              "      <td>Bob</td>\n",
              "      <td>Accounting</td>\n",
              "      <td>70000</td>\n",
              "    </tr>\n",
              "    <tr>\n",
              "      <th>1</th>\n",
              "      <td>Jake</td>\n",
              "      <td>Engineering</td>\n",
              "      <td>80000</td>\n",
              "    </tr>\n",
              "    <tr>\n",
              "      <th>2</th>\n",
              "      <td>Lisa</td>\n",
              "      <td>Engineering</td>\n",
              "      <td>120000</td>\n",
              "    </tr>\n",
              "    <tr>\n",
              "      <th>3</th>\n",
              "      <td>Sue</td>\n",
              "      <td>HR</td>\n",
              "      <td>90000</td>\n",
              "    </tr>\n",
              "  </tbody>\n",
              "</table>\n",
              "</div>"
            ],
            "text/plain": [
              "  employee        group  salary\n",
              "0      Bob   Accounting   70000\n",
              "1     Jake  Engineering   80000\n",
              "2     Lisa  Engineering  120000\n",
              "3      Sue           HR   90000"
            ]
          },
          "metadata": {
            "tags": []
          },
          "execution_count": 18
        }
      ]
    },
    {
      "cell_type": "code",
      "metadata": {
        "colab": {
          "base_uri": "https://localhost:8080/"
        },
        "id": "_n0KVo6Zgo2H",
        "outputId": "22614270-16b6-4eb0-de29-63d82ee22451"
      },
      "source": [
        "#Bazen sütunda değil indexte birleştirmek isteriz\r\n",
        "df1a = df1.set_index('employee')\r\n",
        "df2a = df2.set_index('employee')\r\n",
        "print(df1)\r\n",
        "print(\"\\n\")\r\n",
        "print(df2)"
      ],
      "execution_count": null,
      "outputs": [
        {
          "output_type": "stream",
          "text": [
            "  employee        group\n",
            "0      Bob   Accounting\n",
            "1     Jake  Engineering\n",
            "2     Lisa  Engineering\n",
            "3      Sue           HR\n",
            "\n",
            "\n",
            "  employee  hire_date\n",
            "0     Lisa       2004\n",
            "1      Bob       2008\n",
            "2     Jake       2012\n",
            "3      Sue       2014\n"
          ],
          "name": "stdout"
        }
      ]
    },
    {
      "cell_type": "code",
      "metadata": {
        "colab": {
          "base_uri": "https://localhost:8080/",
          "height": 195
        },
        "id": "JyAhrNJ0hMiL",
        "outputId": "4988bc5f-bb6b-481b-9c81-b57e3efefb10"
      },
      "source": [
        "pd.merge(df1a, df2a, left_index=True, right_index=True)"
      ],
      "execution_count": null,
      "outputs": [
        {
          "output_type": "execute_result",
          "data": {
            "text/html": [
              "<div>\n",
              "<style scoped>\n",
              "    .dataframe tbody tr th:only-of-type {\n",
              "        vertical-align: middle;\n",
              "    }\n",
              "\n",
              "    .dataframe tbody tr th {\n",
              "        vertical-align: top;\n",
              "    }\n",
              "\n",
              "    .dataframe thead th {\n",
              "        text-align: right;\n",
              "    }\n",
              "</style>\n",
              "<table border=\"1\" class=\"dataframe\">\n",
              "  <thead>\n",
              "    <tr style=\"text-align: right;\">\n",
              "      <th></th>\n",
              "      <th>group</th>\n",
              "      <th>hire_date</th>\n",
              "    </tr>\n",
              "    <tr>\n",
              "      <th>employee</th>\n",
              "      <th></th>\n",
              "      <th></th>\n",
              "    </tr>\n",
              "  </thead>\n",
              "  <tbody>\n",
              "    <tr>\n",
              "      <th>Bob</th>\n",
              "      <td>Accounting</td>\n",
              "      <td>2008</td>\n",
              "    </tr>\n",
              "    <tr>\n",
              "      <th>Jake</th>\n",
              "      <td>Engineering</td>\n",
              "      <td>2012</td>\n",
              "    </tr>\n",
              "    <tr>\n",
              "      <th>Lisa</th>\n",
              "      <td>Engineering</td>\n",
              "      <td>2004</td>\n",
              "    </tr>\n",
              "    <tr>\n",
              "      <th>Sue</th>\n",
              "      <td>HR</td>\n",
              "      <td>2014</td>\n",
              "    </tr>\n",
              "  </tbody>\n",
              "</table>\n",
              "</div>"
            ],
            "text/plain": [
              "                group  hire_date\n",
              "employee                        \n",
              "Bob        Accounting       2008\n",
              "Jake      Engineering       2012\n",
              "Lisa      Engineering       2004\n",
              "Sue                HR       2014"
            ]
          },
          "metadata": {
            "tags": []
          },
          "execution_count": 20
        }
      ]
    },
    {
      "cell_type": "code",
      "metadata": {
        "colab": {
          "base_uri": "https://localhost:8080/",
          "height": 195
        },
        "id": "iaiw2D-YhWKm",
        "outputId": "ee44964b-c2c9-4133-d99f-52d9b3623804"
      },
      "source": [
        "#Join() de benzer bir çalışma şekli gösterir\r\n",
        "df1a.join(df2a)"
      ],
      "execution_count": null,
      "outputs": [
        {
          "output_type": "execute_result",
          "data": {
            "text/html": [
              "<div>\n",
              "<style scoped>\n",
              "    .dataframe tbody tr th:only-of-type {\n",
              "        vertical-align: middle;\n",
              "    }\n",
              "\n",
              "    .dataframe tbody tr th {\n",
              "        vertical-align: top;\n",
              "    }\n",
              "\n",
              "    .dataframe thead th {\n",
              "        text-align: right;\n",
              "    }\n",
              "</style>\n",
              "<table border=\"1\" class=\"dataframe\">\n",
              "  <thead>\n",
              "    <tr style=\"text-align: right;\">\n",
              "      <th></th>\n",
              "      <th>group</th>\n",
              "      <th>hire_date</th>\n",
              "    </tr>\n",
              "    <tr>\n",
              "      <th>employee</th>\n",
              "      <th></th>\n",
              "      <th></th>\n",
              "    </tr>\n",
              "  </thead>\n",
              "  <tbody>\n",
              "    <tr>\n",
              "      <th>Bob</th>\n",
              "      <td>Accounting</td>\n",
              "      <td>2008</td>\n",
              "    </tr>\n",
              "    <tr>\n",
              "      <th>Jake</th>\n",
              "      <td>Engineering</td>\n",
              "      <td>2012</td>\n",
              "    </tr>\n",
              "    <tr>\n",
              "      <th>Lisa</th>\n",
              "      <td>Engineering</td>\n",
              "      <td>2004</td>\n",
              "    </tr>\n",
              "    <tr>\n",
              "      <th>Sue</th>\n",
              "      <td>HR</td>\n",
              "      <td>2014</td>\n",
              "    </tr>\n",
              "  </tbody>\n",
              "</table>\n",
              "</div>"
            ],
            "text/plain": [
              "                group  hire_date\n",
              "employee                        \n",
              "Bob        Accounting       2008\n",
              "Jake      Engineering       2012\n",
              "Lisa      Engineering       2004\n",
              "Sue                HR       2014"
            ]
          },
          "metadata": {
            "tags": []
          },
          "execution_count": 21
        }
      ]
    },
    {
      "cell_type": "code",
      "metadata": {
        "colab": {
          "base_uri": "https://localhost:8080/",
          "height": 228
        },
        "id": "8FNXODYohoN6",
        "outputId": "5d80f4d4-44d2-4416-9dab-14ce84d44bc0"
      },
      "source": [
        "#Böyle bir birleştirme gerçekleştirdiğimizde ortak tek kişi Mary olduğu için tek satır ortaya çıkar\r\n",
        "df6 = pd.DataFrame({'name': ['Peter', 'Paul', 'Mary'],\r\n",
        "                    'food': ['fish', 'beans', 'bread']},\r\n",
        "                   columns=['name', 'food'])\r\n",
        "df7 = pd.DataFrame({'name': ['Mary', 'Joseph'],\r\n",
        "                    'drink': ['wine', 'beer']},\r\n",
        "                   columns=['name', 'drink'])\r\n",
        "print(df6)\r\n",
        "print(\"\\n\")\r\n",
        "print(df7)\r\n",
        "pd.merge(df6, df7)"
      ],
      "execution_count": null,
      "outputs": [
        {
          "output_type": "stream",
          "text": [
            "    name   food\n",
            "0  Peter   fish\n",
            "1   Paul  beans\n",
            "2   Mary  bread\n",
            "\n",
            "\n",
            "     name drink\n",
            "0    Mary  wine\n",
            "1  Joseph  beer\n"
          ],
          "name": "stdout"
        },
        {
          "output_type": "execute_result",
          "data": {
            "text/html": [
              "<div>\n",
              "<style scoped>\n",
              "    .dataframe tbody tr th:only-of-type {\n",
              "        vertical-align: middle;\n",
              "    }\n",
              "\n",
              "    .dataframe tbody tr th {\n",
              "        vertical-align: top;\n",
              "    }\n",
              "\n",
              "    .dataframe thead th {\n",
              "        text-align: right;\n",
              "    }\n",
              "</style>\n",
              "<table border=\"1\" class=\"dataframe\">\n",
              "  <thead>\n",
              "    <tr style=\"text-align: right;\">\n",
              "      <th></th>\n",
              "      <th>name</th>\n",
              "      <th>food</th>\n",
              "      <th>drink</th>\n",
              "    </tr>\n",
              "  </thead>\n",
              "  <tbody>\n",
              "    <tr>\n",
              "      <th>0</th>\n",
              "      <td>Mary</td>\n",
              "      <td>bread</td>\n",
              "      <td>wine</td>\n",
              "    </tr>\n",
              "  </tbody>\n",
              "</table>\n",
              "</div>"
            ],
            "text/plain": [
              "   name   food drink\n",
              "0  Mary  bread  wine"
            ]
          },
          "metadata": {
            "tags": []
          },
          "execution_count": 22
        }
      ]
    },
    {
      "cell_type": "code",
      "metadata": {
        "colab": {
          "base_uri": "https://localhost:8080/",
          "height": 166
        },
        "id": "Z8EYIrDXjUqq",
        "outputId": "a2cc5852-9981-48fa-fcc1-0d6e223474d6"
      },
      "source": [
        "#Bunu önlemek için...\r\n",
        "pd.merge(df6, df7, how='outer')"
      ],
      "execution_count": null,
      "outputs": [
        {
          "output_type": "execute_result",
          "data": {
            "text/html": [
              "<div>\n",
              "<style scoped>\n",
              "    .dataframe tbody tr th:only-of-type {\n",
              "        vertical-align: middle;\n",
              "    }\n",
              "\n",
              "    .dataframe tbody tr th {\n",
              "        vertical-align: top;\n",
              "    }\n",
              "\n",
              "    .dataframe thead th {\n",
              "        text-align: right;\n",
              "    }\n",
              "</style>\n",
              "<table border=\"1\" class=\"dataframe\">\n",
              "  <thead>\n",
              "    <tr style=\"text-align: right;\">\n",
              "      <th></th>\n",
              "      <th>name</th>\n",
              "      <th>food</th>\n",
              "      <th>drink</th>\n",
              "    </tr>\n",
              "  </thead>\n",
              "  <tbody>\n",
              "    <tr>\n",
              "      <th>0</th>\n",
              "      <td>Peter</td>\n",
              "      <td>fish</td>\n",
              "      <td>NaN</td>\n",
              "    </tr>\n",
              "    <tr>\n",
              "      <th>1</th>\n",
              "      <td>Paul</td>\n",
              "      <td>beans</td>\n",
              "      <td>NaN</td>\n",
              "    </tr>\n",
              "    <tr>\n",
              "      <th>2</th>\n",
              "      <td>Mary</td>\n",
              "      <td>bread</td>\n",
              "      <td>wine</td>\n",
              "    </tr>\n",
              "    <tr>\n",
              "      <th>3</th>\n",
              "      <td>Joseph</td>\n",
              "      <td>NaN</td>\n",
              "      <td>beer</td>\n",
              "    </tr>\n",
              "  </tbody>\n",
              "</table>\n",
              "</div>"
            ],
            "text/plain": [
              "     name   food drink\n",
              "0   Peter   fish   NaN\n",
              "1    Paul  beans   NaN\n",
              "2    Mary  bread  wine\n",
              "3  Joseph    NaN  beer"
            ]
          },
          "metadata": {
            "tags": []
          },
          "execution_count": 23
        }
      ]
    },
    {
      "cell_type": "code",
      "metadata": {
        "id": "1c6zy3wTjaK4",
        "colab": {
          "base_uri": "https://localhost:8080/",
          "height": 136
        },
        "outputId": "18274a6f-6679-4381-d635-bd15e731b2a9"
      },
      "source": [
        "pd.merge(df6, df7, how='left')"
      ],
      "execution_count": null,
      "outputs": [
        {
          "output_type": "execute_result",
          "data": {
            "text/html": [
              "<div>\n",
              "<style scoped>\n",
              "    .dataframe tbody tr th:only-of-type {\n",
              "        vertical-align: middle;\n",
              "    }\n",
              "\n",
              "    .dataframe tbody tr th {\n",
              "        vertical-align: top;\n",
              "    }\n",
              "\n",
              "    .dataframe thead th {\n",
              "        text-align: right;\n",
              "    }\n",
              "</style>\n",
              "<table border=\"1\" class=\"dataframe\">\n",
              "  <thead>\n",
              "    <tr style=\"text-align: right;\">\n",
              "      <th></th>\n",
              "      <th>name</th>\n",
              "      <th>food</th>\n",
              "      <th>drink</th>\n",
              "    </tr>\n",
              "  </thead>\n",
              "  <tbody>\n",
              "    <tr>\n",
              "      <th>0</th>\n",
              "      <td>Peter</td>\n",
              "      <td>fish</td>\n",
              "      <td>NaN</td>\n",
              "    </tr>\n",
              "    <tr>\n",
              "      <th>1</th>\n",
              "      <td>Paul</td>\n",
              "      <td>beans</td>\n",
              "      <td>NaN</td>\n",
              "    </tr>\n",
              "    <tr>\n",
              "      <th>2</th>\n",
              "      <td>Mary</td>\n",
              "      <td>bread</td>\n",
              "      <td>wine</td>\n",
              "    </tr>\n",
              "  </tbody>\n",
              "</table>\n",
              "</div>"
            ],
            "text/plain": [
              "    name   food drink\n",
              "0  Peter   fish   NaN\n",
              "1   Paul  beans   NaN\n",
              "2   Mary  bread  wine"
            ]
          },
          "metadata": {
            "tags": []
          },
          "execution_count": 24
        }
      ]
    },
    {
      "cell_type": "code",
      "metadata": {
        "colab": {
          "base_uri": "https://localhost:8080/",
          "height": 401
        },
        "id": "GrhjWWf5mry0",
        "outputId": "4771c7a5-d17e-4cb8-edf5-82b17d50dd2a"
      },
      "source": [
        "df8 = pd.DataFrame({'name': ['Bob', 'Jake', 'Lisa', 'Sue'],\r\n",
        "                    'rank': [1, 2, 3, 4]})\r\n",
        "df9 = pd.DataFrame({'name': ['Bob', 'Jake', 'Lisa', 'Sue'],\r\n",
        "                    'rank': [3, 1, 4, 2]})\r\n",
        "print(df8)\r\n",
        "print(\"\\n\")\r\n",
        "print(df9)\r\n",
        "print(\"\\n\")\r\n",
        "pd.merge(df8, df9, on=\"name\")"
      ],
      "execution_count": null,
      "outputs": [
        {
          "output_type": "stream",
          "text": [
            "   name  rank\n",
            "0   Bob     1\n",
            "1  Jake     2\n",
            "2  Lisa     3\n",
            "3   Sue     4\n",
            "\n",
            "\n",
            "   name  rank\n",
            "0   Bob     3\n",
            "1  Jake     1\n",
            "2  Lisa     4\n",
            "3   Sue     2\n",
            "\n",
            "\n"
          ],
          "name": "stdout"
        },
        {
          "output_type": "execute_result",
          "data": {
            "text/html": [
              "<div>\n",
              "<style scoped>\n",
              "    .dataframe tbody tr th:only-of-type {\n",
              "        vertical-align: middle;\n",
              "    }\n",
              "\n",
              "    .dataframe tbody tr th {\n",
              "        vertical-align: top;\n",
              "    }\n",
              "\n",
              "    .dataframe thead th {\n",
              "        text-align: right;\n",
              "    }\n",
              "</style>\n",
              "<table border=\"1\" class=\"dataframe\">\n",
              "  <thead>\n",
              "    <tr style=\"text-align: right;\">\n",
              "      <th></th>\n",
              "      <th>name</th>\n",
              "      <th>rank_x</th>\n",
              "      <th>rank_y</th>\n",
              "    </tr>\n",
              "  </thead>\n",
              "  <tbody>\n",
              "    <tr>\n",
              "      <th>0</th>\n",
              "      <td>Bob</td>\n",
              "      <td>1</td>\n",
              "      <td>3</td>\n",
              "    </tr>\n",
              "    <tr>\n",
              "      <th>1</th>\n",
              "      <td>Jake</td>\n",
              "      <td>2</td>\n",
              "      <td>1</td>\n",
              "    </tr>\n",
              "    <tr>\n",
              "      <th>2</th>\n",
              "      <td>Lisa</td>\n",
              "      <td>3</td>\n",
              "      <td>4</td>\n",
              "    </tr>\n",
              "    <tr>\n",
              "      <th>3</th>\n",
              "      <td>Sue</td>\n",
              "      <td>4</td>\n",
              "      <td>2</td>\n",
              "    </tr>\n",
              "  </tbody>\n",
              "</table>\n",
              "</div>"
            ],
            "text/plain": [
              "   name  rank_x  rank_y\n",
              "0   Bob       1       3\n",
              "1  Jake       2       1\n",
              "2  Lisa       3       4\n",
              "3   Sue       4       2"
            ]
          },
          "metadata": {
            "tags": []
          },
          "execution_count": 25
        }
      ]
    },
    {
      "cell_type": "code",
      "metadata": {
        "colab": {
          "base_uri": "https://localhost:8080/",
          "height": 166
        },
        "id": "IyP69b8enGWl",
        "outputId": "a9c454d7-7784-4bd5-898f-e40ea6035bc8"
      },
      "source": [
        "#Sütun isimlerini değiştirerek birleştirebiliriz\r\n",
        "pd.merge(df8, df9, on=\"name\", suffixes=[\"_L\", \"_R\"])"
      ],
      "execution_count": null,
      "outputs": [
        {
          "output_type": "execute_result",
          "data": {
            "text/html": [
              "<div>\n",
              "<style scoped>\n",
              "    .dataframe tbody tr th:only-of-type {\n",
              "        vertical-align: middle;\n",
              "    }\n",
              "\n",
              "    .dataframe tbody tr th {\n",
              "        vertical-align: top;\n",
              "    }\n",
              "\n",
              "    .dataframe thead th {\n",
              "        text-align: right;\n",
              "    }\n",
              "</style>\n",
              "<table border=\"1\" class=\"dataframe\">\n",
              "  <thead>\n",
              "    <tr style=\"text-align: right;\">\n",
              "      <th></th>\n",
              "      <th>name</th>\n",
              "      <th>rank_L</th>\n",
              "      <th>rank_R</th>\n",
              "    </tr>\n",
              "  </thead>\n",
              "  <tbody>\n",
              "    <tr>\n",
              "      <th>0</th>\n",
              "      <td>Bob</td>\n",
              "      <td>1</td>\n",
              "      <td>3</td>\n",
              "    </tr>\n",
              "    <tr>\n",
              "      <th>1</th>\n",
              "      <td>Jake</td>\n",
              "      <td>2</td>\n",
              "      <td>1</td>\n",
              "    </tr>\n",
              "    <tr>\n",
              "      <th>2</th>\n",
              "      <td>Lisa</td>\n",
              "      <td>3</td>\n",
              "      <td>4</td>\n",
              "    </tr>\n",
              "    <tr>\n",
              "      <th>3</th>\n",
              "      <td>Sue</td>\n",
              "      <td>4</td>\n",
              "      <td>2</td>\n",
              "    </tr>\n",
              "  </tbody>\n",
              "</table>\n",
              "</div>"
            ],
            "text/plain": [
              "   name  rank_L  rank_R\n",
              "0   Bob       1       3\n",
              "1  Jake       2       1\n",
              "2  Lisa       3       4\n",
              "3   Sue       4       2"
            ]
          },
          "metadata": {
            "tags": []
          },
          "execution_count": 26
        }
      ]
    },
    {
      "cell_type": "markdown",
      "metadata": {
        "id": "6BLbTlTzoG_Q"
      },
      "source": [
        "#Aggregation and Grouping"
      ]
    },
    {
      "cell_type": "code",
      "metadata": {
        "colab": {
          "base_uri": "https://localhost:8080/"
        },
        "id": "r5ivSPZoo2h1",
        "outputId": "be6ffe41-66e2-41cd-c734-495b521af726"
      },
      "source": [
        "import seaborn as sns\r\n",
        "planets = sns.load_dataset('planets')\r\n",
        "planets.shape"
      ],
      "execution_count": 4,
      "outputs": [
        {
          "output_type": "execute_result",
          "data": {
            "text/plain": [
              "(1035, 6)"
            ]
          },
          "metadata": {
            "tags": []
          },
          "execution_count": 4
        }
      ]
    },
    {
      "cell_type": "code",
      "metadata": {
        "colab": {
          "base_uri": "https://localhost:8080/",
          "height": 195
        },
        "id": "x2Q3m5vIp1Fb",
        "outputId": "440edfb8-2fc9-48bd-a2d5-6c1f169bf2e2"
      },
      "source": [
        "planets.head()"
      ],
      "execution_count": 5,
      "outputs": [
        {
          "output_type": "execute_result",
          "data": {
            "text/html": [
              "<div>\n",
              "<style scoped>\n",
              "    .dataframe tbody tr th:only-of-type {\n",
              "        vertical-align: middle;\n",
              "    }\n",
              "\n",
              "    .dataframe tbody tr th {\n",
              "        vertical-align: top;\n",
              "    }\n",
              "\n",
              "    .dataframe thead th {\n",
              "        text-align: right;\n",
              "    }\n",
              "</style>\n",
              "<table border=\"1\" class=\"dataframe\">\n",
              "  <thead>\n",
              "    <tr style=\"text-align: right;\">\n",
              "      <th></th>\n",
              "      <th>method</th>\n",
              "      <th>number</th>\n",
              "      <th>orbital_period</th>\n",
              "      <th>mass</th>\n",
              "      <th>distance</th>\n",
              "      <th>year</th>\n",
              "    </tr>\n",
              "  </thead>\n",
              "  <tbody>\n",
              "    <tr>\n",
              "      <th>0</th>\n",
              "      <td>Radial Velocity</td>\n",
              "      <td>1</td>\n",
              "      <td>269.300</td>\n",
              "      <td>7.10</td>\n",
              "      <td>77.40</td>\n",
              "      <td>2006</td>\n",
              "    </tr>\n",
              "    <tr>\n",
              "      <th>1</th>\n",
              "      <td>Radial Velocity</td>\n",
              "      <td>1</td>\n",
              "      <td>874.774</td>\n",
              "      <td>2.21</td>\n",
              "      <td>56.95</td>\n",
              "      <td>2008</td>\n",
              "    </tr>\n",
              "    <tr>\n",
              "      <th>2</th>\n",
              "      <td>Radial Velocity</td>\n",
              "      <td>1</td>\n",
              "      <td>763.000</td>\n",
              "      <td>2.60</td>\n",
              "      <td>19.84</td>\n",
              "      <td>2011</td>\n",
              "    </tr>\n",
              "    <tr>\n",
              "      <th>3</th>\n",
              "      <td>Radial Velocity</td>\n",
              "      <td>1</td>\n",
              "      <td>326.030</td>\n",
              "      <td>19.40</td>\n",
              "      <td>110.62</td>\n",
              "      <td>2007</td>\n",
              "    </tr>\n",
              "    <tr>\n",
              "      <th>4</th>\n",
              "      <td>Radial Velocity</td>\n",
              "      <td>1</td>\n",
              "      <td>516.220</td>\n",
              "      <td>10.50</td>\n",
              "      <td>119.47</td>\n",
              "      <td>2009</td>\n",
              "    </tr>\n",
              "  </tbody>\n",
              "</table>\n",
              "</div>"
            ],
            "text/plain": [
              "            method  number  orbital_period   mass  distance  year\n",
              "0  Radial Velocity       1         269.300   7.10     77.40  2006\n",
              "1  Radial Velocity       1         874.774   2.21     56.95  2008\n",
              "2  Radial Velocity       1         763.000   2.60     19.84  2011\n",
              "3  Radial Velocity       1         326.030  19.40    110.62  2007\n",
              "4  Radial Velocity       1         516.220  10.50    119.47  2009"
            ]
          },
          "metadata": {
            "tags": []
          },
          "execution_count": 5
        }
      ]
    },
    {
      "cell_type": "code",
      "metadata": {
        "colab": {
          "base_uri": "https://localhost:8080/"
        },
        "id": "DlnZCXiiqKDE",
        "outputId": "45efbe4e-3f6b-49b0-f712-c6efceff2aac"
      },
      "source": [
        "rng = np.random.RandomState(42)\r\n",
        "ser = pd.Series(rng.rand(5))\r\n",
        "ser"
      ],
      "execution_count": 6,
      "outputs": [
        {
          "output_type": "execute_result",
          "data": {
            "text/plain": [
              "0    0.374540\n",
              "1    0.950714\n",
              "2    0.731994\n",
              "3    0.598658\n",
              "4    0.156019\n",
              "dtype: float64"
            ]
          },
          "metadata": {
            "tags": []
          },
          "execution_count": 6
        }
      ]
    },
    {
      "cell_type": "code",
      "metadata": {
        "colab": {
          "base_uri": "https://localhost:8080/",
          "height": 195
        },
        "id": "hb-D4Wqqp3L9",
        "outputId": "0dd373dc-2717-4dad-ee68-08cc1549907e"
      },
      "source": [
        "df = pd.DataFrame({'A': rng.rand(5),\r\n",
        "                   'B': rng.rand(5)})\r\n",
        "df"
      ],
      "execution_count": 7,
      "outputs": [
        {
          "output_type": "execute_result",
          "data": {
            "text/html": [
              "<div>\n",
              "<style scoped>\n",
              "    .dataframe tbody tr th:only-of-type {\n",
              "        vertical-align: middle;\n",
              "    }\n",
              "\n",
              "    .dataframe tbody tr th {\n",
              "        vertical-align: top;\n",
              "    }\n",
              "\n",
              "    .dataframe thead th {\n",
              "        text-align: right;\n",
              "    }\n",
              "</style>\n",
              "<table border=\"1\" class=\"dataframe\">\n",
              "  <thead>\n",
              "    <tr style=\"text-align: right;\">\n",
              "      <th></th>\n",
              "      <th>A</th>\n",
              "      <th>B</th>\n",
              "    </tr>\n",
              "  </thead>\n",
              "  <tbody>\n",
              "    <tr>\n",
              "      <th>0</th>\n",
              "      <td>0.155995</td>\n",
              "      <td>0.020584</td>\n",
              "    </tr>\n",
              "    <tr>\n",
              "      <th>1</th>\n",
              "      <td>0.058084</td>\n",
              "      <td>0.969910</td>\n",
              "    </tr>\n",
              "    <tr>\n",
              "      <th>2</th>\n",
              "      <td>0.866176</td>\n",
              "      <td>0.832443</td>\n",
              "    </tr>\n",
              "    <tr>\n",
              "      <th>3</th>\n",
              "      <td>0.601115</td>\n",
              "      <td>0.212339</td>\n",
              "    </tr>\n",
              "    <tr>\n",
              "      <th>4</th>\n",
              "      <td>0.708073</td>\n",
              "      <td>0.181825</td>\n",
              "    </tr>\n",
              "  </tbody>\n",
              "</table>\n",
              "</div>"
            ],
            "text/plain": [
              "          A         B\n",
              "0  0.155995  0.020584\n",
              "1  0.058084  0.969910\n",
              "2  0.866176  0.832443\n",
              "3  0.601115  0.212339\n",
              "4  0.708073  0.181825"
            ]
          },
          "metadata": {
            "tags": []
          },
          "execution_count": 7
        }
      ]
    },
    {
      "cell_type": "code",
      "metadata": {
        "colab": {
          "base_uri": "https://localhost:8080/"
        },
        "id": "zZRicIBwqINz",
        "outputId": "04d84dea-9e09-498d-8897-612d8f976e3a"
      },
      "source": [
        "df.mean()"
      ],
      "execution_count": 8,
      "outputs": [
        {
          "output_type": "execute_result",
          "data": {
            "text/plain": [
              "A    0.477888\n",
              "B    0.443420\n",
              "dtype: float64"
            ]
          },
          "metadata": {
            "tags": []
          },
          "execution_count": 8
        }
      ]
    },
    {
      "cell_type": "code",
      "metadata": {
        "id": "i0GXhTwsqYxu",
        "colab": {
          "base_uri": "https://localhost:8080/"
        },
        "outputId": "5c5ec267-5309-49d4-c08e-122dbe5246c6"
      },
      "source": [
        "df.mean(axis='columns')"
      ],
      "execution_count": 9,
      "outputs": [
        {
          "output_type": "execute_result",
          "data": {
            "text/plain": [
              "0    0.088290\n",
              "1    0.513997\n",
              "2    0.849309\n",
              "3    0.406727\n",
              "4    0.444949\n",
              "dtype: float64"
            ]
          },
          "metadata": {
            "tags": []
          },
          "execution_count": 9
        }
      ]
    },
    {
      "cell_type": "code",
      "metadata": {
        "colab": {
          "base_uri": "https://localhost:8080/",
          "height": 284
        },
        "id": "wepJC-ygqbUM",
        "outputId": "5b51003f-dd64-45f5-e879-fe5f6c11834d"
      },
      "source": [
        "#Bu veri setindeki tümm özellikleri gözlemlemenin kolay yoludur\r\n",
        "planets.dropna().describe()"
      ],
      "execution_count": 10,
      "outputs": [
        {
          "output_type": "execute_result",
          "data": {
            "text/html": [
              "<div>\n",
              "<style scoped>\n",
              "    .dataframe tbody tr th:only-of-type {\n",
              "        vertical-align: middle;\n",
              "    }\n",
              "\n",
              "    .dataframe tbody tr th {\n",
              "        vertical-align: top;\n",
              "    }\n",
              "\n",
              "    .dataframe thead th {\n",
              "        text-align: right;\n",
              "    }\n",
              "</style>\n",
              "<table border=\"1\" class=\"dataframe\">\n",
              "  <thead>\n",
              "    <tr style=\"text-align: right;\">\n",
              "      <th></th>\n",
              "      <th>number</th>\n",
              "      <th>orbital_period</th>\n",
              "      <th>mass</th>\n",
              "      <th>distance</th>\n",
              "      <th>year</th>\n",
              "    </tr>\n",
              "  </thead>\n",
              "  <tbody>\n",
              "    <tr>\n",
              "      <th>count</th>\n",
              "      <td>498.00000</td>\n",
              "      <td>498.000000</td>\n",
              "      <td>498.000000</td>\n",
              "      <td>498.000000</td>\n",
              "      <td>498.000000</td>\n",
              "    </tr>\n",
              "    <tr>\n",
              "      <th>mean</th>\n",
              "      <td>1.73494</td>\n",
              "      <td>835.778671</td>\n",
              "      <td>2.509320</td>\n",
              "      <td>52.068213</td>\n",
              "      <td>2007.377510</td>\n",
              "    </tr>\n",
              "    <tr>\n",
              "      <th>std</th>\n",
              "      <td>1.17572</td>\n",
              "      <td>1469.128259</td>\n",
              "      <td>3.636274</td>\n",
              "      <td>46.596041</td>\n",
              "      <td>4.167284</td>\n",
              "    </tr>\n",
              "    <tr>\n",
              "      <th>min</th>\n",
              "      <td>1.00000</td>\n",
              "      <td>1.328300</td>\n",
              "      <td>0.003600</td>\n",
              "      <td>1.350000</td>\n",
              "      <td>1989.000000</td>\n",
              "    </tr>\n",
              "    <tr>\n",
              "      <th>25%</th>\n",
              "      <td>1.00000</td>\n",
              "      <td>38.272250</td>\n",
              "      <td>0.212500</td>\n",
              "      <td>24.497500</td>\n",
              "      <td>2005.000000</td>\n",
              "    </tr>\n",
              "    <tr>\n",
              "      <th>50%</th>\n",
              "      <td>1.00000</td>\n",
              "      <td>357.000000</td>\n",
              "      <td>1.245000</td>\n",
              "      <td>39.940000</td>\n",
              "      <td>2009.000000</td>\n",
              "    </tr>\n",
              "    <tr>\n",
              "      <th>75%</th>\n",
              "      <td>2.00000</td>\n",
              "      <td>999.600000</td>\n",
              "      <td>2.867500</td>\n",
              "      <td>59.332500</td>\n",
              "      <td>2011.000000</td>\n",
              "    </tr>\n",
              "    <tr>\n",
              "      <th>max</th>\n",
              "      <td>6.00000</td>\n",
              "      <td>17337.500000</td>\n",
              "      <td>25.000000</td>\n",
              "      <td>354.000000</td>\n",
              "      <td>2014.000000</td>\n",
              "    </tr>\n",
              "  </tbody>\n",
              "</table>\n",
              "</div>"
            ],
            "text/plain": [
              "          number  orbital_period        mass    distance         year\n",
              "count  498.00000      498.000000  498.000000  498.000000   498.000000\n",
              "mean     1.73494      835.778671    2.509320   52.068213  2007.377510\n",
              "std      1.17572     1469.128259    3.636274   46.596041     4.167284\n",
              "min      1.00000        1.328300    0.003600    1.350000  1989.000000\n",
              "25%      1.00000       38.272250    0.212500   24.497500  2005.000000\n",
              "50%      1.00000      357.000000    1.245000   39.940000  2009.000000\n",
              "75%      2.00000      999.600000    2.867500   59.332500  2011.000000\n",
              "max      6.00000    17337.500000   25.000000  354.000000  2014.000000"
            ]
          },
          "metadata": {
            "tags": []
          },
          "execution_count": 10
        }
      ]
    },
    {
      "cell_type": "markdown",
      "metadata": {
        "id": "clXaFe22qhV0"
      },
      "source": [
        "#**Pivot Tables**"
      ]
    },
    {
      "cell_type": "code",
      "metadata": {
        "id": "j5ofzvehb-jZ"
      },
      "source": [
        "titanic = sns.load_dataset('titanic')"
      ],
      "execution_count": 12,
      "outputs": []
    },
    {
      "cell_type": "code",
      "metadata": {
        "colab": {
          "base_uri": "https://localhost:8080/",
          "height": 195
        },
        "id": "tjiM1nipcLGG",
        "outputId": "843db657-fa42-44a6-d1ac-1e856c3181d0"
      },
      "source": [
        "titanic.head()"
      ],
      "execution_count": 13,
      "outputs": [
        {
          "output_type": "execute_result",
          "data": {
            "text/html": [
              "<div>\n",
              "<style scoped>\n",
              "    .dataframe tbody tr th:only-of-type {\n",
              "        vertical-align: middle;\n",
              "    }\n",
              "\n",
              "    .dataframe tbody tr th {\n",
              "        vertical-align: top;\n",
              "    }\n",
              "\n",
              "    .dataframe thead th {\n",
              "        text-align: right;\n",
              "    }\n",
              "</style>\n",
              "<table border=\"1\" class=\"dataframe\">\n",
              "  <thead>\n",
              "    <tr style=\"text-align: right;\">\n",
              "      <th></th>\n",
              "      <th>survived</th>\n",
              "      <th>pclass</th>\n",
              "      <th>sex</th>\n",
              "      <th>age</th>\n",
              "      <th>sibsp</th>\n",
              "      <th>parch</th>\n",
              "      <th>fare</th>\n",
              "      <th>embarked</th>\n",
              "      <th>class</th>\n",
              "      <th>who</th>\n",
              "      <th>adult_male</th>\n",
              "      <th>deck</th>\n",
              "      <th>embark_town</th>\n",
              "      <th>alive</th>\n",
              "      <th>alone</th>\n",
              "    </tr>\n",
              "  </thead>\n",
              "  <tbody>\n",
              "    <tr>\n",
              "      <th>0</th>\n",
              "      <td>0</td>\n",
              "      <td>3</td>\n",
              "      <td>male</td>\n",
              "      <td>22.0</td>\n",
              "      <td>1</td>\n",
              "      <td>0</td>\n",
              "      <td>7.2500</td>\n",
              "      <td>S</td>\n",
              "      <td>Third</td>\n",
              "      <td>man</td>\n",
              "      <td>True</td>\n",
              "      <td>NaN</td>\n",
              "      <td>Southampton</td>\n",
              "      <td>no</td>\n",
              "      <td>False</td>\n",
              "    </tr>\n",
              "    <tr>\n",
              "      <th>1</th>\n",
              "      <td>1</td>\n",
              "      <td>1</td>\n",
              "      <td>female</td>\n",
              "      <td>38.0</td>\n",
              "      <td>1</td>\n",
              "      <td>0</td>\n",
              "      <td>71.2833</td>\n",
              "      <td>C</td>\n",
              "      <td>First</td>\n",
              "      <td>woman</td>\n",
              "      <td>False</td>\n",
              "      <td>C</td>\n",
              "      <td>Cherbourg</td>\n",
              "      <td>yes</td>\n",
              "      <td>False</td>\n",
              "    </tr>\n",
              "    <tr>\n",
              "      <th>2</th>\n",
              "      <td>1</td>\n",
              "      <td>3</td>\n",
              "      <td>female</td>\n",
              "      <td>26.0</td>\n",
              "      <td>0</td>\n",
              "      <td>0</td>\n",
              "      <td>7.9250</td>\n",
              "      <td>S</td>\n",
              "      <td>Third</td>\n",
              "      <td>woman</td>\n",
              "      <td>False</td>\n",
              "      <td>NaN</td>\n",
              "      <td>Southampton</td>\n",
              "      <td>yes</td>\n",
              "      <td>True</td>\n",
              "    </tr>\n",
              "    <tr>\n",
              "      <th>3</th>\n",
              "      <td>1</td>\n",
              "      <td>1</td>\n",
              "      <td>female</td>\n",
              "      <td>35.0</td>\n",
              "      <td>1</td>\n",
              "      <td>0</td>\n",
              "      <td>53.1000</td>\n",
              "      <td>S</td>\n",
              "      <td>First</td>\n",
              "      <td>woman</td>\n",
              "      <td>False</td>\n",
              "      <td>C</td>\n",
              "      <td>Southampton</td>\n",
              "      <td>yes</td>\n",
              "      <td>False</td>\n",
              "    </tr>\n",
              "    <tr>\n",
              "      <th>4</th>\n",
              "      <td>0</td>\n",
              "      <td>3</td>\n",
              "      <td>male</td>\n",
              "      <td>35.0</td>\n",
              "      <td>0</td>\n",
              "      <td>0</td>\n",
              "      <td>8.0500</td>\n",
              "      <td>S</td>\n",
              "      <td>Third</td>\n",
              "      <td>man</td>\n",
              "      <td>True</td>\n",
              "      <td>NaN</td>\n",
              "      <td>Southampton</td>\n",
              "      <td>no</td>\n",
              "      <td>True</td>\n",
              "    </tr>\n",
              "  </tbody>\n",
              "</table>\n",
              "</div>"
            ],
            "text/plain": [
              "   survived  pclass     sex   age  ...  deck  embark_town  alive  alone\n",
              "0         0       3    male  22.0  ...   NaN  Southampton     no  False\n",
              "1         1       1  female  38.0  ...     C    Cherbourg    yes  False\n",
              "2         1       3  female  26.0  ...   NaN  Southampton    yes   True\n",
              "3         1       1  female  35.0  ...     C  Southampton    yes  False\n",
              "4         0       3    male  35.0  ...   NaN  Southampton     no   True\n",
              "\n",
              "[5 rows x 15 columns]"
            ]
          },
          "metadata": {
            "tags": []
          },
          "execution_count": 13
        }
      ]
    },
    {
      "cell_type": "code",
      "metadata": {
        "colab": {
          "base_uri": "https://localhost:8080/",
          "height": 136
        },
        "id": "TJsisMV-cNIy",
        "outputId": "be1ad146-42c6-48fb-f6f3-53da9faab29a"
      },
      "source": [
        "titanic.groupby('sex')[['survived']].mean()"
      ],
      "execution_count": 14,
      "outputs": [
        {
          "output_type": "execute_result",
          "data": {
            "text/html": [
              "<div>\n",
              "<style scoped>\n",
              "    .dataframe tbody tr th:only-of-type {\n",
              "        vertical-align: middle;\n",
              "    }\n",
              "\n",
              "    .dataframe tbody tr th {\n",
              "        vertical-align: top;\n",
              "    }\n",
              "\n",
              "    .dataframe thead th {\n",
              "        text-align: right;\n",
              "    }\n",
              "</style>\n",
              "<table border=\"1\" class=\"dataframe\">\n",
              "  <thead>\n",
              "    <tr style=\"text-align: right;\">\n",
              "      <th></th>\n",
              "      <th>survived</th>\n",
              "    </tr>\n",
              "    <tr>\n",
              "      <th>sex</th>\n",
              "      <th></th>\n",
              "    </tr>\n",
              "  </thead>\n",
              "  <tbody>\n",
              "    <tr>\n",
              "      <th>female</th>\n",
              "      <td>0.742038</td>\n",
              "    </tr>\n",
              "    <tr>\n",
              "      <th>male</th>\n",
              "      <td>0.188908</td>\n",
              "    </tr>\n",
              "  </tbody>\n",
              "</table>\n",
              "</div>"
            ],
            "text/plain": [
              "        survived\n",
              "sex             \n",
              "female  0.742038\n",
              "male    0.188908"
            ]
          },
          "metadata": {
            "tags": []
          },
          "execution_count": 14
        }
      ]
    },
    {
      "cell_type": "code",
      "metadata": {
        "colab": {
          "base_uri": "https://localhost:8080/",
          "height": 136
        },
        "id": "Rv--4e9OcUl1",
        "outputId": "c8768bae-8335-415a-8675-152b9f323a8a"
      },
      "source": [
        "#Böylece hayatta kalanların class ve cinsiyete göre dağılımını dataframe haline getirebilirim\r\n",
        "titanic.groupby(['sex', 'class'])['survived'].aggregate('mean').unstack()"
      ],
      "execution_count": 16,
      "outputs": [
        {
          "output_type": "execute_result",
          "data": {
            "text/html": [
              "<div>\n",
              "<style scoped>\n",
              "    .dataframe tbody tr th:only-of-type {\n",
              "        vertical-align: middle;\n",
              "    }\n",
              "\n",
              "    .dataframe tbody tr th {\n",
              "        vertical-align: top;\n",
              "    }\n",
              "\n",
              "    .dataframe thead th {\n",
              "        text-align: right;\n",
              "    }\n",
              "</style>\n",
              "<table border=\"1\" class=\"dataframe\">\n",
              "  <thead>\n",
              "    <tr style=\"text-align: right;\">\n",
              "      <th>class</th>\n",
              "      <th>First</th>\n",
              "      <th>Second</th>\n",
              "      <th>Third</th>\n",
              "    </tr>\n",
              "    <tr>\n",
              "      <th>sex</th>\n",
              "      <th></th>\n",
              "      <th></th>\n",
              "      <th></th>\n",
              "    </tr>\n",
              "  </thead>\n",
              "  <tbody>\n",
              "    <tr>\n",
              "      <th>female</th>\n",
              "      <td>0.968085</td>\n",
              "      <td>0.921053</td>\n",
              "      <td>0.500000</td>\n",
              "    </tr>\n",
              "    <tr>\n",
              "      <th>male</th>\n",
              "      <td>0.368852</td>\n",
              "      <td>0.157407</td>\n",
              "      <td>0.135447</td>\n",
              "    </tr>\n",
              "  </tbody>\n",
              "</table>\n",
              "</div>"
            ],
            "text/plain": [
              "class      First    Second     Third\n",
              "sex                                 \n",
              "female  0.968085  0.921053  0.500000\n",
              "male    0.368852  0.157407  0.135447"
            ]
          },
          "metadata": {
            "tags": []
          },
          "execution_count": 16
        }
      ]
    },
    {
      "cell_type": "markdown",
      "metadata": {
        "id": "lwTBJTFAclH0"
      },
      "source": [
        "***Bunu yaparken çeşitli yöntemler kullanabilirim. Mesela pivot table***"
      ]
    },
    {
      "cell_type": "code",
      "metadata": {
        "colab": {
          "base_uri": "https://localhost:8080/",
          "height": 136
        },
        "id": "Q8RFSXE4dHaa",
        "outputId": "98438572-bf03-4d9a-862e-0f1210ba2165"
      },
      "source": [
        "titanic.pivot_table('survived', index='sex', columns='class')"
      ],
      "execution_count": 17,
      "outputs": [
        {
          "output_type": "execute_result",
          "data": {
            "text/html": [
              "<div>\n",
              "<style scoped>\n",
              "    .dataframe tbody tr th:only-of-type {\n",
              "        vertical-align: middle;\n",
              "    }\n",
              "\n",
              "    .dataframe tbody tr th {\n",
              "        vertical-align: top;\n",
              "    }\n",
              "\n",
              "    .dataframe thead th {\n",
              "        text-align: right;\n",
              "    }\n",
              "</style>\n",
              "<table border=\"1\" class=\"dataframe\">\n",
              "  <thead>\n",
              "    <tr style=\"text-align: right;\">\n",
              "      <th>class</th>\n",
              "      <th>First</th>\n",
              "      <th>Second</th>\n",
              "      <th>Third</th>\n",
              "    </tr>\n",
              "    <tr>\n",
              "      <th>sex</th>\n",
              "      <th></th>\n",
              "      <th></th>\n",
              "      <th></th>\n",
              "    </tr>\n",
              "  </thead>\n",
              "  <tbody>\n",
              "    <tr>\n",
              "      <th>female</th>\n",
              "      <td>0.968085</td>\n",
              "      <td>0.921053</td>\n",
              "      <td>0.500000</td>\n",
              "    </tr>\n",
              "    <tr>\n",
              "      <th>male</th>\n",
              "      <td>0.368852</td>\n",
              "      <td>0.157407</td>\n",
              "      <td>0.135447</td>\n",
              "    </tr>\n",
              "  </tbody>\n",
              "</table>\n",
              "</div>"
            ],
            "text/plain": [
              "class      First    Second     Third\n",
              "sex                                 \n",
              "female  0.968085  0.921053  0.500000\n",
              "male    0.368852  0.157407  0.135447"
            ]
          },
          "metadata": {
            "tags": []
          },
          "execution_count": 17
        }
      ]
    },
    {
      "cell_type": "code",
      "metadata": {
        "colab": {
          "base_uri": "https://localhost:8080/",
          "height": 195
        },
        "id": "s2po0EFcdLZx",
        "outputId": "d50d36b4-1cb8-4204-d53b-bb328721d3bd"
      },
      "source": [
        "#pd.cut metoduyla çok boyutlu dataframe şeklinde bir tablo oluşturabiliriz\r\n",
        "age = pd.cut(titanic['age'], [0, 18, 80])\r\n",
        "titanic.pivot_table('survived', ['sex', age], 'class')"
      ],
      "execution_count": 19,
      "outputs": [
        {
          "output_type": "execute_result",
          "data": {
            "text/html": [
              "<div>\n",
              "<style scoped>\n",
              "    .dataframe tbody tr th:only-of-type {\n",
              "        vertical-align: middle;\n",
              "    }\n",
              "\n",
              "    .dataframe tbody tr th {\n",
              "        vertical-align: top;\n",
              "    }\n",
              "\n",
              "    .dataframe thead th {\n",
              "        text-align: right;\n",
              "    }\n",
              "</style>\n",
              "<table border=\"1\" class=\"dataframe\">\n",
              "  <thead>\n",
              "    <tr style=\"text-align: right;\">\n",
              "      <th></th>\n",
              "      <th>class</th>\n",
              "      <th>First</th>\n",
              "      <th>Second</th>\n",
              "      <th>Third</th>\n",
              "    </tr>\n",
              "    <tr>\n",
              "      <th>sex</th>\n",
              "      <th>age</th>\n",
              "      <th></th>\n",
              "      <th></th>\n",
              "      <th></th>\n",
              "    </tr>\n",
              "  </thead>\n",
              "  <tbody>\n",
              "    <tr>\n",
              "      <th rowspan=\"2\" valign=\"top\">female</th>\n",
              "      <th>(0, 18]</th>\n",
              "      <td>0.909091</td>\n",
              "      <td>1.000000</td>\n",
              "      <td>0.511628</td>\n",
              "    </tr>\n",
              "    <tr>\n",
              "      <th>(18, 80]</th>\n",
              "      <td>0.972973</td>\n",
              "      <td>0.900000</td>\n",
              "      <td>0.423729</td>\n",
              "    </tr>\n",
              "    <tr>\n",
              "      <th rowspan=\"2\" valign=\"top\">male</th>\n",
              "      <th>(0, 18]</th>\n",
              "      <td>0.800000</td>\n",
              "      <td>0.600000</td>\n",
              "      <td>0.215686</td>\n",
              "    </tr>\n",
              "    <tr>\n",
              "      <th>(18, 80]</th>\n",
              "      <td>0.375000</td>\n",
              "      <td>0.071429</td>\n",
              "      <td>0.133663</td>\n",
              "    </tr>\n",
              "  </tbody>\n",
              "</table>\n",
              "</div>"
            ],
            "text/plain": [
              "class               First    Second     Third\n",
              "sex    age                                   \n",
              "female (0, 18]   0.909091  1.000000  0.511628\n",
              "       (18, 80]  0.972973  0.900000  0.423729\n",
              "male   (0, 18]   0.800000  0.600000  0.215686\n",
              "       (18, 80]  0.375000  0.071429  0.133663"
            ]
          },
          "metadata": {
            "tags": []
          },
          "execution_count": 19
        }
      ]
    },
    {
      "cell_type": "code",
      "metadata": {
        "colab": {
          "base_uri": "https://localhost:8080/",
          "height": 225
        },
        "id": "apC6lbuedYMc",
        "outputId": "72b26c80-1ab7-4dad-f3ee-47d71b46e166"
      },
      "source": [
        "#Yeni sütunlarla kurmak ve geliştirmek için pd.qcut() metodunu kullanabilririm\r\n",
        "fare = pd.qcut(titanic['fare'], 2)\r\n",
        "titanic.pivot_table('survived', ['sex', age], [fare, 'class'])"
      ],
      "execution_count": 20,
      "outputs": [
        {
          "output_type": "execute_result",
          "data": {
            "text/html": [
              "<div>\n",
              "<style scoped>\n",
              "    .dataframe tbody tr th:only-of-type {\n",
              "        vertical-align: middle;\n",
              "    }\n",
              "\n",
              "    .dataframe tbody tr th {\n",
              "        vertical-align: top;\n",
              "    }\n",
              "\n",
              "    .dataframe thead tr th {\n",
              "        text-align: left;\n",
              "    }\n",
              "\n",
              "    .dataframe thead tr:last-of-type th {\n",
              "        text-align: right;\n",
              "    }\n",
              "</style>\n",
              "<table border=\"1\" class=\"dataframe\">\n",
              "  <thead>\n",
              "    <tr>\n",
              "      <th></th>\n",
              "      <th>fare</th>\n",
              "      <th colspan=\"3\" halign=\"left\">(-0.001, 14.454]</th>\n",
              "      <th colspan=\"3\" halign=\"left\">(14.454, 512.329]</th>\n",
              "    </tr>\n",
              "    <tr>\n",
              "      <th></th>\n",
              "      <th>class</th>\n",
              "      <th>First</th>\n",
              "      <th>Second</th>\n",
              "      <th>Third</th>\n",
              "      <th>First</th>\n",
              "      <th>Second</th>\n",
              "      <th>Third</th>\n",
              "    </tr>\n",
              "    <tr>\n",
              "      <th>sex</th>\n",
              "      <th>age</th>\n",
              "      <th></th>\n",
              "      <th></th>\n",
              "      <th></th>\n",
              "      <th></th>\n",
              "      <th></th>\n",
              "      <th></th>\n",
              "    </tr>\n",
              "  </thead>\n",
              "  <tbody>\n",
              "    <tr>\n",
              "      <th rowspan=\"2\" valign=\"top\">female</th>\n",
              "      <th>(0, 18]</th>\n",
              "      <td>NaN</td>\n",
              "      <td>1.000000</td>\n",
              "      <td>0.714286</td>\n",
              "      <td>0.909091</td>\n",
              "      <td>1.000000</td>\n",
              "      <td>0.318182</td>\n",
              "    </tr>\n",
              "    <tr>\n",
              "      <th>(18, 80]</th>\n",
              "      <td>NaN</td>\n",
              "      <td>0.880000</td>\n",
              "      <td>0.444444</td>\n",
              "      <td>0.972973</td>\n",
              "      <td>0.914286</td>\n",
              "      <td>0.391304</td>\n",
              "    </tr>\n",
              "    <tr>\n",
              "      <th rowspan=\"2\" valign=\"top\">male</th>\n",
              "      <th>(0, 18]</th>\n",
              "      <td>NaN</td>\n",
              "      <td>0.000000</td>\n",
              "      <td>0.260870</td>\n",
              "      <td>0.800000</td>\n",
              "      <td>0.818182</td>\n",
              "      <td>0.178571</td>\n",
              "    </tr>\n",
              "    <tr>\n",
              "      <th>(18, 80]</th>\n",
              "      <td>0.0</td>\n",
              "      <td>0.098039</td>\n",
              "      <td>0.125000</td>\n",
              "      <td>0.391304</td>\n",
              "      <td>0.030303</td>\n",
              "      <td>0.192308</td>\n",
              "    </tr>\n",
              "  </tbody>\n",
              "</table>\n",
              "</div>"
            ],
            "text/plain": [
              "fare            (-0.001, 14.454]            ... (14.454, 512.329]          \n",
              "class                      First    Second  ...            Second     Third\n",
              "sex    age                                  ...                            \n",
              "female (0, 18]               NaN  1.000000  ...          1.000000  0.318182\n",
              "       (18, 80]              NaN  0.880000  ...          0.914286  0.391304\n",
              "male   (0, 18]               NaN  0.000000  ...          0.818182  0.178571\n",
              "       (18, 80]              0.0  0.098039  ...          0.030303  0.192308\n",
              "\n",
              "[4 rows x 6 columns]"
            ]
          },
          "metadata": {
            "tags": []
          },
          "execution_count": 20
        }
      ]
    },
    {
      "cell_type": "code",
      "metadata": {
        "colab": {
          "base_uri": "https://localhost:8080/",
          "height": 166
        },
        "id": "fHsqy6QfeLS7",
        "outputId": "30fa6964-0716-40bb-8dee-0712ae7ed4cf"
      },
      "source": [
        "titanic.pivot_table(index='sex', columns='class',\r\n",
        "                    aggfunc={'survived':sum, 'fare':'mean'})"
      ],
      "execution_count": 21,
      "outputs": [
        {
          "output_type": "execute_result",
          "data": {
            "text/html": [
              "<div>\n",
              "<style scoped>\n",
              "    .dataframe tbody tr th:only-of-type {\n",
              "        vertical-align: middle;\n",
              "    }\n",
              "\n",
              "    .dataframe tbody tr th {\n",
              "        vertical-align: top;\n",
              "    }\n",
              "\n",
              "    .dataframe thead tr th {\n",
              "        text-align: left;\n",
              "    }\n",
              "\n",
              "    .dataframe thead tr:last-of-type th {\n",
              "        text-align: right;\n",
              "    }\n",
              "</style>\n",
              "<table border=\"1\" class=\"dataframe\">\n",
              "  <thead>\n",
              "    <tr>\n",
              "      <th></th>\n",
              "      <th colspan=\"3\" halign=\"left\">fare</th>\n",
              "      <th colspan=\"3\" halign=\"left\">survived</th>\n",
              "    </tr>\n",
              "    <tr>\n",
              "      <th>class</th>\n",
              "      <th>First</th>\n",
              "      <th>Second</th>\n",
              "      <th>Third</th>\n",
              "      <th>First</th>\n",
              "      <th>Second</th>\n",
              "      <th>Third</th>\n",
              "    </tr>\n",
              "    <tr>\n",
              "      <th>sex</th>\n",
              "      <th></th>\n",
              "      <th></th>\n",
              "      <th></th>\n",
              "      <th></th>\n",
              "      <th></th>\n",
              "      <th></th>\n",
              "    </tr>\n",
              "  </thead>\n",
              "  <tbody>\n",
              "    <tr>\n",
              "      <th>female</th>\n",
              "      <td>106.125798</td>\n",
              "      <td>21.970121</td>\n",
              "      <td>16.118810</td>\n",
              "      <td>91</td>\n",
              "      <td>70</td>\n",
              "      <td>72</td>\n",
              "    </tr>\n",
              "    <tr>\n",
              "      <th>male</th>\n",
              "      <td>67.226127</td>\n",
              "      <td>19.741782</td>\n",
              "      <td>12.661633</td>\n",
              "      <td>45</td>\n",
              "      <td>17</td>\n",
              "      <td>47</td>\n",
              "    </tr>\n",
              "  </tbody>\n",
              "</table>\n",
              "</div>"
            ],
            "text/plain": [
              "              fare                       survived             \n",
              "class        First     Second      Third    First Second Third\n",
              "sex                                                           \n",
              "female  106.125798  21.970121  16.118810       91     70    72\n",
              "male     67.226127  19.741782  12.661633       45     17    47"
            ]
          },
          "metadata": {
            "tags": []
          },
          "execution_count": 21
        }
      ]
    },
    {
      "cell_type": "markdown",
      "metadata": {
        "id": "ZDQW20Vhehrz"
      },
      "source": [
        "#**Vectorized String Operations**"
      ]
    },
    {
      "cell_type": "code",
      "metadata": {
        "id": "hh0wPt1Ve1Ix"
      },
      "source": [
        "data = ['peter', 'Paul', 'MARY', 'gUIDO']"
      ],
      "execution_count": 22,
      "outputs": []
    },
    {
      "cell_type": "code",
      "metadata": {
        "colab": {
          "base_uri": "https://localhost:8080/"
        },
        "id": "q0ZARvVsgH3o",
        "outputId": "39598efd-41aa-4e33-f33d-84726ff96b91"
      },
      "source": [
        "[s.capitalize() for s in data]"
      ],
      "execution_count": 23,
      "outputs": [
        {
          "output_type": "execute_result",
          "data": {
            "text/plain": [
              "['Peter', 'Paul', 'Mary', 'Guido']"
            ]
          },
          "metadata": {
            "tags": []
          },
          "execution_count": 23
        }
      ]
    },
    {
      "cell_type": "code",
      "metadata": {
        "colab": {
          "base_uri": "https://localhost:8080/"
        },
        "id": "o0uDxynpgKel",
        "outputId": "81b8c839-f716-4c82-c425-93ccc5982246"
      },
      "source": [
        "names = pd.Series(data)\r\n",
        "names"
      ],
      "execution_count": 24,
      "outputs": [
        {
          "output_type": "execute_result",
          "data": {
            "text/plain": [
              "0    peter\n",
              "1     Paul\n",
              "2     MARY\n",
              "3    gUIDO\n",
              "dtype: object"
            ]
          },
          "metadata": {
            "tags": []
          },
          "execution_count": 24
        }
      ]
    },
    {
      "cell_type": "code",
      "metadata": {
        "colab": {
          "base_uri": "https://localhost:8080/"
        },
        "id": "Pa8rxsRmgN6z",
        "outputId": "35ce715b-dda3-4923-bf0a-58e41dfcf97f"
      },
      "source": [
        "names.str.capitalize()"
      ],
      "execution_count": 25,
      "outputs": [
        {
          "output_type": "execute_result",
          "data": {
            "text/plain": [
              "0    Peter\n",
              "1     Paul\n",
              "2     Mary\n",
              "3    Guido\n",
              "dtype: object"
            ]
          },
          "metadata": {
            "tags": []
          },
          "execution_count": 25
        }
      ]
    },
    {
      "cell_type": "code",
      "metadata": {
        "id": "Rj4R_-AQgSd1"
      },
      "source": [
        "monte = pd.Series(['Graham Chapman', 'John Cleese', 'Terry Gilliam',\r\n",
        "                   'Eric Idle', 'Terry Jones', 'Michael Palin'])"
      ],
      "execution_count": 26,
      "outputs": []
    },
    {
      "cell_type": "markdown",
      "metadata": {
        "id": "MzBEjpkIgd1J"
      },
      "source": [
        "![Ekran Alıntısı.JPG](data:image/jpeg;base64,/9j/4AAQSkZJRgABAQEAeAB4AAD/4RDaRXhpZgAATU0AKgAAAAgABAE7AAIAAAAFAAAISodpAAQAAAABAAAIUJydAAEAAAAKAAAQyOocAAcAAAgMAAAAPgAAAAAc6gAAAAgAAAAAAAAAAAAAAAAAAAAAAAAAAAAAAAAAAAAAAAAAAAAAAAAAAAAAAAAAAAAAAAAAAAAAAAAAAAAAAAAAAAAAAAAAAAAAAAAAAAAAAAAAAAAAAAAAAAAAAAAAAAAAAAAAAAAAAAAAAAAAAAAAAAAAAAAAAAAAAAAAAAAAAAAAAAAAAAAAAAAAAAAAAAAAAAAAAAAAAAAAAAAAAAAAAAAAAAAAAAAAAAAAAAAAAAAAAAAAAAAAAAAAAAAAAAAAAAAAAAAAAAAAAAAAAAAAAAAAAAAAAAAAAAAAAAAAAAAAAAAAAAAAAAAAAAAAAAAAAAAAAAAAAAAAAAAAAAAAAAAAAAAAAAAAAAAAAAAAAAAAAAAAAAAAAAAAAAAAAAAAAAAAAAAAAAAAAAAAAAAAAAAAAAAAAAAAAAAAAAAAAAAAAAAAAAAAAAAAAAAAAAAAAAAAAAAAAAAAAAAAAAAAAAAAAAAAAAAAAAAAAAAAAAAAAAAAAAAAAAAAAAAAAAAAAAAAAAAAAAAAAAAAAAAAAAAAAAAAAAAAAAAAAAAAAAAAAAAAAAAAAAAAAAAAAAAAAAAAAAAAAAAAAAAAAAAAAAAAAAAAAAAAAAAAAAAAAAAAAAAAAAAAAAAAAAAAAAAAAAAAAAAAAAAAAAAAAAAAAAAAAAAAAAAAAAAAAAAAAAAAAAAAAAAAAAAAAAAAAAAAAAAAAAAAAAAAAAAAAAAAAAAAAAAAAAAAAAAAAAAAAAAAAAAAAAAAAAAAAAAAAAAAAAAAAAAAAAAAAAAAAAAAAAAAAAAAAAAAAAAAAAAAAAAAAAAAAAAAAAAAAAAAAAAAAAAAAAAAAAAAAAAAAAAAAAAAAAAAAAAAAAAAAAAAAAAAAAAAAAAAAAAAAAAAAAAAAAAAAAAAAAAAAAAAAAAAAAAAAAAAAAAAAAAAAAAAAAAAAAAAAAAAAAAAAAAAAAAAAAAAAAAAAAAAAAAAAAAAAAAAAAAAAAAAAAAAAAAAAAAAAAAAAAAAAAAAAAAAAAAAAAAAAAAAAAAAAAAAAAAAAAAAAAAAAAAAAAAAAAAAAAAAAAAAAAAAAAAAAAAAAAAAAAAAAAAAAAAAAAAAAAAAAAAAAAAAAAAAAAAAAAAAAAAAAAAAAAAAAAAAAAAAAAAAAAAAAAAAAAAAAAAAAAAAAAAAAAAAAAAAAAAAAAAAAAAAAAAAAAAAAAAAAAAAAAAAAAAAAAAAAAAAAAAAAAAAAAAAAAAAAAAAAAAAAAAAAAAAAAAAAAAAAAAAAAAAAAAAAAAAAAAAAAAAAAAAAAAAAAAAAAAAAAAAAAAAAAAAAAAAAAAAAAAAAAAAAAAAAAAAAAAAAAAAAAAAAAAAAAAAAAAAAAAAAAAAAAAAAAAAAAAAAAAAAAAAAAAAAAAAAAAAAAAAAAAAAAAAAAAAAAAAAAAAAAAAAAAAAAAAAAAAAAAAAAAAAAAAAAAAAAAAAAAAAAAAAAAAAAAAAAAAAAAAAAAAAAAAAAAAAAAAAAAAAAAAAAAAAAAAAAAAAAAAAAAAAAAAAAAAAAAAAAAAAAAAAAAAAAAAAAAAAAAAAAAAAAAAAAAAAAAAAAAAAAAAAAAAAAAAAAAAAAAAAAAAAAAAAAAAAAAAAAAAAAAAAAAAAAAAAAAAAAAAAAAAAAAAAAAAAAAAAAAAAAAAAAAAAAAAAAAAAAAAAAAAAAAAAAAAAAAAAAAAAAAAAAAAAAAAAAAAAAAAAAAAAAAAAAAAAAAAAAAAAAAAAAAAAAAAAAAAAAAAAAAAAAAAAAAAAAAAAAAAAAAAAAAAAAAAAAAAAAAAAAAAAAAAAAAAAAAAAAAAAAAAAAAAAAAAAAAAAAAAAAAAAAAAAAAAAAAAAAAAAAAAAAAAAAAAAAAAAAAAAAAAAAAAAAAAAAAAAAAAAAAAAAAAAAAAAAAAAAAAAAAAAAAAAAAAAAAAAAAAAAAAAAAAAAAAAAAAAAAAAAAAAAAAAAAAAAAAAAAAAAAAAAAAAAAAAAAAAAAAAAAAAAAAAAAAAAAAAAAAAAAAAAAAAAAAAAAAAAAAAAAAAAAAAAAAAAAAAAAAAAAAAAAAAAAAAAAAAAAAAAAAAAAAAAAAAAAAAAAAAAAAAAAAAAAAAAAAAAAAAAAAAAAAAAAAAAAAAAAAAAAAAAAAAAAAAAAAAAAAAAAAAAAAAAAAAAAAAAAAAAAAAAAAAAAAAAAAAAAAAAAAAAAAAAAAAAAAAAAAAAAAAAAAAAAAAAAAAAAAAAAAAAAAAAAAAAAAAAAAAAAAAAAAAAAAAAAAAAAAAAAAAAAAAAAAAAAAAAAAAAAAAAAAAAAAAAAAAAAAAAAAAAAAAAAAAAAAAAAAAAAAAAAAAAAAAAAAAAAAAAAAAAAAAAAAAAAAAAAAAAAAAAAAAAAAAAAAAAAAAAAAAAAAAAAAAAAAAAAAAAAAAAAAAAAAAAAAAAAAAAAAAAAAAAAAAAAAAAAAAAAAAAAAAAAAAAAAAAAAAAAAAAAAAAAAAAAAAAAAAAAAAAAAAAAAAAAAAAAAAAAAAAAAAAAAAAAAAAAAAAAAAAAAAAAAAAAAAAAAAAAAAAAAAAAAAAAAAAAAAAAAAAAAAAAAAAAAAAAAAAAAAAAAAAAAAAAAAAAAAAAAAAAAAAAAAAAAAAAAAAAAAAAAAAAAAAAAAAAAAAAAAAAAAAAAAAAAAAAAAAAAAAAAAAAAAAAAAAAAAAAAAAAAAAAAAAAAAAAAAAAAAAAAAGlyZW0AAAAFkAMAAgAAABQAABCekAQAAgAAABQAABCykpEAAgAAAAM4MAAAkpIAAgAAAAM4MAAA6hwABwAACAwAAAiSAAAAABzqAAAACAAAAAAAAAAAAAAAAAAAAAAAAAAAAAAAAAAAAAAAAAAAAAAAAAAAAAAAAAAAAAAAAAAAAAAAAAAAAAAAAAAAAAAAAAAAAAAAAAAAAAAAAAAAAAAAAAAAAAAAAAAAAAAAAAAAAAAAAAAAAAAAAAAAAAAAAAAAAAAAAAAAAAAAAAAAAAAAAAAAAAAAAAAAAAAAAAAAAAAAAAAAAAAAAAAAAAAAAAAAAAAAAAAAAAAAAAAAAAAAAAAAAAAAAAAAAAAAAAAAAAAAAAAAAAAAAAAAAAAAAAAAAAAAAAAAAAAAAAAAAAAAAAAAAAAAAAAAAAAAAAAAAAAAAAAAAAAAAAAAAAAAAAAAAAAAAAAAAAAAAAAAAAAAAAAAAAAAAAAAAAAAAAAAAAAAAAAAAAAAAAAAAAAAAAAAAAAAAAAAAAAAAAAAAAAAAAAAAAAAAAAAAAAAAAAAAAAAAAAAAAAAAAAAAAAAAAAAAAAAAAAAAAAAAAAAAAAAAAAAAAAAAAAAAAAAAAAAAAAAAAAAAAAAAAAAAAAAAAAAAAAAAAAAAAAAAAAAAAAAAAAAAAAAAAAAAAAAAAAAAAAAAAAAAAAAAAAAAAAAAAAAAAAAAAAAAAAAAAAAAAAAAAAAAAAAAAAAAAAAAAAAAAAAAAAAAAAAAAAAAAAAAAAAAAAAAAAAAAAAAAAAAAAAAAAAAAAAAAAAAAAAAAAAAAAAAAAAAAAAAAAAAAAAAAAAAAAAAAAAAAAAAAAAAAAAAAAAAAAAAAAAAAAAAAAAAAAAAAAAAAAAAAAAAAAAAAAAAAAAAAAAAAAAAAAAAAAAAAAAAAAAAAAAAAAAAAAAAAAAAAAAAAAAAAAAAAAAAAAAAAAAAAAAAAAAAAAAAAAAAAAAAAAAAAAAAAAAAAAAAAAAAAAAAAAAAAAAAAAAAAAAAAAAAAAAAAAAAAAAAAAAAAAAAAAAAAAAAAAAAAAAAAAAAAAAAAAAAAAAAAAAAAAAAAAAAAAAAAAAAAAAAAAAAAAAAAAAAAAAAAAAAAAAAAAAAAAAAAAAAAAAAAAAAAAAAAAAAAAAAAAAAAAAAAAAAAAAAAAAAAAAAAAAAAAAAAAAAAAAAAAAAAAAAAAAAAAAAAAAAAAAAAAAAAAAAAAAAAAAAAAAAAAAAAAAAAAAAAAAAAAAAAAAAAAAAAAAAAAAAAAAAAAAAAAAAAAAAAAAAAAAAAAAAAAAAAAAAAAAAAAAAAAAAAAAAAAAAAAAAAAAAAAAAAAAAAAAAAAAAAAAAAAAAAAAAAAAAAAAAAAAAAAAAAAAAAAAAAAAAAAAAAAAAAAAAAAAAAAAAAAAAAAAAAAAAAAAAAAAAAAAAAAAAAAAAAAAAAAAAAAAAAAAAAAAAAAAAAAAAAAAAAAAAAAAAAAAAAAAAAAAAAAAAAAAAAAAAAAAAAAAAAAAAAAAAAAAAAAAAAAAAAAAAAAAAAAAAAAAAAAAAAAAAAAAAAAAAAAAAAAAAAAAAAAAAAAAAAAAAAAAAAAAAAAAAAAAAAAAAAAAAAAAAAAAAAAAAAAAAAAAAAAAAAAAAAAAAAAAAAAAAAAAAAAAAAAAAAAAAAAAAAAAAAAAAAAAAAAAAAAAAAAAAAAAAAAAAAAAAAAAAAAAAAAAAAAAAAAAAAAAAAAAAAAAAAAAAAAAAAAAAAAAAAAAAAAAAAAAAAAAAAAAAAAAAAAAAAAAAAAAAAAAAAAAAAAAAAAAAAAAAAAAAAAAAAAAAAAAAAAAAAAAAAAAAAAAAAAAAAAAAAAAAAAAAAAAAAAAAAAAAAAAAAAAAAAAAAAAAAAAAAAAAAAAAAAAAAAAAAAAAAAAAAAAAAAAAAAAAAAAAAAAAAAAAAAAAAAAAAAAAAAAAAAAAAAAAAAAAAAAAAAAAAAAAAAAAAAAAAAAAAAAAAAAAAAAAAAAAAAAAAAAAAAAAAAAAAAAAAAAAAAAAAAAAAAAAAAAAAAAAAAAAAAAAAAAAAAAAAAAAAAAAAAAAAAAAAAAAAAAAAAAAAAAAAAAAAAAAAAAAAAAAAAAAAAAAAAAAAAAAAAAAAAAAAAAAAAAAAAAAAAAAAAAAAAAAAAAAAAAAAAAAAAAAAAAAAAAAAAAAAAAAAAAAAAAAAAAAAAAAAAAAAAAAAAAAAAAAAAAAAAAAAAAAAAAAAAAAAAAAAAAAAAAAAAAAAAAAAAAAAAAAAAAAAAAAAAAAAAAAAAAAAAAAAAAAAAAAAAAAAAAAAAAAAAAAAAAAAAAAAAAAAAAAAAAAAAAAAAAAAAAAAAAAAAAAAAAAAAAAAAAAAAAAAAAAAAAAAAAAAAAAAAAAAAAAAAAAAAAAAAAAAAAAAAAAAAAAAAAAAAAAAAAAAAAAAAAAAAAAAAAAAAAAAAAAAAAAAAAAAAAAAAAAAAAAAAAAAAAAAAAAAAAAAAAAAAAAAAAAAAAAAAAAAAAAAAAAAAAAAAAAAAAAAAAAAAAAAAAAAAAAAAAAAAAAAAAAAAAAAAAAAAAAAAAAAAAAAAAAAAAAAAAAAAAAAAAAAAAAAAAAAAAAAAAAAAAAAAAAAAAAAAAAAAAAAAAAAAAAAAAAAAAAAAAAAAAAAAAAAAAAAAAAAAAAAAAAAAAAAAAAAAAAAAAAAAAAAAAAAAAAAAAAAAAAAAAAAAAAAAAAAAAAAAAAAAAAAAAAAAAAAAAAAAAAAAAAAAAAAAAAAAAAAAAAAAAAAAAAAAAAAAAAAAAAAAAAAAAAAAAAAAAAAAAAAAAMjAyMTowMjowNCAyMjoyNjozMwAyMDIxOjAyOjA0IDIyOjI2OjMzAAAAaQByAGUAbQAAAP/hCxdodHRwOi8vbnMuYWRvYmUuY29tL3hhcC8xLjAvADw/eHBhY2tldCBiZWdpbj0n77u/JyBpZD0nVzVNME1wQ2VoaUh6cmVTek5UY3prYzlkJz8+DQo8eDp4bXBtZXRhIHhtbG5zOng9ImFkb2JlOm5zOm1ldGEvIj48cmRmOlJERiB4bWxuczpyZGY9Imh0dHA6Ly93d3cudzMub3JnLzE5OTkvMDIvMjItcmRmLXN5bnRheC1ucyMiPjxyZGY6RGVzY3JpcHRpb24gcmRmOmFib3V0PSJ1dWlkOmZhZjViZGQ1LWJhM2QtMTFkYS1hZDMxLWQzM2Q3NTE4MmYxYiIgeG1sbnM6ZGM9Imh0dHA6Ly9wdXJsLm9yZy9kYy9lbGVtZW50cy8xLjEvIi8+PHJkZjpEZXNjcmlwdGlvbiByZGY6YWJvdXQ9InV1aWQ6ZmFmNWJkZDUtYmEzZC0xMWRhLWFkMzEtZDMzZDc1MTgyZjFiIiB4bWxuczp4bXA9Imh0dHA6Ly9ucy5hZG9iZS5jb20veGFwLzEuMC8iPjx4bXA6Q3JlYXRlRGF0ZT4yMDIxLTAyLTA0VDIyOjI2OjMzLjgwMjwveG1wOkNyZWF0ZURhdGU+PC9yZGY6RGVzY3JpcHRpb24+PHJkZjpEZXNjcmlwdGlvbiByZGY6YWJvdXQ9InV1aWQ6ZmFmNWJkZDUtYmEzZC0xMWRhLWFkMzEtZDMzZDc1MTgyZjFiIiB4bWxuczpkYz0iaHR0cDovL3B1cmwub3JnL2RjL2VsZW1lbnRzLzEuMS8iPjxkYzpjcmVhdG9yPjxyZGY6U2VxIHhtbG5zOnJkZj0iaHR0cDovL3d3dy53My5vcmcvMTk5OS8wMi8yMi1yZGYtc3ludGF4LW5zIyI+PHJkZjpsaT5pcmVtPC9yZGY6bGk+PC9yZGY6U2VxPg0KCQkJPC9kYzpjcmVhdG9yPjwvcmRmOkRlc2NyaXB0aW9uPjwvcmRmOlJERj48L3g6eG1wbWV0YT4NCiAgICAgICAgICAgICAgICAgICAgICAgICAgICAgICAgICAgICAgICAgICAgICAgICAgICAgICAgICAgICAgICAgICAgICAgICAgICAgICAgICAgICAgICAgICAgICAgICAgICAKICAgICAgICAgICAgICAgICAgICAgICAgICAgICAgICAgICAgICAgICAgICAgICAgICAgICAgICAgICAgICAgICAgICAgICAgICAgICAgICAgICAgICAgICAgICAgICAgICAgIAogICAgICAgICAgICAgICAgICAgICAgICAgICAgICAgICAgICAgICAgICAgICAgICAgICAgICAgICAgICAgICAgICAgICAgICAgICAgICAgICAgICAgICAgICAgICAgICAgICAgCiAgICAgICAgICAgICAgICAgICAgICAgICAgICAgICAgICAgICAgICAgICAgICAgICAgICAgICAgICAgICAgICAgICAgICAgICAgICAgICAgICAgICAgICAgICAgICAgICAgICAKICAgICAgICAgICAgICAgICAgICAgICAgICAgICAgICAgICAgICAgICAgICAgICAgICAgICAgICAgICAgICAgICAgICAgICAgICAgICAgICAgICAgICAgICAgICAgICAgICAgIAogICAgICAgICAgICAgICAgICAgICAgICAgICAgICAgICAgICAgICAgICAgICAgICAgICAgICAgICAgICAgICAgICAgICAgICAgICAgICAgICAgICAgICAgICAgICAgICAgICAgCiAgICAgICAgICAgICAgICAgICAgICAgICAgICAgICAgICAgICAgICAgICAgICAgICAgICAgICAgICAgICAgICAgICAgICAgICAgICAgICAgICAgICAgICAgICAgICAgICAgICAKICAgICAgICAgICAgICAgICAgICAgICAgICAgICAgICAgICAgICAgICAgICAgICAgICAgICAgICAgICAgICAgICAgICAgICAgICAgICAgICAgICAgICAgICAgICAgICAgICAgIAogICAgICAgICAgICAgICAgICAgICAgICAgICAgICAgICAgICAgICAgICAgICAgICAgICAgICAgICAgICAgICAgICAgICAgICAgICAgICAgICAgICAgICAgICAgICAgICAgICAgCiAgICAgICAgICAgICAgICAgICAgICAgICAgICAgICAgICAgICAgICAgICAgICAgICAgICAgICAgICAgICAgICAgICAgICAgICAgICAgICAgICAgICAgICAgICAgICAgICAgICAKICAgICAgICAgICAgICAgICAgICAgICAgICAgICAgICAgICAgICAgICAgICAgICAgICAgICAgICAgICAgICAgICAgICAgICAgICAgICAgICAgICAgICAgICAgICAgICAgICAgIAogICAgICAgICAgICAgICAgICAgICAgICAgICAgICAgICAgICAgICAgICAgICAgICAgICAgICAgICAgICAgICAgICAgICAgICAgICAgICAgICAgICAgICAgICAgICAgICAgICAgCiAgICAgICAgICAgICAgICAgICAgICAgICAgICAgICAgICAgICAgICAgICAgICAgICAgICAgICAgICAgICAgICAgICAgICAgICAgICAgICAgICAgICAgICAgICAgICAgICAgICAKICAgICAgICAgICAgICAgICAgICAgICAgICAgICAgICAgICAgICAgICAgICAgICAgICAgICAgICAgICAgICAgICAgICAgICAgICAgICAgICAgICAgICAgICAgICAgICAgICAgIAogICAgICAgICAgICAgICAgICAgICAgICAgICAgICAgICAgICAgICAgICAgICAgICAgICAgICAgICAgICAgICAgICAgICAgICAgICAgICAgICAgICAgICAgICAgICAgICAgICAgCiAgICAgICAgICAgICAgICAgICAgICAgICAgICAgICAgICAgICAgICAgICAgICAgICAgICAgICAgICAgICAgICAgICAgICAgICAgICAgICAgICAgICAgICAgICAgICAgICAgICAKICAgICAgICAgICAgICAgICAgICAgICAgICAgICAgICAgICAgICAgICAgICAgICAgICAgICAgICAgICAgICAgICAgICAgICAgICAgICAgICAgICAgICAgICAgICAgICAgICAgIAogICAgICAgICAgICAgICAgICAgICAgICAgICAgICAgICAgICAgICAgICAgICAgICAgICAgICAgICAgICAgICAgICAgICAgICAgICAgICAgICAgICAgICAgICAgICAgICAgICAgCiAgICAgICAgICAgICAgICAgICAgICAgICAgICAgICAgICAgICAgICAgICAgICAgICAgICAgICAgICAgICAgICAgICAgICAgICAgICAgICAgICAgICAgICAgICAgICAgICAgICAKICAgICAgICAgICAgICAgICAgICAgICAgICAgICAgICAgICAgICAgICAgICAgICAgICAgICAgICAgICAgICAgICAgICAgICAgICAgICAgICAgICAgICAgICAgICAgICAgICAgIAogICAgICAgICAgICAgICAgICAgICAgICAgICAgPD94cGFja2V0IGVuZD0ndyc/Pv/bAEMABwUFBgUEBwYFBggHBwgKEQsKCQkKFQ8QDBEYFRoZGBUYFxseJyEbHSUdFxgiLiIlKCkrLCsaIC8zLyoyJyorKv/bAEMBBwgICgkKFAsLFCocGBwqKioqKioqKioqKioqKioqKioqKioqKioqKioqKioqKioqKioqKioqKioqKioqKioqKv/AABEIAPwCiAMBIgACEQEDEQH/xAAfAAABBQEBAQEBAQAAAAAAAAAAAQIDBAUGBwgJCgv/xAC1EAACAQMDAgQDBQUEBAAAAX0BAgMABBEFEiExQQYTUWEHInEUMoGRoQgjQrHBFVLR8CQzYnKCCQoWFxgZGiUmJygpKjQ1Njc4OTpDREVGR0hJSlNUVVZXWFlaY2RlZmdoaWpzdHV2d3h5eoOEhYaHiImKkpOUlZaXmJmaoqOkpaanqKmqsrO0tba3uLm6wsPExcbHyMnK0tPU1dbX2Nna4eLj5OXm5+jp6vHy8/T19vf4+fr/xAAfAQADAQEBAQEBAQEBAAAAAAAAAQIDBAUGBwgJCgv/xAC1EQACAQIEBAMEBwUEBAABAncAAQIDEQQFITEGEkFRB2FxEyIygQgUQpGhscEJIzNS8BVictEKFiQ04SXxFxgZGiYnKCkqNTY3ODk6Q0RFRkdISUpTVFVWV1hZWmNkZWZnaGlqc3R1dnd4eXqCg4SFhoeIiYqSk5SVlpeYmZqio6Slpqeoqaqys7S1tre4ubrCw8TFxsfIycrS09TV1tfY2dri4+Tl5ufo6ery8/T19vf4+fr/2gAMAwEAAhEDEQA/APpGiiigAooooAKKKKACiiigApC6qcMwB9zS1Tu/9cP92gC15sf99fzo82P++v51z0mtWUWsRaXKZ0ups+XutpBG+F3ECTbsJwCcZzWhQBo+bH/fX86PNj/vr+dZ1MkkSGJ5ZnWONFLM7HAUDqSaANTzY/76/nR5sf8AfX8652LWI59BOrQ2t08PltKkQi/eyIM4KrnuBkDrgjjPFW7W6gvrSK6tJVmgmQPHIhyGB6GgDZBDDIOR6iiorb/j3X8f51LQAUhYKMsQB7mlqC7/ANSP96gCXzY/76/nR5sf99fzrn9W1qy0S3WfUTOkRzl4raSVU92KKdo9zgVfoA0fNj/vr+dHmx/31/Os6igDR82P++v50ebH/fX86zqKANHzY/76/nR5sf8AfX86wn1SBdYi0xQ8ly8ZlYIMiJOgZz2yeB3OD2BISPVLd9Yl0xt8dykYlUOMCVDwWQ98Hg9xkeoyAbwkRjgMpPoDTqo23/Hwv4/yq9QAUUUUAFFFFACF1U4ZgD7mk82P++v51Vu/9cP92qnnxfaDb+annBN5j3DdtzjOOuM96ANXzY/76/nR5sf99fzrOooA0fNj/vr+dHmx/wB9fzrOooA0fNj/AL6/nR5sf99fzrKuJ1treSaQSFI1LERxtIxA9FUEk+wBNV9M1S01izNzYO7xB2jPmRPGyspwwKuAQQRjkUAbvmx/31/OjzY/76/nWdUcVxDM8qQyxyNC+yRUYEo2AcH0OCDj0IoA1fNj/vr+dHmx/wB9fzrOqnqOqW+mRwmfe8lxKsMMUYy8jnsB7DJJ6AAk9KAN3zY/76/nR5sf99fzrBvNUgsLy0guQ6C7cxxzY+QP2Vj2Lc47EjHUgG7QBp00yIDguufrTqzpf9c/+8aAL/mx/wB9fzo82P8Avr+dYNtq9jd6re6bbz77uxCG4j2MNm8ZXkjByB2Jq7QBo+bH/fX86PNj/vr+dc82t2Sa0mlOZ0u5ATGGtpBG+F3HbIV2HA7A1oUAaPmx/wB9fzo82P8Avr+dZ1FAGj5sf99fzo82P++v51nUUAaPmx/31/OjzY/76/nWDY6pBqM90loHdLWTymmx8jOPvKp77eh7Z46g4XTNUt9Vt5JLfejRSNFNFIMPE46qw/I+hBBGQRQBvKyt91gfoaWqtn/H+FWqACiiigAooooAKKKKACiiigAooooAKKKKACiiigAooooAKKKKACiiigAooooAKKKKACiiigAooooAKp3f+uH+7Vyqt0jNKCqkjb2FAHMa3/yM/hz/AK+Zv/RD1l6zq2s3Hii703TF1FFtLeORfsAtCXL7uX89gdo24AQD+LJ6Y6C78J6JqF091f6BYXVw+N0s1mju2BgZJGTxU2oeHtM1by/7U0i0vfKBEf2m2WTYD1A3A46CkBzjXmvX2u6Tps922kyXGlvc3iW8ccjJKrxjCswZRyxH8Qx74Irahe3OofDIPqEolL3SW11LgJviF0I3JA4GVBzjA5PSuzj0yCGSKSKyjR4YvJiZYgCicfIDjheBwOOBTJdItptNm097JfskyskkKptVg2d3A9ck/jVN/wBfO/8AwA6/12JwAqgKMAcADtWB4QXy7PUoogBbR6ncLBg5AXdkgewcuPwrRg0rUINA+wJfyNcrG0cd48ILKOQpI6MwGOehIzjtVjTtLj0vT4bO0ikEUQwC2WZj1JJ7kkkk9yaXW/8AX9aB0satt/x7r+P86lqO3BWBQRg88H61JQAVBd/6kf71T1DdKWiAUEnd2FAHK+Nv+RI1X/r3ak128uxqOk6ZaXhsBfPIHuUVS42JuCIHBXcfcHgNgdxp6joGnav5f9raTa33l52fabZZNmeuNwOOgpp8O6YdLGmnR7Q2AORa/ZV8oHOc7MY689KAOXXXtR0+4kiur43VpYaqtvNePGimWJoC2G2gLuV2UZUL0HHXLLzxhqC2uo3sNubdrDTTLLZSgN5cpkKqWbjICoTjIGD171166JYrp6WC6ZbizjIZLcW6+WpB3AhcYGDz9alTToY555o7NFluMedIsQDS4GBuOOcDjml0/rtb/gj/AK/G5zOhXHiAX5F7FqMlg9szmfUPsgZZARtCfZ2OVIJ+8OMDmovCz+ItT0fRdYudXScXCBrq2aBEjMZU4ZcLu8zO3PzBTzwOK6Gw8N6VpUry6XotnZSOu1nt7VIyy+hKgZFXLeyW0t0gtbYQwxjakcce1VHoAOBVf1+YuhgeG8PrfiSWTm4/tBY2yckRiGMoPp8xP1Jo8Rrt17w3LCP9IF88eQefKMMhcfT5VP1ArT/sRk1/+1LZniaSLyrmLZlZwM7D7MpJ57gkHtgGjO2vHU7h5JWji8q2i2YWEHG8+7MQOewAA75S6f1t/mHf+t/8jTtv+Phfx/lV6qVvG6zqSrAc8ke1XaACiiigAooooAp3f+uH+7XDy6XdyfESYJ4g1C3MmniRQiW/C+afkG6I/KMjrk88mu6ukZpQVUkbewrL1DQdP1fy/wC1dKtr7ys+X9pt1k2Z643A46D8qPtJ/wBbB0aMK6m1a+8a3WlWuqvY2kWnxT5igjaTezuOC4IwdoyCD0GMc0zUtQ1SGHTdMlnu21Z7ZprgaRHBltu1WbdcYQLlumN3I6AHPULYoty1wtqonZAjSiP5ioJIUnrgEnj3qvqGg6fq/l/2rpVtfeVny/tNusmzPXG4HHQflR0t/XUfW5x1nr+r6ppHhcRah5EupXM8FxcLDGzMqJJhgOUDHYDkZXPYjitK3uddm0HWrayuvtmoWV20EE0yojumEY9FCb8MwBKhchcjGa6RdLt1MJWxiBgdpIsQj92zZ3MvHBO45I65PrTZ9Gs7q3mt7rTYJobh980UkAZZG45YEYJ4HJ9BQ93/AF2F2/ruZXhq9ef7Za3c+pPeWzr5sWpJAHjDLlcGABCDz3J65xVfwzcR2mh6vcTPsjh1K+d2Kk7QJnJOBya2YfD+m2+myafBpFrFZSkmS2S2URvnrlQMHoKbYeG9K0p3fTNGs7NpF2u1varGWX0OAMih9bdv6/IFtbz/AM/8zldH1zVJvE2n2002oi21K1lmVb5LQYAClWiERLAfN0kz25zmpfCum3UfiDXmfXb+UQ6kN8TpbgTZgiwWxECPT5So+Ue+emsfDul6W27TNHtLNs5zb2qxnOMdgO1Pl0Kwn1KPUZtKtpL2MAJcvbqZFx0w2Mjqaez0/rW4tbanGHWvEuoX+oy6VbX8jWd69tHbx/ZBbMqMB+8LuJssOcjGMrgEctuXAEnxGsVnxiPTZngBP8ZkQOQPULgZ9zWndeGtKvr5by90WzubpcYnmtUdxjp8xGeKNU0RtRktJ42kt7uzl8yCZUzjPDKR3VlyCPoRyAaS0t/XS3/BHLW/9db/APAM/wAcKjeB9WL/AHo7dpIiOokXlCPfcBj3rbiLmFDKMOVG4Dscc1U1PRX1Wa0Fw7i0gk86S3Cf651IKbj/AHVI3Y7kL2BB0PKk/uN+VAGjWdL/AK5/941o1QlidpH+RiCT260Ac7o0t7H4k1awu9QnvYYI4JIjOkasm/fkfIi5Hyjrk1QF7qtl4mH9uT6hDaz3hhtTbpbtaOGH7tW+UzKx7n7u7vgitu08J6JYXaXVjoGn21whJSaGyRHXPHBAyKkh8N6VbaidQt9Gs4r1iWNzHaqshJ6ncBnnPNC3Do0Z2sf8jd4d/wB+4/8ARVV7qe/1LX9UtItak0iLToY2XyUiZn3qSZH8xW+UYwMY6Nk+mrd+EtEv7p7q+0DT7m4kOXmmskd24xySMnpU1/4f07VJIn1PSbW8eH/VtcWyyFPoSDilYNjk7PxhqSw211eWhma80uC4itI8KWk3N5pXOTjZtbBJ4HvUV14l1W4uLaCxkupItQvbpYZbNLcSrHDgBE84hDkhmJO44BwO47l9Pikuo7l7RGuIlKxymIF0BxkA4yAcDP0qvJ4f06XTV06XSbV7FTlbZrZTEDnOQuMdTmn5/wBbj/r8LHLXmq+JLLwxE02bS+bVIbaGS7jidpIXkVQ0ixMVz8xB2kdMjbmty2ttYsI9QFzqB1GLyg9q8qokqvg7lOxFXbkKQeTyc9BV6DQrC2s0tLbSraG2jkEqQx26qiuDkMFAwCDzn1q75Un9xvyoesWv62Qlo7/1uYXgxYV8E6P9nO5WtI3Ld2ZlyxPuWJJ96hsl8v4h6sIBiKSxtpJsHjzd0ig/XaB+AFaelaI2kG5it2c2kspligKf6gty4B/uljkDtk9sAGk6M+mrcSSvJc3V1KZZ52TG49AAP4VAAAHt3JJLbvK4lpGxr2f8f4VaqvaKy79ykdOoqxSGFFFFABRRRQAUUUUAFFFFABRRRQAUUUUAFFFFABRRRQAUUUUAFFFFABRRRQAUUUUAFFFFABRRRQAUx5UjbDnB+lPqnd/64f7tAE/2mL+9+ho+0xf3v0Nc9PrQttdttNmsLpRdFlhusxmJmCFiPv7xwD1XFWNTv/7M02a8+y3N55Qz5FpH5kr84wq96A8jZ+0xf3v0NH2mL+9+hqgDkA9PrS0AXvtMX979DR9pi/vfoay7y7hsLGe7u38uC3jaWR8E7VUZJwOTwKkjkWWJZIzlXAZT6g0AaH2mL+9+ho+0xf3v0NYGlasNXNzLbwkWkUpiinLf68rw5A/uhhgHvg9sEmk6suprcxyRG3u7SUw3EDNu2NgEEHurKQQfQ9iCAAdEkiSZ2HOOvFDusa5c4FV7P+P8Kfd/6kf71ADvtMX979DR9pi/vfoao0UAXvtMX979DR9pi/vfoao0UAXvtMX979DR9pi/vfoao0UAXvtMX979DR9pi/vfoawP7WD6/wD2XbQmVo4vNuZd2FgBzsHuzEHjsASe2QasqeIDpVzCYnki862k3ZWdRgOPZlJHHcEEd8AHQrPG7BVbJPtT6o23/Hwv4/yq9QAUUUUAFFFFADHlSNsOcH6U37TF/e/Q1Bd/64f7tQUAXvtMX979DR9pi/vfoayZL62h1CCykkxcXCO8SbT8wTG456DG4dfWrFAF77TF/e/Q0faYv736GqNQ3l3DYWM93dv5cFvG0sj4J2qoyTgcngUBuan2mL+9+ho+0xf3v0NZ8ciyxLJGcq4DKfUGnUAXvtMX979DR9pi/vfoao1Tj1DzNYm0/wCyXS+VEsv2losQvkkbVbPLDHI9xQBtfaYv736Gj7TF/e/Q1kx39tLqM1ikmbmCNJJE2n5VcsFOehzsb8qhs9VgvdS1CyiWQS2DokpYDaxZA4xz6HvigDc+0xf3v0NH2mL+9+hrC1jVY9H083DxtNI7rFBAn3ppGOFQemT3PAGSeBTNW1V9I0xb64tt8MbKboxvnyEx8zjj5gpxnocZPbBAOg+0xf3v0NH2mL+9+hqgrK6hkIZWGQQeopaAL32mL+9+ho+0xf3v0NYltqX2nVb2x+x3cX2QIftEsW2KbcM/u2z82Oh9DV2gC99pi/vfoaPtMX979DVGigC99pi/vfoaPtMX979DVGigC99pi/vfoaPtMX979DVGigC99pi/vfoaPtMX979DWBpWrDVzcy28JFpFKYopy3+vK8OQP7oYYB74PbBJpOrLqa3MckRt7u0lMNxAzbtjYBBB7qykEH0PYggAHRJIkmdhzjrxTqq2f8f4VaoAKKKKACiiigAooooAKKKKACiiigAooooAKKKKACiiigAooooAKKKKACiiigAooooAKKKKACiiigAqnd/64f7tXKrXMTySAouRjHWgDh/EfiDRrTxZocV3q1jBJb3EpmSW5RTEDA2CwJ4zkYz6ipfHNkn/AAi+qarBdX0F1b2TvC9tfzRKCASDsRwp+pHNdd9ml/u/qKyNX8LNrLNHdXt6tlJgT2UbxiKbB6ElS4BwAQrAH8TkXQezuZGq6umkeM9Ol1O/+yadLp0y5ml2xPMHjIHPBfbux3xnFZbX8tx4AtLmfWY7EtfSFzqF49oZ0Esn7oy/fjOADwM/LgjGa9B+zSjon6il+zS/3f1FHS39b3EtP68rHBPFF4i+Geox20V5ujjuFi8rU5pxO4VgCk27MsZJ4DcdscVpeHH0q48PTDw7qhvZWt1D7tQkujE5Q4BDu2zntx09q6v7NL/d/UUfZpf7v6ik1dNdwTtbyOf8GNC3gnR/s42qtpGhXurKuGB9wwIPvUNmpb4harLDjy1sLaOUgdZN8rAfgpH5itmx0NdOnuntFdEupPNaHcNiufvMo7bup7Z56k5NM0NdKt5I7dXdpZGlmlkYF5XPVmP5D0AAAwAKpu8riWkbGjZ/x/hT7v8A1I/3qLaN4928YzjHNOuUaSMBBk5zSGcVrerJo/jLS5tRvxZaa9ncK7TS7Iml3RlQcnBbG7HfriuabWGk0rQJNR1q60+zutWvkuJ5LhrdjEGm2ozNgr0VR0I4xggY9R+zS/3f1FUb3QVvtQ0+8m8wSafK0sQVhhiyMh3e2GPTHNNbW/re4f1+Fjgb/UJ7XwzcyW2r3MGljWbeO01Frks32dmj3kSPncgJfDNkYHcCrX226t7DxDL4TvLjUrKO0je1na5e7xP8wkEbtuLYUKcDcAe3UV2mq6Cur28MVz5irDcxXKmNgCWjcMAc54yOavfZpf7v6il9m39bJB1/ruef+E7x7jVJPsWrafcWv2RjLBDr0uoyl8ja+JEBjH3gcHByOOKseDtNvLzw/oOsS61fy3TRK9wJpmdJoypGzZkKCCVO/BbjknNdx9ml/u/qKPs0v939RT/r8w6HM+G8JrfiSKTi4/tBZGyMExmGMIfp8pH1Bo8RKZNc8NpDjz1v2k6ciMQyBz/48o/EVsvoatrEWpqrx3KRmJijACVOoVx3weR3GT2JBI9DVNYl1NleS5eMRKXYERIOSqDtk8nucD0GEunl+gd/P9S7bf8AHwv4/wAqvVUggkSZWZcAe9W6ACiiigAooooAp3f+uH+7XnniPUobHxQ8lxqUV4F8lU02DWZLW5iOeiwIcTFsggNgnpyMV6NcxPJICi5GMdai+zS/3f1FHW4dLHB+KbHS7fxjpOoave3NlaSxXEck7anNBGj4jKqCHATIVuBjdjnJp/irWLO1OmWQuVW3mgeaK4n1qSyikC7AP36BndsNkDOCMk5OK7n7NL/d/UUfZpf7v6ijpYdzza2vdSvfDPhRJNRvLeW41J7eaRJD5jRqJhtYsoJ4UDLAHIzwa19b8MyDwhrdot5f3iPFLLZwm6mMkZ8rHll9+6RS2TtbI5xjiuy+zS/3f1FH2aX+7+opSV0/MIuzT7HF6XNpD+D7xtA8RrG/2UeZdzai1yLRinDESOdmOeOOntWXYai0/hzxBDpcrSXcFl5q3dprU2oQltrYVXcgo+RkqB0K8mvSPs0v939RR9ml/u/qKptttomKSSTOHj8QXmr63pUCMIbe4uftNu0LkGe2WKQHdzyN4U8cYdKTStb0eL4hXtna6/HNHPaxlIJNTMw88ySblRWc4ONvyrjHHFdz9ml/u/qKPs0v939RR1uPpb+u/wDXkefPZaNpvxEvTquo3NkLm2t3tTNq08QmcPLuUZkG4DK/JyBu4AzzX1K0LX3jq/S8vIJbONJYRb3LxKrraqQx2Ebug4bI9utek/Zpf7v6ij7NL/d/UVPQaaUrs5PVJd2seFLm6x5TTOCSvAlaBtn0/iH1Ire1GWCHS7qW7KiBIXaUt0ChTnP4U/UtFTVtPks7yImOTBBVsMjA5DKezAgEHsRTL/QRqdnDa3plkhR1eRNwAn29Ff1XOCQMZxg8ZBclzJruKPutFDwlDPB4N0eK7BEyWUSuD1B2Dg+9a5OBk8Cpfs0v9z9RS/Zpf7v6inJ3bYkrKxw/hvW9H/4S/VLCw16O7jlSFreJ9TNwWf8AeFwm52PYZA6cVVg1GODxt5U2oxatLNesiLZ6zJ5lupBwslmDs2pjBbr0YjOa9C+zS/3f1FH2aX+7+opdbjezR5vqviE6fZeLbO51KWLUPtRaygErGURGKMhkUchM7jkcD5s45qXVr6ybxrqtprfiC5sIEsrd7W2iv2ty8jeYCyBSGZuB8oyDkZBOMeh/Zpf7v6iqMGgrb61eaonmGe7iiikUsNoEe7GO+fnOefSjdW/rYOrf9bnCT6i41Pw9D4u1mXSI5tIeS6Q3v2QSzBo8AsCCDyThSDwR0yDFealqtvoujpeTtHp0k9yr3N5fy2ZeNW/0fzJ1Uuu5eecbiBk84PoD6CsmvQ6sfM8+G2e2VQw2lWZWJI65yg7+tXvs0v8Ad/UU3qv67sOv9djzmW71H/hDLc2+tRMZdYghgudPvvtZjiaVRsMrKN5GSPmB4xnNdRbaNPpseoC11C5niniHkxXUrzNFIAQSHdiSD8vy9Bg461vfZpf7v6ij7NL/AHf1FJ6xa7/5JAtHf+tzn/BjQt4J0f7ONqraRoV7qyrhgfcMCD71DZqW+IWqyw48tbC2jlIHWTfKwH4KR+YrZsdDXTp7p7RXRLqTzWh3DYrn7zKO27qe2eepOTTNDXSreSO3V3aWRpZpZGBeVz1Zj+Q9AAAMACm3eVxLSNjRs/4/wq1UFtG8e7eMZxjmp6QwooooAKKKKACiiigAooooAKKKKACiiigAooooAKKKKACiiigAooooAKKKKACiiigAooooAKKKKACo5J1ibDA5xnipKp3f+uH+7QBL9rj9G/Kj7XH6N+VU6qancXdrps02m2P2+6QZjtvNEXmHPTceBQBr/a4/Rvyo+1x+jflVIdBkYPpS0AXPtcfo35Ufa4/RvyrK1G+j0zS7q/uFdorWF5nCAFiqgk4z34qWKZZrdJlyFdQw3dgRmgDQ+1x+jflR9rj9G/Kue0LVJtagmvhGkdjI5WzPO+RBwZD2wx+6PTB74Bo2rS3lxe2N/GkV/YyBZVTO2RGGUkXPOCMj2KsOcZIB0sUyy52gjHrRJIIly2cZxxUFn/H+FPu/9SP96gA+1x+jflR9rj9G/KsPW9VGj6YbkQmeRpI4YYg23fI7hFBPYZYZPOB2PShbnVk0i4nn063a+RWMVrb3ZdZSBwPMZFwSeOmBR0uBufa4/Rvyo+1x+jflWbayTS2cMlzB9nmdFaSHeG8tiOVyODg8ZqagC59rj9G/Kj7XH6N+VYj6nt8RRaX5WfMtXuPN3dNrKu3GP9rOc9qhsdVl1HXLyC2RPsNj+5kmbO6SfglV7bVBwT3JxxtORagdD9rj9G/KnxzrK2FBzjPNc3Z6tKfEF1pF/GiTKn2i2dM7ZoScd/4lPDfVT3wNy0/1x/3aOlw62LlFFFABRRRQAUUUUARyTrE2GBzjPFM+1x+jflUV3/rh/u1BQBc+1x+jflR9rj9G/KqdFAFz7XH6N+VH2uP0b8qxNF1P+19LW88ryd0kkezdu+47JnOB125/Gr9AFz7XH6N+VH2uP0b8qp1T0y5vbq3d9RsPsMqyuix+csm5AcK+R0yOcdqANj7XH6N+VH2uP0b8qxtL1OHVrI3VssioJpYcSAA5jdkPQnjKnHtUegat/bmh2+o+T5Hnbv3e/djDFeuB6UAbv2uP0b8qPtcfo35Vz13qso1+10mwjR5Sn2i6d84hhzgdP4mPA7cMe2CX+qy6brVlFcon2C9PkJKM7o5+SA3baw4B7MAOd3AB0S3SMwADZJx0qas6L/XJ/vCtGgAqFrpFYghsg46VNWdL/rn/AN40AWvtcfo35Ufa4/RvyrGtrm+l1W9guNP8i0hCfZ7rz1b7RkZb5Byu08c9au0AXPtcfo35Ufa4/RvyqnRQBc+1x+jflR9rj9G/KqdFAFz7XH6N+VH2uP0b8qp0UAXPtcfo35Ufa4/RvyrH0y5vbq3d9RsPsMqyuix+csm5AcK+R0yOcdquUAXPtcfo35Ufa4/RvyrnoNVlvPEdxYWcaG2sUAupm6+awBWNfcLyxPqo7nB/astv4lGm3qIsV1GZLKZM/MVA3xtn+L+IEdRnj5ckA6NLlJHCgNk+tS1Rtv8Aj4X8f5VeoAKKKKACiiigAooooAKKKKACiiigAooooAKKKKACiiigAooooAKKKKACiiigAooooAKKKKACqd3/AK4f7tXKgngaWQFSAMY5oA4BPCtrrPiXxM2s2crxTyQrbPIDtX9woMkWeA4PG8cjGM1J490PSpfBeq3l3YWtzeW9g6x3c8KNKMKcHeRkHPPHc1232ST1X86zL/wnY6ndLPextKQVLRfaJBFIVOQXjB2ORgcsD0HoKFpYd9bmFqjvp3jPTtUltbqa1GnTW5a1tnmIkLxsoIQEgEKeTxx1rLbTjN4AtIdThurSRb6SY2z6c94rfvZCElhjzuQg56gZ2kHpn0T7JJ6r+dH2ST1X86Olv63uJaf15WODTRV1r4c31hNoNjC4WcWUS2XkIzYYJKsTjMTEnoeR1zzWh4dttLbQZ4dE0ptKmkgVZgdNa0JfaR/EihyDnkZH511n2ST1X86Psknqv50mrpruC0t5HOeDZ0m8G6Yirse3gW2lj7xyRjY6n6MpFRWH+lePNWuoGzDBaQWjkdDKGdyPqFdf++q6CDRYra6uLiCNI5bpg0xUn52AwCR0zjAz1OB6Ciy0aLTrUW9lGkUQJbAJOSTkkk8kkkkk8mqbu+ZiSsuVFqz/AI/wp93/AKkf71LbwtFu3EHOOlOnjMsYC4BznmkM4jxtoNpq1nZyyaVDe3CX1qpdrYSOsXnrvGcEhduc9sZzT/EWmaJZ+FJbE6JHJbkP9ntbbTTMqSlWwwSNDtOSfmwOvWus+ySeq/nR9kk9V/Ok1eLiNOzTPP7yOTV/AejWsFpfh4buxiuI2tpoJFCsm88hWwBn5hx154p1zo1xpi+Jrfw5YNZwyW0DwRWcflK7fMJPLxgByoAyOc7fau++ySeq/nR9kk9V/Oqk738yUrJLscLoNjp8XjKO50LQZNNsv7PkjeY2BthI/mIcEMAxIGeWHPOCecaPhE+RHquny5FzbajO8gbqVkcyI30KsPxBHaup+ySeq/nVc6LEdSF/5aC6ERh8wMQSmc4PY4PTPTJx1NH9fjcP6/Cxz9x/pXxCsRA2TYWMzXGO3msgQH6+Wx/CuotP9cf92q9ro0Vm8720aI1xKZZmySXYgDJJ9gB7AACrsEDRSEsQRjHFLokPqT0UUUAFFFFABRRRQBTu/wDXD/dry3X9KubnxBqx1ECN5XU2N5/YNxfSwR7BtMUsT4iKsGOMA555zXq88DSyAqQBjHNRfZJPVfzo63Hc4K58Oxan4m1x9W0/7dENOt1gaeEtG8gEu5lU/LvHHI5Ge2eYntt6aF/wk+l3WpWS6WoML2j3IW6+XJkjAPzYyAzDA+bkZr0L7JJ6r+dH2ST1X86Ov9ef+Yv6/L/I85XSl/4V3ZWl9bXFj5V5JItmdNe7THmyERywRg7kwexAyFIPTMsaXcPhvTbu20VbdtP1MvHb2Nk0ImjIePeISN0ed+SD0wTnFeg/ZJPVfzo+ySeq/nQHSxw1jDdPql+/ii1e7SzsBbSSCzZ0ug7szbUCnf8AKEBCg85FO8GRWUuj3+kyaXNDbNd3LrbXWmyQxNC0pKgB0CkYI+Xt6V2/2ST1X86Psknqv50f1+Nwf9fdY4TwZpWl6RPNaHQxaapHcXOLhdNZVMTSsyAThNpGwqMbu2McVR0Pw4LLR/Dt4mlvFqa35+0TNCfOWImUEMTyEwRx05Fek/ZJPVfzo+ySeq/nR1TDv53OXtmFr8Q7+Ofg31jC9ux/iEbOHUfTep/4FR4v/f2mnWER/wBJutRtzEB1AjkEjt+Cof09a6C60WK8eB7mNHe3lEsLZIKMARkEexIPqCQaP7Fi/tL7eY0N15XkiQsSVTOSAOgycZx1wM9BQun9eYdx8X+uT/eFaNVUtXWRSSuAc9atUAFZ0xxI59zWjVV7V2kYgrgnPWgDg/Dcun2vi/VF03SruxtrxIfLI0ma3jZ18wuSTGADyOTjPvVWCzS18befaWC6lJNes0k15o0sc9upB3FbtgEZV6KuOVOATgV6J9kk9V/Oj7JJ6r+dC0dw6NHmt/4d+02fiy9l0ySa/W+MmnyNEzOuI4iGh9PmB5XrjnpWlfPPpvinWpXsL25GoafBFbfZrdpA7r5oKlgNqH5l5cqOetdx9kk9V/Oj7JJ6r+dJq8eXyt+Fh3s7/wBb3PJr7w9c3kFt5+m3TtDodgkeI3BjlWb5sY6Oqk8j5lBPTJqW80W8treC3jsFTRodSu99tJpsl3EASPKbyEZSy/ewRkAkHHceqfZJPVfzo+ySeq/nVN3d/X87iWit/W1jzeXR55PBlva273U8cmsQOEt7GeyNtF5q7lRGJdFHzHOcDPGAK6WPw/o2iW+oSQ2W2xuo1E9jDbeZE2AQSIlUkswIB4Odoro/sknqv50fZJPVfzpdLf1sl+gdThvB7eXoWp6fp1ndWEouLqW1Sawlt41RpGMe3egXoR8o5HpUng+10m2WBRotxa60sJF3dXOnyCR3/wCWhNwV2vlueHOe1dr9kk9V/Oj7JJ6r+dC0/D8P61B6/wBd/wCtDl/DjiDWNfsZiRcLe/aQG/iikRdrD2yrL/wGjXP9J8U+HrWE/voZ5LyTH8ESxMmT9WkUfn6V0D6NFJfxXrxp9phRo0lBIIVsZX3HAOD6UQ6LFBe3F3FGguLnb5shYksFGFHPQDngcZJPUmhdPL9A7+f67k1t/wAfC/j/ACq9VaK2eOUMSuB6VZoAKKKKACiiigAooooAKKKKACiiigAooooAKKKKACiiigAooooAKKKKACiiigAooooAKKKKACoZrjynC7c8Z61NVO7/ANcP92gB32z/AKZ/rR9s/wCmf61kX+t6VpUkceqanZ2Ty/6tbi4WMv8AQMRmlv8AWdM0pol1TUbSyM2RGLidY9+PTJGeo/OgDW+2f9M/1o+2f9M/1rLvdW07TVLajf2toAu8meZUwuQM8npkgfUiszXvF2l6HpEF+95ZyLcNH5AN0qCVGdVLqechQ2447Dt1oA6f7Z/0z/Wj7Z/0z/Wsm31nTLvT5L601G0ns4s+ZcRTq0aYGTlgcDAot9Z0u7sHvrTUrSe0jJD3Ec6tGpHXLA4HWgDW+2f9M/1o+2f9M/1rLtdU0++uZ7eyvra4ntm2zxRTK7RHkYYA5B4PX0qjo2oXOr6hfXSsE06GVrW3j28ysjYeQnrjcCoH+yTzkYAOi+2f9M/1o+2f9M/1rnbXULqDxRPpN+wkSaI3VlMFx8gIDxnHdSVIPcN6gk7NHS4dbFn7Z/0z/Wj7Z/0z/Ws271CysBm+u4LYbGk/fSqnyrjc3J6DIye2RWVrni/SdH8PNqg1CylEkTPaKbpALkjspzzzjOM4oGdP9s/6Z/rR9s/6Z/rXL6TrsbaPcX+oeIdEvIIiA1zZ4ihhb+6zGVx1I7jr05q1o+pPL4chv9WvNNdipaW5spc22MnBVmPTGOvfNOxJvfbP+mf60fbP+mf61lWeradqE88Nhf2t1LbttmjhmV2iOSMMAeDkHr6VmT+KbJvEmn6Tp1/Y3Ms00sdzFHMryRBI2PQH5fmAByKQzqPtn/TP9aPtn/TP9a5221C51HxPdW9swjsdNAjnO3JmmZQ23J6BVKk46lh6HJcahdaf4otra5YSWOpApA23BgmVd2wkdQyhiCehUjuMAHSx3PmSBdmM981PVG2/4+F/H+VXqACiiigAooooAhmuPKcLtzxnrUf2z/pn+tNu/wDXD/drn7rVmHiex02z1DSuQ7XlrNN/pWNuUMaA+vJyOnSgDovtn/TP9aPtn/TP9ayNR1rS9I8v+1tSs7HzM7PtM6x78dcbiM9RT77VtO0y1S51K/tbSByAktxMsasSMgAk4PFAGp9s/wCmf60fbP8Apn+tYWrXdy2gvf6Hd2nyxGdZJYjPHIgUnja69eOckexqWx1NJNDsb6+lhgNzDExLNtXe4BwMn1PAo7+QdjY+2f8ATP8AWj7Z/wBM/wBax7fXdIu7KS8tdUsp7WJtsk8dwjIh44LA4B5H51YmvbW3Z1nuYYjHH5rh5Au1Om456D3oA0Ptn/TP9aPtn/TP9ax4Nc0m6uVt7bVLOad2ZVijuEZmK/eAAOcjv6VVttQudR8T3VvbMI7HTQI5ztyZpmUNtyegVSpOOpYehyAdF9s/6Z/rT47nzJAuzGe+a5q41C60/wAUW1tcsJLHUgUgbbgwTKu7YSOoZQxBPQqR3GN62/4+F/H+VAF6iiigAqu13tcrszg461YrOl/1z/7xoAn+2f8ATP8AWj7Z/wBM/wBa57SNWbVNW1IQahpV5YQmNYBZTeZMhwd4lwSByOMds5qydc0ldUGmtqlkL8nAtTcJ5ucZ+5nPTnpQBsfbP+mf60fbP+mf61y/inxTZeH9NuP9PsY9RWLfBa3EyhpDnAwmQx79K0r7WdM0sxDVNRtLJpv9WLidY9/rjcRnqPzoA1vtn/TP9aPtn/TP9azb7ULLTLU3OpXcFpACAZbiVY1yegyTis/V9ftLfw819Y6tpMRnUizuL25C28j84G4HkcHpzxS6AdF9s/6Z/rR9s/6Z/rWVJqNtZWMU+qXlrb7ky0jShIyQuTgsemAT9BS22q6fe+b9jv7W48kAy+VMreWCMgnB4yOee1N6AtTU+2f9M/1o+2f9M/1rJsNX07V45G0jUbS9EfDNbzLKEJ6Z2mqOgahqNzfatZarJazSWE6RrLbQNEHDRK/Ks78/NjrQB0n2z/pn+tH2z/pn+tc7aahdaj4lu4oGEen6diGQ7cmedgGIyeiqpHTqW/2eSTULmw8VQ2l2/mWWpKfsrbQDDKi5aM46hlBYE8gqw6EYAOljufMkC7MZ75qeqNt/x8L+P8qvUAFFFFABRRRQAUUUUAFFFFABRRRQAUUUUAFFFFABRRRQAUUUUAFFFFABRRRQAUUUUAFFFFABVO7/ANcP92rlQzW/muG3Y4x0oA4yOG/0fxNql2ujz6jHqDxtHcW0sQaJVQL5bCR1IAILDaT948A9aOtaRqy+J7y9thqctre20cWNONmWXbuyri4HQ7sjafXI6E979j/6afpR9j/6afpSsmrDvrc4yw8PSWviPQ51tpGtNP0mS2WS5ZGkjkLR4BwfvbQwJXjrzzUTaFqH/Cv309LcfbI7o3CQb1G8Lc+aFBzgEqBjPTPOK7j7H/00/Sj7H/00/Sqbv/XncS0dzj/ENtqXiDw2v2axu7G4huo5vs8rweZIqMG+U5ePPpu4yBnHWsm78P6jqHhzxHiDV31HULNYFXUns18zbu27fIO3+IglvavRvsf/AE0/Sj7H/wBNP0pdwvrcyLbSLG2ntp4LVIZbe3+zReX8qpGSDt2jjGVHbjt1NZfhF/slveaNP8t1Y3UrFSeXikkZ43GeoIOM+qsO1dX9j/6afpTP7MiNwJyE84KUEmwbguc4z6ZA4o6itZWOYYrqXj2F4DuTSbWRJnHQSSlCEz6hUyR23L6iuhqaLTIoAwhCRhmLsEQDLHkk+59af9j/AOmn6UdLD6nLavoz6h4y0G+e1Sa2sUuGZ32ny3YJsIB5zweR0p2uaGG8J6pYaPbDzbsSSCMPjdI5yxyxwMnn0rp/sf8A00/Sj7H/ANNP0oAzry4ltbMywWc1464xDAyB2+hdlX9a41dM1e7+GGpaHJo9xbXpglWJZpYSsxd2YAFZDjAIzux1716H9j/6afpR9j/6afpQC0aZyl1otw2to9lGttAukS2iSoQoicsm0ADnAAJ4GBiqGm2OqtceHIZNENhb6UGSdjPGQT5LJlFUnK57nDcj5epHdfY/+mn6UfY/+mn6ULT+vNv9RW/r7l+hymiv9g8T6zptx8r3U4vrYk/62Moqtj1KsvI7Bl9aXWSuo+J9G0+E7pLOY39wV/5ZoEdFB9NzNwO4VvSunfTIpJI5JAjPESY2ZAShIwcHtxxQmmRRySSRhFeUgyMqAFyBgZPfjihdPL9Nh9/P9dxLb/j4X8f5VeqCO28uQNvzjtip6ACiiigAooooAp3f+uH+7XI65LqTeI9MltNBvrqCwmd3liltwHDRMvyhpQeC3OQOhrtJrfzXDbscY6VH9j/6afpQBxniO01A6oL7Q7XVo79rXyvtFq9qYWGSVSRZmzgEk5QA4Y8+i64niE3WnPbRXBUWzi5k0oW3mrKdnANzx5Zw3TnIXNdl9j/6afpR9j/6afpQHW5w+n2WqaP8PRpr6ZPd3rieNo7eWH5d7OQxLMi45HQZ5+6OgjutLv8AV/BelafPpEsMlrdWYnguXhYPHGyF2+V2BXAPB5OOld59j/6afpR9j/6afpTWjv6fgK2n3/icNr/h+/vz4j+ywKftltbeRl1HmvGzMV68HoMnA5qtrWm61r0euSro8lqLrR2tLeKaeIyPJuY4baxVevHzH3x0r0L7H/00/Sj7H/00/Sptr/XoPY8/tvDV7b+Io7pLFI4l1SOYurIP3K2fljoc4DkgD3zjHNauiv8AYPE+s6bcfK91OL62JP8ArYyiq2PUqy8jsGX1rq/sf/TT9KY+mRSSRySBGeIkxsyAlCRg4Pbjiqvr/Xl/kg6W/rr/AJs5jWSuo+J9G0+E7pLOY39wV/5ZoEdFB9NzNwO4VvSumtv+Phfx/lSppkUckkkYRXlIMjKgBcgYGT344qaO28uQNvzjtil0DqT0UUUAFZ0vEr8Z5PFaNV2tNzlt+MnPSgDjdKl1I+Lr+6udAvrW2vIoY1llltyEKB8lgspODuGMA/hUFtZ6tZ+IiNHttStbGa9aa5S8e2e2ZWyXZNrGYMx+YA8ZJyAOnb/Y/wDpp+lH2P8A6afpR1uHSx59qmmaz9g8Q6daaQbmTUpmljvPPjVGQqoCtk7twwVA27eB8w5qTWdI1ZfE15e2w1OW1vbaOIjTjZll27sq4uB907sjafXI6E979j/6afpR9j/6afpSsrJdv8rB1ucQ+jXOmXPh+8s9PuNRg02ze2+zSSxfaImYIFkGSIywCspww4Y4yOKveI5b++8IXdvaaLeSXN9aywiDzIA0JZSAXJk245/hLV1P2P8A6afpR9j/AOmn6U5e8rMcXytNHE3mn3+rp4ceTSpbf7Bdl547h4iUAgdQ/wArsD8xGMHPfArL0zw7relaHOlnYRJc/wBi21ukZMbAzK0hkGCdpb58gn5STznmvSvsf/TT9KPsf/TT9Kbd7+ZK0Vv63ucPoGn6vF4mu9U1CG/eN7FYU+3Pa+cWVy23EICgc8ZJ79KseH21JfEWrzXmh3tnBfzJLHLLLAwQLCqYYJKxySpxgH8K7D7H/wBNP0o+x/8ATT9KS0/r5jOU0F/sHiDWdLuBskmuDfW5J/1sbqoYj/dYEEdsr6il1UjUfFuj2UB3NYO19clf+Wa+W0aKfQsXJA9EaunbTYnlSVwjSR52OUBK564PbNCaZFFJJJEER5WDSMqAFyABknucAD6AULp5fpsHfz/XcS2/4+F/H+VXqgjtvLkDb847YqegAooooAKKKKACiiigAooooAKKKKACiiigAooooAKKKKACiiigAooooAKKKKACiiigAooooAKgnnaKQBQMYzzU9U7v/XD/AHaAD7XJ6L+VH2uT0X8qwdQ8Tadpdz5F6L5G3Im9NPuJIyzEBQHVCpJJA69eKy/FHiQ2mo2OlW0uo2jzzETXNtpsszKgQviM+WyMSQAcBsDPA6gA7L7XJ6L+VH2uT0X8q5PWdSNh4YgxrF/aSzBSuoy6W0zKNwJ8xFjCpkHb8wXH1FaevpcnRLiSzv57GWCNpRJAsbFtqk4IdWGPwz70pPlTb6DWrSNn7XJ6L+VH2uT0X8qxbE3OqeF7N2vJra4uLaJ2uIVTeGKgkgMpXn6d6r+F7+e68J295qM5nlAk8yVlVSwV2GSFAHQdgKqXutp9CYvmSa6nRfa5PRfyo+1yei/lXO+F5bq/0savfSPv1HE8cBPywREfIoHrtILHuSewADdEubm21nUdEvJXn+zBLi1mkOXaGQsArHuVZWGe425ycmi2th9LnVW8zS7twAxjpTp5DFGCuM5xzUNn/H+FPu/9SP8AepARfa5PRfyo+1yei/lXOeLNR+waHJs1GfS5ZMbL2Kwe6WHBBJZQpABHGWwOfarmpa1YaMtv/aNwY2uGKQgRs7SsATtUKCSSBwOp6DJoA1/tcnov5Ufa5PRfyrEj8RaXJpUuoi4ZLeFzHJ5kLo6vnGwxsA+4kjC4ycjAORVDS/EaXutay0s0sGn2cELj7XbNbmPIcuxEiq2PlHJ44oA6r7XJ6L+VH2uT0X8qxLLxFp2oNItu9wJI4/NMU1pLE7J/eVXUFx7qD1HqKWDxDpdybEW915jX4Y26LGxZgv3iRjKgHglsYPB54oA2vtcnov5Ufa5PRfyrm7K4udU8UXr+a8djpbC3SJTgTTMgZmb1ChlAHruPYYL25udL8VWLGV5LHVCbdo3bPkzKhZGX0DKrAj1Ckd8nYO508Vy8koUhcH0qzVG2/wCPhfx/lV6gAooooAKKKKAIJ52ikAUDGM81F9rk9F/Ki7/1w/3a5y+1E/8ACWabZR6jPa/6zzLZtPdo7v5MgCYrtUrgnAOT0NAHR/a5PRfyo+1yei/lWNqGvWOm3K29wbiSdk3+Va2ktwyrnALCNWKgkHBOM4OOhqS+1e106ON7n7Qxl5SOC1kmkI7nYilgBkZJGBketAGr9rk9F/Kj7XJ6L+Vc9qF4NV8KvqOiapNbqIWnjnt0QlsKflIkRsc9RgEEY45pYtetbDwrYanrl2kCTQw+ZM4wu9wOuBgZJ+go7+Vvx/4YO39bHQfa5PRfyo+1yei/lXG694sh/wCET1O90e5kgubLy9/2i2aJ4wzLyUlUHBBPOMdfStrT9e0/U5porWWQSQoHdZoJIfkOcON6jcp2n5hkcdaANj7XJ6L+VH2uT0X8qxLPxFpt9qAsoJJlnZWdFmtpYhKoxkozqA45HKk8EGq1lcXOqeKL1/NeOx0thbpEpwJpmQMzN6hQygD13HsMAHSfa5PRfyp8Vy8koUhcH0rmL25udL8VWLGV5LHVCbdo3bPkzKhZGX0DKrAj1Ckd89Fbf8fC/j/KjoBeooooAKqvdOsjABcA46VarOl/1z/7xoAl+1yei/lR9rk9F/Ksax1+w1G6MFn9qkxuxL9jmELYODtlK7G/AnPaq1v4w0O6ukt7e8aRnmNvvFvJ5aygkeW0m3arZH3SQTkeoyAdF9rk9F/Kj7XJ6L+VczfS3tp4x0tU1GdrS9MqyWjJH5a7Y8gqQm/rzyxp+ual9n1HTLSPUZ7B5LlCxGnvNHcKcjyjJt2oSe+cjHvR5B38jo/tcnov5Ufa5PRfyrl/EfihdCv9MthDcSfarkJKUsppQIyjn5SikFsqPl5OMnHeptY1x7fw39t02JzcXDpBbJcwvGRI7hFLIwDAAnJ4HAo6XQ9nZnRfa5PRfyo+1yei/lWP/Zcn9g/2f/aF153l4+27/wB7v67/AE69sYxxjHFR+G9Tm1XRI5rxFS7jd4LlU+75sbFGI9iVyPYigXS50sTmSIMep9KfUVt/x7r+P86loAKKKKACiiigAooooAKKKKACiiigAooooAKKKKACiiigAooooAKKKKACiiigAooooAKKKKACiiigAooooAKp3f8Arh/u1cqOSBZWyxIOMcUAcdqVrr03iJLmGy0y7srZQbVJ714mWQghpGAhYE4OBzwM+vF7UNOnvNX0i7QxqllLI8qknJ3Rsoxxzye+K6D7JH6t+dH2SP1b86Aepyviyx1XVNHl0/SYLNxcLh5Lm5eLZggjAWNt3Q9x+NTaiut3fh94YrKwF5OjxyxteuI4wQQCH8rLHpxtHfn16T7JH6t+dH2SP1b86TSasxp2d0czpket2PhqG2ksrBr22jSFEW9fy5FUAbi/lZU9eNp7c+kHhvS9Ss/D76XrUFmiAOqvbXLS7w7MTkNGuMbgO+faut+yR+rfnR9kj9W/OnL3r36kxXLa3Q5XwjNJHoselXilL3S1W2mBGN4UYSQeoZQDx3yOoNN0Qf2l4g1DXERhbvGlnaswx5qIWLOP9ksxAPcLnoQa6z7JH6t+dH2SP1b86d23dj2VkMs/4/wp93/qR/vVJFCsWdpJz60SRiVcNkDOeKQHJ+LLLVNU0SfTtJgs3+0xsjyXNy0Xl9MEBY23d+4ptxpmpajqGhXt3Ha28lhcSSzxRTtICGidBtYouTlgTkDv1rqvskfq350fZI/VvzoA4u48OXxjvJbeS3NwdWTUbdJGYIwVUGxzg7ScNyA2ODzUU/hnU9Wh13+1JrW2fVLeKKMWzO4gKburHaW5IORt7jAxk9z9kj9W/Oj7JH6t+dK2lv62t+gdb/13OK0bQr6yvWvbrT4ftcdu0cMj67dXYJOCVxKmEUlRkjJ46Gl0jw9qGl6sup7rSW4vgf7TXlQpJLL5J25wMkEHG77xIbOe0+yR+rfnR9kj9W/On1uHSxyWmbtJ8VajZTriHUpftlpIBwzbFWSPP94bQ3PUMcfdNLqI/tbxVp1nEjNFpcn2y5kx8quUZY0z3Y7y2B0AGeoz1n2SP1b86Pskfq350dvL+kHfz/pkFt/x8L+P8qvVElskbhgWyPWpaACiiigAooooAp3f+uH+7XK6zaa9c69YXVhZaa9vYSM6ma+kjeXdGUIIELBcFvU5x2rspIFlbLEg4xxTPskfq350Acb4k0S+1K7WfTrO3juBAY1vk1Sa1ljJOcbY4yJFBwQGOM54GTlNb0fW7yXT/s9yLqKGBkuI/t81gZJflxLuhUk9G+Tgc12f2SP1b86Pskfq350AcXaaLq+l+CRo9qtnd3TecjvNcyRqFdnIYHY7E/MOD7/Me+brsOqWXgnSba8trMXdtqNjFEsV0zRybZEAJYxgrkjsrY9+lejfZI/Vvzo+yR+rfnQt7+n4B0+/8ThNS8M6nrNrqk90bS3vr6GCBIY5neKNI5C+S5UEk7j/AAjHA561r3Gl3b69c39tPHD5mn/Zomxlkk3MQ2MYIGRXSfZI/Vvzo+yR+rfnSauH9fccBofhfVrXW9Pv9SdAbWF45c6pc3ZlZlA3gSgKnI6Ad+vGK0tM3aT4q1GynXEOpS/bLSQDhm2Kskef7w2hueoY4+6a637JH6t+dH2SP1b86fW4raWOT1Ef2t4q06ziRmi0uT7ZcyY+VXKMsaZ7sd5bA6ADPUZ6W2/4+F/H+VT/AGSP1b86clskbhgWyPWjoMlooooAKzpf9a/+8a0aha1RmJJbJOetAHE6RoWp2WuR3CwQaZZDzDLbW2pTXMcpbkARPGqxYPzZT6Y5rI8NadqWs+G47KSO1g01NUmnNws7NM/l3bPt2bAFyy4zuPHbnj0z7JH6t+dH2SP1b86AOP1e01+48RWN5Y2Wmvb2LSFPOv5EeXem3kCFguPqc+1P8SWet381kumWtg8NtcxXJe4vHjZmQkldoiYY98/hXW/ZI/Vvzo+yR+rfnQHfzOY1rT9Q1Gz024t0tlv7K5S58iSZvKY7WVl8wLnGHODt7Dio9es9S1Dw2kgtoRqVrNHdpbxSmRWaNw2wOyr94AjJAxmur+yR+rfnR9kj9W/Oj09Q9TC/tyy/sH+197/ZfL3/AOrO/PTbt67s/Lt654qDwvYTWGig3cflXN1NLdzR5B2PI5fbxxxkD8K6T7JH6t+dH2SP1b86OodLDrb/AI91/H+dS01EEaBR0HrTqACiiigAooooAKKKKACiiigAooooAKKKKACiiigAooooAKKKKACiiigAooooAKKKKACiiigAooooAKKKKACq1zK8cgCHAx6VZqnd/wCuH+7QA37TL/e/QUfaZf736CsObX8axLp1lpt5fSW4T7Q8DQqsO/kZ3yKTxz8oP58Vnav4g1Oy8Y2FjbaTfXFtJBOzLEbfE5Xy8MpeQEbdxBztzngHsAdb9pl/vfoKPtMv979BWDqHiSLTryxs5LC9lvL6J5IbeFFZsrtyrHdtU/N1J28Hnpmvea4mo+Erm7trTU9pEsE6WrxR3FsV3K5yzhcqQeQT2IzSbsrjSuzpvtMv979BR9pl/vfoK56TXbPRfCun30/224gkWCNGKebO5fAUsByzHIzjJz0zUtl4hjuvtqXNldafcWUYllgutm7YQSGBRmUj5WHXOQc05e7e/QS1t5m59pl/vfoKPtMv979BXOeEYZJNFj1W8Yve6oq3MxJzsDDKRj0CqQOO+T1JqPQy2meI9S0IPutUjjvLRScmJHLK0f8AuhkJHoGx0Ap2admG6uddbSPJu3nOMY4p1y7RxgocHNRWf8f4U+7/ANSP96kBB9pl/vfoKPtMv979BWJq3iG30jULKxe2urm5vlkNvHbRhtxTbkEkgL97qcDg5Iqne64uoeFLu5gs9UX/AFsE8ds8UdzalchmyzhcjHBUnqCM0m7K40rux0/2mX+9+go+0y/3v0Fc8+uWejeF9PvZjeXEEqwRRsV8yZzJgKWA6tyM4zzSweJ7Yw6g+oWt1pr6eqvPFchGYKwJUjy2YHOCMA5yOnSqel/IlO6XmdB9pl/vfoKPtMv979BXI22tXVz4yjF3Z32mWqaZLKY7uSPa2JE+fCOwGBnrg81dsvFEN3cWyPYX1rDe5+x3E6oEuMAsAAGLKSoJG9V4HrxS6f13a/QfU6H7TL/e/QUfaZf736Cucg8W2dxcW9olrd/b5Z2heyKr5sG3G53+baEAKncCchlxkkCmSbtW8bG1lb/RNJhjn8sHiSeQttLf7qrkDplgeoFAPQ6b7TL/AHv0FLHcStIoLcEjPArl/E5bS5rLXbd9jwTx29yueJoJHCEH3VmDA+xHRjXSRf65P94UdLgaNFFFABRRRQBWuZXjkAQ4GPSovtMv979BTrv/AFw/3a5jUbkHxhpEMy6rbgGUQvDNGLW4YxklZF3bztAJGVABoA6X7TL/AHv0FH2mX+9+grDv9fWz1Uaba6fd6jd+T57xWzRKUQsVDEyOgOSCOM9OcZGX6hrYsriC1hsbq+vJkMgtrby9yIMAsxdlUDJA+9knpnBoA2ftMv8Ae/QUfaZf736CuKsNRupfh1JcXEOqTSStcrIbWaMXEC+ZJ8wZ3AyoGBgntjIrYGr2ul+FbS+c3VxE0MKxB8NPMz7VQHkAuxIGSQMnqBQHY3ftMv8Ae/QUfaZf736CufsPEb39xqFuNE1GC4sFUvDMYMyFhlVUiUgkjuSB79ai8OXYOgXU9tHqt1Il1OGgvZY3nDhyGjVt2zAIwPmxjvQB0v2mX+9+go+0y/3v0Fcn4P17UtXs2/tDTbxP9IuF+1SGAIAszqqYRy2QAFztxkHk9TNpm7VvFWo3s7Zh02X7HaRg8K2xWkkx/eO4Lz0CnH3jR1sB032mX+9+gp8E8jzKrNkH2rldSLaR4s029gfbDqkhs7qInhnCM0cg/wBobCp9Qwz90V09t/x8L+P8qOgF6iiigAqlJcSrIwDcAnHAq7WdLxK/+8aAH/aZf736Cj7TL/e/QVy2meNbLVVsJYLHUI7S/fyobqaJVTzME7CN27+E/MAVzxuq5Z+IBqGoy29jpt5NBDO9vJehohEjrwwIMgfg8fd9xxzQBu/aZf736Cj7TL/e/QVy9z4ztbee/RdO1GaHTZfLvLmOJPLg4Vt2SwLDDZIUMQByBkZTxNHsu9Hvre5uo5Gv4ISIrqRY3RmOQYw2xs+pGaO3nb8Qeiflf8DqftMv979BR9pl/vfoK5rxjdC20NhKmqrAzKZbrS5Y45IAGXGS7A4PT5QeM0zxhrV/o1naNp1nczGS8t43li8nAVpVUoQ7A5YEgEDAzyR1oWrSA6j7TL/e/QUfaZf736CsDU9cnsfCd9qsmnzWs1vC7Jb3Lx7iwHy5KMy4Jx3qfStHSy0T7HdN9qkmUtdyyc+e7D5yfY9MdAMAcCgDY+0y/wB79BVm2dpIyXOTmuS8LTTRf2jpFxK0zaXc+TFI7ZZomRXj3HuQG256nbk8murtP9Sf96gCeiiigAooooAKKKKACiiigAooooAKKKKACiiigAooooAKKKKACiiigAooooAKKKKACiiigAooooAKKKKACqd3/rh/u1cpjxJI2XXJ6daAOK17wvPruoLNJPp0UcZXypv7PJu4QCCfLn8wbTnODt4z0Pe9q+kXN5f2N/pt5Fa3dmJEUzwGZHRwNwKh1OcqpBz2966X7NF/d/U0fZov7v6mjpYOtznJNHkm13TtUnuVMlnbSwuiRYWQvsywyx2gbOnPXrxUutWd9f6bJa6dd29q0qlJHnt2mG0gg4AdMHnrk/St77NF/d/U0fZov7v6mk0mrMabTuee61o+sQeEdO09Z4by5tr+zEUsFk4VESRPmdPMYnGCSQyjHp1rdsNEkju7u91S5ju727iWB2hh8qNY13YVVLMerEklj+HSul+zRf3f1NH2aL+7+pqnre/X/hhLS1jlvC8V1YaWNIvo336diCOcj5Z4gPkYH12gBh2IPYglNFt57nVr/WruB7c3AS3t4pBhxDGWIZh2LMzHHUDbnnIHVfZov7v6mj7NF/d/U0X1uHSxFZ/x/hT7v/Uj/eqVI0jzsGM9eaHRZFw4yOtIDnLvSPtXiHTtU8/b9hjmTytmd/mbec54xt9DnNO1qzvr/TZLXTru3tWlUpI89u0w2kEHADpg89cn6VvfZov7v6mj7NF/d/U0mk1ZjTadzjh4avJ/D9hpt/qMEjWNzbyxyw2hjDJCykKVMjcnb97PfpU2oeGU1CTVmkumjGowRRDYgzC0ZYhgT15YHGO1dX9mi/u/qaPs0X939TVNt7kpJHJQ+HrybVGvtZ1KO7Z7OS0MUFt5KBWKnIyzNnjnJPbGMc0dB8EJod3BJHHobrbqVjmTR1juuhAJlD4LY6kKM89M13f2aL+7+po+zRf3f1NLb+v67jOPtvDN1bXkWpLqm7VGlJu5zAfLuIj/AMstm75VUY28nByedzZlnt7nT/F6ajBE81rfwpa3IQZMLoWMcmP7p3MpPb5T0yR1f2aL+7+po+zRf3f1NHYDlddt59VvLLS44H+y+al1dTsMIFjYMqA92ZgOOwBJ6jO9F/rk/wB4Vc+zRf3f1NKLeJWBC8jkcmjpYCSiiigAooooAp3f+uH+7XM6to2s32s2l7aapY28dm7PDFLp7yHLIUO5hMuepIwB26117xJI2XXJ6dab9mi/u/qaAOQ8SeG5vEISOR9KMSxlVN1ppmljY9WjfzV2HpjAyCM5qW50G8W+tbzS9T8m4htfskr3UHn+amQQxwy/OCDzyPmPFdV9mi/u/qaPs0X939TQG5yEfh6+tPC39j2Gpw72Mokubq0MhdZGYn5VdAG+br046DtleINI1KDwLb6Zcyi+8q4t0MtnZyqY4kK4Yxo7SOQVBOxlPPbBz6J9mi/u/qaPs0X939TR/wAD8APPvCkepJ/aMNqiqjqjx6jd2FzE8kvIKuk8plkAULhtwHOB0rX8O6NqOjC5S91C1u4p55LjENm0LK8jljyZGyOTgYz711X2aL+7+po+zRf3f1NHW4dLHMaPo97o88sUd9BLprzSzJA1qRKjSOXI8zfgjcx/gzjHNR2Vvc6X4ovU8p5LHVGFwkqjIhmVArK3oGCqQfXcO4z1f2aL+7+po+zRf3f1NAHK3lvPqniizVoHSy0wm4MrjAlmZCqqvqFVmJPTJUc846G2/wCPhfx/lVn7NF/d/U05YI0YMq4I96AH0UUUAFZ0vMr/AO8a0ajNvEzEleTyeTRuBz3h/Sf7C8P2emed5/2WPZ5uzbu98ZOPzrMl8KzXPiaLVribTo3im80S2mnmK5dQCAjzeYdy4wCNuDjtXZ/Zov7v6mj7NF/d/U0dbhurHndpoOqaje+JrSe4W00u+v2EiNaN5syGGMEpIX2gHBGdh6HnPTX1zQ9T1J7RNP1Gzs7a0ljmSOWyeVt6Hj5hKo29OMZ96637NF/d/U0fZov7v6mjovK34A9b+d/xOU1/RtV1rRhYR6lZ2/mRhbl2sWfewIOUHmjaMg8Hd161LqOj3eq6Ctpe3sIvUljnS5htysYeOQOh8suTj5QCN3PPIrpvs0X939TR9mi/u/qaAOcu9KutU8N3ematdQyS3MTxma2gMQXIwCFLscj607Sr66fRfN1S1kiu7dSlwiIW3so5aPH3lbqMc8465FdD9mi/u/qaPs0X939TQBzHhyzuIobu/v4vIu9SnNw8JOTEu0KiEjjIVRnHGSevWultP9Sf96nfZov7v6mnoixrhBgdaAHUUUUAFFFFABRRRQAUUUUAFFFFABRRRQAUUUUAFFFFABRRRQAUUUUAFFFFABRRRQAUUUUAFFFFABRRRQAVVunZZQFYgbexq1VO7/1w/wB2gCLzZP77fnR5sn99vzrl7nxPqP8Aaer2el6Gbw6VsMjtc7PNDRh9qAKxL8424A/2hnFLrPi06ZqNrZpDZwtcQCZZNVvDZoxJxsU7H3OO68YyOueADp/Nk/vt+dHmyf32/OuT8V3ut22o6EunQWxjlvlVt188XmN5UhKMBGfk4znnkD5e9XdU1690i30wXGmLPeX9z9m8i2udyoSrMCHZVyPl54GMnrjBOnzsP/K5v+bJ/fb86PNk/vt+dYttqGrXdnexy6TFDfW8gjEclywgmBAO5ZfLyRgkfc6gj3rJ0zV7XQfhrFqNjpXkwW4IWyjuC+P3pUgOwyeSTzj8KBHYebJ/fb86Z9rAuBAbgecVLiPf8xXOM49Mkc1jafrV5LrR0zVtPjsp3t/tMHlXPnb0DbWDfKu1gSuQMjngnFV/CKfa7e81mf57q+upVLEcpFHIyRoM9AAM49WY96AOhiuxOGMNwJArFGKPnDDgg+49Kf5sn99vzrmmX+zfiDCtv8sWrWkjzxgcebCUAk+pV9pPfavpXR0dLh1HebJ/fb86PNk/vt+dY+raxNZX1pp+nWa3l9dh3RJJfKjRExuZn2sR94AAKSSfTJpuo6xcaVoiXd/Hp9vOWCsJ9Q8u3QnPWVkB6DsmcnpjJo6XA2vNk/vt+dHmyf32/OuPj8dCXw62pQ2Md3KmoJYGKzu1ljkZmUBo5CAGGGHULzkcYzWnp+s31xeX2nXthb2+o20KTRxx3ZkilV9wU7/LBHzKQflOOvNH9fqH9fobvmyf32/OjzZP77fnXM+Fzs07VvselwWd2t/N5sK3jyRyzYBLbymQDkdF49Kr+Dr7Xbpbv+0be1MC6hdI0v295JExIwCKpiAKjoPmHHYdKFr91/yDpfzt+f8Akdd5sn99vzo82T++351yZ8bRJ4lg0tv7NcTXJtgkGprJcxsAeXhC/KMrg4YkZHHYOvLCzt/iTpN1b2kEVxcWl150yRhXlx5IG4jk496FqHWx1Xmyf32/OjzZP77fnXM+IGA8Q6F9s0yC4t/tgW3uPtbpJDMY3OfLC4YYUjlu/SrniDVL/SLT7TZ2dpcxKMMJ7t4nLEgKqKsT7iScAcckUdLj62NrzZP77fnR5sn99vzrmdZ8Wf2JBp8d/HY2t/eozmO7vxDBFtA3AyleTlgAAuT7AE1Xn8W/bvAWo6rppiS4g3wBopBNGsuQoZXGN6/MCDxx1A5FHewtNLnUHUIlhmma7QRQbvNcyjbHt67jnjHfPSphM7KCsjEHkEN1qhpul2+l6TDp8C7oY02nfyZCfvM3qWJJJ7kmsvwmTbf2ppAYtDpl4YrfP8MTIsip9F3lR7AU+tg6XOj82T++350ebJ/fb86bXN6oFPjXRGvdMglCvKtneLduJImMRL5i2hSCFxksfoKQHTebJ/fb86PNk/vt+dc1r3iltH1eDT0jsY2li8xZtSvTaxOd2NiNsfcw6kcYBXrniXxF4kOgfYleK1U3RYGe9ujb28ZUZ2mXY2GP8IIGcH0wTpcfWx0Hmyf32/OjzZP77fnXPaj4iurGPR0h0+G8utUcxosN3+6U+WX3eYVGUwOoXOOQCeCQeJHOmalLe21va3emy+VPG92BCpIVlbzWUYXawJO3I54J6mwtzofNk/vt+dHmyf32/OuS0/x1bXNhq1zcpbSDTFR3bTLsXccoYfKFfC/NkEEEDHHPNacOqajbabc3/iCwtrCC3gMxFvdtO4ABLBh5agEAdiaHpuC12NrzZP77fnTHuxHJHHJcBXlJEas+C5AycDvxzXJ6J47t9W1a1smOnbrxGaEWepJcyJgbtsqBRsOPQsMgjPTNvRU+3+J9Z1K4+Z7WcWNsCP8AVRhFZsehZm5PcKvpTtrYV9DoUuxJJJHHcBniIEiq+ShIyMjtxzU9vI7TqCzEc8E+1ctrS/2f4q0XUbf5XvJjYXKgf61CjuhPurJwewZvWuotv+Phfx/lS6DejL1FFFABVCSRxKwDtjce9X6y7p/KE0mM7dzY9cUm7K7GtXYf5sn99vzo82T++351yWk+L7y+h0e7vdISzsdX2pBJ9rEkiuULgMgUDadrYIYnpkDJAW68ax2niKLTpBprrJdLa+XHqatdoW4DGDb0zj+PIBzjPFVZ3sLpc6zzZP77fnR5sn99vzrlrjxRqP27V4NN0JrsaS6iVvtG0ygxq+I1Cks/ONpwDx83OBBq2oa8vjXSotPtLZreW2uGSOa/ki83HlcuoiYKVJwPvdT0pDsdh5sn99vzo82T++351y/jNnPhcnUNJtr60+R7yE3zxFSGUjYVTLYb129Pek8b3mrWdhZHSY4drX1sju128LZMyAJhUbKtnBOeATwelHVLzsI6nzZP77fnR5sn99vzrLkbVZdGk82wsTeNlTbi9fyip4P7zytwOM/wfj3rJ0jV7LSvh1p9/aae0FuYY1gsklMhDOwVU3tyfmYDJoA6rzZP77fnR5sn99vzrmn8S3ljPc22s6bDBcR2Ml7ALa7MqTLHjcpYopVgSv8ACRg9eCKXTPEl5eX2nx3ulpawalbtPbOt15jjaFOHXaAuQ3GGbp2o/r8/8mH9f1950LXYSVInuAskmdiF8FsdcDvihLwSySRxXAd4mCyKr5KEgHBHY4IP0IrntBT7f4g1nVLg75Ibg2NuCP8AVRoqlgP95iST3wvoKNWH9neL9Hvrf5TfyNY3Kgf6xfLeRGPupUgH0dqF08/12Dv5fpudRbyO06gsxHPBPtV2qNt/x8L+P8qvUAFFFFABRRRQAUUUUAFFFFABRRRQAUUUUAFFFFABRRRQAUUUUAFFFFABRRRQAUUUUAFFFFABVO7/ANcP92rlIUVjllBPuKAOfs9KgstS1C9iaQy37o8oYjapVAgxx6DvmoNX0WTVw8bate21tJGYpbaFICkgOQc742bkHHBFdN5Uf9xfyo8qP+4v5UDuzmr7Qba8020s45ZrT7E6PaywMN8JQYGNwYHgkHIOQTRLoiXK6ab28ubmXT5/tCTPsVpG2svzBVAxhz0A6Cul8qP+4v5UeVH/AHF/Kj/hxGNe28t1atFBeTWTkjE0AQuvPberL+YrltT8JXVt4HvtI0y/vb9pdvkpcGFTGfM3MVIRR3J+bPTivQvKj/uL+VHlR/3F/KgDm9P0VbK8e8ub261C7ZPKE91sBRM52qEVVAzyTjJ4yeBiHRtPudI1C+tVUPp00rXVvJu5iZ2y8ZHXG4lgf9ojjAz1XlR/3F/Kjyo/7i/lQBy1rY3U/iSfVL9FiSGM21nGDuOwkF5CexYhQB2C88nA2K0fKj/uL+VHlR/3F/KjpYOtznNU0WPU57e5S6ubK7ttwiubZl3KrY3KQwZWBwOCDyARgioL3w99ugsPO1S+W7sJTLFeqIfMJKspyPL2EYYj7vpXVeVH/cX8qPKj/uL+VAHn+seE5l0QWulXF3NPPqtveTXEkkZkUh03uNw28Bd23BHYDGBW1aaGLVbqT+0LuW+ukCPfSeWZQBnaAAgQYyTjbjJ5zXTeVH/cX8qPKj/uL+VHS39dF+gHK6L4fbRri4lGr394ty7SyR3Kw7TIcZb5I1OeMYzj2qSy0IafqU9xa6heJbzyvM9kfLMO9vvEEpvGTzjdjJrpvKj/ALi/lR5Uf9xfyoA4y08G29o1qo1LUJLayuDcW1q7RiOJsscfKgZh8x+8T+fNS3fhqS71yLU/7d1KKWAOsUca2+yNX27lGYiSDtHUk+9dd5Uf9xfyo8qP+4v5UbAcnrHhx9Xvbe4bWdQtBbSCWGK3WDajhSu754mJ4Y8Eke1P1PQH1Kaxm/te/tpLIEo0KwnexGN7B42G7GeQBjJx1rqfKj/uL+VHlR/3F/KgDl7rQPtSWkjanex31oGVL+PyhKyt95WXZ5ZBwONvYHrUs+jC70C40rUL24vFuI2jeeUIsmG/3FUcduK6Pyo/7i/lR5Uf9xfyoDY5vTpNTh0L/iY24mv7dGUiJ1AuSvRhk4XdwcHoTjtmk0DTZtOsZXvWRr28ma5ujH90O2BtB7hVCqD3C5rpfKj/ALi/lR5Uf9xfyo63DpYzqw9S8OS6lqkN9/bmpWzW7F4I4Vt9kZK7TjdExOQT1J611vlR/wBxfyo8qP8AuL+VAHMatokurI0Tave29tJEYpbeFICkgOQc742PIOOCKkuNIke1trfT9TvNMit0EarbLE25QAAD5qP0A7Y9810flR/3F/Kjyo/7i/lQBwOo+FZYz4bs9EkntbbTriRpLiIx74wYnG7DqVOWbGAvGeAO2hN4UtJ9Le0e5uvOkuUu3vdyGZpkKlX5XZxtAxt24GMV13lR/wBxfyo8qP8AuL+VAHJReFLTy9QW/urvUG1GNI7l7iQAsF3YxsChT838IHQHrkmxa6K0dpPa6hql5qtvPF5TR3giwFIweURScg85JrpfKj/uL+VHlR/3F/KjcDmdM0WfTHQf21qF1bxpsS3uRCyqOg+YRhyR6ljnvmo7bT7nTvE91cWyiSx1ICScbsGGZVC7sHqGUKDjoVHqcdV5Uf8AcX8qPKj/ALi/lR1uBy09jdX/AImt7i5RY7HTwXg5y00zLtLY7BVJAzySx6ADO7bf8fC/j/KrnlR/3F/KgRopyFUH1AoAdRRRQAVlXql47hFGWYMAPetWmmNCclFz9KTV1Yadnc4Pwn4WnsNE0b+27u6nuLGBPLtJjF5dtJs2nb5ajcQCQCxbr681Yi8GW0TRoNS1BrSG7+2RWheMRxyeZ5nUIGYZJ4Zj19QCO08qP+4v5UeVH/cX8qptt3JS0sYFlpUFhfX93C0jSX8qyyhiMKQioMcdMKOuai1XRV1O4tbmO8ubG6tS3lXFtsLBWGGUh1ZSDgHp1ArpPKj/ALi/lR5Uf9xfypDOV1nw+2t6cllNq9/BFs2y+SsOZ+hy26M4OR/DtHPSpbrQ1v8ARBp99fXVwwdZFuz5ayq6uHVhtULkEDHy445BrpfKj/uL+VHlR/3F/KgDnTpt0dM+y/23feduz9r2Qebj0x5ezH/Ac+9UbPwlb23h06JNf3t3aBVEJmMavBtOVKMiLyCAcnPIrsPKj/uL+VHlR/3F/KgDk08MxN9pe/1C81Ce4tmtfPuDGGijb7yoERVGTgk4JOBngAVZi0S2hk0x1eUnTYWhhyR8ylQvzccnCjpiuj8qP+4v5UeVH/cX8qP6/r7wOVtNPutO8S3csCiTT9RxNIN2DBOoCk4PVWUDp0K/7XCyWFzfeKIru6jEdnpyn7MNwJmldcM/sFUlR3JZuwGep8qP+4v5UeVH/cX8qAKdt/x8L+P8qvU0RopyFUH1Ap1ABRRRQAUUUUAFFFFABRRRQAUUUUAFFFFABRRRQAUUUUAFFFFABRRRQAUUUUAFFFFABRRRQAVTu/8AXD/dq5VO7/1w/wB2gDMOracNUGmnULX7eRuFr5y+bjGc7M56c9KuVg63/wAjP4c/6+Zv/RD1X8Sa3qWl6giRFLOw8gyPfSadNeJuB5VhEy+WAMHc3ByemDQB01Fcf4rGpXF94bl06/sRDJfoY2a1aTLmGU78iUAqR2/Hd2q9rOqaxpMOjwRfYru8vrz7NI7RvFGAUdtwG5iMbRxk55HGcg/zsH+V/wA/8joScDJ4FRWt3bX1slzZXEVzA/3JYXDq3OOCODWba/2/LZ3lveNYxXUcgW3u1t2aKZCASTF5m4EEsuC/bPTisaDW59M+GK6pZ2VjHNDkLbwxGKDPnbDhQSVB69Tye9AHY1XF9bNqLWKyhrlIhK0YBO1ScAk9Bkg4z1wfQ1k6fqOqxeIv7L1lrSUzWhuYntInQR7WCsjbmbd95cN8ueflFM8GKJdKur+Tm5vb64eZj1ysjRqv/AVRV/Cj+v0D+v1Nm1vra8edLaUO1vKYplwQUYAHBB9iD7ggirFc7cL9l+Iti8AIN/YTJcAdG8pkKMfceY4/4FXRUdEw6hRWJ4k1LUtPS1/s6LEcjkTXH2KS78kAcDyo2DnJ4yOBjkc8VT4nNuumzPLDfWlzaTyvPawspeRNmFVSxIJyw2kk5GMilcDpaK5j/hK/Nt9RuopbeK1iFulu8kbuxklUNgovLth1wi4JPGecjOHjLUYdE8QzypFPPpUCTxO9jPaCQMDw0Uh3DBU8g4OfamHY7iiudtdW1W01yKy1v7HIt1aSXMX2OJ1MJQruRizHfw4w2F6HgZ4k8O3us6xZ2urXUtjDY3kQmjtI7d2lRGGUzKXwTjBPye3vR/X9fcBvUVxq+Lrptes44JYbqxurw22E064QKMN8y3Lfu5OV6ADOeDxk2bvX9QtvErWt5JDptiJo0iefT5ZVuFYDnz1cRxksSoVhnIB53AULUHodTUV1cwWVrLc3cqwwQoXkkc4CqOSTXJ6v4sv4tav7LTIyP7PCBgdLubv7Q7IH2h4uIxggZO48k4wObOsTNqk3hiC5hkghvbkTzQSDBykTSLGwPcMAcf7NG60DZ6m7Nqdpbw2008vlR3TrHEzoy5Zh8oOR8pPTnHJA6kCrdU9WsoNS0e7s7sZhmiZH5xjjr7Edaq+FryfUPCOlXl2S089pE8jH+IlRk/j1o3v/AF/Wwdjp4v8AUp/uinU2L/Up/uinUAU7v/XD/dqjLeWsF1BbTXMMc9xu8mJ5AGl2jJ2jqcDk4q9d/wCuH+7XL6m1xF4w0YzR6fPBM8qQl7Qme3PlFiVl34GduCAo470dQOhormfEmt6lpeoIkRSzsPIMj30mnTXibgeVYRMvlgDB3Nwcnpg1V8VjUri+8Ny6df2Ihkv0MbNatJlzDKd+RKAVI7fju7Udh/5XOsnnitoHnuZUiijUs8kjBVUDqST0FLFLHPCksDrJHIoZHQ5VgehBHUVkaxHqY8Lzh59OmuEidp/OsWeGZApyvl+bkZ4HLHvxzWZrzXV18K55bFrW036UzyR/ZyyBDCSUQBl2+x5A9DSbsm+3/B/yBK8ku/8AwDqbi4htLeS4upY4YY1LPJIwVUA6kk8AVHZX9nqVqtzp11BdwMSFlgkDqSOvI4qnoMepR6bF/ad3a3AMSeX9ntWh2jHfMj57elZOhXyaX4Z1y/lRnS1v7+ZlXqwWVzgflTl7rafQUbySa6/8E6qq8l9bQ30FnJKBczqzRxgEkqvU8dAMjk8ZIHeuZ0LxLql9qlpFdW7Sw3aMzGPSrq2FqQu4AySjbIDyMgLzg454u+HlFx4g8Q3s3M63a2i5/giSNWVfxLs3/Aqdne39dhX0ubMV9bTX09nHKDcW4VpIyCCA33Tz1BweRxkEdqu23/Hwv4/yrmPEC/Z/Efh29hBE73b2j7f44niZmB9g0at+FdPbf8fC/j/Kl0G9GXqKKKACs6X/AFz/AO8a0azpuJH+po2AbRXJ+HNZ8S6zpularNbaf9luzieCENvRcN+9Ds2OoHybScH7xqta+J9cfTYtYuV09bD+0DZtbxxSGVl88whw+7CnOPl2nIB+YZwHbW39f1/XcDtaK43xH4uutKubp7CaGaOyZRLbjTribd0LBrhP3cTYPQhscE9cC9d6rrU/iu40fSfsMMcVlHc/aLmN5CrM7rt2Ky5B2jnIxz1zwgOkqK4uYLO2kuLuaOCGNdzyysFVB6kngCuO8Qf29dN4Xmkez0+d71N9vJbtN5U3ky5O5ZFDLjIwMHvntWr4l/tO38F3kskum3MtvbyS3CT2LPDOqqTs2eb8ucDklvpSeib7DSu0u5vo6yRq8bBkYZVlOQR606uS8bC6l+Gl81lJb26fYGaVGgLAp5f3Uwy7T7nP0rcs4dXXT5Vu76yluWX9zJFZOiJx/EplJbn0ZapqzZKd0n3LdteW17G0lncRXCK5RmicMAwOCMjuD2qauV0fVv7O8IarqFzaWqtYT3fmJYweSkpjdgW2knBbGTknk1LFqutWOpaVHq7WM8OqM0arawvG1u4jMgBJdg4wrDOF5wcdghvT8fwOlqvc31taTW8VxKEkuZPLhTBJdsE4AHsCSe2K5PR/E2uXdnoGo366eLbVpvIa3hifeh2OwfeWx/B93bxn7xrTskF14/1SacEtZWsMNuD0VX3M5H1KqP8AgFAPTQ2ft9t/aX2AygXXlecIyCCyZwSD0ODjOOmRnqKtRf65P94VzfjAeTa6dqEWRc2uo24iI6kSSCN1/FXP6eldJF/rk/3hR0v/AF/WodTRooooAKKKKACiiigAooooAKKKKACiiigAooooAKKKKACiiigAooooAKKKKACiiigAooooAKp3f+uH+7VyigDlL/wvpupX63t2b4zocoYtRuIwhxtyqq4C8cHAGeal1DQLLU5A9297wmwpFfzxIw91RwD17jmumooA56+0ex1Cwjs7mDEETK0QhdojEV+6VZCCpHsRSf2LZGOySRJZfsMvnQNNcSSMr4IyWZiW4YjkmuiooAxL2ziv7VredpkRiCTBO8L8HPDIQw/A1z+peC7f/hFL3SNEaaH7TswLm9mkRcOGONzNtzz93GTXd0UAc7p2i2WlvJJapK0soAea4uJJ5CB0XfIzNtGScZxyfWodN0qXS9UvTbyIdPu3NwIjndFMfv47bW+96hs9c8dRRR1uBzFnpk41y61S/kR5GXyLaOP7sMIOep6sx5PbhQOmTqVp0UdLB1uc/qOlW+qCMXMl2nl52/Zr2a3zn18tlz075qL/AIR7S/IsYfsvyWEnm248xvlfn5ic/MTkk7s5PJ55rpaKAOWfwxpMllc2jWzCK5uRdSbZnVvNBBDKwbcpBUY2kYxxWfq3g62k8NaxY6Onl3epW/lPPc3EkhcjO0u7FmOMkZ5OMDoBjuaKPId9bnN6bodlpbtLbrM8zKEaa5uZJ32/3Q0jMQuecA4plh4d07TLnztPS4gA3bYEu5fIXPXEO7YOvZa6eigm2ljkrfwjottcRTRW0uYZTNCj3UrpC5JJKIWKp1P3QOuKmn8O6fdX32q5+1TNvWTynvZmh3DBB8ovs4IB+71GetdPRRsM5i98Oadf3rXkq3MNwyhHktLya3MgGcBvLZd2MnGc4zRrOj/2lp0UdvKYLq1kWa0nbL+XIvTOeSCMg85IJ5rp6KAOY1ayv9T0dbKOWO2a4Aju5EYkpGR84j45Y9ATjGc9sHQhhjt7eOGFQkcahEUdAAMAVr0UANi/1Kf7op1FFAFO7/1w/wB2sC/8L6bqV+t7dm+M6HKGLUbiMIcbcqquAvHBwBnmurooA5nUNAstTkD3b3vCbCkV/PEjD3VHAPXuOalvtHsdQsI7O5gxBEytEIXaIxFfulWQgqR7EV0NFAHM3GgWV3paafO961umel/OrtnOQzh9zDk8MSKksNFstO01rC3SV7VhtMdxcST/AC4xtBkYkLgdOldFRQBzFp4esbGwls7Z71YJFCkHUJ2KAdAjFyU/4CRSaZ4b03SBOLNLkpcbvNjnvJp0YscsdsjMMk9TjJzXUUUAcxp3h2w0mZXsTeIqLsSJr6d4kX0EbOUAHbA47UkelS2niSXULORBb3iAXkLZ5dRhJFx3x8pB6gL6YPUUUAcw2mT3PiNNQu5ENvaRlbSFOodhh5GPrj5QB0BY8542bb/j4X8f5VeooAKKKKACs6X/AFr/AO8a0aKAMPT9PttK0+GxsIvKt4F2xpuLbR9SSawfDvg+DS4FfUd1xdLdTTqPtUrwoWlZlKxsdisAw5C5znnvXdUUeYbqxyN54Q0W/uLma6tpX+1NvniF1KsUjbQu4xhtm7AHOM5APUZrSTT7WPU5NQSLF1JEsLybjyikkDGcdWP51uUUAYOpaXaatai3vo2dFdZFKSNG6MDkMrKQyn3BFVbvw5p99paaddteyWyhlK/2hOGcHqHYPucc9GJrqKKPIDnbfRrK30qTTQks1pIpV47meSfKkYK5dicY7ZxTLbQrO00+WyhkvvJlGDv1Cd3Uf7Llyy/8BIrpaKNwOW03wzpmlLOlolw0dxu82O4vJp0fccsSsjMMk5ycZOaXT/DWl6ZcJNaxTF40McXn3MswhU4yqB2IQcDhcdB6V1FFAHNw6DptvZ2FrDbbYdPcSWq+Yx8tgGGc5yeGbrnrUdxpUo8RW+rWMiI5j+z3cb9JouSpGP4lY8dsMw7gjqKKOtw3OYvtMm1HWrOW4kQWFmfPWJc7pJ+QC3YKoOQO5IPG3nWi/wBcn+8K0aKACiiigAooooAKKKKACiiigAooooAKKKKACiiigAooooAKKKKAP//Z)"
      ]
    },
    {
      "cell_type": "code",
      "metadata": {
        "colab": {
          "base_uri": "https://localhost:8080/"
        },
        "id": "bdgkIJ7qgwhw",
        "outputId": "ce69c632-660e-4543-82c8-285333819872"
      },
      "source": [
        "monte.str.lower()"
      ],
      "execution_count": 27,
      "outputs": [
        {
          "output_type": "execute_result",
          "data": {
            "text/plain": [
              "0    graham chapman\n",
              "1       john cleese\n",
              "2     terry gilliam\n",
              "3         eric idle\n",
              "4       terry jones\n",
              "5     michael palin\n",
              "dtype: object"
            ]
          },
          "metadata": {
            "tags": []
          },
          "execution_count": 27
        }
      ]
    },
    {
      "cell_type": "code",
      "metadata": {
        "colab": {
          "base_uri": "https://localhost:8080/"
        },
        "id": "EyaPYepDhRu8",
        "outputId": "492bad25-0c3c-4184-c543-b93b8305afa1"
      },
      "source": [
        "monte.str.startswith('T')"
      ],
      "execution_count": 30,
      "outputs": [
        {
          "output_type": "execute_result",
          "data": {
            "text/plain": [
              "0    False\n",
              "1    False\n",
              "2     True\n",
              "3    False\n",
              "4     True\n",
              "5    False\n",
              "dtype: bool"
            ]
          },
          "metadata": {
            "tags": []
          },
          "execution_count": 30
        }
      ]
    },
    {
      "cell_type": "code",
      "metadata": {
        "colab": {
          "base_uri": "https://localhost:8080/"
        },
        "id": "6wV0fQe1hYI6",
        "outputId": "cfb1cd2c-df57-4651-8ace-6e5d40d103f0"
      },
      "source": [
        "monte.str.split()"
      ],
      "execution_count": 31,
      "outputs": [
        {
          "output_type": "execute_result",
          "data": {
            "text/plain": [
              "0    [Graham, Chapman]\n",
              "1       [John, Cleese]\n",
              "2     [Terry, Gilliam]\n",
              "3         [Eric, Idle]\n",
              "4       [Terry, Jones]\n",
              "5     [Michael, Palin]\n",
              "dtype: object"
            ]
          },
          "metadata": {
            "tags": []
          },
          "execution_count": 31
        }
      ]
    },
    {
      "cell_type": "markdown",
      "metadata": {
        "id": "F5E230EchwZD"
      },
      "source": [
        "***String düzenlerken regex metodlarından da yararlanılabilir***"
      ]
    },
    {
      "cell_type": "markdown",
      "metadata": {
        "id": "eOkuKS4Chk4x"
      },
      "source": [
        "![Ekran Alıntısı1.JPG](data:image/jpeg;base64,/9j/4AAQSkZJRgABAQEAeAB4AAD/4RDaRXhpZgAATU0AKgAAAAgABAE7AAIAAAAFAAAISodpAAQAAAABAAAIUJydAAEAAAAKAAAQyOocAAcAAAgMAAAAPgAAAAAc6gAAAAgAAAAAAAAAAAAAAAAAAAAAAAAAAAAAAAAAAAAAAAAAAAAAAAAAAAAAAAAAAAAAAAAAAAAAAAAAAAAAAAAAAAAAAAAAAAAAAAAAAAAAAAAAAAAAAAAAAAAAAAAAAAAAAAAAAAAAAAAAAAAAAAAAAAAAAAAAAAAAAAAAAAAAAAAAAAAAAAAAAAAAAAAAAAAAAAAAAAAAAAAAAAAAAAAAAAAAAAAAAAAAAAAAAAAAAAAAAAAAAAAAAAAAAAAAAAAAAAAAAAAAAAAAAAAAAAAAAAAAAAAAAAAAAAAAAAAAAAAAAAAAAAAAAAAAAAAAAAAAAAAAAAAAAAAAAAAAAAAAAAAAAAAAAAAAAAAAAAAAAAAAAAAAAAAAAAAAAAAAAAAAAAAAAAAAAAAAAAAAAAAAAAAAAAAAAAAAAAAAAAAAAAAAAAAAAAAAAAAAAAAAAAAAAAAAAAAAAAAAAAAAAAAAAAAAAAAAAAAAAAAAAAAAAAAAAAAAAAAAAAAAAAAAAAAAAAAAAAAAAAAAAAAAAAAAAAAAAAAAAAAAAAAAAAAAAAAAAAAAAAAAAAAAAAAAAAAAAAAAAAAAAAAAAAAAAAAAAAAAAAAAAAAAAAAAAAAAAAAAAAAAAAAAAAAAAAAAAAAAAAAAAAAAAAAAAAAAAAAAAAAAAAAAAAAAAAAAAAAAAAAAAAAAAAAAAAAAAAAAAAAAAAAAAAAAAAAAAAAAAAAAAAAAAAAAAAAAAAAAAAAAAAAAAAAAAAAAAAAAAAAAAAAAAAAAAAAAAAAAAAAAAAAAAAAAAAAAAAAAAAAAAAAAAAAAAAAAAAAAAAAAAAAAAAAAAAAAAAAAAAAAAAAAAAAAAAAAAAAAAAAAAAAAAAAAAAAAAAAAAAAAAAAAAAAAAAAAAAAAAAAAAAAAAAAAAAAAAAAAAAAAAAAAAAAAAAAAAAAAAAAAAAAAAAAAAAAAAAAAAAAAAAAAAAAAAAAAAAAAAAAAAAAAAAAAAAAAAAAAAAAAAAAAAAAAAAAAAAAAAAAAAAAAAAAAAAAAAAAAAAAAAAAAAAAAAAAAAAAAAAAAAAAAAAAAAAAAAAAAAAAAAAAAAAAAAAAAAAAAAAAAAAAAAAAAAAAAAAAAAAAAAAAAAAAAAAAAAAAAAAAAAAAAAAAAAAAAAAAAAAAAAAAAAAAAAAAAAAAAAAAAAAAAAAAAAAAAAAAAAAAAAAAAAAAAAAAAAAAAAAAAAAAAAAAAAAAAAAAAAAAAAAAAAAAAAAAAAAAAAAAAAAAAAAAAAAAAAAAAAAAAAAAAAAAAAAAAAAAAAAAAAAAAAAAAAAAAAAAAAAAAAAAAAAAAAAAAAAAAAAAAAAAAAAAAAAAAAAAAAAAAAAAAAAAAAAAAAAAAAAAAAAAAAAAAAAAAAAAAAAAAAAAAAAAAAAAAAAAAAAAAAAAAAAAAAAAAAAAAAAAAAAAAAAAAAAAAAAAAAAAAAAAAAAAAAAAAAAAAAAAAAAAAAAAAAAAAAAAAAAAAAAAAAAAAAAAAAAAAAAAAAAAAAAAAAAAAAAAAAAAAAAAAAAAAAAAAAAAAAAAAAAAAAAAAAAAAAAAAAAAAAAAAAAAAAAAAAAAAAAAAAAAAAAAAAAAAAAAAAAAAAAAAAAAAAAAAAAAAAAAAAAAAAAAAAAAAAAAAAAAAAAAAAAAAAAAAAAAAAAAAAAAAAAAAAAAAAAAAAAAAAAAAAAAAAAAAAAAAAAAAAAAAAAAAAAAAAAAAAAAAAAAAAAAAAAAAAAAAAAAAAAAAAAAAAAAAAAAAAAAAAAAAAAAAAAAAAAAAAAAAAAAAAAAAAAAAAAAAAAAAAAAAAAAAAAAAAAAAAAAAAAAAAAAAAAAAAAAAAAAAAAAAAAAAAAAAAAAAAAAAAAAAAAAAAAAAAAAAAAAAAAAAAAAAAAAAAAAAAAAAAAAAAAAAAAAAAAAAAAAAAAAAAAAAAAAAAAAAAAAAAAAAAAAAAAAAAAAAAAAAAAAAAAAAAAAAAAAAAAAAAAAAAAAAAAAAAAAAAAAAAAAAAAAAAAAAAAAAAAAAAAAAAAAAAAAAAAAAAAAAAAAAAAAAAAAAAAAAAAAAAAAAAAAAAAAAAAAAAAAAAAAAAAAAAAAAAAAAAAAAAAAAAAAAAAAAAAAAAAAAAAAAAAAAAAAAAAAAAAAAAAAAAAAAAAAAAAAAAAAAAAAAAAAAAAAAAAAAAAAAAAAAAAAAAAAAAAAAAAAAAAAAAAAAAAAAAAAAAAAAAAAAAAAAAAAAAAAAAAAAAAAAAAAAAAAAAAAAAAAAAAAAAAAAAAAAAAAAAAAAAAAAAAAAAAAAAAAAAAAAAAAAAAAAAAAAAAAAAAAAAAAAAAAAAAAAAAAAAAAAAAAAAAAAAAAAAAAAAAAAAAAAAAAAAAAAAAAAAAAAAAAAAAAAAAAAAAAAAAAAAAAAAAAAAAAAAAAAAAAAAAAAAAAAAAAAAAAAAAAAAAAAAAAAAAAAAAAAAAAAAAAAAAAAAAAAAAAAAAAAAAAAAAAAAAAAAAAAAAAAAAAAAAAAAAAAAAAAAAAAAAAAAAAAAAAAAAAAAAAAAAAAAAAAAAAAAAAAAAAAAAAAAAAAAAAAAAAAAAAAAAAAAAAAAAAAAAAAAAAAAAAAAAAAAAAAAAAAAAAAAAAAAAAAAAAAAAAAAAAAAAAAAAAAAAAAAAAAAAAAAAAAAAAAAAAAAAAAAAAAAAAAAAAAAAAAAAAAAAAAAAAAAAAAAAAAAAAAAGlyZW0AAAAFkAMAAgAAABQAABCekAQAAgAAABQAABCykpEAAgAAAAMzMwAAkpIAAgAAAAMzMwAA6hwABwAACAwAAAiSAAAAABzqAAAACAAAAAAAAAAAAAAAAAAAAAAAAAAAAAAAAAAAAAAAAAAAAAAAAAAAAAAAAAAAAAAAAAAAAAAAAAAAAAAAAAAAAAAAAAAAAAAAAAAAAAAAAAAAAAAAAAAAAAAAAAAAAAAAAAAAAAAAAAAAAAAAAAAAAAAAAAAAAAAAAAAAAAAAAAAAAAAAAAAAAAAAAAAAAAAAAAAAAAAAAAAAAAAAAAAAAAAAAAAAAAAAAAAAAAAAAAAAAAAAAAAAAAAAAAAAAAAAAAAAAAAAAAAAAAAAAAAAAAAAAAAAAAAAAAAAAAAAAAAAAAAAAAAAAAAAAAAAAAAAAAAAAAAAAAAAAAAAAAAAAAAAAAAAAAAAAAAAAAAAAAAAAAAAAAAAAAAAAAAAAAAAAAAAAAAAAAAAAAAAAAAAAAAAAAAAAAAAAAAAAAAAAAAAAAAAAAAAAAAAAAAAAAAAAAAAAAAAAAAAAAAAAAAAAAAAAAAAAAAAAAAAAAAAAAAAAAAAAAAAAAAAAAAAAAAAAAAAAAAAAAAAAAAAAAAAAAAAAAAAAAAAAAAAAAAAAAAAAAAAAAAAAAAAAAAAAAAAAAAAAAAAAAAAAAAAAAAAAAAAAAAAAAAAAAAAAAAAAAAAAAAAAAAAAAAAAAAAAAAAAAAAAAAAAAAAAAAAAAAAAAAAAAAAAAAAAAAAAAAAAAAAAAAAAAAAAAAAAAAAAAAAAAAAAAAAAAAAAAAAAAAAAAAAAAAAAAAAAAAAAAAAAAAAAAAAAAAAAAAAAAAAAAAAAAAAAAAAAAAAAAAAAAAAAAAAAAAAAAAAAAAAAAAAAAAAAAAAAAAAAAAAAAAAAAAAAAAAAAAAAAAAAAAAAAAAAAAAAAAAAAAAAAAAAAAAAAAAAAAAAAAAAAAAAAAAAAAAAAAAAAAAAAAAAAAAAAAAAAAAAAAAAAAAAAAAAAAAAAAAAAAAAAAAAAAAAAAAAAAAAAAAAAAAAAAAAAAAAAAAAAAAAAAAAAAAAAAAAAAAAAAAAAAAAAAAAAAAAAAAAAAAAAAAAAAAAAAAAAAAAAAAAAAAAAAAAAAAAAAAAAAAAAAAAAAAAAAAAAAAAAAAAAAAAAAAAAAAAAAAAAAAAAAAAAAAAAAAAAAAAAAAAAAAAAAAAAAAAAAAAAAAAAAAAAAAAAAAAAAAAAAAAAAAAAAAAAAAAAAAAAAAAAAAAAAAAAAAAAAAAAAAAAAAAAAAAAAAAAAAAAAAAAAAAAAAAAAAAAAAAAAAAAAAAAAAAAAAAAAAAAAAAAAAAAAAAAAAAAAAAAAAAAAAAAAAAAAAAAAAAAAAAAAAAAAAAAAAAAAAAAAAAAAAAAAAAAAAAAAAAAAAAAAAAAAAAAAAAAAAAAAAAAAAAAAAAAAAAAAAAAAAAAAAAAAAAAAAAAAAAAAAAAAAAAAAAAAAAAAAAAAAAAAAAAAAAAAAAAAAAAAAAAAAAAAAAAAAAAAAAAAAAAAAAAAAAAAAAAAAAAAAAAAAAAAAAAAAAAAAAAAAAAAAAAAAAAAAAAAAAAAAAAAAAAAAAAAAAAAAAAAAAAAAAAAAAAAAAAAAAAAAAAAAAAAAAAAAAAAAAAAAAAAAAAAAAAAAAAAAAAAAAAAAAAAAAAAAAAAAAAAAAAAAAAAAAAAAAAAAAAAAAAAAAAAAAAAAAAAAAAAAAAAAAAAAAAAAAAAAAAAAAAAAAAAAAAAAAAAAAAAAAAAAAAAAAAAAAAAAAAAAAAAAAAAAAAAAAAAAAAAAAAAAAAAAAAAAAAAAAAAAAAAAAAAAAAAAAAAAAAAAAAAAAAAAAAAAAAAAAAAAAAAAAAAAAAAAAAAAAAAAAAAAAAAAAAAAAAAAAAAAAAAAAAAAAAAAAAAAAAAAAAAAAAAAAAAAAAAAAAAAAAAAAAAAAAAAAAAAAAAAAAAAAAAAAAAAAAAAAAAAAAAAAAAAAAAAAAAAAAAAAAAAAAAAAAAAAAAAAAAAAAAAAAAAAAAAAAAAAAAAAAAAAAAAAAAAAAAAAAAAAAAAAAAAAAAAAAAAAAAAAAAAAAAAAAAAAAAAAAAAAAAAAAAAAAAAAAAAAAAAAAAAAAAAAAAAAAAAAAAAAAAAAAAAAAAAAAAAAAAAAAAAAAAAAAAAAAAAAAAAAAAAAAAAAAAAAAAAAAAAAAAAAAAAAAAAAAAAAAAAAAAAAAAAAAAAAAAAAAAAAAAAAAAAAAAAAAAAAAAAAAAAAAAAAAAAAAAAAAAAAAAAAAAAAAAAAAAAAAAAAAAAAAAAAAAAAAAAAAAAAAAAAAAAAAAAAAAAAAAAAAAAAAAAAAAAAAAAAAAAAAAAAAAAAAAAAAAAAAAAAAAAAAAAAAAAAAAAAAAAAAAAAAAAAAAAAAAAAAAAAAAAAAAAAAAAAAAAAAAAAAAAAAAAAAAAAAAAAAAAAAAAAAAAAAAAAAAAAAAAAAAAAAAAAAAAAAAAAAAAAAAAAAAAAAAAAAAAAAAAAAAAAAAAAAAAAAAAAAAAAAAAAAAAAAAAAAAAAAAAAAAAAAAAAAAAAAAAAAAAAAAAAAAAAAAAAAAAAAAAAAAAAAAAAAAAAAAAAAAAAAAAAAAAAAAAAAAAAAAAAAAAAAAAAAAAAAAAAAAAAAAAAAAAAAAAAAAAAAAAAAAAAAAAAAAAAAAAAAAAAAAAAAAAAAAAAAAAAAAAAAAAAAAAAAAAAAAAAAAAAAAAAAAAAAAAAAAAAAAAAAAAAAAAAAAAAAAAAAAAAAAAAAAAAAAAAAAAMjAyMTowMjowNCAyMjozMTowMwAyMDIxOjAyOjA0IDIyOjMxOjAzAAAAaQByAGUAbQAAAP/hCxdodHRwOi8vbnMuYWRvYmUuY29tL3hhcC8xLjAvADw/eHBhY2tldCBiZWdpbj0n77u/JyBpZD0nVzVNME1wQ2VoaUh6cmVTek5UY3prYzlkJz8+DQo8eDp4bXBtZXRhIHhtbG5zOng9ImFkb2JlOm5zOm1ldGEvIj48cmRmOlJERiB4bWxuczpyZGY9Imh0dHA6Ly93d3cudzMub3JnLzE5OTkvMDIvMjItcmRmLXN5bnRheC1ucyMiPjxyZGY6RGVzY3JpcHRpb24gcmRmOmFib3V0PSJ1dWlkOmZhZjViZGQ1LWJhM2QtMTFkYS1hZDMxLWQzM2Q3NTE4MmYxYiIgeG1sbnM6ZGM9Imh0dHA6Ly9wdXJsLm9yZy9kYy9lbGVtZW50cy8xLjEvIi8+PHJkZjpEZXNjcmlwdGlvbiByZGY6YWJvdXQ9InV1aWQ6ZmFmNWJkZDUtYmEzZC0xMWRhLWFkMzEtZDMzZDc1MTgyZjFiIiB4bWxuczp4bXA9Imh0dHA6Ly9ucy5hZG9iZS5jb20veGFwLzEuMC8iPjx4bXA6Q3JlYXRlRGF0ZT4yMDIxLTAyLTA0VDIyOjMxOjAzLjMzNDwveG1wOkNyZWF0ZURhdGU+PC9yZGY6RGVzY3JpcHRpb24+PHJkZjpEZXNjcmlwdGlvbiByZGY6YWJvdXQ9InV1aWQ6ZmFmNWJkZDUtYmEzZC0xMWRhLWFkMzEtZDMzZDc1MTgyZjFiIiB4bWxuczpkYz0iaHR0cDovL3B1cmwub3JnL2RjL2VsZW1lbnRzLzEuMS8iPjxkYzpjcmVhdG9yPjxyZGY6U2VxIHhtbG5zOnJkZj0iaHR0cDovL3d3dy53My5vcmcvMTk5OS8wMi8yMi1yZGYtc3ludGF4LW5zIyI+PHJkZjpsaT5pcmVtPC9yZGY6bGk+PC9yZGY6U2VxPg0KCQkJPC9kYzpjcmVhdG9yPjwvcmRmOkRlc2NyaXB0aW9uPjwvcmRmOlJERj48L3g6eG1wbWV0YT4NCiAgICAgICAgICAgICAgICAgICAgICAgICAgICAgICAgICAgICAgICAgICAgICAgICAgICAgICAgICAgICAgICAgICAgICAgICAgICAgICAgICAgICAgICAgICAgICAgICAgICAKICAgICAgICAgICAgICAgICAgICAgICAgICAgICAgICAgICAgICAgICAgICAgICAgICAgICAgICAgICAgICAgICAgICAgICAgICAgICAgICAgICAgICAgICAgICAgICAgICAgIAogICAgICAgICAgICAgICAgICAgICAgICAgICAgICAgICAgICAgICAgICAgICAgICAgICAgICAgICAgICAgICAgICAgICAgICAgICAgICAgICAgICAgICAgICAgICAgICAgICAgCiAgICAgICAgICAgICAgICAgICAgICAgICAgICAgICAgICAgICAgICAgICAgICAgICAgICAgICAgICAgICAgICAgICAgICAgICAgICAgICAgICAgICAgICAgICAgICAgICAgICAKICAgICAgICAgICAgICAgICAgICAgICAgICAgICAgICAgICAgICAgICAgICAgICAgICAgICAgICAgICAgICAgICAgICAgICAgICAgICAgICAgICAgICAgICAgICAgICAgICAgIAogICAgICAgICAgICAgICAgICAgICAgICAgICAgICAgICAgICAgICAgICAgICAgICAgICAgICAgICAgICAgICAgICAgICAgICAgICAgICAgICAgICAgICAgICAgICAgICAgICAgCiAgICAgICAgICAgICAgICAgICAgICAgICAgICAgICAgICAgICAgICAgICAgICAgICAgICAgICAgICAgICAgICAgICAgICAgICAgICAgICAgICAgICAgICAgICAgICAgICAgICAKICAgICAgICAgICAgICAgICAgICAgICAgICAgICAgICAgICAgICAgICAgICAgICAgICAgICAgICAgICAgICAgICAgICAgICAgICAgICAgICAgICAgICAgICAgICAgICAgICAgIAogICAgICAgICAgICAgICAgICAgICAgICAgICAgICAgICAgICAgICAgICAgICAgICAgICAgICAgICAgICAgICAgICAgICAgICAgICAgICAgICAgICAgICAgICAgICAgICAgICAgCiAgICAgICAgICAgICAgICAgICAgICAgICAgICAgICAgICAgICAgICAgICAgICAgICAgICAgICAgICAgICAgICAgICAgICAgICAgICAgICAgICAgICAgICAgICAgICAgICAgICAKICAgICAgICAgICAgICAgICAgICAgICAgICAgICAgICAgICAgICAgICAgICAgICAgICAgICAgICAgICAgICAgICAgICAgICAgICAgICAgICAgICAgICAgICAgICAgICAgICAgIAogICAgICAgICAgICAgICAgICAgICAgICAgICAgICAgICAgICAgICAgICAgICAgICAgICAgICAgICAgICAgICAgICAgICAgICAgICAgICAgICAgICAgICAgICAgICAgICAgICAgCiAgICAgICAgICAgICAgICAgICAgICAgICAgICAgICAgICAgICAgICAgICAgICAgICAgICAgICAgICAgICAgICAgICAgICAgICAgICAgICAgICAgICAgICAgICAgICAgICAgICAKICAgICAgICAgICAgICAgICAgICAgICAgICAgICAgICAgICAgICAgICAgICAgICAgICAgICAgICAgICAgICAgICAgICAgICAgICAgICAgICAgICAgICAgICAgICAgICAgICAgIAogICAgICAgICAgICAgICAgICAgICAgICAgICAgICAgICAgICAgICAgICAgICAgICAgICAgICAgICAgICAgICAgICAgICAgICAgICAgICAgICAgICAgICAgICAgICAgICAgICAgCiAgICAgICAgICAgICAgICAgICAgICAgICAgICAgICAgICAgICAgICAgICAgICAgICAgICAgICAgICAgICAgICAgICAgICAgICAgICAgICAgICAgICAgICAgICAgICAgICAgICAKICAgICAgICAgICAgICAgICAgICAgICAgICAgICAgICAgICAgICAgICAgICAgICAgICAgICAgICAgICAgICAgICAgICAgICAgICAgICAgICAgICAgICAgICAgICAgICAgICAgIAogICAgICAgICAgICAgICAgICAgICAgICAgICAgICAgICAgICAgICAgICAgICAgICAgICAgICAgICAgICAgICAgICAgICAgICAgICAgICAgICAgICAgICAgICAgICAgICAgICAgCiAgICAgICAgICAgICAgICAgICAgICAgICAgICAgICAgICAgICAgICAgICAgICAgICAgICAgICAgICAgICAgICAgICAgICAgICAgICAgICAgICAgICAgICAgICAgICAgICAgICAKICAgICAgICAgICAgICAgICAgICAgICAgICAgICAgICAgICAgICAgICAgICAgICAgICAgICAgICAgICAgICAgICAgICAgICAgICAgICAgICAgICAgICAgICAgICAgICAgICAgIAogICAgICAgICAgICAgICAgICAgICAgICAgICAgPD94cGFja2V0IGVuZD0ndyc/Pv/bAEMABwUFBgUEBwYFBggHBwgKEQsKCQkKFQ8QDBEYFRoZGBUYFxseJyEbHSUdFxgiLiIlKCkrLCsaIC8zLyoyJyorKv/bAEMBBwgICgkKFAsLFCocGBwqKioqKioqKioqKioqKioqKioqKioqKioqKioqKioqKioqKioqKioqKioqKioqKioqKv/AABEIASQDAAMBIgACEQEDEQH/xAAfAAABBQEBAQEBAQAAAAAAAAAAAQIDBAUGBwgJCgv/xAC1EAACAQMDAgQDBQUEBAAAAX0BAgMABBEFEiExQQYTUWEHInEUMoGRoQgjQrHBFVLR8CQzYnKCCQoWFxgZGiUmJygpKjQ1Njc4OTpDREVGR0hJSlNUVVZXWFlaY2RlZmdoaWpzdHV2d3h5eoOEhYaHiImKkpOUlZaXmJmaoqOkpaanqKmqsrO0tba3uLm6wsPExcbHyMnK0tPU1dbX2Nna4eLj5OXm5+jp6vHy8/T19vf4+fr/xAAfAQADAQEBAQEBAQEBAAAAAAAAAQIDBAUGBwgJCgv/xAC1EQACAQIEBAMEBwUEBAABAncAAQIDEQQFITEGEkFRB2FxEyIygQgUQpGhscEJIzNS8BVictEKFiQ04SXxFxgZGiYnKCkqNTY3ODk6Q0RFRkdISUpTVFVWV1hZWmNkZWZnaGlqc3R1dnd4eXqCg4SFhoeIiYqSk5SVlpeYmZqio6Slpqeoqaqys7S1tre4ubrCw8TFxsfIycrS09TV1tfY2dri4+Tl5ufo6ery8/T19vf4+fr/2gAMAwEAAhEDEQA/APpGiiigAooooAKKKKACiiigAooooAKKKKACiiigAooooAKKKKACiiigAooooAKKKKACiiigAooooAKKKKACiiigAooooAKKKKACiiigAooooAKKKKACiiigAooooAKKKKACiiigAooooAKKKKACiiigAooooAKKKKACiiigAooooAKKKKACiiigAooooAKKKKACiiigAooooAKKKKACiiigAooooAKKKKACiiigAooooAKKKKACiiigAooooAKKKKACiiigAooooAKKKKACiivmbwp4kXwN8bPFet6ncGPRNQ1a9sLktwkUyfvYmJJ6kb1H40rq9n2bKs+XmXdL8/8AI+maK+cvhRrL6H4s8ceJ/ELSvLJpEWr3UfVlEm6VYxn/AGCgFXPC37RGoav4q0y0vhoUlrq1wLaK0s1uhdWTOcRmV3QRuAcA7PXI6YppN2XXt82v0Jel30/4Cd/xPf3dY42dzhVBJPoKy/DXijR/F+ipq3h27+2WLuyLL5Tx5KnBGHAP6V4z8KLjxpc+O/HEl9/YX2Yag6ax5Qm3+asbqv2fPG3IGd/OK5f4e+OfGPgX4J2etafpWky+HrbUWjuTcSu1zNvkGTGFwqAZ2/Nk55xinHV69Un94ndfe19x9SUV5frfxB8Var46vPC3w40/SpLjS7RLm+utXaTy8uAViRY+d2GByTjr0xk5cvx1mvPhvpOq6NpEX9v6tqP9lw2dxIfJjnGMsWGCU5Xjg/N14zS3Wn9a2/PQf9fhf8tT0xPFWjSeLpPC6XmdZjtvtT23lPxFkDduxt7jjOa2K8L8HP4gf9qC9Hi6HT49UTQMSNpru0Eg3oVZQ/zDg4IPcE9CK90o+yn3v+bX6B1a/rZBRRRQAUUV49+0vGk3w50yKQbkfWoFYZ6gpJmjW6S6tL72NK9/JN/crnsNFeGzaHa/Cb4yeErPwZJcWukeIzLBe6W07yxblC4lAYkg8jnPABHQkVkat+0vcQa5eTaauinSbO58lbG4W5+23aAgGRJFUwqDkkBjng9eKE07W8/wFr+X4/8ADH0TRXjPiz4wa7Y+PxoOjDw/pdsLOO6jn8RySwi9DruxFIvyL/d+Y43A/StnXvH3iq88eJ4M8C6dpDatb2a3mo3OpzSPbQAgYjXYAzH5lw2O/QckGv5/gH/A/G3+aPTaqtqdguqLpjXtuL94vOW0Mq+a0ecbwmc7c8ZxivNPEHxA8a6P4y8O+FINK0W51fV9Od5MSyCGO4XPzhzz5QCliu0segPeqlle3S/tFaXZ6/pWjtrX/COeZcahZibKtuYFEDPt2e5XdyeccUefTX8L/wCQN2X3fjb/ADPYKK8CsvjL8Q734f3PjKLQ/D7aXpd2Yb1N8wmnXeozEuSEwG5LFvXHGDD/AG14u179ojT9Q8Pf2H/pXh9LizF4JgosZHDfPt587JPT5elNJtpf1tdff/mEvdvfp+jsz3mDU7C5v7mxtr23mu7Xabi3jlVpIdwyu9QcrkdM9atV4pYeMdN8LfET4patc6PaQjS4reSSe3Mgmu2K4VW3OUGWIHyqvXJzVnTvil4x03UvDNz420fSYtF8VSLHZHT3lNxaF8GMTbuGyGGduO54xtKj7yVutvx2+8JaN+X6bnsVFeI3XxV8f3dx42Xw/pOgG38K3cu+4u2lBkhTf8gRW5k+XO7cq9sc16p4O8QHxV4L0nXGg+ztf2yTNEDkIxHIB9M5oWqv6fiEvdlyvz/A2qKKKACiiigAooooAKKKKACiiigAooooAKKKKACiiigAooooAKKKKACiiigAooooAKKKKACiiigAooooAKKKKACiiigAooooAKKKKACiiigAooooAKKKKACiiigAooooAKKKKACiiigAooooAKKKKACiiigAooooAKKKKACiiigAooooAKKKKACiiigArzZvgvpN/Y+JLLXr2W8ttc1j+1VEMYie2bP3QxLZ4JBOBwT0r0mijrf+u/6Du7W/rqv1ZxMfw1s28XeJ9WvboT2fiKxjsZLAQ7PKRY9hw+7nI9hiqfhD4d+I/CN3aWsPj26vPDtiWFvpU2nRbwhztRp87iBnsB0GAAMV6FRQtP6/ruJ67/1pb8kee6Z8Mr7QviBq2u6J4nkt9L1mVp7/AEiSyWQSyFWGRKWyvzNu4HscisxPgns+C7eAP+EgzuuvtH2/7F/00D48vzPbGd1eq0ULTby/DVDbu7v+rnnXiH4W3l34mfxF4Q8Uz+G9VubQWl9ItmlzHcoAADsYja3A5yegxjkmtd/A7Rz8PtO8OaTqV3YXWmXf2621MAPJ9o7uy8AjpwCMbV5459Ooo/r8b/nqL+vwt+Wh574X+GN/ovxCfxhrPiqbXNQn082dx5tmkIY7gQyhDhFAUDbg85OecV6FRRTvpYAooopAFcb8TvAL/EXwzb6VHqv9lvb3iXaz/Z/O5VWAG3cv97Oc9q7Kigadjz3w78L7m18YReKfGfia48UavaxmKyZ7VLaG2UjBIjUkbuvPHXoTg1WtfhXrOg6zdv4N8c3Wi6Ne3Zu7jTG0+K4w7HLiORuYwRwODjGea9Loo2eguh5x42+GOt+M7q5t5vG00GhXhjNxpcmlwzbSvUxSNzHwODgkHJyc4pNZ+Esp8QWGu+CfE1x4a1O1sU095fsqXSTwKMKGRiAW4HJz90cAjNekUUkrbBucEvw2vJfHHhfxPqXiJr270Kze2l32YU3jMrKXJDYT72cYPTrV2bwH5nxci8c/2ljytNNh9i8jr8xO/fu9+m38a7Cim9Vb1/G9/wA2G+/l+Gx8y/Cj4d6j47+Gt1Zv4su9P0GbVZPt2mRWsb+ftKEFZT8ydBx8w4BxXq3iD4W3Nz4w0vxJ4Q8Rt4cvbCxGnlfsS3MckCnKrtZhjqQevbGCM16JRVXta3T/ACt/SCXvNt9b/i7/ANM4CL4UWUviHxlfarfG8tPFUUcUtqsPlmAKuMh9xyc8jgYx3rM0b4MXFvq+iyeJPFt1rul+Hm3aRp72ccIgIxs3upJk2gDqByB2yD6lRUx921ugPW9+p57p/wAK/sEPjqP+2fM/4S6SV8/ZcfZN4cY+/wDPjf8A7PSuo8H+Hv8AhFPB2maF9q+1/YIFh8/y9nmY77cnH5mtqijb8Pw2B6u7839+4UUUUAFFFFABRRRQAUUUUAFFFFABRRRQAUUUUAFFFFABRRRQAUUUUAFFFFABRRRQAUUUUAFFFFABRRRQAUUUUAFFFFABRRRQAUUUUAFFFFABRRRQAUUUUAFFFFABRRRQAUUUUAFFFFABRRRQAUUUUAFFFFABRRRQAUUUUAFFFFABRRRQAUUUUAFFFFADZDiJiOu01Q82T++351fl/wBS/wDumuZ1/WZNGt7VoLT7VLdXSW0aGTYAzA4JODxkc+3r0IBr+bJ/fb86PNk/vt+dcponjCfVHkF1pa2qi0e5jK3QfeEco4OQoUbhwSeRydvSjRvGLaxqVxp9uulXFylsbiJrDVPtETYO3a7CMFDkr/C3BPpQtdv6/qwf1/X3nV+bJ/fb86PNk/vt+dcj4Ovtdulu/wC0be1MC6hdI0v295JExIwCKpiAKjoPmHHYdK0NP1u/1a7kfT9Ng/s2O4eBrme6KSOUYq7LGEYEBgQMspODwOMnYHpfyN7zZP77fnTJrsW8LS3FwIo0GWd32qo9ya4Oy1i90a98U3cWnR3FlBqm+4le58tgvkwg7FCtuIHOCVHTBPONvVV/tLxjpemzc2kMEl+8ZHEkisqx57EAsWx6hT2o7ef+Vwel/L/hjoWuwkyRPcBZJASiF8MwHXA74yPzp/myf32/Ouf8ZwbvC91exN5d3pqG9tpR1R4wW/IgFSO4Yitm3m+0WsUwBAkQPg9sjNAGxRRRQAVXv7+00uxlvdSuobS1hXdJNM4REHqSeBViuK+IH/IY8G/af+PD+3U8/d93f5Unk7u3+t2Y/wBrbjmjql3a/EO7NrS/F+j6vfrZWz3cNy8ZkjivtPntGlUYyU85F34yM7c4yM9a26juZkt7WWaaTy440Lu/90AZJryaxvNUt9Y8LaxpyatFpurX6wPPq2syTS3kckLvuNpgwxAlQwKFCMY2KDihau39a7B0v6/hudRN8Q/K8N6rq39l5/s7WjpXlfaP9Z+/SLzM7ePv524PTGe9dfdMViBUkHd2NeN3f/JN/FX/AGOh/wDS2KvY7v8A1I/3qF8Kfp+Sf6jfxSXm/wAG0VfNk/vt+dHmyf32/OsHVNeu7TX7bR9P00Xlxc2zzq73HlRoEZQd52kgfN1AJzgYxkijfeNRp9lYfbba3sL68MgMOpXf2aKPyzhj5hUkgnG3C/MCDgCjpcR1nmyf32/OjzZP77fnWP4d16HxFpbXcHl5jlaGTyZhLHuXqUccMpyCDgdeQDxTtf1k6JYRXCWxunluYrdYw4TLSOFByfc0f194Gt5sn99vzo82T++351ymheL7jVdRFrdaUtruiuHRkuRJuaCURuOVXAy3BOCcHIHGWaZ41Gp60dMt10q4nkgkmgNlqguACmPllwgMedw5G7ofTkA67zZP77fnR5sn99vzrk/Cl9r9zNei/tbQ26386PINQkkePB4VVMQBUHgfMOO3ar1lrWoapfS/2dp0B06G4a3e5uLoxuxRtrlIwjZAIIGWXJB7YJFrbzDub3myf32/OmTXYtoHmuLgRRRqWeR32qoHUknoK4KDWb3RdU8XXsOnR3Fna3yzXMslz5bBRbxZCKFbcwAJwdo5GCecbeuAaj4m0bSZcm0ZZb2ZCOJfK2BFPqNzhseqin28/wDK4dzomvAkkcb3AV5SRGpfBfAycDvxzT/Nk/vt+dYvimyF54dumRvLuLZDc20w6xSoCVYfyPqCR3q9pt39v0m0vNu37RAkuMYxuUH+tJa3/r+tg2sbtFct47vbuCx0uwsriazXVdSisZ7uAhXgjYMSVY/dZtoQN1BbI5xWdEZvDfxEttD0++vbnT9Q0u4upILy7kunt5ImjAkEkrM4Vg+Nu7GVBAHOVfT7/wAFf8h2/r1djuqK8bsJ9QtPhT4X8WSa3q1zqz3NjHI819IY5I5LhY2RogfLb5XI3MpfODuyM13PxH1jUNH8LRtpPnrPd31vaGS28vzI1kkCkp5hCBiPlBY4BYGqemnnb8v8xdflf8/8jq6K81iutR8Ppqlzc2XibRvD6aZJJNPqOoQ308VwCoQwEzTNllLcN8uVXA5OYtEk1nRvH+lQNa39np2p2N0/2S/1ubUJnMXllWZZNywt8x4jkYHdz0FLRb/1v/kHl/XT/M9PrF8MeIf+Ejsr24+y/ZvsuoXFlt8zfu8pym7oMZxnHb1Nc34E0+TxL4e0zxZqOs6o+o3rfamWHUHW3iGceR5APlFQBtJKls5Od3I5SO0mtvhr4z1+21XUoLzTNS1O4s1t7toY4nSVm5RMCUEgZEu8dQMA4o2b5uif5r/MdrrTul+D/wAj2mgnAJrmfF+vXuj/AA11HW9PQG8hsfOj4BCMQPmwcAhc5544rC0CDXbXxBpr2uleJY7SZXXVLjWdTguI5B5ZKyIi3Emxt4AxGqrhzxwuCV1ddiU00mdT4P8AEX/CWeEbDXPsv2T7YhbyfM37MMV+9gZ6elbVeK6DquoWvws8BaXYQ6hJFqk00dyNOljinkRBK/lpJI6BC2OWDBsK20g8i94gu/EujeBvELQw63otnHLYtp02oX8dxdRu1wqyqHWWUlMbSN7H77D7vFU17zS7/wBfmM9corzu70SW3+JWnaPFr2uCw1LTbm4vYjqMhM0kckQUqxO6HPmsSITGOFHAGKx5fEOtWHhm50yzl1K72+KW0hJ4pke6S3Pz7RLMwBY/cDu2RuHO4Cp7ef8Any/mw2/ryv8Akj1yivLb99e0jwz4sktrHX9J01dFlmgfVdTS5miuVVuY5FnlkAK4OC2AVyMZObUgutF1bwRfRarqdzPrNwLa/wDtN47xzK1q758rPloQyKcoq9/U0LX8Pxuv0B6L7/wSf6nfWeo2t/JdJaS+Y1pObecbSNkgUNjkc8MORxzVquA+HWi2drrPii5huL+SWHWJoNs2pXEyhfLiPzI7lS3+0RuxxnFd8fun6Ur+4pd0n96uHVrza+5i0dK8e03VNVsfgja+LEv9UvdangjtRK90XWJGnEe8ROwiLKMtvcE56tt4G9pWnasNUNqml+J7HSLiylS+k1XWEmfzBjy3idLmSSNvvg7dq8jpiiXu38h9TudM1K01jS7fUdNl860uYxJFJtK7lPQ4IBH41arx/RoTovwG0K90u9v457qTTfMc380mM3EasqhnIRSCQVXAPQiuxv726T4waRZJczLayaNdyvAJCEZ1lhAYr0JAJAPuab3t6/grg1pf+t7HX0V47aXGof8ADPd14qfWdVk1j+yJQlw19JiPaxAIQHaW+XO8gvyRuxxXRTJP4f8AG3hHyNT1K6OsmeC+F1ePJHKVgMgcRn5IyGT/AJZqg5Ixjim1Z2E/8/wOv0bWP7ZhuZP7Pv7D7PcyW+y+g8ppNhx5iDJyjdQ3cVo15BPrGsP4OLQ6xfW9xJ42NkLlJdzpCbspsG8MNoU4CkFfauhiF1oHjy/0jSL66khm0Jr2NNTvpblI51kKht0rMyqQRkA446VHN7vN/WkVL8n942mm15/+3cp31FeReF7S613UfCt7bz+LTKqNca499eXkFs7GPK7VLLG+ZcYWHMe3dkYK12nji7jS30+wxqs9zfXBSCz0u6+zPcFUZiHmyrRxjG4lWB4A+bJU3JcpKd1c6msTSfEX9qeKNe0f7L5X9jvAnneZu87zIg/TA24zjqc1hfDufVYtR8SaRq7HGnXkQgja/kvjEskKOV8+VVdxkk/MMjOMkAVm6ZoMWufE7x2l1falbxLLZYSxvZLX5vsw+YtGVYkehYr6jIBpf5X/ACGelUV5Vo+tav4k07wppGp395FDfzXwub63k8iW8S2crGodMFN4G8lMEhTg4JpdX13VfCdx4p0jSr65ubeztLKe1nupTcSWDXErRvueTLOAB5g3k45H3cAAf1+h6pWL4Y8Q/wDCR2V7cfZfs32XULiy2+Zv3eU5Td0GM4zjt6mubu7WXwb4p8Lw6XqepXcWrXT2d5b399LdGUCF3Ey+YzbCpTnZtUhjkcLjmrfV9R0vwbcw6VHds+o+MLqzleyaNZkjaZydjSEIrNtCgkjG7IOcUdbf1e8V+v8ATG/hv/VrSf6HsdFeard3/h+z1qe+s/E2kaCbNShvNQhvLpbkvsCwMZpm+cMowxCggEYyTR4bfWdJ+JFtp9zb3Vjp+o6XPcC1vNbm1GUNFJGFZvMyImxKQVR3U8c/KCT/AIP4X/yF0/ry/wAz0qivF9NuNRg+EGheL5db1e51Zbm2QvLfSeW0bXQjKNECI3yrEbmVn5zu4GPaKdrAFFFFIAooooAKKKKACiiigAooooAKKKKACiiigAooooAKKKKACiiigAooooAKKKKACiiigAooooAbL/qX/wB01g6lpcGqfZPtDSL9kuUuU2EDLLnAOQeOa6AjIwelN8qP+4v5UAcW3gnTHsJbR5blopbOSzb51zsdy5PTqCeO3sat2Hh4WeqjUbjUr6/uhA0Aa5MYAQlTgKiKByvXGTnnOBjqfKj/ALi/lR5Uf9xfyoWmwf1/X3I5my0IafqU1zaaheJbzyvM9kfLMO9vvEEpvGTzjdjJplr4eFhfNLp+p31tbPM072K+U0JZjlvvIXUEknCsBknGK6nyo/7i/lR5Uf8AcX8qAOVk8M2ctlq9q0s+zVpjNOQwypKqvy8cDCDrnvSazp1ydQsNW0xRJdWZaN4S23zoXxvUE8AgqrDPdccZyOr8qP8AuL+VHlR/3F/KjsBy/iGyu9Vs00y3RVtrptt5MzfciH3lA6lm+76AEnsAdYAKoCjAAwAO1aXlR/3F/Kjyo/7i/lQA6iiigAqvqGn2eq6fNY6nbRXdrOu2WGZAyuPcGrFFG4bGDp3gvRNNvFu4oLm5nSNoo5NQvp7wxI3DBPOdtmRwduMgc1DZ/D/w1Y3FpNBYSM9jIJLPz7uaUWhAIxEHciNcHBVcKcLkcDHSUUAYk3g/RLi01O1ltJDBqswnuoxcygNICCHXDfu2yoOU2nIB61pXCCO1RFLELgAsxY9O5PJ+pqzSFQwwwBHuKAOffSoJNeh1YtJ58Ns9sqgjaVZlYkjGc5Qd/Wo9U0ZNSnt7mO6uLG7ttwiubYruCtjcpDqykHA6g8gEYro/Kj/uL+VHlR/3F/KgDAXTpTpEtjPqV5M8qMhuyUSZdwIyCiqoIzwcVXk8PQT6NY6dc3d5OtnLDMs8sgaWRo2DAuxHOSOa6fyo/wC4v5UeVH/cX8qOtwOOTwbpqqys9xIjwXUDKzjBW4k8yToAeowPQevWpNP8MR2V/a3k2p399NaQtBB9oMYVEbbkYRFH8I56+9db5Uf9xfyo8qP+4v5Uf1/X3hucza6F9i1Wa7tdRvI4J5Wmksv3ZhZyME5KbxkjOAwGfypkHh77HqDz2Gp31rBLMZ5LNDG0TOTlvvoWUE8kKwGSSMZrqfKj/uL+VHlR/wBxfyo2A5WfwxZXFnrVs8s4TWWLXBDLlMxrH8nHHCjrnmk13TrmSSx1LS18y905yVhLBfPjYYePJ4BIAIJ4yozgZrq/Kj/uL+VHlR/3F/KgDmPENre6jpv9nWShEvD5VxOWx5MRB3EDqWI+UehOT0wdSONYYkjjUKiKFUDsBWn5Uf8AcX8qPKj/ALi/lQBW1TSrHW9Mm0/VbZLm1mGHjf8AMEEcgg4IIwQQCCCKqaT4Y0rRZJ5rOGZ7i4UJLc3d1LczMg6J5krM+0ZJC5wCScZJrWooAxh4S0QeHLTQRZf8SyzeJ4IPNf5DG4dDuzuOGAPJ571o6hp9nqunzWOpW0V1azrtlhmQMrj3BqxRRuHW5g2/gzRYLa7t5EvbyC8hME0eoajcXash6qBLI238MUuneC9C0vUoNRtraaS+t0aOK6urya5lVGxlN8js23jIXOASSACTndooA59PA2gRaob+C2uIZGuPtTQw306W7TdfMMCuIy2QDnbknnrzVg+FNFOhajoxs/8AQNTeZ7uHzX/eGUkyHdnIySehGO2K2KKOlg63IjawGz+yPEr25j8sxuNysuMYIPUY9aydL8IaRot2k+nLex+UpWKB9RuJIIlIxhIWkMaADgBVGBwMCtuijrcOljDHg7QhoZ0j7ExsvPNwkbTyEwyFt26Jy26IgnI2Ebe2KafBWiPpFzplzHeXdrdOjyreajcXDMUYMuHkkLAAgHAIFb1FG2wFOTSrKbWrfVpIc3ttDJBFLvb5UcqWGM4OSi8kZ4+tVD4V0V7DULKTT45LbUbhrm6jkLMHlOMuMn5TlQRjGCARg1r0Uf1+v5gYUXg3R49PvrKQX91b6hCYLhbzU7m4LRkEFQ0kjFep+6R1q5PoGm3J0wz2246TIJbP94w8pghjB4PPysRznr61o0UAYVz4XsEvL/U7C1f7fdxMJIvt80EFw5Tbl0QlN2ABv2FgAPQU/wAIeH18L+EdP0VXDi0i2ZUsVGSThdxJ2jOBkk4Araoo8v6/rUDMsfDukad4dXQbaxiOlLG0X2WbMqMjEkqd+dwOT1zUOkeFdM0S58+xbUGYR+Uq3Op3NwiLxwqSyMq9B0A6Vs0Udbgc9H4F8PRaVe6WtlI2n3wxLZvdzPCnzFv3SFysWGOR5YXBAx0FT6f4R0bTNQiv7a3me9hieFbq5upZ5SjlSyl5GZmGVXGScY4xk1tUUAYy+EtETwi3hhbLGjtC0BtvNflGJJG7O7uec5q1c6Jp95fadeXFvvn0xme0few8oshQnAOD8pI5zV+igDF/4RDQ/sYtfsP7kah/aYXzn/4+fM8zfndn73OOntil1nQkuvtuo6dDANbk0+Syt5rks0QB+YK68gruwTwTj8q2aKTSat/W1vy09B31v/W9/wA9Ty+x8OawP7Mt9G0nxBoNzbSwtPd32vme0WNCPMSOBZ5A+5QVVTGgAOflIArvtZ0DTtfhhj1OKRjbyebDLBPJBLE2CMrJGysuQSDgjIJBrSopvUlKxl6N4b0nw+1y2kWgt3u2V7h97O0zgY3sWJLMR1Y8seSSeap3/gbQNSvr28ntbiK5vypuprW+nt3nCoECsY3UlQo+6fl6nGSTXQUUb7lJtbGVfeGNG1HSLfTJ7FEtLUo1sluzQNbFPumJoyGjIHGVI4JHQ0lh4Y0fTtPurKCyWWG8z9rN07XD3ORj968hZpOOPmJwMDoMVrUUd/MRh6R4O0TQ7tLmxt53nij8qGS7vJrkwJ3WPzXby1OBkLgHAz0FP/4RLRDZ6jaPYrJbalObi5hkkd0aQnJdVJIQ5G7K4+bnrzWzRRvuBgx+C9FXT7yymS9vLe+j8qdb7Ubi6JXtgyyMVwTkFSCDz1p2neDtE0vVI9TtraZ9QjheAXdzdzXExjYglC8jMxXKggEnHOMZOdyigDFXwhoaeGYPDy2ONLt2R47fzn+UrIJF+bduOGAPX9KsWvh/TbLX7/Wra3ZNQ1BI0uZTK5DrGMINpO0YyegHWtKijrcPIKKKKACiiigAooooAKKKKACiiigAooooAKKKKACiiigAooooAKKKKACiiigAooooAKKKKACiiigBsv8AqX/3TWdWjL/qX/3TXL+JtZfQ9FN1DF5szyxwxjy2cBnYKCVQFmAznavJxjjOaANeiuX0nWda1L+0LVVTz4olktr2fSri1hZiSCjRyHcSMZyrdGHHHK6H4g1DxI872SWtpBBCEZpQZWacjOVCsMxDsf488EAZIB09Fcf4Ih1dY71rm+spLYaldiSOOydHZvNbJDGUgDPONp44z3p+naz4k1OOa7trawaC31GS1MADeZNGsuwuGLAIVXnGG3Y7ZxQtbef9fqD0v5O35/5HW0VxviPxddaVc3T2E0M0dkyiW3GnXE27oWDXCfu4mwehDY4J64GnPqGr32v3OnaPJZ2kdlFG0091A05kZ8kKqq6YAAOSSc56d6A62N+kJCqSxAAGST2rkPFMOrN4l8N/ZL2yiU3bhBLZu+1/s8uWOJRkEZAHBB5yelW/Fa3B8M29lezI5vLu3tbqSGMxqyPKocBSxIBHy9T1o9A9fU1/7a0/+xv7W+0D7Bt3+ftO3bnG7p93vnpjnpzV0EMoKnIPII703y08ryti+Xt27ccY9MVg+Csx+H3tAWMVld3FrAWOf3UcrKg/AAD8KOrDpc6+2/491/H+dVdZ1qx0DTmvdTlMcW9Y1CIzvI7HCoiKCzMScAAEmrVt/wAe6/j/ADrj/iGws77wrq92dum6bq4kvZW4WFWhkjWRj2UO65J4GcnGKOqXoM2tL8RXF/fra3vhzWNJaSMyRyXaQvG2MZBaGSQIeRw+3POM4ONuqN9q1hZKEubqJZZIZJYoBIBJMqLlii5y2Bjp0yK8hsbeK01jwPr2n2eh6J/bN8vlW9oGlvrmB4XZmmuSwM2SVLAo2GKneTyRau3p+LF0v6v7lc6qfx9qkXhLWtUWCz8+w8QHS4lKNtaL7QkWWG7O7axOQQM447V3d3/qR/vV49eI4+G/ioFWB/4TMnBHb7bFzXsN3/qR/vUL4E/T/wBJQ38UvV/mynRXParquqr4ptNG0lbNBcWklw9xcqz+VsdBwqkbs7sYyvrnjBpah4l1awi02yu7dLbUroTNLJHZy3iKsbAbliiJb5tykZYbQeSTwTpcXWx11FZPh3U7rVNLaW/tngmjlaLLW8kAlA6SKkg3KCOxzjkZPWmeJtWutI02CaxSF5pryC2AmztHmOEzxzxnNHbz/UDZori9D8WancX+zWP7PS3+z3knmRq0YU28wjLMWYgKck45246nPD9L8Uajfa9Fp3mwyLeWss0EzaVc2wiZduP9a374Hf8AwlenbIo/r8/8gOxorkfB0OsrLftc39jJbjUrgSxx2Lo7tnqrGUhRnsVPpnvV7TNQ1jWbua5t5LK106G6ktxFJbvLNKI3Ks28OoTJBwNrcc98AWqXpcO/3G3FcwTySpDNHI8LbJVRwTG2AcEdjgg4PqKZfX1tptlJd3soigjGWYgnqcAADkkkgADkk4FcL/aGq6ReeMtTsWsxa2V4JpY5omd5sW8RKqQyhOBwTuyT0GOd/Vv9M8Z6DazA/Z0jnvAp6NKmxVz9BIx+uD2p9vP/ACuHV/M27i+trSa2iuZRG11J5cO4HDNgnbnoDgHr1xVisnxRaRXvhbUYpjtCwNIrjgo6jcrD3BAP4Vb0q4ku9GsrmdSss1ukjqexKgmktb+X6/8ADBtb+v63N6iuP+JEhGj6Zb3Uhh0m71OG31STzDGBbtkbWYdFZ9iH2YjoazYbCy8P/FOLSvC1tDY2M+jzz6lY2iCOCNg6CGXYuFV2/eLnGWC852ilfS/r+CuO36fi7HoVFeHWGk2Fh8GPCPiK2tUGsx3WnqmoNlp1RrlEaMSE7ghVmXYDtwSMV33xTu72z8Fb7JxHE97bx3kjXLWwSBpAHzKqs0angFgOFJNU1bTzt+X+Yuvyv+f+R2dFeWzadceD7TWNVudC0fRtDXSZftGm6FqUga5kBXZIMQxCMhSymQHPK5Pyiq+i6Y/hz4paNBaW/h/SpNQ0y6kl0vRYDHhVKGMyvuHnc7tr+Wn8YGeaX9fn/kG/9en+Z61XP+DteuvEOn6hPexwo1tqd1ZoIlIBSKQqpOSecDn+Qrlfh7pHh3VfDGn+I9ZhtZ/ET3O671C4OLmG837TBvOHUKcII8gbcDGDzzc2h6bL8KvHGtTWizalY3+qTWd1KS72jpKzK0JJ/dHIBJTGSATmjZu/Z/mv8x7qy7r8pf5Ht1BOAa5Xxlf6nb/CvU77SWYagunGRHjJDKdvzMuATkDJHB5FYHhnw9eW2saNqmkaT4d0mxljY3Vzp2qyXEmpxNESpbMCea27a/mMxb73945JJq67f8H/ACJTuk+51HgPX7rxR4G0zWdQjhjubuNmdYFIQEORwCSe3rXQ14fpzXw+Fvw/08W9vNY3l3JDeW97dvbQzt+98uGVlRztZh90rhiFU9cG54r0TUtE+H/iVJbTTNG0+WXT2tdO0i9kkW2k+0r5jr+6i8vd8hAUdQzdSapq8nbvb8v8x6aXPZKK81vvB+gQ/FbS7GHTIY7O+0q7lvrdSRHevHJCFadc4mI8xzmTdktk84Nc/cz3en+ENQ0zTVhj0mHxc1jJDJdNaww2hwfK8xVYxxmRlU4BGGIwAeJ7ef8A8ly/qD0/ryv+h7VRXk+r+H9Q0Twn4xkXStF0LTptCmzp2k3jSoZgrYl2GGNUJXKkgEttXPQVYn0mw0PV/h9qOl2scF/f3Qt7y8GTNdRtZyMVlkPzSDKKfmJwVHpQtfw/G6/QHovv/BJ/qehabq8GqTX8VukitYXRtZd4AywVWyME8Ycdcd6vV578O9D0DTdY8V3VnpWnWdza6xND50dqkbxRGOJtoYAEJznHSu7tb211Gxju9PuYbq2mXdHNBIHRx6hhwRSv7il5J/erh1a83+DJ6CcCvEtLtf7P/Z6tvEGl28a6u1qkM2otIUmitfPCyBZgC8aKgJ+XhcFgM102j+EJYtSTHh7w3pWjXNhLFd2enXjXK6gCF2M8bW8asV5+ckkhyOc0S0v5D6ncaFrFv4g0Gy1azSRILyFZo1lADAH1AJGfxq/Xi1hp+k6b+z1o17YWVnZtNLpsl5PDCsZkZbqMFpGAGSOeT712N/NE/wAc9IjSRGkj0K83oGBK5lgxkds03o7ev4K4Pa/9b2O4orxCy0qxT9mS71kWsZ1RtFmi+2sN0yxhiAiueVQbQdoIGecZJrqLrSdP8PePfBM2j2kdtcai9xBe3C5Mt2oti481yd0p3Ipy5Jz9apqzsJ/5/gdto17qV7Dctq+knS5I7mSKFPtCzedED8kuV+7uHO08itGvE54/O8EeSZJY1l8fGNmhlaJwrXpBw6kMpwTyCDXTf2dZ+HfiNqNh4dittDtrnw49xJ9lhCRrKspCzFF4LAMecZIrPm9zm/rSKl+o2rSa8/8A27lPRqK8e8I+CbfV7nwjq8vg21sJNPiNze6ndeRM2ou8XyupVmd2LkSb5QrLjjkmuo+JFul1qHg6CUyCOTXkV/LkaMkeRNkZUg4PQjuMg8Gras0vO342Ji+ZX8r/AIXO5orzHS/BPhqT4keJdKk0W0bSorOyuI9NKf6Ikz+arSCD/VhysaDcFzwcHk5ydEujr/gDwPot5p1prWoX9vO0T6xIz20SQnaXeLnz3AZdqnB6ncvWi3by/X/IfWx6rresW+g6Yb68SV4hNFDiIAtmSRY16kcZcZ9s1frweSxsJvhz4gs9RGl6lZaT4rgjtzb2wFtbo0luZFiRmfy1zJICoYgZYcDiuzv9G0ef4mab4a1Oxs49Bi0l5tO0owhbWe48394fLxsZkTaQCDjezD1Bbbz/APkeYfRvt/nY6TXvEF1pfivwzplvHC0OrXM8U7OpLKEgaQbcEAHKjqDxXQ15p4k0bR18SeAtJ05FXS/7QvU8i3nYJgQSFo/lP3AwIMf3cDbjHFY+tNP4ZtfH9h4Vhj06ztWsJRDbObaO2SQATuhQHy/kUksoyMFsE1Ldr/12E91/Xc9jrn/GuvXfhzw/HfafFFLK19a25EqkqElnSNjwRyAxx7+tcxpOgarouof2hoeh+HtFt/7OnzbaTfvN9ufCmJ2TyIwxU/x5Jw5HeuVvdM0EfCHwzr8QhfWdRvtNafUmYC5u5muI2lR3zl8EN8hJC7BgDYMNfF81+L/4GodG/X8Ee40VyHxQ84+BJkgkwZbq2ia3D7PtatOim33fw+YDsycD5uSBk1z+neDLTT7zxL4htvCdp4chm0n7NBbeVAJgyrIXk/clkQMGQYVsttyQMCplLlg5dr/grlKN2l/W56fRXj8Wm2Nt8K/CF5JBHDDrAsItd1AsVllt3jzskl+95ZcomM4CttGB034LCy0D4qQ6T4VtYbKyn0eefUbCzjEcKMHQQy7F+VXb94ucZYLznaKua5JNdm19yuQndJ+Sf3ux6DRXjZurc/AnwOgnjLvfaWqrvGWK3CBgPcYOfStax0bQNd+JnjyDxJbWt/FbtZyi3vSHjiBtgDKI2O1TgY34zjjND0T8r/hb/Mrrb+t7Hp1FeP6Rot34m8H+GDLJpurNaG6kt9H1yUtHf2nm7IpicOdyRlMOUcfvOxbNdz4I1WxvvAdvd2OnSabbwiaNrISeYIGjdldEYHBQMrBcYG3GAOgHom+wlrY6eivEbSGFLrwZ4m02z0TQ11fUofIigVpdQuoZFJYzXJcGQkNlkKvg4O8kZrZvbC20HxLJ4g1Gw0vxBZXesRpFq8M+3UbCVpfLEIODvjR9qFVdcKWBRucpXbs+9vnp/mK66ev5/wCR6rVDU9Yt9KuNOhuElZtRuxaRGMAhXKO+WyRxhD0zzisLx7ob+ILfTLWCfTpJYrvzxpepkm31JVU7o3AyTjO8Ha4DKpKnFcLd2fhzWo/C0N14X0+zWy8TTabcWbKlxBG3lSlkjYjHls2w7dqjI5UEUlq0vNfml+pWiV/J/fZv9Lns1Z+l3upXdxfpqWlHT44Lkx2sn2hZftUWBiTA+5kkjaeeK4xtC0rUfi/fabf6fb3GnxaBabLKSMNB8s0oXMf3TjtkcdsVy2uZHgT4j7GeM/8ACUQ4aNijL81pyCOQfcU4+89Oz/8ASlH9f66D00fl+Kue2UV5+2k6f4c+LmhRaHZw2K6jp979tMK7TcshiKvIesjgs3zNk/M3PJrlNC8GReKrLSn1Dwta311Fqj3N34lvFgkXUIllcHA3GQllwoR0CoBwflWhWbXn/nb/AIInom/62Pa6K8r1vTrfQ/EV/wCJ9R0/SfEWnNfwBb1ZtmoaXJuWPyozyGRW2narRkbnGGJ59Mtr+zvJbiKzu4LiS1k8qdIpAxifAO1gPunBBwfWhaq/9f1qGzsWKKKKACiiigAooooAKKKKACiiigAooooAbL/qX/3TWLf2FrqdlJaX0ImgkHzKSR0OQQRyCDyCOQRkVuE4GT0pvmx/31/OgDmF8N6eLC5s2e/lgulCyibUriQkDsGZyVz3wRkcHNWU0ixi1CO9hg8qeKEW6mNiq+WOilQcEDtkHGTjGa3vNj/vr+dHmx/31/OgDnYNCsLXVJNQt1nimlcvIiXUoiZiMFjFu2ZPrtznnrVix0+202GSKyi8tJJXmYbicu7FmPJ7kmtrzY/76/nR5sf99fzoA5O88IaLf3FzNdW0r/am3zxC6lWKRtoXcYw2zdgDnGcgHqM1Yv8Aw9p2o3i3c6TxXITyzNa3Utu7LnIVmjZSwB6A5xk4610nmx/31/OjzY/76/nQBgahpFnqltFBepIywuHjdJnjkRgMZDqQwOCRkHnJqO+0S2vtBfSpHmERQBJWlaSRGByrh3JJYEAgnPSuj82P++v50ebH/fX86AOd2av/AGD5fm2v9qeXt87DeVu6b9vXpzt9eM96l0rTotJ0uCxgZnWFcF3+87E5ZjjuSST9a3fNj/vr+dHmx/31/OgBlt/x7r+P86kdFkRkkUMrDDKwyCPSlBDDIOR6iigDL0nwxoGgSSSaFoem6Y8oCyNZ2kcJcDoCVAzRZ+F9A06aSbT9D021lllEzvBaRozyDOHJA5Ybm56/MfWtSigChJoOkSpfJLpVi66iQb1WtkIucDA8zj5+OOc1NcRpFapHEioiYVVUYCgDgAVZpCwUZYgD3NAGI2n2r6pHqLRZu44WgSTceEYgkYzjqo568VFqWj2WrCL7bHJvhYtFLDM8MkZIwcOhDDI6gHmt/wA2P++v50ebH/fX86AMBdItBpEumSCea1mRo5BPcySsysCCN7MW7+vHao08P6Ymk2emLbYs7Jo3t4/Mb5DGQUOc5OCB1J966PzY/wC+v50ebH/fX86AOZTw1pEedtmpBjniIZ2YFZn3yggnnc3Pt0GBTbDwxpWm3cV1bRTNPChjjknupZmRDjKguxwOBx0rqPNj/vr+dHmx/wB9fzoA5yLQbCDVpNRgW4inkcvIqXUqxOxXaWMQbYTgDkr79aaPDunJqbX8KXEEzyebIILuWKOR/wC80asEYnAySDnHNdL5sf8AfX86PNj/AL6/nQBzsug6bNb6jBJbbo9UJN2vmN+9JQJ68fKoHGKi1vSZL5LW5sHSLULCTzbZ5M7W4wyNjnaykg+hwecYrp/Nj/vr+dHmx/31/OgDmtc02fV7JLBJUitZ323h6u0WOUXt8xwCT0BOOcY0wAqgKMADAA7VpebH/fX86PNj/vr+dADbi3hu7aW3uoo5oJkKSRSKGV1IwQQeCCO1VNK0LSdDtXttE0uy06CRt7xWlukSs2MZIUAE4AGfarvmx/31/OjzY/76/nQBU/sbTP7Ni0/+zrT7FCVaK28hfLjKncpVcYGCARjoRmrjosiMkihlYYZWGQR6UoIYZByPUUUAZOm+FPDujCcaPoOmWAuE2TfZbOOLzV/uttAyPY1JpvhvQ9GVBo+jafYBGZ0FrapFtZgAxG0DBIUAnvgelaVFAGXJ4X0CXWhrEuh6a+pghhfNaRmYEDAPmY3dOOvSrH9kaabG4sjp9r9kui7XFv5C+XMX++WXGG3ZOc9e9XKKAEVVRAiKFVRgADAArLsvCvh7TdTfUtO0LTLS+kLF7qCzjSVtxy2XAyc9+ea1aKOtw8iguhaSmnXFgml2S2d0zNcWwt0Ecxb7xZcYYnvnrUFr4U8O2OnzWFloOmW9nO6vLbw2caRyMpBBZQMEggEE9MVrUUAQtZ2z3sd49vE1zEjRxzlAXRWILKG6gEquR3wPSmJptjHDcxR2dusd0zPcIsSgTMwwxcY+YkcEnrVmigDIsfCfhzTLW5ttN0DS7SC7TZcRW9lHGsy4xhwBhh7Gr8mnWUptTLZ27mzbfbbolPkNtK5Tj5TtJGR2JFWKKAMq+8Padc3U2oxabpo1d4GhS+nsllcAgjDHhmXnldwyOKd4c0K28NeHbTSLLBhtk2ghFQMSSWO1QAuSScDgdBWnRQBBZ2Vrp9nHaafbQ2ttGMJDBGERB14UcCqOl+FfD2iXT3Oi6FpmnTyLteW0s44mYdcEqASK1aKPMPIzIvDWhQG+MGi6fGdSyL0paoPtWc58zA+fOT1z1NP0/wAP6NpKxLpWk2NksIdYhbWyRiMOQWA2gYyVBOOuB6VoUUAUxo+mLpB0pdOtBpxQxmzEC+SVPVdmMYOemKllsbSae2mmtYZJbUk28jxgtCSNpKn+HIJHHY4qeigCl/Yul+SIv7Ns/LFx9qCeQu3zt27zcY+/u53dc81HqukrfW121m6WWpzWj20WorCGlhDDjB6kBsNjI5FaNFJpNWGnZ3PM4PhxcT3FgH8O+F9CltZ4p5NX0os93MY2BIXMSGPfghiXfgkENnNejXFla3bwPdW0M7W8nmwtJGGMT4I3LnocEjI9TU1FMRClnbR3kt3HbxLczKqSzKgDyKudoLdSBuOAemT61RufDGgXmlQ6XeaHptxp8DborSW0jaKM88qhGAeT0Hc1qUUAUxpGmra3Nsun2ot7sYuIhAuyb5QnzjGG+VQvPYAdBVSTwn4cl0aPSJdA0t9NifzI7JrKMwo3PzBMbQeTzjua16KNw2KMGh6Tax2aWul2cKWJJtFjt0UW+RtOzA+XIJHGODViOztYbqe5itoY7i4CiaVYwHl2jC7j1OAeM9KmooAytL8K+HtEunudF0LTNOnkXa8tpZxxMw64JUAkU1fCfhxL6e9TQNLW7uW3T3AsoxJKd4fLNjJO5VbnuAeorXooAw/F2j3euaF9ksWtmYTJJJbXYPk3aKcmGQjJCt0Jw3urDIPP6D4D+zeJYtUl0LQPD0ENvLA9looLi9EmM+c3lRAquOEKNyc7h0PeUULT+vkD1K406yXTP7OWztxY+V5H2URL5Xl427NmMbccYxjFQ6Voek6DbPb6HpdnpsDvvaKzt0hVmxjJCgAnAHPtV6ijzAyovC/h+C5uLiDQ9NjnupFlnlSzjDTOrbwzEDLEN8wJ789aw4fANleeLfEWpeI9O0vVLTUZreW0iuYFmMRjhEbEh1wCSOME8V2NFC0AztV8PaLrsaR65pFhqSRnKLeWyTBT7BgcdTV22toLO1itrOGOC3hQRxRRIFVFAwFAHAAHYVJRQBl2vhfQLK4lnstD023mmlE8skVpGjSSAkhyQMlgSSCeeTSJ4W8Px6yNXj0LTE1MHIvVs4xNnG3O/G7px16Vq0UbAUdV0TStdt1t9b0yz1KFW3LHeW6SqD6gMCM01/D+jSaINGk0ixbSwAosWtkMAAOQPLxt689OtaFFAFO00jTbCRHsNPtbZ0hW3VoYVQrEv3YxgcKMnA6DNJJoulywXMEum2bxXcomuI2gUrNIMYdxj5m+VeTz8o9Ku0UAV5rG2nuY7p4IjdwoyQ3DRgvEGxuCk8gHAyO+BXmUnwxv7vTDp13ovhdLxjiTxSgZr9jnPnhPKBWY8HPnEKxzyBtPqtFC0dw6WMhfCnh8asmqnRNOfU0wRftaRmfIGM+ZjdnHGc1etdNsbGa5lsbK3tpLqTzbh4YlRpn6bmIHzH3NWaKACiiigAooooAKKKKACiiigAooooAKKKKAGy/6l/8AdNZ1aMv+pf8A3TWBrFtLdaXNHBez2TBSfMgWMsRg8fOrDH4ZpSdlcaV3YZpuu2GrSumntPKqgkTG1lWJwDjKyMoR/wDgJOal07VrLVluG0+bzhbTvby/Iy7ZF+8vIGceo4rC8D2FyngfTGbV7yQT6dD5askOLbMY+5iMZxn+Pd0HXmptEvL7+ydZF1eyXctldTRRTyogbaqgjIRVXv6VUrRbXZP8GJa283+h0dV7u9t7FI3upPLWWVIUO0nLscKOPUmuS0LUdYZfDF5faq90NYgzPbmCNI0Pk+YCmF3A5HOWIOTgDgCld3lxqVjpGp3msOv2nWIkj01ViEa7J9u3JXzGYBcn5sZzxjihq0lF9/1sK/ut+X6HoVZ9zrdlZ6pb6fctOk9y22E/ZpDGzYJ2+YF2A4UnBOeK5LxR4lv7R9Ru9KuNQ8vTZUifZHai1D/KSknmHzWJ3AZTHUAcg53PE3N/4c/7Cq/+iZaXbzaH39GaOp63ZaO0I1Bp0WZwiultJIgJYKAzKpC5LADcRVy4uIbS2kuLmRYoYlLySOcBVAySTWH43/5Fdv8Ar7tP/SiOk8a4bRLeKX/j3l1C1juMnAMZmUEH2PAPsTS3++35D8zQ/tiP+wf7W+y3fk+X5vleV+92euzr05x1x2zxV23uIrq2juLaRZYZUDxyIcqykZBB9KkrnvBS+XoM0SDFvFf3UduAeBEJnCgew6D2AqurF0Ovtv8Aj3X8f51n+IfEFv4esYppoZrme5nW2tbW3AMlxK3RFyQB0JJJAABJPFaFt/x7r+P865Tx9bTx3Hh3XIoJbm30XUvtF3HDGZHETRPGzqg5bbvDYGTgHANT2+Q0aul6h4jlv1h1zQbS0geMstxY6l9pVGGPlcPFGRnPBUMODnHGZ7LxPoGpapLpuna5pt3fw7vMtYLuN5U2nDZQHIweDxxVG38ceHdXaS20HU7bW7jyHl8mwf7QAAM4dkyqZ6AMRk9M4rzWy1WPV7vwNcRa5bSzx6nEH0XSbWNLbSlMEg8t8KZI3HK4d1DYbCDacUtZJen4uwujfr+Cubtx4w1yPwTr9+l9i6s/E5sIJPJT5IPtUcezG3B+ViMnnnrmvSLv/Uj/AHq8cvysXw98ZwyOiy2ni37TcIXGYYjdxOHYfwrt+bJ7AmvYbiRJbVJInV0fDKynIYEcEGkvgXy/9JX/AARv4pesv/SmVaK5rVrnVJ/GdlpFjqJsbaaxlnmdIUeTKugGwsCAfm7gjGeM4Io6pqPiCwbSNIlknnurkTtJc6cIBLIIyNgAm2xglWBbAPQ4GOQdE/6/rQXWx2dFY2hXWoR6LLN4jVrVoHf97ctErGEch5PLYoDjrggcZwOlXJturaWH03UnhSUB47qzMb5X2LKykH6UnorgiOx12x1K6eCyaeUpuzL9llELbTg7ZSuxueOCeh9KlsdWstRuLyCym8ySym8m4XYw2PgHHI54I5Ga5/4fWNxF4M02WTVLudJbNQkMiQhYfddqBv8AvomrOh3N8smvW13fzXpsbkJDLMkauFMKPg7FUHlj2pvS/kh2u7HR1Xvb+20+FJbyTy0klSFTtJy7sFUcepIFcboOqa01v4Uvr/Vnu/7ZXbcQGCNI1/cNIGXC7g2UGcsQcnAHAFTVby41LS7DUrzWHjE2uwQxaaqxCMbLoLtyV8xmAQscN1zxjiq5bTUX3t+Nib6X8j0Ws+91uy0+/t7O7M6SXLKkTC2kaMsxwFMgUqDx0JFcl4v8TX9iuq3ek3GobdK2rJ5cdqLVZMK2yTzT5rE7hzHjhgByDnd8UndDoxPfVbb+dT282vxHLRP0f4Ghqut2WixpJqJnSNzjzI7aSVV6D5iikL1HLYq7JIkMTyzOscaKWZ2OAoHUk1h+N/8AkS9Q/wBxf/Q1pvjnnwpMj/6mSe3juMnH7ppkD59tpIPtml5B1NCLWI59BOrQ2t08PltKkQi/eyIM4KrnuBkDrgjjPFW7W6gvrSK6tJVmgmQPHIhyGB6GpQAqgKMAcADtWB4QXy7PUoogBbR6ncLBg5AXdkgewcuPwp9bf1/WodLnXW3/AB7r+P8AOqVn4k0PUdUn03T9Z0+6v7fd51rBdI8sW04O5AcjBIByOtVvEMGoXXgfVYNEfZqMtlMlq2ekhUhf1rg7rUtD1jQfCejeDXgOr2F9aOlnCuJtNSMgTmaP70Q2b0O7GSwHJNEdZW9Px/y/qwPRX9fw/wA/6ueh33ifQNMIGpa5ptmTKYALi7jjzIACU5P3sMDjryPWtSvM9Hs7V5PijM9tC0st5JFI5jBZ0FnGQpPcfM3HTk+tbOgf2lf/AAN04abLt1Ofw/GIJDxiU242n88Um7Qcuyi/vTf6DSvJLza+5r/M6O28QaNe6tPpdnq9jcahbgmaziuUaaIAgHcgORgkDkdxUaeKNAl1s6NHrmmvqgYqbFbuMzggZI8vO7IHPTpXm3hdoL6PwvpjeKvDttPpUqSR6PBpbW9/CyoweJla5ZkJBYMSnOc9xWTf60NW0bTZP7Ygs7qDXrXHhrTLWNRYf6YATcfK0iPy2X3RoSQMHd81pXmo+dvy1/r7yL+635f56HsGreJdC0Bol13WtP0xp8mIXl0kJkxjO3cRnGR09awP+EtXTviBr1trurWtlo1nY2UkTXTxxRpJK0wPznGSdi8E9uKybLWNE8M+M/F7eN7u10+4vp0e2mvyqJdWQhQCOMt9/a3mAoOctnHzCrWhW1jL8adduobeEmLRbBbeQRgGONmmyFOMqCAvHsPSpjqk/wCttvVfn6FS0v8A11X9eh3cE8Vzbxz20qTQyqHjkjYMrqRkEEcEEd6pN4g0ZNbXRn1exXVHGVsTcoJ2GM5Eed3QE9Olc18JWZvhtaqMAR3V5HGAMBVW6lCgAdgABXDaLHMfDkfhrXfFvh3SNTN/5s9nc6Yy3zXIm3iZS1yN5YgFZAmCMY6YBvKwPRN9j0fw3q99f+L/ABZZXc/mW+n3cEdsmxR5atAjkZAyfmJPOa19M8QaNrclxHo2r2OoPbECdbS5SUxE5wGCk7eh6+hrzHXba+un+J2naWQb+aaznFsEMkk1v5MQkxGCGYMquuBjJyAQa2PDdxbaz4r026g8YeG9Qk0+0liWx0iwMEoiYKNjg3EhRVKqdpUHK+1Tf3b+X6f1/SHLQ7KPxPoE1/bWMOuabJd3cYltrdbuMyTIcnci5yw4PI44NS6Zruk61539japZah9nfZN9kuEl8tvRtpODx0NeP6fpeny/s6+G4pbG2eOfVbJpkaFSsjNfKrFhjklTg56jiuq8QW143xH1G20IrBfTeEpUtyvygSCXEf5E8emTVS938V9yv/wPx8g6/d+Lt/wf6udrbeINGvdWn0uz1exuNQtwTNZxXKNNEAQDuQHIwSByO4qKfxT4ftri3gudd02Ga5laGCOS8jVpXVtjIoJyzBvlIHIPFeb+Fmgvk8L6W3irw7az6XKkkekQaW1vfQsqMHiZWuWZCQWDEpznPcVAbS3T4J/EeZLeJZZbzVmkcINzlXfaSe5GBjPSh2jfyv8AO1v8/wABR963nb8b/wCR317490PTvG0Phu91LT4LiS3MhMt6iOshZAkWw87mD5Hc44Brpq8/uNWtNH+I+iXut3UVlbXegvBHdXMixxvN5sbeXuYgbyDkDqcH0r0Cna0VffX8G1+RKd2/l+S/UKKKKRQUUUUAFFFFABRRRQAUUUUAFFFFABRRRQAUUUUAFFFFABRRRQAUUUUAFFFFABRRRQAUUUUAFFFFABRRRQAUUUUAFFFFABRRRQAUUUUAFFFFABRRRQAUUUUANkGYmA67TWeYXZSGjYgjBBXrWkSFUk9B1qL7TF/e/Q0AZh0yBtP+wmyjNn5flfZzEPL2Yxt24xjHGKqWXhjSNNleTTtDsbSR0MbvBaIhZT1UkDkcDit77TF/e/Q0faYv736GgDMTTII1t1jso0W1GIAsQAhGNuF4+XjjjtUC6Bpy3kl2uk2ouZmDSTC2Xe5BBBLYySCAfqK2vtMX979DR9pi/vfoaOtw8jDn8N6Vc3zXtzotnLduu1p5LVWkYY24LEZxjj6cU2+8LaPqdybjUtCsbucgKZbizSRsDoMkZre+0xf3v0NH2mL+9+hoAwrzwzpOoiIaholldCBNkQntEfy19FyOB7CnzaDZS6K+k/YUisHjMfkQx+WqqfQLjHrx3ra+0xf3v0NH2mL+9+ho8g2MP+zNR/sH7D/aEv2ry/L+2+SN+P72Om7HfpnnHarNjpsem2ENnZwskECBEU5JwPUnkn3PWtP7TF/e/Q0faYv736GgBbcFYFBGDzwfrUlIrB1DKcg0tABRRRQAVDdKWiAUEnd2FTUUAZRskN0tybZTOqGNZTH8wUkEqD1wSAcewqK+0m11S2+z6nYQ3kO4N5VxCJFyOhwQRmtqigDDg0aztdPawtdNghs2DK1tHAFjIbqNoGOc81Pb2SWltHb2tssEEa7Uijj2qo9ABwBWrRQBkJp0UdmLOOzRLYJ5YgWIBNvTbtxjHtVKy8LaNptx5+naFY2k20r5kFmiNg9RkDpXSUUAYyaXbxx2yR2MSJa/8e6rCAIeCvy8fLwSOOxxUP8Awj+nfbZLz+ybX7VKVMk/2Zd7lSCpLYycFQR6ED0rfoo63A5648N6VeXrXl3o1nPdMpRp5bVWcrjGNxGcYOMelJfeGNI1S4E+p6JZXkwUIJLi0SRgo6DJBOOa6KigDnbrwxpF9DBFe6JZXMdsmyBJrRHWJeOFBHyjgcD0qT+wrEaPJpUenRRWEiNG1tFEETa2cjAxjOT0reoo3A52DStQg0D7Al/I1ysbRx3jwgso5CkjozAY56EjOO1WNO0uPS9Phs7SKQRRDALZZmPUknuSSST3JraooAjtwVgUEYPPB+tSUUUAFFFFABRRRQAUUUUAFFFFABRRRQAUUUUAFFFFABRRRQAUUUUAFFFFABRRRQAUUUUAFFFFABRRRQAUUUUAFFFFABRRRQAUUUUAFFFFABRRRQAUUUUAFFFFABRRRQAUUUUAFFFFABRRRQAUUUUAFFFFABRRRQAUUUUAFFFFADZf9S/+6azq0Zf9S/8AumuM8dT3Nt4QuJLG5ktJ/OgVJojhkzMgP6HoeDQB0VFcrqunaloWjate6Nf3t1K1p8kE7tOwlBOZFznBIP3FXbkDC9qyfDt9JNcXTWGr2E1sLB2kgg16XUJd/G2QeYgMeOQcHHI44pN2v5f8H/IaVz0Csu21sT69NpUthdW0scRmSSUxlJUDbcrtckcnowBrjfCl+LtfDU+m65c6tqE0QOqo18ZljQwknegO2MhwoBwGPOckk1rf8JDorfEpI11ewL/YGt9ouUz5vnD93jP3v9nrVNWmo+v5Mm/u39PzOworzLxf4hZdR1MWVy1ve6fIixo2sSxSnCq+5LREKyJgkln6/NkgAY29WvLH/hKriHxPrE2mWUdvGbJftz2UcxOfMberLvYEKNueAc45zS6J9xvR2OyqtqF/b6Zp897ev5cECF3bGcAe3c+1cb4t1GaDxBa289zDBpRs98UlxrEunpJLuIP76NSWIXaQpI+8ThscS6g9w3gHS59TvLe+SO9tpLi4t5PNjeITrht4C7gBtJbAHB4o3++342DZnS/b73+wft39mP8AavL8z7F5o34/u56bsdumeM96saff2+qadBfWUnmW9xGJI2xjIPt2PtVmuf8ABakaHO64EEt/dSW4AwPLaZyD+PX8aOrDoddbf8e6/j/Ouf8AG+t6lolhpn9jNapc3+pwWXmXcLSpGJCQW2q6EkY/vCugtv8Aj3X8f51yXxI0mbWdP0O2hgupUGt2rzG0aRHjjBO596EMgH94EY9aT3XqvzQP4W/J/kS2eua5pvjW10DxFNpt6l/Zy3NvdWNvJbGMxModXjaSTIIdSGDDkEY6GtDT/Gmg6rqMdlY3jyPPuFvKbaVILkr94RTMojlIAJwjHgE9Aa4//hGLzTNf8RaHCt/cR69psg03Wp2lupLM7NrW0k7lmVNxEiAnBJfv1Z4d09rhtC07WdS8XLdadJE5sJ9KiW1hkjXGPtEdqEZOwKycgj3px1t/XV3+78e+twlonb+tFb7zqZ/iN4Wt1md9Rdo7ad7e5litJpI7V0bawmdUKxDPdyoI5BxzVWLUbh/jPNai8kax/wCEejnWESkxbzcMN4XOM4wM+lcnoesFPBvivR4dH1G/vbzVdThtoorJ5IZ2eVlG6UAxxrk8+Yy8AnkYzsaLoeoeHfHenI8c90I/CsWnpdeW7RvPC5JDuBhcggjcRnnFKL2k+35xbf3afeOaspRXe33Tj+audLZeONA1DULeztrqffdMUtppLKeOC5IBOIpmQRycAkbWOQCRkUt/430DTdSmsbm7mea32/aTb2c08dru6ebJGjJFxz85HHPTmvPILfVNYbwxeanb+JrzXYdVtpdU+0QzQWlnjO5Uj+WJ0ByBIgkOOWfkGuh8P6jL4Nm1rTNY0jVp7ifU57y3ubKwluUvEmcsn7xFKxsowhEhXG0HOOacdd/62/z/AAJb108v1/yX3nR6j410HSr+S0vL1xJDt+0PFbSyx2u7oZpEUpCMc5crxz05rZuLqCztJLq7njgt4kMkksjhURQMliTwAB3ryttJvNKvPEOn6xq3iu3t9Svp7iIaVpUV3DcxS9iwtpWRgPkIdl6Ajjp13ivw/c3/AMNpNH0fzZpYoYPKjlYK9wsTI3lsTgAuE2nOBzzxSv7t/T/g/d/Vh/at6/8AA+8v6R4x0TXLtLaxuJ0nlj82GO7s5rYzp3aPzUXzFGRkrkDIz1FNm8baDBqr6ebuaSWOZYJZILSaWGGRiAEkmVDGjZI4ZgRkZ6iufu7qXxl4o8LzaVpmpWkWlXT3l5cX9jLamIGF0EK+Yo3li/OzcoCnJ5XLfB+oP4S05/D2raRqxvkv5mWe2sJbiK6WWZnE3nKuxeH+YOQRtPHTL62/rp/X47Cf9eX9fqdFN420GDVX083c0kscywSyQWk0sMMjEAJJMqGNGyRwzAjIz1FXE8QaZJDqkqXOU0mRo70+W37plQSEdPm+VgeM9fWuR8H6g/hLTn8PatpGrG+S/mZZ7awlniullmZxN5yrsXh/mDEEbTx0zVc3enTeOtIk0nU5brWLmSexaCzd4Zke1jTPnAeWhDI2QzA8DAORmW3yNrtf56afn5lpJys+/wCGup1s/jPQbdbPfesz31r9stYoreSSSeL5eURVLMfmHygbsc44NKPGWiNqJ0+Oe4lvVkjjktorKZ5Ii6K6l1CEouHXLNhVJwSDxXK+HtMv4fFngyaaxuY4rbwvJBO7wsFikzb/ACMccN8rcHng+la3hqxu4PiJ42uJ7eaGC6lszBM8ZCy7bcAlSeGweDjoa1kkn9/4O35GcW2tfL8kzS/4TXQP7WGni9dpPP8AsxmW2lNus3TyjOF8oPnjaWzkgYycUy+8d+HtPvL20mvJpbmwYLdwWtnNcSQAoHDMsaMQm0/f+7njORiuA0fQLm00GHwt4j1jxfG8c/lvBaaVFLbTDzdyyC4S2baG4Y7pA4Oc811ugWN3D4p8dSzWs0cd1cwtbu0ZCzAWqKSp/i5BHHesm/dv5f5GiScrG5f+KtF07TbS+nvlkhvtv2QW0bXD3ORkeWkYZn45+UHA56VC3jPQ00ePUnupkhlmNvHC1pMLh5QSDGICvmluCdoXOBnpzXA+GbHU/D2neA9a1TS9QmtrLQm0+7gitnknspX8shzCqlyPkKHAJGRxjJrU8TG81rVNB8Taa3iDT7CxNzbz/ZtOH2qMPtCzC3mid2XKY4Tfh84xuq5aPTv92v6/r5Mhapf1/X/A8zrD4w0MaKdUa7dbcTfZzGbeUT+bnAi8nb5m/wD2Nu7HOMVc0jWrLXLV59PeUiOQxyRz28kEkbYBw0ciqynBB5AyCD0IrgZNL0ebRby7vZPGF+95fxynUP7MeC7tZUi2JMkUcEbYAwufLbOeQVyR0vga81m7sb86xJd3FvHdsun3d9Z/ZbieHaDmSLau0hiyg7EyFBxzki63/rYfb+u5YvPHPh6wv5rS6vnU2ziO5nW2le3tmP8ADLOqmOM8jhmGMjPUVz/ivWYrj4maF4euptYjs3tZ7iRdOju4/Ml3RLHulhAygDvn5toJG7HFUIjd6L4L1zwndaHqWoapcy3v2bZZu8F6LiR2RmnA8tOHw29lI2njGM61hot/p3jbwlHOJrpLDw/cWtxebCUMm62Ay2MAttYgd8H0ohq03/Wj/J2+8JaXS/rVfmrnTax4i0nw+bVdYvUtTeSGG3DgnzXCltgwDliBwOpOAMkgVUsvGugX1rqE8d80A0zH22O8t5LaWAFdylo5VVwCOhxg9s1g/EO7Fj4p8EXLQzTLHqkxZIIzI+PssuSFHLYHOBknHAJwKzdRfXbzVfEfi3wxYX1vjSoLG0FxZtHNOyys8kqwSAMSiuQoZRuOQAQeV0f9f12/4Ydunp+dvy1OxsfGWj6hJcxQG+Se1g+0Pb3GmXMEzR8jckbxhpBkY+QHnA6kVyY+Kwb4aza+LS6+2xttAOj3YhJMrKuDs5G1eSGwGIBwSBUegaeX+J+m6lYw+I7m1/sq7juNR1lZ0DzNJCdoil2+UeCcLGiH+HO07asVrqM3wZ1Dw0mlX41jTw5e3e1kVZQtwXHlylRHJlRkBWPUd6JaJPy/Uh3b0/rRHdz+MNHtdOtry5ku4hduyW9s+nzi5lK9Qtvs804AycLwOenNK/jLQI9LtNRm1JIrW7nNvG8qMmJQGJRwRlGGxgQwBBGDzxXI+IPtWo+KNK8U2Fx4hsdNWzmsppLLSs3Nu5dGBNvPA8hRtuCUTOVU/dyRUuNEZ4NBu9LbXdTM/iyG9u5tSsTBKoEJQuYxFHsT5V5Kjkk55pxV7X/rW35alN2Tfk3+Df56HZy+OtAgNslxcXUFxdxPLb2kthcJcTKhw22EoJGIznaFzjnGBmtLR9asNesDeaXOZYlkaJw8bRvG6nDI6OAyMD1DAGsC+srp/jFo96ltM1rHo13G84jJjVzLCQpboCQCQPY0eBrS8tdS8XG8t54Um12SW3MqFRJGYYhuXPVcg8jjINC1+5v7pW/LUHp96/K5pXPjLQLPQ9R1i61BYrDS5ngvJXiceVIrBSu3G4nJGMA5yMZzTPEfiGxs9Onthq/9m3k+nXF3b3Itmn8mONQWm24wQu5TtPXoM1y99oN3L8SLrSjZTSaLqs8GrXE/lEwh44mjaMtjAYslu2D1G70rH03RtYufCfilL7T77z9N0GTQbFZrdt915ay5kTu4ceVgjOSPwGbvyN+X6a/+TaehcUvaJea/F/dtqdPdeOl0S78L2FzLdan/AGjamW4vLfR7lzMBFkOixqwBLclOSoPOBzVSw8YW+lfEDxlDq19eTRQyWjW9pDDNdPChtwXYQxqzImTy20DJ5OaLmO60pfAWp3Gn3sltp9q0N4Le1kmlgL2wUZiRS5+ZcHAOM84q/wCG7S6Xxz43u5LW4it7xrNreSWFkEoFsAduQM4PB9Dwa0npKdul/wA0Y0neK5utjrbS+tb7T4r6zuI5rWaMSxzIwKuhGQwPpisrSfGOi65drb6bcTyGRWeGWSzmiiuFXqYpXQJKO+UJyOenNZvw8tbiw+E2j22p2Vws8NhtltZIysnAPybWxg44wcVzmgQ3y3lvonhSbxBFoU1lcRzW2tafJENLJUeUIZpEVnwx27d0oAHBAAypaOSXT/g/1/kX0V/6/r+rnY23jrw7d38drBfMfNmMENw1tKttNKCRsjnKiJ2yCNqsTkEdjTdR8eeHdLvL20ub2V7rT9v2qC2tJriSFSgcOyxoxCbSPnxtB4zniuLuI73Vvhvpfgm30PULTWLc2kEzSWbpb2ghkQtOs+BG4wm5QjFiSOB8wHQ6JYXkPjjx5PLazpDdNa/Z5GjIWbFsFO04w2Dwcd6JaJta2v8APYI6tJ6fp/X/AATVtPHXhzUL61trHUhcfbG2W1xFDI1tM+CdizhfKZ8A/KG3cHjin6l410HSb+Szvb1xJBt+0PFbSyx2u7oZpEUpCMc5crxz05rjINJ1EfC/4eWp0+6FzZ3enNcwmFt8AVfmLrjKgd89KrvpN5pN74h0/WNW8V29vqV9PcRDStKiu4bmKXsXFtKyMB8hDsvQEcdHLSTXZtetrf5vvsJO6Tfl+N/8vxPU7i6gs7SS6u544LeJDJJLI4VEUDJYk8AAd6x9K8aaHrNwILKe4WZ4jPFHc2U9u08Y6tEJEUygZGSmcZHqKo+K/D9zf/DaTR9H82aWKGDyo5WCvcLEyN5bE4ALhNpzgc88VmXd1L4y8U+F5tL0zUrSLSbp7y8uL+xltTEDC6CFfMVd5Yvzs3KApyeVyfaa/r1/r9UC+G7/AK8ilP4+k8QfDbxdcWovbO8sodQEEy2NzbBUjLrGwkdQBJgAkA7gc8DGB0fh3xno1/HpmnrfyS3dxbKYpmhk8m5ZUBfy5yvlysOSQrE8N6HHKGK8i+H/AI38NyaZqP8AaUjanNAq2UrR3CSszxlJQuxmIcDaG3Zzxwa2NZsL6SX4eGG0uG+yX6NclI2Pkr9jlUl/7oyQOe5ApQ2168v43/plVN9Ojl+lv+Ab1z410G01R7Ca9fzI5FhmlS2leCCRiAEkmVTHGxyPlZgfmXjkZkuvFmj2ervpclxLJfxlN1rb2ss0gD9G2opOzplvurkZIyK83i0C4stM1bw14i1bxbFFeXV0fJ03SYrm3uoZpXYMJltZChIbBDuCpBPC7TXYaBYXVt8U/FFzJbzrazWWnpDPIhCylBNuAbGCRkZx0yKFqk/62B6N/wBdbG/rHiDTtBWD+0ZZd9wxSGG3t5LiWUgZO2ONWcgDkkDA71zmq/Eews9U0GOzS7ubXUnl81otKupXVUR/lARCQ4dcMhG5RnIHWp/G8NhJc6bNdrr1rdW7M9tqmiWj3D25O3KMqJJlXA5DIy/Lzg7c4CXPiAW/hDXfEVjeXP2G8uluZIbFzOYXjdIZnt4wWDMNhZQvyluQuCAugnsdnceLtGttUOmvcTPfL5Za1htJZZVV+jFUUkL0y3RcgMRkVmaX4nsdK0O/1HxB4pivLRNVlthdy2n2ZbY+ZsWBuxCn5fMOAepPeovD1vcH4o+J9Qa1uI7S7sdP8iaWFo1kIEu4DcByNwyOozziuWfRtUPgmeAabeecfGguRH5DbjD9uDeZjGdm3nd0xzVR+NJ/17yX5A7ct/6+Fv8Ay/rb0TSvFGlazfz2VlLOt1AgkeC6tJbdyhJAdRIqllyCNy5HvWYPiT4Ze+tbSK5vZnvJmhtZIdKupIrhlzu8uRYyjgYJLKSMAnOKrajZXMnxat7l7WZ9P/4R65hllCkRbzNGQhfoGI3Ec5xk1x3hK8trbSfDC+JtVvINP0gxtZxHQbmGOORkMUYlvSDDKqiTaHXYrHa2SDgqPvJP+t2v0/EHpf8Aron+bPZKKKKACiiigAooooAKKKKACiiigAooooAKKKKACiiigAooooAKKKKACiiigAooooAKKKKACiiigAooooAbIC0bAdSCBVP7NL/d/UVdY7VJPQDNQ/a4/RvyoAg+zS/3f1FRzWLz28kLqQsilSQRnBGKt/a4/Rvyo+1x+jflSaurBsZul6N/ZOk2mnWwdobSFIUaRgWKqABnGOeKt/Zpf7v6ip/tcfo35Ufa4/Rvyqm23dhsQfZpf7v6ij7NL/d/UVP9rj9G/Kj7XH6N+VICD7NL/d/UVFcad9rtpLe5gWWGVSkkb4IZSMEEVc+1x+jflR9rj9G/KjcDH/4R4/2D/ZPn3fk+X5Xm+d+92em/r04z1x3zzV230/7LbR29tAsUMSBI40wFVQMAAelW/tcfo35Ufa4/RvyoAkgUpCqsMEU+oPtcfo35VJHIJVyucZxzQA+iiigDM0LQbXw9a3UFlJM63N5NeOZWBIeVyzAYA4yeP5mtOimSSCJctnGccUB1uPoqD7XH6N+VH2uP0b8qAJ6Kg+1x+jflR9rj9G/KgCeioPtcfo35Ufa4/RvyoAnoqD7XH6N+VH2uP0b8qAJ6Kg+1x+jflR9rj9G/KgCeioPtcfo35Ufa4/RvyoAnoqD7XH6N+VTKdygjoRmgBaKKKACiiigDL1TQLXVtU0m/uZJll0m4a4gEbAKzNG0ZDZByMOemOcVqUUUAFFFFABRRRQAUUUUAFFFFABRRRQAUUUUAFFFFABRRRQAUUUUAFFFFABRRRQAUUUUAFFFFAEV1bQ3lpNa3KCSGZGjkQn7ykYI/I1zMfgKFoILLUNe1jUdKt2Ux6bcyReVhDlFZ0jWVwuBw7tnHzbq6uijZ3B6qwUUUUAFFFFABRRRQAUUUUAFFFFABRRRQAUUUUAFFFFABRRRQAUUUUAFFFFABRRRQAUUUUAFFFFABRRRQA2X/AFL/AO6azq0Zf9S/+6a5TxZDeXHhq4j05ZnkLIXS3fbI8QcGRVORyU3Acj60DWrNqiuPltbB/Cepw+DdJm06ZkUOsWnvYySDPIUuqZbbuAOeCeoqtZ6fZnVzP4W0ibTLMafNHeIbB7QTuceUNjKu9hh/mAOAcZ5pN2uKOtjuap2mpw3l/f2kSyCSxkWOQsBglkVxjn0YenNcfoHh5dOh8IXMWmvDeNb7NQmMR8wg25+WVjzgMFADcDAAxgVJpuhaJo/jPUBN4diRpp4ZdPnh0oukY8tVOJEQiMh1JOSOue9U1aVhJ3VzuKp3tzewXFmlnYfaoppdlxJ5yp9nTBO/B+9zgYHrXn3i+C91DUdT8nR1+228iCzlGkTTzOqqrCSO6DBIsHPyjnIPBLYO14qNjH4k0W7GlXU17a3avPdW+lzSssPlyDHmIhyNzD5Qe/Sl2fcb6ryOzorlLzR7fWvHMc2o6ebrTzpQwtzCxiL+ZkBlYY3AHOCMj2rNl03f4B0W31IXKPbsD9nl0ya+jfAYBZYVGSoByMkYIU9sUul3/Wtg62/ra5291dQ2VnNdXTiOGFDJI56KoGSao6bd6jqGhm7khitLi4VntopFJ8tSPk8znk9CQMYzjtk4L2l1e/C2/tIdKisZTBMsVrbweQsoBJBETDMe/rtPI3c11On3sGo6bb3lo4eCeNZI2HcEZp9w7FfQ9V/tfTvNeLyLiKRobmAnPlSqcMM9x3B7gg96h8R69eaTb6ZYaQsP9paxfCzt5J1LRw/IXeRlBBbCI2BkZOBkVV8Lfv7vXL+I5trvUSYSOjBI0jZh9WRvyq14k0K81W202/0gxHUtHvheW8U7FUn+Qo8bMASu5HbBwcHBwaOzflf8L/1v8xrql5/8D+ti9pmj6vpl6JrrxPeara+WRLBe2kAbdxhkaFI8d8gh88Yxjmrb+NUfUrK2v9D1fS4dRkMVnd3scSxzPtLBdqyGSMsqkgSIp4wcHipbXV9f1OR4V8NXOjp5Dk3OoXUDFZMfIESF5Nwz1LFMDpnoOF07wdqkt74YurnwtJHq2nX8c2q61qF5DPPcYidWMThmcx7iDtPl7Rt2oedrXxJPy/F/p/V1suj+f5aff/Vihd/8k38Vf9jof/S2KvY7v/Uj/erza88I62fCHijTItPkknm8Qf2pa4liAuozPHKVXL/KwCkfPtGcdua9HuGL2qMyNGWwSjYyvHQ4JH5GkvgS9P8A0lf5DespPzl/6UyrRXK6voserePbA39m9zp6adMJFdSYWfzI9quPut3IVs8jOOKzfEWgy2EOkWdshudGtzMJIrmwe/RGYgxgwxlSVUblU8heMjuDomHWx3lFc54bU6R4UnlzcXkcbSzRW8WnyWzIo58qOGQlgODtGccgDjFWr2ZNZ8HzSzJqOnpdWx3IIGNzCGHTy1DHd7AGh6IS1NmiuF0S2vU0TXLXRdMtbOZrb/Rry20t9N82UqwCmOTnKnB35x82OMGofCmnGDWLe4gUWksduwngi0C4svtBIHEszuyOwbnPJJzg4Jo6h0PQKK8y0S2vZvFeiX6aSLKRpZPt5h0ia3eMNE52y3Dt+/8AmA+YDBYA5GQDr6J4Rtb1NSn1O2niu/7Ynntrh8iSFRNuUxFh8qtjnb94HnNOwPRf15/5HbVm22r/AGnxHf6V5G37HDDL5u/O/wAwvxjHGNnrzmudu7SwHivUJfFOkT6irtGdPlbT3vIo49gBVQqt5bbwxJIGcjk44L7w7b6r4t1+bU9LF3CdPt1tjPEWjLjzc7QeCwyORyM9s8ze0bjtrb0Oj1vVl0fTTcCIzzyOsNvADgyyscKuewz1PYAntSX0+p2ehfaIYoLq9hRXmiQFVlxjeEycgkZ25zzjPrXP3xntvD/hO/1HzFFlPbteeYPmTdC0e5s8jDuM+nNdbdXMNnaS3NzIscMKF5HY4CqBkk05e6nrs/yFF3t5oZYXsGpafBe2b74LiNZI29QRkVfvtStNH0aXUdSmENrbReZLIVJwAPQZJPsOTXO+D7eW28I6elwrI7RmTYwwUDsWCn6AgfhV/wAXaFN4j8HXGnWkiR3LeVLAZCQhkjdZFDYydpKgHA6GiWgR1sR6d4yiu9TtLDUtI1PRbi/QvZLqCRYudq7mAMcj7WC87X2tjOAcHFAfEvTn099Si0nV30yC5e2ur7yEWO2dZfLJILh3XPO6NXAHXBBAiltdb8WeIPD9xqGhz6Ha6PcNeTm6uIZGmlMTxqkXlO3yjeSWbacAAA5OMibwhrj/AAQ17QFsc6ndz3rwQecnziS5d0+bdtGVIPJ470/6/r8fzDd2/rr/AMA9E1PUrTR9LuNR1GYQ2ttGZJZMFsKPYZJPsOTWVpnitL7UVsr3SNT0maaFp7YX0cf+kouN23y3fDDKko+1uenBw3xp4dl8UeCbzSIJRDcSLG8TGRkG+N1dQWX5gCVAJHIzkc1h6JoTnU1uf+Ee1/T7+3gkEF5quutewRyMu35ENzISDzyUU49OlTe1w3SNe38ao+pWVtf6Hq+lw6jIYrO7vY4ljmfaWC7VkMkZZVJAkRTxg4PFL/wmsU2ozwaXouranbWtx9mub+0jjMMMm7DLhnV32/xGNWA5HJBA4nTvB2qS3vhi6ufC0keradfxzarrWoXkM89xiJ1YxOGZzHuIO0+XtG3ah529D4dh1/wdBPoieHZ9Vtzfyz21/bXMCR+VNM0h80SSBwy7yPlVgQBg5JArr/Xl/m+wPb+vP/Jd9zP0rXX0fx146MGkalqsgvLeR47KNPkQWqfMXkZEJ/2QxbvtxzXe2Gr2OpaHb6xaThrC4t1uY5mBUeWV3AnPTj1rA0TRdQtPEfjK6uLfZDqdxE9o29T5gW3RCcA5HzAjnFQ+G/C11/wpiy8LawrWd0+j/YbgK4YxMY9p5UkHGexxUXahpukvy/4YrRzV9tf0/wCCXdO8b2uoXVkDpep2tlqJ22Oo3MSLDcnBYAAOZE3KCR5iKDj1IBwPBes2WgaB4r1DUpGSCPxNerhELu7NKFVFVQSzFiAAOpNR+HfC729xpVrrPhzXmuLB0Zr1/EMlxYiRBxIkb3JYjOMAxDGfbmCbwNq13oGvaf5DxzjxG2sWUhuzAl0hcPsEkTeZGcbl3EAg4IyKvRS09PleP479OhF24pPun+Evw26nU/8ACb28FpqUmraTqWl3Gn2b3zWl0ImklhUElkMcjIeRjG4EEjIAIJqn4kWKy6f5mi62lvqg/wCJdcm0BW7fbuCBAxkQ4ycyIi4UndjmsWTwub/R9dNp4Z1+z1KbRrmztpdZ1r7XvMq/6tAbmULllUknb0Fas2gam8PgJVtsnSJ0e9/eL+6As5Iz3+b52A4z1z0ppJ7+X6/pYG7JW8/wSt97uaVp4206Sx1afU4LrSJNHwb63vFVpIlZdysPKZ1YMOm0k5BGM8VJpvixL3UFs73SNS0maWFp7YXyRj7Si43bdjttIypKvtbnpwcczrvgfUtevvGkeBbx6oli1jMZygeSD5sEod6jcACcZ5yOlWtA0JTrEVzc+GvEFnc28MgS51PXmvYVdl2kRqbmQ8jPzFFOPTtnd2foMs2XxK0++sNM1KPSdWi0nUpI4o9RmhjSOOSRtqoyl/M5bC7lQpkj5sc0ul+KNVuviRrOjS6PqBsbVIAkpNsI4SRITIcSbyr4XAwSMchaxF8Ja2Pgr4f0E2X/ABM7O4sXng81PkEdyjud2dpwoJ4PPauggtNV0v4kalejTJrzTtWgtkW5t5Ih9maPeG8xXdWIIZSNgY9eKt76d391kJ/197Osrm7Hxraajc3S2un35trG4nt728dY0htWiJBLFnBYHaSNgYgY3BcirPhbX7jxDZXst3pp0+S1vprQx+eswfy2xuDLxz3HYgjtXP6R4PvZ/CHjDRdVVrP+2tRv3hdXVj5Uxwj/ACk465weai7s2u11+FvwZWmifez/ABv+KRq6f43t7+e1DaTqdpbahkafd3UcaR3hClgFG8uhZQWAkVMgevFY3hrx7ey+Gde1fX9I1KK20y4vZPOf7N/q4pWAhASUkuqjGSMEj7x6mHw74ceK/wBLi1fw3r4ubFgzXk3iGS5slkVSPMjje5LEHsGiBAPIGKWDw9rbeFvFnhSXTXj/ALQe/ltNSMsZt3E7MyKQH8wMC5B+THynBPGXK6vbs7fhb57jhZ2Uu6v+N/lsdbe+JbOxvNEt5o5y+tSmK3KqMIRE0nz88DCnpnn86pWXjW21G4u0sNL1KaGxuLi3u7kJGscDxEg5LOC27bxsDEZG7bmsJrPxDreqeDri48PTaZHo90Xuxc3ULtzbSJuQRuwZdzAZJDc/dxkjQ8LaFqWm6J4nt7238uW+1a+uLdd6nfHIfkbg8Z9DgjvTnpzNdnb8LfqTHaN+rV//ACa/5Ifp/wARbDUYdIu00rVodM1do47XUJ4ESIyOCVRl3+YMkYDbNhOMMQQTX/4STS/D95401W5vNZuItNlhN3BO6yRQfulI+zrnIUhgWB6nOKzj4U1o/C7wXpH2P/TtLutMku4vNT90sLqZDnODgA9Cc9s1D4j8I65f6P8AEeC0svMk1poTYL5qDztsManq3y8qR82OlVJJOVvNL/yW35v7gir2v5fqdZY+L4bvXLfTbjStS09ryN5bKe8jRUulTBOAHLocMDtkVGxnjIIrLu/iXbwpHcWfh3WtQ0+a9FjBf2wtxDNKW2YHmTKwXeCoZlCk4wTkZu63pF7deNPCuoQQ7rXTjcm6kLqPLDw7V4Jycn0zXB6Yqaboq6rqumeIbzw7Z3cuqRJaS2Z06ICVpFmRS63LIoO4I2RnopwtSmuZX2/4P+QldrbX/gf5nrGpaj/Zumvd/Y7u7YYC21rF5kjsTgKBnA5PLEhR1JABNUNF8Tx6tqd1plzpt9pWoW0aTNa3vlFmickK6tE7qRlWH3sgjkcjNfxlBqeqeFVHh5p2d5oZJEtbj7PNNbhwZEjkJGxmXIByvpkdaw/B3hiTS/HN7qtr4Yh8PabcaZFbpEJIjNJKsjlmlEZYbyCPm3PkYJIOVAt7P+tL/wDAH9m6/rW35akWo6k+m/HOZoNOvdSmfw5GEt7NF3N/pL5yzsqLgc/Mwz0GTxW+njzSn8OtqvlXiulz9iawMP8ApP2rOPI2g4LZPUHbj5t23ms/UbPWdP8AijL4itNGm1OwOjR2ZW2niWUyee7/ACrIyggAgklh1GM84y08H60tn/wkH2VDrJ13+2jpn2gY2eT5Pkb/ALu8R85+7v43Y+aiOyT8/wD0r/Jtjn8UmvL/ANIX6qx1emeLLa9vbmx1Cyu9GvraH7S9tf8Al5MPTzVaN3QrkEHDZGOQMjNOz8f2VzJZSXGl6pY6dqMohsdSuoo1huWY4QABzIm/+EyIoPA6kA5d54b1Hxrrd3f6tYXGh2n9j3GlQQzyxNO7T7S8h8pnQKAqhRuJJ3ZA4zDdab4k8R6DpXhrUNDbTltLm2e91FrmJ4JEt5Fb9wFYyFnKLjeibQTk5ABcdWr+X5u/4Wfz26Ce2n9aK343+4m0HUrTR/FfxD1HUphBa215bySyFSdoFrH2GST7Dk1vaf4uju74Wl9pGqaTLJA1xbC8iQ/aUXG7YI3chhlTsYK3PAODjmNX8E6nq8/jexMbQx6vLa3djd+cEjZ4kj+RijeYvzR8kL0OQc8VLp2gXEk7zW2ga9pmqwWky2l9q+utfQQzMm0FUNxISMnqUU4HTtUXaj8v0/z/AK1RT3+ZvWfjJZtXsrHUND1XSf7Q3CznvlhCTsq7tmEkZ0YqCwDqpwpHUYqlN8SbBLbUbqDR9XubPSbma31G5jhjCW3lNhn+ZwZFxlv3YcgDkA4FczpPg++Ou+FNRHhKWyvNPuS+q6pqN5DPdz5tnTIkV3aRNzDhmUj5cJj7unF4W1hfh5450xrPF5qt5qMtnH5qfvVlB8s5zgZ9yMd8VUvdTtrZP5u6/wCD2FGzaT6tfJa3/JHoUciyxrJGdyOAykdwadVTSYJLXRbKCddssVvGjrnOCFAI4q3VSSTaREW3FNhRRRUlBRRRQAUUUUAFFFFABRRRQAUUUUAFFFFABRRRQAUUUUAFFFFABRRRQAUUUUAFFFFACON0bAdSMVU+ySeq/nVtm2oW64GarfbP+mf60AN+ySeq/nR9kk9V/OnfbP8Apn+tH2z/AKZ/rQA37JJ6r+dH2ST1X86d9s/6Z/rR9s/6Z/rQA37JJ6r+dH2ST1X86d9s/wCmf60fbP8Apn+tADfsknqv50fZJPVfzp32z/pn+tH2z/pn+tADfsknqv51Tj8P20Nnc2sMaxQXLO0qRuy5L/eIx93PJ4xySeprYooAz7fTFtbaO3tkjihiQJHGgwqqBgAD0q5BGYoyGwTnPFSUUAFFFFABUc8ZljAXAOc81JRQBT+ySeq/nR9kk9V/OrlFAFP7JJ6r+dH2ST1X86uUUAU/sknqv50fZJPVfzq5RQBT+ySeq/nR9kk9V/OrlFAFP7JJ6r+dH2ST1X86uUUAUJtNFzbyQXCxyxSKUdHGQykYII7iq0nh62l06GwmiWS2g8vZG8jN9wgrknlsEA85zjmtiigCn9kk9V/OraDbGoPUDFLRQAUUVBeXtrp1nLd6hcw2ttCu6SaeQIiD1LHgCjYCeiobO9tdRs4rvT7mG6tpl3RzQSB0ceoYcEVNQAUUUUAFFFFABRRRQAUUUUAFFFFABQQCCCMg9QaKKAIbSztrC0jtbC3itreJdscMKBEQegUcAVNRRQAUUUUAFFFFABRRRQAVzS/D3w0rgCxmNsH8wWDXs5swc5/49i/k4zyBswDz1rpaKOtw8gooooAKKKKACiiigAooooAKKKKACiiigAooooAKKKKACiiigAooooAKKKKACiiigAooooAKKKKACiiigAooooAKKKKACiiigAooooAbL/qX/wB01msyopZyFVRkknAArSl/1L/7prlvFWmT6v4dntLRI5ZC8b+TK21ZgrqxjJwcBgCvQjnmkNblqw1rS9VSR9L1KzvVix5jW86yBPrtJx0pLDXNJ1RZW0zVLK8WEAym3uEkEYOcbsE46Hr6Vl6pFfeIvC9/YrpNxp8rIqpFdyRbZhkEpmJ3wCBtOfXoahFjfa1rkN9LpkukJb2M1sRcPEzTGTbgDy2b5V255I5PA60PrYS8zokvrSRbdo7qF1uhmArICJhjdlf73HPHaq6a7pEl9HZpqlk11LkxwC4Qu+CQcLnJwVb8j6VzGi6frSf8Iva3WkvbRaPGYrieS4jO8iBkBRVYkqT3ODyPl6kLYeG7238M2lsbJEuV1s3koDJkp9pLbyQeTsx7449qtpc2mwru1/62NJvHOhxeJJ9Jn1TT4vJhVjK96gzIXZTHgnhhtBIzn5ulWtZ1G5Go2Ok6Y4jurwtI8xXd5MKY3sAeCSWVRnu2ecYNe8iv7Dxg2p2+mz6hb3Fklu32eSJWiZJGbJEjrkEP2yeOlJqr/wBneMdL1Kfi1ngksXkJ4jkZlaPPYAlSufUqO9Sul/63t+g5bu39bX/Us+JL+70ixTVLc77a0bdeQbcl4TwzA9QyD5sdwCO4I2FYMoZTkEZBrD8YzAeGbqxT5rnUkazt4xyXeQFenoBliewUmtm3hFvaxQgkiNAgJ74GKFt/X9f8OD6f1/XU16KKKACuW8a6rfWsmiaRpVwbO41q/FqbtVVmgjWN5HZQwK7iE2jIIBbODiuprD8U+Hn161s5LO5W01HTbpbyyndN6LIAVIdcjKsrMpwQcHIORS7X8hobY+G7Pw/cG/g1XVxDHCwnivdTmuo3HXefOZypGD9wr1Oc8Yx08fXsel2mvajoItPDt7LGkV19s3XEaSsFjllh2BVQkrnEjMAwyOuNS3i8Taqz23iKy0az06SB4p47S6lupJywxwzRxCMDns+c9sZOC3hDxJfeGbPwjqk2m/2NatCkl/DK/wBouoImDLGYdgWMsFUMwkYdcLzhWt9fL83f/gE9NP67f16HR2fiX7XeeIoPsmz+xJRHu8zPnZhWXPT5fv479M+1YkPxDuby18KGw0IzXXiaxkuoozdhUt2VEfDsVyV+fllUkY4U54mbw9r9n4i159M/s2TT9dZJHmuJZFltXEIiIEYUiQEIpHzpjJ64qtovgfUdNm8CtNPasPDmnTWt1tZv3jPEiAp8vIyh647UR218vyd/xsVK19PP9LfqVfEvjDVp/h34w8mxisdZ0WKSK4WHUG2xgwiQSxSiMMTtYEAqvIIyOtdpok+ozaPFLrdvbWtxtBK21006lcDBLNGhz6jH4muauvA11fw+Obee6hhi8SgLbyICzRD7OsRLAgDqM4BPFdFoa6q+jrD4itbKC4VRGVs7p50ddoG7LRoQSc8YOOOaPsvvZA918/0Obb4gXqaQ3iNtCT/hF1f/AI/ftv8ApJhzt8/yNm3y8/N/rN2z5tuflrRvPFV/ceIbrRvC2lW+pXFjFHLeTXd6baGPzASiKyxyFnIG7G0AAjnnFYZ8F+IT4RbwQJNNXQCpthqAmk+0i0znyvI2bd235N/mdPm25+WtN9A13QfE9/qfhWLTry11SOP7RZ39w9v5MsahFdHSOTcCgAKkDBUEHkij+v6/r8Bf1/X9fiTTeLNTuNXXRtE0OOfVIrSK7v472+EEVmJMhYzIiSFnJVuAuMDO7oDcs/EVxN4jtNGvdN+yXE2mm+l/fh/KYOqGPgYbls7s9ulZh0XxLpviKTXdJXS7yfUbWKLUbO4nkt4xLGDtkikEbtjDEFWX0OeDl13pPiZPEGm+ILOLSbm+TT3sr21luZYIvmdXDxyCNzwVIwV5B6jFH2l6u/3O342/XqJ3tp5fpf8AUgk+Ioi0W81A6TI/2XX/AOxhDHOC0h85YhICQAOWztJ/4F3qzfeLNY07VtL0m40K2fUdVW5a3SHUCY08oIRvdogQCHJOFYrt4D5rI/4V/q3/AAjdxYSXllJczeJI9YaRQ6IUEySOAMMQflbAye2W710Wr+H7q/8AHXh3WoZIVttLju0mR2O9jKqBdoxg/dOckfjTj8Kv/Xur9bjfxO22v5u34WK7+KNauNQn0/RtCtLy70+NDqJk1ExQxyMu4RRP5RMjY5+ZUGCvPJArnx899qOj2WgaQ17Jq+nSX0LXFwIFhCMgKy8MRy+MqGOe2MkUda+HsUniy/1q28NeG/EA1II00WsrseCRFCbkk8mXKsoGVwMFc5OSBp2XhW5tvF2iarFBp9laWGkzWUlpaZVUd3jYCMbQNg2N6HpxSjq1fz/J/rYH/X3r9CNPiDFD4bvr7UtOeO/sdR/st7C1mExluSyqixuQuQ29DlguATkDFWLjxTq2i6ZcXfifQ4bfBhjtU06/+0m5lkfYsXzpFtbcV/2cHOeDWVJ4A1CWz1/be29veXWvLrOmzBTIsbIkYUSKQOpRgQD0PBzVnW/DmueNdBuNN8TWei2SK8M9sIZXvUMsb7/3ivHGChwFK+hPPPCWyb30v9yv873/AAH1+/8APT5Wt+JZbxleaU91D4p0dLS4h0+XUYk066N2s8cWPMUFkjIkG5eMYO4Ybg4t+F9d1XXbaG7vdLsYLK6gE9vc2Gp/a1OcfK37tMHn+HeOG5HGcnQ/DF5pLXVxp3hDwfoF+bZo4LnTyZNzkjh8QREJxkgE546YzR4b8I31h41n1+bTdI0FJrQwz2mkXDyreyF94mlzFGAy/MAdrMfMbLDGDatf+vP/AIH/AAwnt/Xl/wAE1NR8R6gfEMmi+HNKg1C6toFnu5Lu8NtDCHJCLuWORmc7WONuABkkZAPJeLPEt34j8M6Hc6PpsJZfEEFteWl/dGJobiKYDyzsRww3Lnd2G0gHPHT3uja1pviy71zw1Fp92NRgjiu7S+uHt8PHnZIsixyfwsVKlewIIwQc+LwJewaFZwG8guL9tdTWL+dgyI7eZvZUHJAAwqg9lGSKhbr1X/pS/TX7vMUvhduz/J/rY3fE3iJ/C3gu8168s1meygEsttDNwTxkK5UZ68EgZ9BVBfFupWmvaZZ69oaWFpq7tFZ3Ed6JnSQKXWOZNgCMVDfceQZXGehNf4v/APJIPEmP+fM/zFSf2Hruua7pF14hXTray0eVrmBbOeSV7qUxtGrsGRREAGJ2gvyR83y/M18X9f1/XqN6R+/9P6ZV1P4hzaH4gsrHXLHTLOK9ukgihOsK1/tdyiSG2CYKlsZ2yNgHPYgQaFrHiubxX4wj+wWE0FrdqsSy6tKBGfs0ZVVHkEBWyGYjoWbhsZNGDwB4gi0GPRY00WGOPVodQuNREkjXGo7LgSlpF2AJIQBzukHG3gEFelsdE1fS/GWsXUC2dxpOsyRzSu87Rz2zrCIyFQRssgOxTksuMng45Vvc89f0t+pWib7f8H/hjC8H+LtWsvhfot/rtmt5dXscEFgsN80017K4OPMMiKEPBJOXwAx5xg7M3jG+0yz1ldd0iC31DTdOfUY4bW9M0VzEobgSGNGVgy4IKcblIJyQMNPh5qd54FsfDWswaPcLocscmnTylp47vYWG2eBkAQFDtOGfBOewzdh8FSHw5r9lbeFfDHh651HT5bSKTSn3by6sP3jCCMhckcAGiTdpW87fdp+P/DDVudX20v8Afr+BZvvHV/p3h2DXbnw/us7ye1is4Yb1TcS+cwXLKVCKcsCB5hyDyU5A0NM8SX0viqTQNc0y3sbprQ3ts9teG4WWMPsYNlEKsCV4AYfN96qeseE77UPBGh6PDLbrcafcWEsrOzBGEDoz7TjOSFOMge+KvTaBdSfEu08QrJD9kh0qWyZCx8wu8sbggYxjCHvnOOK0dua3S7+7l0/ExjzOCb3svvvr+B0NFFFQWFFFFABRRRQAUUUUAFFFFABRRRQAUUUUAFFFFABRRRQAUUUUAFFFFABRRRQAUUUUAFFFFABRRRQAUUUUAFFFFABRRRQAUUUUAFFFFABRRRQAUUUUAFFFFABRRRQAUUUUAFFFFABRRRQAjLuQr0yMVW+x/wDTT9KsudsbEdQM1U+1yei/lQA77H/00/Sj7H/00/Sm/a5PRfyo+1yei/lQA77H/wBNP0o+x/8ATT9Kb9rk9F/Kj7XJ6L+VADvsf/TT9KZNpkVxC0VwEljcYZHQMrD3Bpftcnov5Ufa5PRfyoARtMieZJXCNJGCEcoCyg9cHtnA/Kn/AGP/AKafpTftcnov5Ufa5PRfyoAuUUUUAFFFFABRRRQAUUVXOoWa6iuntdwC9eMzLbGQeYyA4LBeu3JAz0oAsUUUUAFFUrPV7G/1C/srSfzLjT5Fjuk2MPLZlDgZIwflIPGau0AFFFFABRRRQAUUjnbGxHUDNVPtcnov5UAXKKp/a5PRfyo+1yei/lQBcoqn9rk9F/Kj7XJ6L+VAFyiqf2uT0X8qPtcnov5UATXlna6hZyWl/bQ3VtKu2SGeMOjj0KngipgMDA6VT+1yei/lR9rk9F/KgC5RVP7XJ6L+VH2uT0X8qALlFU/tcnov5Ufa5PRfyoAuUVHBIZYyWxnOOKrahq9jpc1lFfz+U9/cC2thsZvMkKltvAOOFPJwOKALtFFFABRRRQAUUUUAFFFFABRRRQAUUUUAFFFFABRRRQAUUUUAFFFFABRRRQAUUUUAFFFFABRRRQAUUUUAFFFFABRRRQAUUUUAFFFFABRRRQAUUUUAFFFFABRRRQAUUUUAFFFFABRRRQAUUUUANl/1L/7prHvLyDT7OS6vJBHDEuWbBP4ADkk9AByTwK2Jf9S/+6awNYtTfaRcWws7e981dvkXMpjR+e7BWIx1BA6gdOtJjW5CPEWn/wBl3OozG5trW1G6V7qzmgKj1AdQSPoDS6b4h0zVrlrexnd5BH5q74HjEiZxvQsoDr/tLkcjnkVyeuabqWnfDzxN/aEuIpLYmC2+2yXnlYX5j5sihzk/wnIGODzgdBZafqV1rUGq6rHa2z2ts8EEFtcNKH3lSWZmRcfcAACnuc9qrqLp/XkGhS3qa/rFheajPfx2wgaJp0jVl3qxI/dooI4HUU+11L7V4wnto9RnEcVtg6fLp7xjcHwZVlZRvHbAyO9V9Js9fh8SXt9f2Wmx296Iw/kX0kjx7FIGAYVDZJ9Rj3o+yeID4wXUmstNFqIDa8X8hfYZA2/Hk4zgfdz/AMCpLdf10F9l/wBdRh8Ywx+LbnS5Le9MENujho9MuWYyF3U9EI2YUYbGDzye1rWrm5udZ0/RbOV4BcK9xczRnDLChUbVPYszKM+m7GDg0Xun6pB4n/tbSorS5Wa0W2miubhoSm12YMpVHz99gQcdBzUetbtM8R6drjLm1WJ7O7YDPlK7KUkP+yGXB9A2TwDQul/63t+g5dbf1tf9SXxTNdafpZ1exkfdp2Z5YN3yzwj/AFikeu3JU9iB2JB2o3WSNXQ5VgCD6g1ieLZGm0Z9ItlZ7vVVa1jVRnarDDyH0VVJOfXA6kCtqGJYII4YxhI1CqPYDFC2B9P6/rqa1FFFABXBfFyKKbQ9DjuNO/tOJ9dtA9ltRvPGT8mJCEOf9ogV3tYHi7w7c+I7Gxjsb6KxuLG+ivYpJrczoWjJIUqHQ4Of7wpPdeq/NB0fo/yMMXmkeCPCmqa7YeA10CaPZGtqsNrC947MFjXdAzjG5gMt0yTipX1zxTo/ibw1pmty6RdprU8scr2lrLCbfZA8m1d0j78sB83y8A/Lzlb954a1XxBoWoaR4r1Wxuba6jCxtp2nvbSQuDuD5eaUEggEDA5Heub1az1u2+IXgP8At/V7bUHF5dKn2SxNsp/0STLMGkkJbjsVHJ4PGKW/9f1/S8xdH8/y/r+rGnceNdRi+HvizXlhtTdaLPfx26FG2OIGYJvG7JzjnBHtimahq17L44tbbTdP0o6nL4cnu4Ly4ti8iSCSMCPcGB8sluVB64OaW/8Ah7qF1pviHRrfxBHb6PrjzzNCbDfPC8w+cCXftKFsnGzdgkBhwRtReF/K8YWOu/bM/ZNKfTvI8r7+50bfuzx9zGMd+tSle1+348sv1sXJq7t3f3XVvwuZ0HjSfVbLwmdHihF1rhE08cylvs8CJun4BHzBtsY9GYZBxisa5+IeoWHiC0ikvtK1K3m1OOwuLbTbC5kFoZH8sBr3cYjIpKlkZUOCfbPQ6F4Ij0XxNqOqm88+OfzFs7bytv2RZZPNmAbJ3bpOegxgD3rKt/hzqEOh6ZojeIY/7L0m+gurSOLTgsjrFN5gSZy5Dk4xuRUOeTnkG4tOSb76/fqvu/4BDWjX3efn95QTxHB4S1X4j61dKrrbXtrtR5BGru1vEqgseFBZhluwye1XtB8ffa/EVvpc3iDw3rjXtvJJH/YsnzWroNxVx5r71IJw/wAnK/d+bjUuPAkF5e+JPtV4TZa95Mjxxx7ZbeaNVUSJISRxsVgCvBHUjitDTdP8RxSldZ1uxvbYRFFWDTWgkY9mZjMwJ+iqOe3Ss9eX5fp/X9XKe/z/AK/r/gHH2PjnxM/g3QfFmoJpKWN/NbQXFjDDKZMTSiLzFlL4XBYNsKNwCN5zmr+iR643xc8SFtQ0/wCyRxWnmRCwfzHjIlKKH87AYZ5baQewWrQ+H+PhzpXhX+0/+QdNbSfavs/+s8mZZcbN3GduOpxnPPStH/hHb228aT67pmpQxRX0UMV9a3Fs0u8RbtpjYSLsOHIOVfoOKt76d391l+v9WJf9fe/0MXxqmtSeO/CSaTf2FsrS3BT7TYvOVcQPknbKmQVOMcEHnJ6Vdk1nxBrPiDU9N8NXGl2sekbIrm4vbWSfzp2QPsVFkTYoVlJYlslsY4ydDxJ4euNYutLv9Mv0sdQ0ud5YHmgM0TB0KMroHQkYbIwwwQOvSqlx4Z1m31a51Lw/rdpY3GoRoL9LjTjPFJKi7RLGolQo2ODlnBAXjgkyr/1/X9eg+pd8MeIR4n8MLqJt/ss26WC4t9+/ypY3ZHUNgZAZTg4GR2pNQ1K20u18+8dlQsEVY42kd2PQKigsx9gD3qxoWg2vhrw7Hpdk8kkcQdmlmILyuxLO7EADJYknAHWs3xBYSajpohhsbe8cSK4We7e28sjkOsiKzKwPTGOp5pvyBEGp+JIbTw1carBDeHYj+Wkmnzht4Ukbk2BgvH3iAPel07xLZ3eiSahOLmBLe3E9w01lNCoG3cSu9RuAwfu57eoqPTdGvh4avNO1S6Je5EqoPPa48hGGAvmOA0mOTlhnnHbNRDTtavfB97o+oQWEEz2JtYZYLp5FdjGVywMalRnHTd39OU7q/wAv1GrNq/zL2n+JdJ1S8W2sLoyvJGZYm8p1SVRjJRyAr4yM7Scd61ap2VhHb2dkksUTTWkIjRwoOz5QDtPUA4pln/a/9qX32/7F9gyn2LyN/m4x8/mZ469MdutU7XsiVe12RxeILCfUmsYDcyyrIY2eOzmaFWHUGULsBHQ/NweOtV7jxhodteT2st43m20gjuNlvI6wE4x5jBSEBzwzEA888HFBNB1JPEgvLOGDTIDdGad7fUppBcLgghrcxiMM3BLA5B5ye+Xa2Wp6tceLtLtYrRLK81B4prqSdvMjDQRBtsYTDcdCXHJ6ccpa/d/l/mU/6/E3/EUt7Z3ul3NpqM8UUt7Dby2oSMxyKzHJJKFgfow6U/xNqQsba3iXUZ9NkmnjAuUsHuExvUFGIUqm7IUFiOvFQeINP1m6NhDpVrYyW9nPFceZc3rxuxQ/dwIm9uc/hR4lstc1bR4rSytNPDs0MszS3rqEZJFfauIjuB24ydv0oX6/hp/wSdW/l/mSeKvEn/CPW1qyQzSSTXMMZ22ksqhGkVW5QYDYJwCck4wD0q1d6/b2/hu71hIbgxW0TyeXNbvC7FR02uAefpUOs6dqGseH4oyltBfxTw3Kx+azxFo5FcLv2g4O3GdvGehpdTsL7XPCd9YX0VvaXVxC6KIZjMinHyncUUnnB6Un8L/rsUt0T6VY3SaL5WqXUkt3cKXuHRyuxmHKx4+6q9BjnjPXJqv4avbqaG80/UX827024Nu82ADMu0MjnHcoy59wccVY0rWEvdE+2XS/ZZIVK3ccnHkOo+cH2HXPQjBHBqr4ZheT+0NXmieFtUuPOjjkXawiVFRMjsSF3YPI3YPNV1f9en6krZX/AK7nU2n+pP8AvVxnxKNyL/wabFInuP7fj2CZyq/6mXkkAnpzjv0461o6rNrX9uaBBolxLHC10738f2PzI5IAnO6U8RkEjAHzMT0wGq14o8NSeIn0mS31BrCXS74XsbiESb2COoUgnp8/PfAIBBORO9n5r8GmV3Xk/wAU0ZKeJ9b0rW9R0TXjYXV1HpT6nZXdpA8KSKh2sjxs7kEMVOQ/IboMGnXfjC/g8P8Ag2+SG2MuvXlpBcgq21FliZ2KfNwcgYzn8au2PhOd9Qv9S8R6jHqF/e2n2HdbW32eKCDklUQu7ZJYksWOcLgDFZlv4B1M2uhWmqeIY7m10G5hms0i0/ymcRgqPNbzG3NtOAVCDliVPG1x3XN5fm7/AIW+4mXW3Z/fZW/G5D4HTW28beMGu7/T5LWPVQssUVi6O7fZYdpDmYhQAVBBU5IJyM4Gt4v1+70ae0itdV0vTzOG2JcWc19c3DAj5IraJldsA5LAtj+7jkT2Hhy90rxbqOpWGpQjT9UlW4u7Oa1Z5PNEYjzHKJAFBCISCjdDzzwmq+G7+bxVDr2i6nb2dz9k+xzpdWZuFaPfvBTEiFGznn5geMjih7RXkvwX+f8AXQrq3/W/+X9dTBsviHf6n4V0RrKzgGuaxfTadGsySRwxvCZBJMUOHCgRlvLJDchSRyavanrniXQ1stMun0m/1bV7z7Np80MEkEUaiMu7yRl3J2BWOFcbsgfL1pkHw6Nr4dtLODW5/wC09P1GfUbPUnhXIkld2YSRrhXUrIysBtznjbxize+E9Z1e3hm1XX4P7VsboXWnXVlp5hjt2CFCrRtK5kVgzBgWHB4K8Gm7X/ry/wCCL/g/rb9Cr4g8Vat4N0ZG8RX+hvdX16lrZXbK9nbx7lJZpg7vgKFY8P8ANwvyk5rKl+J0ttoXiR7XVNC8QXekacL+G60s/uHBLDy3QSuVYFf7/IYdMGujuvC+r6tp+Na1yB9Qt7pLrT7qysPJW1dVwMo0jlwcsGBYZDEDbwRjfEC21yH4TeLDrup2N7u02QRLZ2DWwTg5J3SyEk5HcdKnWzv/AFp/mNK7S/rf/IuXfiHxLo2r6G2sf2U+na3P9kEdtFIJLKdoy8eXL4mXKspOyM8g+orG8H33iTSfBniPVD9k1doL/UHisbSxkjkkmFw+Tu8xyVJyQgUt2yx69HZ+F9QvtQ0m98QaxFfW2lnzrK3hsvJPmFCgeZt7b2CscbQgyScdACx8K6xo/wDatvo+vwW9neXEt3Asmn+ZNbzSOHb5zIFZN275dgOG+9kZqmrN+j/NW/X8BJ3ivl+v+a/Ef4J8QT+IrSS6/t3Q9btiiFZdLheBoXIyUkjaRyDjB5KkcgrUY13XNR8earoGmnT7a302K1ne4uIXlZll3ZQKHUZOw/Nn5cD5WzlbWi+Gby08S3Wv61qFreahcWyWg+xWRtoxGrFhuDSSMzZPUtgDgAck2NP8O/YfGWsa99q8z+04LaHyPLx5Xk7+d2ec7/QYx3o7MXf+v66nC3HxfgWC81dNd8NQ2NnPJGNHluAb+4jRyrOGEg2McFlj8tsgAbhu+W94i8a+IYofFl3oc2kWVv4aRQ0OpW0ksl0xiEu4FZU8tSGCrw2SDyOg3bPwxrWiyS23h7XLW30qS4ecW15pzTyQl2LOkciyoAuSSAysRk8kYA4rU7jSovHWsajqOseGdL1KC7U20fiLSxc3iqkahWtm82NvLYglVQN8xbnJKidLWe9v8v6sVezv/X/A9Tb1T4gS2OsRaFc+IfDmjXsNlFdXd7qyGNJGk3bY44DOpz8uSTIdvAwd2Qv/AAsqSHwvp3iy6WzPh8Sy2uqSW26YwurtGs8TKT5kRdQMbc4dTngirul6ZrurQWXim1lh0DXL2ySHULW7s3nhkVSxQmPfG6ONxIy3AYqwJAI0Lvwrda1daY3iXUYL+0sleSWzjs/LiuZ2yFdgXb5UUnCHPJDFiQKp/r/n+mn3eolb+vT/AD1/qxkz+KvFNtD4aSax0+K88QX0kQgmV0+xw+U8ibsMd0ihQWHygn5fl+9Snxb4i0m+8QaTqdja6xqen6aup2H9mxPCLxDuUxmNmkKsHTHDNuDDAyMVj65oOpaNqHgbSYtZEzQaxOLC4lttzQxC1lMccg3fvNo+UsChK+h+auqtfCupRTapqlxrcba/fwJbpew2QSG2jQkqqQszEjLMW3OSc9RgYNNbf1pp+P6+Qbb+X56/K2wngnxDc+IbeWd9d0PWYQiEnTIJIJLdznMckbyOQfrtIwQVrqq5rR/DF7b+Kp/EOuahaXl/JZrZJ9isTaxiMOXywaSRmbPQ7gAM4HJNdLQ/6/r+v1ErhRRRSGFFFFABRRRQAUUUUAFFFFABRRRQAUUUUAFFFFABRRRQAUUUUAFFFFABRRRQAUUUUAFFFFABRRRQAUUUUAFFFFACMNykHoRiofskfq351LISsbEdQDiqf2mX+9+goAn+yR+rfnR9kj9W/OoPtMv979BR9pl/vfoKAJ/skfq350fZI/VvzqD7TL/e/QUfaZf736CgCf7JH6t+dH2SP1b86g+0y/3v0FH2mX+9+goAn+yR+rfnR9kj9W/OoPtMv979BR9pl/vfoKAL1FUftMv979BVyMlo1J6kDNADqKKp6nq+m6JZ/a9Z1C10+23BfOu51iTJ6DcxAzQBcorM0jxNoOvvKmg63p2ptCAZBZXccxQHpnaTjODWnQAUUVnvr2mx+I4tBe5xqc1s11HBsb5olYKW3Y29SOM5o8gNCiiigAorM03XrXVNY1bTreOZZtJmSGdnUBWLxhxtwSSMMOoHNadABRRUSXMElzJbxzxtPEFaSJXBZA2dpI6jODj1waAJaKikuYIZoYZp445ZyViRnAaQgZIUd8AE8dhUtACMNykHoRiofskfq351LISsbEdQDiqf2mX+9+goAn+yR+rfnR9kj9W/OoPtMv8Ae/QUfaZf736CgCf7JH6t+dH2SP1b86g+0y/3v0FH2mX+9+goAn+yR+rfnR9kj9W/OoPtMv8Ae/QUfaZf736CgCf7JH6t+dH2SP1b86g+0y/3v0FH2mX+9+goAn+yR+rfnR9kj9W/OoPtMv8Ae/QUfaZf736CgCf7JH6t+dH2SP1b86g+0y/3v0FH2mX+9+goAtxxiJcLkjOeafVH7TL/AHv0FT20jybt5zjGOKAJ6KzPEOvWvhrRzqN9HNJCJoodsKgtmSRUXqQMZYZ56Vp0AFFFRLdW7Xb2qzxm4jRZHhDjeqsSAxXqASpwfY+lAEtFFFABRRRQAUUUUAFFRRXVvPNNDDPHJLbsFmRHBaMkBgGHYkEHnsRUtABRRRQAUUUUAFFFFABRRRQAUUUUAFFFFABRRRQAUUUUAFFFFABRRRQAUUUUAFFFFABRRRQAUUUUAFFFFABRRRQAUUUUAFFFFABRRRQAUUUUAFFFFADZf9S/+6a57W9ZttA0iXUr4SGCJkD+Um5vmYKDjvy3bn610Mv+pf8A3TXOa/pH9uaO9h5/kb5In37N2NkivjGR124/GgCtD4otSb0X1peaf9jt/tbfaY1+eHn51Clj/CflOGHGRU2n6297ZyXUulXlnAsQlSSZ4WEq4z8vlyN29cda0ZxK1vILd0jlKkI0iF1U9iVBGR7ZH1rmtO8Kto41G5VrNXuLUxC30yyNrEx5O5k3vufnAPHHHNS3ZMaV2v6/r+vnZ0vxhbapJYFdPv7a31Fc2lzcxoqSnbu243FgcA4JUA7SQSMEst4TafEGSKK4umin09p3ilupJED+aBlVZiF4OMKAKpeFNA1B9D8PSa7cR7dPto3gtEtGheOTytn7ws7FiAxHAXnqOw0Boutf8JQurNqtgUEZg8gae+fKLhsbvO+9xjdjH+zWjSU/v/J/qRq4/d+f+QXt0D400yCZNVt8LKIWjljFrcnYCd6hi5K9sqOc1V1DxDqdr43t9Pg0i/uLU2c0hSJrcecweMB1LSAgDcQQcH5uh6i1qmi6ze65a39rqthBHZs5gik095D8y7TuYTLnvjAH41Y1TR7u51W01PTL2G1u7eKSA+fbGaN0cqT8odCDlFwc+vFSt1/X9aldyv4knnuF0zSYWe2bVZ/LmYNh0iVC8gBHQkLtyDxuyDVzV9HW90M2dm32SWBQ1nLHx5Eij5CPYdCOhGQeDVfxDZXklvY6hZL597pk4nESfL567SkiDJ4JVjjJ6gZPerOq3t0mi+ZpdrLNd3ACQIyldjMOGfP3VXqc88Y64FJ7O39dhrdX/ruO8P6mda8O2GpMoRrmBZGVTkKxHI/PNdFF/qU/3RWFpOnR6Ro1pp8J3JawrEGPfAxn8a3Yv9Sn+6KqVruxK2HVw/xRa5TTvDzWMUU1wNftDFHNKY0ZtxwCwViB77T9K7isfxL4bh8TWVtBNe3Vi9rdR3cM9p5e9JEztOHRlI56EVL3T7NP7mmPdNd0/wAjI8Q+Jte8PeB9S1bUdM02C+iKR2kUF69xEzyOqKZGaKMgBmGQOw61RuZvEHh3xd4T0648SXGqQarczJeC5tYFJ2WzuAhjRdq7hnB3HgfNjIO6fCf2vTL3Ttf1vUtcs72LynivFt49nuphijIPvk4wCMVzeoeGNRsvHXgqdtS1jXI7W6uBJPdqhW2Q2rqN3lRovLYG5wTngHkg0t/6/r+vIOn3/kLc+KNYj+F/jTV0vMX2l3GpJaS+Un7oRMwjGMYOMDqDnvmrN7q2uXnjK00Sw1JrRbvw3NdK6wxsVuRJGqyfMp6bjx056VbvfhzYXsWsWh1bVYdM1lpJLnTopYxF5ki4Z1OzzBkjcV37CScqQSK14/DVnH4ktNbWSf7Ta2DaeiFhsMbMrEkYzuyg5zjrxUpbX7f+2tfnZ/iVJ6tru/zT/K6ObsfFuoa/D4RtLKb7Hf32+41UKisYo7f5J48MDgmYqmeoG7GCKxZvGGrwajp2paXqerazptxq0NncTNYW0GnFZZfKIi3YuG2kqQ4MiEjGTk7e40nwhp2j6/qerWz3DzagSWilYGOAElnEYAGAzEs2Scn8qzIvhrYR2dnYtrGsSafp93FdWNk00YjtjHJvVAVQM68YxIXwOhBANXFrmTl3u/v1X3fiQ1o0vRf5/ec7P4hk8LXvxI1a3iEs8V/ZpCpjZxveCFFJVfmIBYEgcnGBzWpoWvamPEMFqt9rur2tzbyG4k1LQJLJbSRRuUo5gjG1vmG1i7fd5656CTwbpk97rctyZpoNcRFvLRmAjJVQgdSAHVtoA4bsCADzUmmeHrrT5i1x4j1bUYRGY0t7vyNqg98pErMRjqzE/maz15beX6W/r9Cm9TgrHxH4mj+Hfhzxhfa+9xLdXFpDcWK2kKQSpLMsRJ+XeJMPnKuFyB8oGRW3oenXp+LniWZte1AxQx2jG2Mdv5bqyykIT5W7aueMMD6lq1x4E0weCtP8Mefd/YrCSCSKTevmMYZBIu47cclRnAHHpVuTwxEPFTa/Z6heWVxNHHFdww+WY7tYy2wOHRiMbmGUKnmre/zf3WRL1/rzZz3jbT7y98e+EVtdcvtOWSW4AFtHA2xlgc7x5kT8kHac5GOgB5qws2s+JvE2s2Fhr11o1rorR2wNtbwvJcTNGshdzLGw2gMoAUKc7snoBua/4bg19rGY3d1YXmnzGa1vLQp5kTFSjcSKyEFWIIKn86qXvg8XGoNf2Ou6rpd5NAsF3PZmHN0FGFZ1eNlDDJ+ZAp5x0AAlXH1F8G6/ceI/CIvb+ONLuOWe1uPJBEbSRSNGzJkk7SVyOT160avq0Oj2scssUk7zTLBDDFtDSO3RQWIUd+pHT1xWnpuk2WhaJFpulw+Ra28ZWNNxY9ySSSSSSSSSckmszWbGbUtNa1gNliQgSLfWhuY3X0KB1745z26U2CKOr6zf23hW7v4dIvorlY5NsJaAvFhSRIf3hUqMdASfaksfEEw8NS6nqmmXtqlraC4dpTCTOAhZigSQ+nfb1H4O0nw2mn+H7nS5pleO6Mm5bePyoog4wViQlti98ZPJJ74pkeh6lL4ZvNG1LU7adJrQ2sU0Nm0bIChXcwMjBj0PG3ofXhO+tvL9Rq11ck03xRb6le28C2V7bpdwma1nuIwqzqMZwN25T8w+8q56jIrbqGzg+y2MFvu3+TGqbsYzgYziq1naahDql9Pd6n9ptJyn2a1+zqn2bA+b5xy+Tzz0qna+hKvbUyk8a2UjOy2N/wDZorw2U10YlEcUnmeWM5bLAsRyobGecc1cfxAG1mbTrLTby9e2ZFuZIWiVYS4yM75FY/KQflB/PIqbRNI/sa0ng8/zvOuprnds248xy23qemcZ71ma34Vm1vVEuJZtOiWNk8udNPP2yIKQ2En8z5ec/wAOOTwaS6XG+tixfeKY7TVrnTbfTNRv7m2hSeVbWNMBG3YO52UZ+X7ucnsDg4o+KJ4r3wzZ61p13dIfOtmgeC5kiVkkmjB3IrANlTjDA4yaY2nazN471iWwnjsraaztUaaazaXzMGXIjbeqhhnuG6jj1s6l4WuptAtNF0e/t7OytliH7+0aZ2MbqyncJEA5UZ4PfpQPr/XkW/Fl19k8NXjtFqLReU/my6bJGk0CBSS4LsvTHbJ9qqeKdWu9G8C3F7pUV1PMloWScGMtFhMiR97DPvgMfaresaVq2q+HZNOGo2cMtxC8NzN9hdlZWBHyL5o2nnuWpz6LPfeFrjRtXu4pjPA0BmtoDFhSuB8rO/P4/hR3BWuv67E9pqcsunzXN7p11p4hUsVuWiJYAZJHluwx9cVS8JQySaLHqt4S97qirczEnO0MMpGPRVUgcd8nqTV+wtdQWzkg1m7trwsNoa3tWh+XGDkF3yfy+lU/C8V1YaWNJvo5N+nYgjnI+WeID5GB9doAYdQQexBL6v8Ar1/QlXsv6/rqQaATpuualoIbNtbpHc2ik5McchYGP6KyHHoGA6Curs/4/wAK5rQree41G/1u7he3a82RQQyDDpDHnaWHYszM2OoBAPIIp/ifT9U1XS7e00Se+tbhr2F2ubS4WIRIrbmMmeWQgEbVBLEgHAyQuw3u/wCv61KvxdEh+Hc4gZUlN7ZbGddyg/aY8EgEZHtkfWnS3uteHfHWjWF3rE2r2WtidGjngiRrWSNDIGjMar+7IypD7iPl+brnf8R+HrPxTor6XqTTrbySxyMYJPLfKOrgBhyOVHIwfQg81X0/wrFa62NWv9Tv9WvI4mhtnvWjAtkYgsEWNEGThcswLYAGetK2j+f5DexyR8W62PgzoOu/bf8AiZXdzYxzT+UnzrJcojjbjaMqSOBx2q3Y6feSfG7WpBrl+kUWm2Upt1jt9jqZJ/3ZJi3bRgkEEN8xyx4xdT4aaeumppjatqz6XBcpc2li00YjtWWUSqqkIGZQRgK7MAOmCARrXfheKbxRHr1pqF7p935SQXC2/lFLqJGLKjiRGIALNyhU/MeemKT1v5v8hS1ul/Wtyn401VrFbC1t9WvrO5u5HENtplmlxd3RVc7U8wNGijjc7rtGRll61y9l428RR+Fb+3lif+2Itfj0a2m1CKLegl8thJMsDeWWVZD9wgNtHTJFdtrnhmPWr6yv4tQvdMv7ESLDd2RjLbHADoVkR0IO1TyuQVGCKop8PtGGkatp1w95dRareC9mknuCZY5wqAOjjBUgxqw54PTAwAl1v/Wq/S430t/Wj/WxQ16413wdobTR67NrVzfXNtZWv9o2sIEE0soTefJWPKYbO085H3uaTxBeaz4D8L32qza9da67CGCCO9so28qZ5AgcC3RGZfnBKYLHbwea0n8Ew3um3dj4g1nVNcguURcXjxJ5JRtyunkxx7XDYO7rwOeKfF4OSWyu7PXdb1XXba7gEDRXzxIEUHOV8mOMhs/xZ3cDB4pdH/Wnb/g+fkhf1/X9fmc/pXiDVItTa2ivtd1a2ksZpZbnVdCey+yzIAV2sYI1KtlvlO4gqOetZqa/4ptPhv4f8b3OvtcyTCze800WcSwTxzMqMFwvmCT5w2d+0sv3QDgdlH4fvbCxuzL4i1fVx9kkijt7tbfAJHX93EjM3GMknv61z3gbwOz+CPDA1691Zo7O1tpv7HuiqxQzooILDYJTtbkI7lQcccAC42u36f8At1/69BP/AD/QXwrp+pR+N/GtzFrV7ctDfIEtJkgEUrG1jK7ysQYbcgDDDgDOTkmXwRrl/danFaeIdZ1OLWHgdrnRtT06OBVdWAZraREAkjB7h5flZckGt5vCMK+IL3VbPVNQsv7RVRe21u8YjnZU2B8lC6MFxyjL90H1y3TfCItNWttR1HW9U1m4s42jtftxhAgDABiPKjTcSABltx9OpzMdLLy/r+vyKlrt/X9f1cz9Z1DV7n4k2nh2w1V9OtLjSZbuWSGCN5VZJUUbC6sATu/iDDGeMkMObuPGeqX82sy2Wp63by6XdS2tlaWnh2W6humh4JnkWBs73BGI3j2r79PQpNAtZPFsPiFpJvtcNk9kqBh5ZR3VySMZzlB3xjPFUbnwgDqN1d6TreqaN9tfzLqGyaFo5nwBvxLG+xiAAShXOMnnmkrpL5/fzXX4f8MDtf7vy1/E5bXvF1yfEKWereI38FWzaRHeWpZIPMup3JDxnz0YEx4UeWoDEv16VUj8Va9a6f4Y0fWdR1m31DUtOfUNQvIdH+0XcRUoPKSKKFlT5n5LxttAwfmINaeurcWXje7uZ7rxHpUclnBDDd6Npv24XYQuT5g8iby2UucDamdxOW6Ld0fQdU1/Rra98Q3eoWGrWtxN/Z+oIsMd2tsxGBKgVoizKBlSmOFOFYcPR6r+t/8ANeqQttH/AFp/X3mRL4p1+y8M3OuPc3zW2hahtdL7TvskmsWjKn8EkaMsylyF2bVdkxj5sB174l8SR/D+08Q2+oxR3Os6ra/ZInhjmitbaaZUWM7cFzsILfPncSFYACuqHhJZptPk1XWtT1Q2FybpFuTCqySbcIXWONQdnJUDAycnJAI5rxn4O+y+GTZ6L/aE8F5r9pdm0iORag3CtK0ZQBkXO5zkkKSSMCmrcyv3X5q/3/1uDvZ/P8n/AF/wyLr3uv8Ah/x5ZaS+rya1b6vY3MkKXkMSNbTw7SMNEifu2D4wwJBUc8movBGuX91qcVp4h1nU4tYeB2udG1PTo4FV1YBmtpEQCSMHuHl+VlyQa3bPwhFDfTX9/q2panfyW7Wsd1cyRo9vExBZYxEiKpJAJbG7gc8Ck03wiLTVrbUdR1vVNZuLONo7X7cYQIAwAYjyo03EgAZbcfTqcpef9b/8D+tyWu39bHRUUUUAFFFFABRRRQAUUUUAFFFFABRRRQAUUUUAFFFFABRRRQAUUUUAFFFFABRRRQAUUUUAFFFFABRRRQAUUUUAFFFFAAQGUg9Dwai+zRf3f1NFFAB9mi/u/qaPs0X939TRRQAfZov7v6mj7NF/d/U0UUAH2aL+7+po+zRf3f1NFFAB9mi/u/qaPs0X939TRRQAfZov7v6mpQAqgDoOBRRQAUUUUAFFFFABRRRQAUUUUAFFFFABRRRQAUUUUABAZSD0PBqL7NF/d/U0UUAH2aL+7+po+zRf3f1NFFAB9mi/u/qaPs0X939TRRQAfZov7v6mj7NF/d/U0UUAH2aL+7+po+zRf3f1NFFAB9mi/u/qaPs0X939TRRQAfZov7v6mj7NF/d/U0UUAH2aL+7+pp6RpHnYMZ680UUAOooooAKKKKACiiigAooooAKKKKACiiigAooooAKKKKACiiigAooooAKKKKACiiigAooooAKKKKACiiigAooooAKKKKACiiigAooooAKKKKACiiigAooooAKKKKACiiigD//Z)"
      ]
    },
    {
      "cell_type": "code",
      "metadata": {
        "colab": {
          "base_uri": "https://localhost:8080/"
        },
        "id": "cQnVc0Q_iAoL",
        "outputId": "0f4224a3-5f29-4df9-d120-cb156c35c598"
      },
      "source": [
        "monte.str.extract('([A-Za-z]+)', expand=False)"
      ],
      "execution_count": 33,
      "outputs": [
        {
          "output_type": "execute_result",
          "data": {
            "text/plain": [
              "0     Graham\n",
              "1       John\n",
              "2      Terry\n",
              "3       Eric\n",
              "4      Terry\n",
              "5    Michael\n",
              "dtype: object"
            ]
          },
          "metadata": {
            "tags": []
          },
          "execution_count": 33
        }
      ]
    },
    {
      "cell_type": "markdown",
      "metadata": {
        "id": "lhZs1MhXiKhJ"
      },
      "source": [
        "***Stringlerin başında ^ ya da $ gibi işaretler varsa bunları ayıklayabiliriz***"
      ]
    },
    {
      "cell_type": "code",
      "metadata": {
        "colab": {
          "base_uri": "https://localhost:8080/"
        },
        "id": "uV87WPP8ipqK",
        "outputId": "d9ba2c44-77ff-4516-f4a6-a8244aee4246"
      },
      "source": [
        "monte.str.findall(r'^[^AEIOU].*[^aeiou]$')"
      ],
      "execution_count": 34,
      "outputs": [
        {
          "output_type": "execute_result",
          "data": {
            "text/plain": [
              "0    [Graham Chapman]\n",
              "1                  []\n",
              "2     [Terry Gilliam]\n",
              "3                  []\n",
              "4       [Terry Jones]\n",
              "5     [Michael Palin]\n",
              "dtype: object"
            ]
          },
          "metadata": {
            "tags": []
          },
          "execution_count": 34
        }
      ]
    },
    {
      "cell_type": "markdown",
      "metadata": {
        "id": "ScT9esNVirla"
      },
      "source": [
        "![Ekran Alıntısı2.JPG](data:image/jpeg;base64,/9j/4AAQSkZJRgABAQEAeAB4AAD/4RDaRXhpZgAATU0AKgAAAAgABAE7AAIAAAAFAAAISodpAAQAAAABAAAIUJydAAEAAAAKAAAQyOocAAcAAAgMAAAAPgAAAAAc6gAAAAgAAAAAAAAAAAAAAAAAAAAAAAAAAAAAAAAAAAAAAAAAAAAAAAAAAAAAAAAAAAAAAAAAAAAAAAAAAAAAAAAAAAAAAAAAAAAAAAAAAAAAAAAAAAAAAAAAAAAAAAAAAAAAAAAAAAAAAAAAAAAAAAAAAAAAAAAAAAAAAAAAAAAAAAAAAAAAAAAAAAAAAAAAAAAAAAAAAAAAAAAAAAAAAAAAAAAAAAAAAAAAAAAAAAAAAAAAAAAAAAAAAAAAAAAAAAAAAAAAAAAAAAAAAAAAAAAAAAAAAAAAAAAAAAAAAAAAAAAAAAAAAAAAAAAAAAAAAAAAAAAAAAAAAAAAAAAAAAAAAAAAAAAAAAAAAAAAAAAAAAAAAAAAAAAAAAAAAAAAAAAAAAAAAAAAAAAAAAAAAAAAAAAAAAAAAAAAAAAAAAAAAAAAAAAAAAAAAAAAAAAAAAAAAAAAAAAAAAAAAAAAAAAAAAAAAAAAAAAAAAAAAAAAAAAAAAAAAAAAAAAAAAAAAAAAAAAAAAAAAAAAAAAAAAAAAAAAAAAAAAAAAAAAAAAAAAAAAAAAAAAAAAAAAAAAAAAAAAAAAAAAAAAAAAAAAAAAAAAAAAAAAAAAAAAAAAAAAAAAAAAAAAAAAAAAAAAAAAAAAAAAAAAAAAAAAAAAAAAAAAAAAAAAAAAAAAAAAAAAAAAAAAAAAAAAAAAAAAAAAAAAAAAAAAAAAAAAAAAAAAAAAAAAAAAAAAAAAAAAAAAAAAAAAAAAAAAAAAAAAAAAAAAAAAAAAAAAAAAAAAAAAAAAAAAAAAAAAAAAAAAAAAAAAAAAAAAAAAAAAAAAAAAAAAAAAAAAAAAAAAAAAAAAAAAAAAAAAAAAAAAAAAAAAAAAAAAAAAAAAAAAAAAAAAAAAAAAAAAAAAAAAAAAAAAAAAAAAAAAAAAAAAAAAAAAAAAAAAAAAAAAAAAAAAAAAAAAAAAAAAAAAAAAAAAAAAAAAAAAAAAAAAAAAAAAAAAAAAAAAAAAAAAAAAAAAAAAAAAAAAAAAAAAAAAAAAAAAAAAAAAAAAAAAAAAAAAAAAAAAAAAAAAAAAAAAAAAAAAAAAAAAAAAAAAAAAAAAAAAAAAAAAAAAAAAAAAAAAAAAAAAAAAAAAAAAAAAAAAAAAAAAAAAAAAAAAAAAAAAAAAAAAAAAAAAAAAAAAAAAAAAAAAAAAAAAAAAAAAAAAAAAAAAAAAAAAAAAAAAAAAAAAAAAAAAAAAAAAAAAAAAAAAAAAAAAAAAAAAAAAAAAAAAAAAAAAAAAAAAAAAAAAAAAAAAAAAAAAAAAAAAAAAAAAAAAAAAAAAAAAAAAAAAAAAAAAAAAAAAAAAAAAAAAAAAAAAAAAAAAAAAAAAAAAAAAAAAAAAAAAAAAAAAAAAAAAAAAAAAAAAAAAAAAAAAAAAAAAAAAAAAAAAAAAAAAAAAAAAAAAAAAAAAAAAAAAAAAAAAAAAAAAAAAAAAAAAAAAAAAAAAAAAAAAAAAAAAAAAAAAAAAAAAAAAAAAAAAAAAAAAAAAAAAAAAAAAAAAAAAAAAAAAAAAAAAAAAAAAAAAAAAAAAAAAAAAAAAAAAAAAAAAAAAAAAAAAAAAAAAAAAAAAAAAAAAAAAAAAAAAAAAAAAAAAAAAAAAAAAAAAAAAAAAAAAAAAAAAAAAAAAAAAAAAAAAAAAAAAAAAAAAAAAAAAAAAAAAAAAAAAAAAAAAAAAAAAAAAAAAAAAAAAAAAAAAAAAAAAAAAAAAAAAAAAAAAAAAAAAAAAAAAAAAAAAAAAAAAAAAAAAAAAAAAAAAAAAAAAAAAAAAAAAAAAAAAAAAAAAAAAAAAAAAAAAAAAAAAAAAAAAAAAAAAAAAAAAAAAAAAAAAAAAAAAAAAAAAAAAAAAAAAAAAAAAAAAAAAAAAAAAAAAAAAAAAAAAAAAAAAAAAAAAAAAAAAAAAAAAAAAAAAAAAAAAAAAAAAAAAAAAAAAAAAAAAAAAAAAAAAAAAAAAAAAAAAAAAAAAAAAAAAAAAAAAAAAAAAAAAAAAAAAAAAAAAAAAAAAAAAAAAAAAAAAAAAAAAAAAAAAAAAAAAAAAAAAAAAAAAAAAAAAAAAAAAAAAAAAAAAAAAAAAAAAAAAAAAAAAAAAAAAAAAAAAAAAAAAAAAAAAAAAAAAAAAAAAAAAAAAAAAAAAAAAAAAAAAAAAAAAAAAAAAAAAAAAAAAAAAAAAAAAAAAAAAAAAAAAAAAAAAAAAAAAAAAAAAAAAAAAAAAAAAAAAAAAAAAAAAAAAAAAAAAAAAAAAAAAAAAAAAAAAAAAAAAAAAAAAAAAAAAAAAAAAAAAAAAAAAAAAAAAAAAAAAAAAAAAAAAAAAAAAAAAAAAAAAAAAAAAAAAAAAAAAAAAAAAAAAAAAAAAAAAAAAAAAAAAAAAAAAAAAAAAAAAAAAAAAAAAAAAAAAAAAAAAAAAAAAAAAAAAAAAAAAAAAAAAAAAAAAAAAAAAAAAAAAAAAAAAAAAAAAAAAAAAAAAAAAAAAAAAAAAAAAAAAAAAAAAAAAAAAAAAAAAAAAAAAAAAAAAAAAAAAAAAAAAAAAAAAAAAAAAAAAAAAAAAAAAAAAAAAAAAAAAAAAAAAAAAAAAAAAAAAAAAAAAAAAAAAAAAAAAAAAAAAAAAAAAAAAAAAAAAAAAAAAAAAAAAAAAAAAAAAAAAAAAAAAAAAAAAAAAAAAAAAAAAAAAAAAAAAAAAAAAAAAAAAAAAAAAAAAAAAAAAAAAAAAGlyZW0AAAAFkAMAAgAAABQAABCekAQAAgAAABQAABCykpEAAgAAAAM1OAAAkpIAAgAAAAM1OAAA6hwABwAACAwAAAiSAAAAABzqAAAACAAAAAAAAAAAAAAAAAAAAAAAAAAAAAAAAAAAAAAAAAAAAAAAAAAAAAAAAAAAAAAAAAAAAAAAAAAAAAAAAAAAAAAAAAAAAAAAAAAAAAAAAAAAAAAAAAAAAAAAAAAAAAAAAAAAAAAAAAAAAAAAAAAAAAAAAAAAAAAAAAAAAAAAAAAAAAAAAAAAAAAAAAAAAAAAAAAAAAAAAAAAAAAAAAAAAAAAAAAAAAAAAAAAAAAAAAAAAAAAAAAAAAAAAAAAAAAAAAAAAAAAAAAAAAAAAAAAAAAAAAAAAAAAAAAAAAAAAAAAAAAAAAAAAAAAAAAAAAAAAAAAAAAAAAAAAAAAAAAAAAAAAAAAAAAAAAAAAAAAAAAAAAAAAAAAAAAAAAAAAAAAAAAAAAAAAAAAAAAAAAAAAAAAAAAAAAAAAAAAAAAAAAAAAAAAAAAAAAAAAAAAAAAAAAAAAAAAAAAAAAAAAAAAAAAAAAAAAAAAAAAAAAAAAAAAAAAAAAAAAAAAAAAAAAAAAAAAAAAAAAAAAAAAAAAAAAAAAAAAAAAAAAAAAAAAAAAAAAAAAAAAAAAAAAAAAAAAAAAAAAAAAAAAAAAAAAAAAAAAAAAAAAAAAAAAAAAAAAAAAAAAAAAAAAAAAAAAAAAAAAAAAAAAAAAAAAAAAAAAAAAAAAAAAAAAAAAAAAAAAAAAAAAAAAAAAAAAAAAAAAAAAAAAAAAAAAAAAAAAAAAAAAAAAAAAAAAAAAAAAAAAAAAAAAAAAAAAAAAAAAAAAAAAAAAAAAAAAAAAAAAAAAAAAAAAAAAAAAAAAAAAAAAAAAAAAAAAAAAAAAAAAAAAAAAAAAAAAAAAAAAAAAAAAAAAAAAAAAAAAAAAAAAAAAAAAAAAAAAAAAAAAAAAAAAAAAAAAAAAAAAAAAAAAAAAAAAAAAAAAAAAAAAAAAAAAAAAAAAAAAAAAAAAAAAAAAAAAAAAAAAAAAAAAAAAAAAAAAAAAAAAAAAAAAAAAAAAAAAAAAAAAAAAAAAAAAAAAAAAAAAAAAAAAAAAAAAAAAAAAAAAAAAAAAAAAAAAAAAAAAAAAAAAAAAAAAAAAAAAAAAAAAAAAAAAAAAAAAAAAAAAAAAAAAAAAAAAAAAAAAAAAAAAAAAAAAAAAAAAAAAAAAAAAAAAAAAAAAAAAAAAAAAAAAAAAAAAAAAAAAAAAAAAAAAAAAAAAAAAAAAAAAAAAAAAAAAAAAAAAAAAAAAAAAAAAAAAAAAAAAAAAAAAAAAAAAAAAAAAAAAAAAAAAAAAAAAAAAAAAAAAAAAAAAAAAAAAAAAAAAAAAAAAAAAAAAAAAAAAAAAAAAAAAAAAAAAAAAAAAAAAAAAAAAAAAAAAAAAAAAAAAAAAAAAAAAAAAAAAAAAAAAAAAAAAAAAAAAAAAAAAAAAAAAAAAAAAAAAAAAAAAAAAAAAAAAAAAAAAAAAAAAAAAAAAAAAAAAAAAAAAAAAAAAAAAAAAAAAAAAAAAAAAAAAAAAAAAAAAAAAAAAAAAAAAAAAAAAAAAAAAAAAAAAAAAAAAAAAAAAAAAAAAAAAAAAAAAAAAAAAAAAAAAAAAAAAAAAAAAAAAAAAAAAAAAAAAAAAAAAAAAAAAAAAAAAAAAAAAAAAAAAAAAAAAAAAAAAAAAAAAAAAAAAAAAAAAAAAAAAAAAAAAAAAAAAAAAAAAAAAAAAAAAAAAAAAAAAAAAAAAAAAAAAAAAAAAAAAAAAAAAAAAAAAAAAAAAAAAAAAAAAAAAAAAAAAAAAAAAAAAAAAAAAAAAAAAAAAAAAAAAAAAAAAAAAAAAAAAAAAAAAAAAAAAAAAAAAAAAAAAAAAAAAAAAAAAAAAAAAAAAAAAAAAAAAAAAAAAAAAAAAAAAAAAAAAAAAAAAAAAAAAAAAAAAAAAAAAAAAAAAAAAAAAAAAAAAAAAAAAAAAAAAAAAAAAAAAAAAAAAAAAAAAAAAAAAAAAAAAAAAAAAAAAAAAAAAAAAAAAAAAAAAAAAAAAAAAAAAAAAAAAAAAAAAAAAAAAAAAAAAAAAAAAAAAAAAAAAAAAAAAAAAAAAAAAAAAAAAAAAAAAAAAAAAAAAAAAAAAAAAAAAAAAAAAAAAAAAAAAAAAAAAAAAAAAAAAAAAAAAAAAAAAAAAAAAAAAAAAAAAAAAAAAAAAAAAAAAAAAAAAAAAAAAAAAAAAAAAAAAAAAAAAAAAAAAAAAAAAAAAAAAAAAAAAAAAAAAAAAAAAAAAAAAAAAAAAAAAAAAAAAAAAAAAAAAAAAAAAAAAAAAAAAAAAAAAAAAAAAAAAAAAAAAAAAAAAAAAAAAAAAAAAAAAAAAAAAAAAAAAAAAAAAAAAAAAAAAAAAAAAAAAAAAAAAAAAAAAAAAAAAAAAAAAAAAAAAAAAAAAAAAAAAAAAAAAAAAAAAAAAAAAAAAAAAAAAAAAAAAAAAAAAAAAAAAAAAAAAAAAAAAAAAAAAAAAAAAAAAAAAAAAAAAAAAAAAAAAAAAAAAAAAAAAAAAAAAAAAAAAAAAAAAAAAAAAAAAAAAAAAAAAAAAAAAAAAAAAAAAAAAAAAAAAAAAAAAAAAAAAAAAAAAAAAAAAAAAAAAAAAAAAAAAAAAAAAAAAAAAAAAAAAAAAAAAAAAAAAAAAAAAAAAAAAAAAAAAAAAAAAAAAAAAAAAAAAAAAAAAAAAAAAAAAAAAAAAAAAAAAAAAAAAAAAAAAAAAAAAAAAAAAAAAAAAAAAAAAAAAAAAAAAAAAAAAAAAAMjAyMTowMjowNCAyMjozNjozNwAyMDIxOjAyOjA0IDIyOjM2OjM3AAAAaQByAGUAbQAAAP/hCxdodHRwOi8vbnMuYWRvYmUuY29tL3hhcC8xLjAvADw/eHBhY2tldCBiZWdpbj0n77u/JyBpZD0nVzVNME1wQ2VoaUh6cmVTek5UY3prYzlkJz8+DQo8eDp4bXBtZXRhIHhtbG5zOng9ImFkb2JlOm5zOm1ldGEvIj48cmRmOlJERiB4bWxuczpyZGY9Imh0dHA6Ly93d3cudzMub3JnLzE5OTkvMDIvMjItcmRmLXN5bnRheC1ucyMiPjxyZGY6RGVzY3JpcHRpb24gcmRmOmFib3V0PSJ1dWlkOmZhZjViZGQ1LWJhM2QtMTFkYS1hZDMxLWQzM2Q3NTE4MmYxYiIgeG1sbnM6ZGM9Imh0dHA6Ly9wdXJsLm9yZy9kYy9lbGVtZW50cy8xLjEvIi8+PHJkZjpEZXNjcmlwdGlvbiByZGY6YWJvdXQ9InV1aWQ6ZmFmNWJkZDUtYmEzZC0xMWRhLWFkMzEtZDMzZDc1MTgyZjFiIiB4bWxuczp4bXA9Imh0dHA6Ly9ucy5hZG9iZS5jb20veGFwLzEuMC8iPjx4bXA6Q3JlYXRlRGF0ZT4yMDIxLTAyLTA0VDIyOjM2OjM3LjU3NzwveG1wOkNyZWF0ZURhdGU+PC9yZGY6RGVzY3JpcHRpb24+PHJkZjpEZXNjcmlwdGlvbiByZGY6YWJvdXQ9InV1aWQ6ZmFmNWJkZDUtYmEzZC0xMWRhLWFkMzEtZDMzZDc1MTgyZjFiIiB4bWxuczpkYz0iaHR0cDovL3B1cmwub3JnL2RjL2VsZW1lbnRzLzEuMS8iPjxkYzpjcmVhdG9yPjxyZGY6U2VxIHhtbG5zOnJkZj0iaHR0cDovL3d3dy53My5vcmcvMTk5OS8wMi8yMi1yZGYtc3ludGF4LW5zIyI+PHJkZjpsaT5pcmVtPC9yZGY6bGk+PC9yZGY6U2VxPg0KCQkJPC9kYzpjcmVhdG9yPjwvcmRmOkRlc2NyaXB0aW9uPjwvcmRmOlJERj48L3g6eG1wbWV0YT4NCiAgICAgICAgICAgICAgICAgICAgICAgICAgICAgICAgICAgICAgICAgICAgICAgICAgICAgICAgICAgICAgICAgICAgICAgICAgICAgICAgICAgICAgICAgICAgICAgICAgICAKICAgICAgICAgICAgICAgICAgICAgICAgICAgICAgICAgICAgICAgICAgICAgICAgICAgICAgICAgICAgICAgICAgICAgICAgICAgICAgICAgICAgICAgICAgICAgICAgICAgIAogICAgICAgICAgICAgICAgICAgICAgICAgICAgICAgICAgICAgICAgICAgICAgICAgICAgICAgICAgICAgICAgICAgICAgICAgICAgICAgICAgICAgICAgICAgICAgICAgICAgCiAgICAgICAgICAgICAgICAgICAgICAgICAgICAgICAgICAgICAgICAgICAgICAgICAgICAgICAgICAgICAgICAgICAgICAgICAgICAgICAgICAgICAgICAgICAgICAgICAgICAKICAgICAgICAgICAgICAgICAgICAgICAgICAgICAgICAgICAgICAgICAgICAgICAgICAgICAgICAgICAgICAgICAgICAgICAgICAgICAgICAgICAgICAgICAgICAgICAgICAgIAogICAgICAgICAgICAgICAgICAgICAgICAgICAgICAgICAgICAgICAgICAgICAgICAgICAgICAgICAgICAgICAgICAgICAgICAgICAgICAgICAgICAgICAgICAgICAgICAgICAgCiAgICAgICAgICAgICAgICAgICAgICAgICAgICAgICAgICAgICAgICAgICAgICAgICAgICAgICAgICAgICAgICAgICAgICAgICAgICAgICAgICAgICAgICAgICAgICAgICAgICAKICAgICAgICAgICAgICAgICAgICAgICAgICAgICAgICAgICAgICAgICAgICAgICAgICAgICAgICAgICAgICAgICAgICAgICAgICAgICAgICAgICAgICAgICAgICAgICAgICAgIAogICAgICAgICAgICAgICAgICAgICAgICAgICAgICAgICAgICAgICAgICAgICAgICAgICAgICAgICAgICAgICAgICAgICAgICAgICAgICAgICAgICAgICAgICAgICAgICAgICAgCiAgICAgICAgICAgICAgICAgICAgICAgICAgICAgICAgICAgICAgICAgICAgICAgICAgICAgICAgICAgICAgICAgICAgICAgICAgICAgICAgICAgICAgICAgICAgICAgICAgICAKICAgICAgICAgICAgICAgICAgICAgICAgICAgICAgICAgICAgICAgICAgICAgICAgICAgICAgICAgICAgICAgICAgICAgICAgICAgICAgICAgICAgICAgICAgICAgICAgICAgIAogICAgICAgICAgICAgICAgICAgICAgICAgICAgICAgICAgICAgICAgICAgICAgICAgICAgICAgICAgICAgICAgICAgICAgICAgICAgICAgICAgICAgICAgICAgICAgICAgICAgCiAgICAgICAgICAgICAgICAgICAgICAgICAgICAgICAgICAgICAgICAgICAgICAgICAgICAgICAgICAgICAgICAgICAgICAgICAgICAgICAgICAgICAgICAgICAgICAgICAgICAKICAgICAgICAgICAgICAgICAgICAgICAgICAgICAgICAgICAgICAgICAgICAgICAgICAgICAgICAgICAgICAgICAgICAgICAgICAgICAgICAgICAgICAgICAgICAgICAgICAgIAogICAgICAgICAgICAgICAgICAgICAgICAgICAgICAgICAgICAgICAgICAgICAgICAgICAgICAgICAgICAgICAgICAgICAgICAgICAgICAgICAgICAgICAgICAgICAgICAgICAgCiAgICAgICAgICAgICAgICAgICAgICAgICAgICAgICAgICAgICAgICAgICAgICAgICAgICAgICAgICAgICAgICAgICAgICAgICAgICAgICAgICAgICAgICAgICAgICAgICAgICAKICAgICAgICAgICAgICAgICAgICAgICAgICAgICAgICAgICAgICAgICAgICAgICAgICAgICAgICAgICAgICAgICAgICAgICAgICAgICAgICAgICAgICAgICAgICAgICAgICAgIAogICAgICAgICAgICAgICAgICAgICAgICAgICAgICAgICAgICAgICAgICAgICAgICAgICAgICAgICAgICAgICAgICAgICAgICAgICAgICAgICAgICAgICAgICAgICAgICAgICAgCiAgICAgICAgICAgICAgICAgICAgICAgICAgICAgICAgICAgICAgICAgICAgICAgICAgICAgICAgICAgICAgICAgICAgICAgICAgICAgICAgICAgICAgICAgICAgICAgICAgICAKICAgICAgICAgICAgICAgICAgICAgICAgICAgICAgICAgICAgICAgICAgICAgICAgICAgICAgICAgICAgICAgICAgICAgICAgICAgICAgICAgICAgICAgICAgICAgICAgICAgIAogICAgICAgICAgICAgICAgICAgICAgICAgICAgPD94cGFja2V0IGVuZD0ndyc/Pv/bAEMABwUFBgUEBwYFBggHBwgKEQsKCQkKFQ8QDBEYFRoZGBUYFxseJyEbHSUdFxgiLiIlKCkrLCsaIC8zLyoyJyorKv/bAEMBBwgICgkKFAsLFCocGBwqKioqKioqKioqKioqKioqKioqKioqKioqKioqKioqKioqKioqKioqKioqKioqKioqKv/AABEIAWkC2QMBIgACEQEDEQH/xAAfAAABBQEBAQEBAQAAAAAAAAAAAQIDBAUGBwgJCgv/xAC1EAACAQMDAgQDBQUEBAAAAX0BAgMABBEFEiExQQYTUWEHInEUMoGRoQgjQrHBFVLR8CQzYnKCCQoWFxgZGiUmJygpKjQ1Njc4OTpDREVGR0hJSlNUVVZXWFlaY2RlZmdoaWpzdHV2d3h5eoOEhYaHiImKkpOUlZaXmJmaoqOkpaanqKmqsrO0tba3uLm6wsPExcbHyMnK0tPU1dbX2Nna4eLj5OXm5+jp6vHy8/T19vf4+fr/xAAfAQADAQEBAQEBAQEBAAAAAAAAAQIDBAUGBwgJCgv/xAC1EQACAQIEBAMEBwUEBAABAncAAQIDEQQFITEGEkFRB2FxEyIygQgUQpGhscEJIzNS8BVictEKFiQ04SXxFxgZGiYnKCkqNTY3ODk6Q0RFRkdISUpTVFVWV1hZWmNkZWZnaGlqc3R1dnd4eXqCg4SFhoeIiYqSk5SVlpeYmZqio6Slpqeoqaqys7S1tre4ubrCw8TFxsfIycrS09TV1tfY2dri4+Tl5ufo6ery8/T19vf4+fr/2gAMAwEAAhEDEQA/APpGiiigAooooAKKKKACiiigAoorL8R+JNK8J6HNrHiC6+yWEBUSTeW77SzBRwoJ6kdqANSio4J47m2jngbdFKgdGxjIIyDzUlGwbhRRWP4d8VaN4rhu5dAvPtaWdy1rOfKdNkq4yvzAZ6jkcUeQGxRRRQAUUUUAFFFFABRRRQAUUUUAFFFFABRRRQAUUVXv9RstKsZL3VLy3srWLBknuZVjjTJwMsxAHJA/GgCxRSKyugdGDKwyCDkEUtABRVW91Ow0wQnUr23tBcSrDD58qx+ZI3RFyeWPYDmrVABRRRQAUUUUAFFFFABRRRQAUUUUAFFFFABRRRQAUUUUAFFFFABRRRQAUUUUAFFFFABRRRQAUUUUAFFFFABRRRQAUUUUAFFFFABRRRQAUUUUAFFFFABRRRQAUUUUAFFFFABRRRQAUUUUAFFFFABRRRQAUUUUAFFFFABRRRQAVz/j3/knHiT/ALBVz/6KaugrP1/S/wC3PDepaV53kfbrSW283bu2b0K7sZGcZzjIqJpuLSNKUlGpFvufNfgXxTfaH8J77wOty/8Aamri2Oik/KWjvMK+wZziNhISfXmtzwZ4+g+GX7PMF5bIlzPPq1xZ2fn7hGCXY+ZJtG7aAuSAMngDGcj03QvhPo+ky+Fry6mku9T8N2bWkFwqiNZQwIyycnjc2Pm4yetZUHwTsx8MI/CV3rM7T2169/Z6nbxeU9vMSSrBdxyBnB5GexBwRpJ3k38vldW/D8zOKXKr/wBNp3/GxyGnfGbXvFvhrxVpVpJ4eu9Us9Le+ivLOO6S1aAYEqFJVD+YFOVP3SSPQ5568/4SH/hkGf8Atn+zP7L2Wv8AZv2TzPP2/afn87d8uc4xt9817hovhDX10vVLDxp4vl8SQahbm22jT4rTykYENjZnJIY8n2rk0+Cmqt8M9Q8EXfjVrrTJWi+w+ZpihrMJL5hGRJmTdwOSMY444qXazS62/Bv+vvBdH6/jb/IZ4e8f+LtK8Z+GfD3izS9JttM1rTzJZmzleSeDy4w2JWOFJwOdq45GCcc503xm8Xz+H77xxpeh6S/gyyvPs5imlkF9OgYJ5ikfIoyw4I45HPWu7v8A4eC+8ZeFNdOp7B4dt5IDb/Z8/ad6bM7t3y+uMGuXufgQXju9FsvF17aeEL27+1XGhraxs27IYqk5+ZVyBxg9Ocnmrk7yv6/n1+Qoqyt6flrb5lrWfiXr+r+NLDwx8N7PS5bqbTV1O4udYaQRpEwBVQsfzbvmXnn73Tqaofs5PJJ4c8TvPF5Mra/OXi37th2plc98dM1va/8ACqS58V2PiLwd4im8Maha2a2DmO1S5jkgXouxzgEDAyc9BxkZrT+HHw+X4eaZqdlHqkuprfX73gknjCuu4AbWIJDH5clsDOegpRsm35P/ANKTX4L7/wATWyT8vyd/xOxooopDCiiigAooooAKKKKACkb7p+lLQRkEUpapoD5S8E+AtI1D4Ja/4wga50/xHpVxczWupW11JGyCNQwXAOMHJGQM89a7bVvjxe6P4J8I86fFres2Iubi71OOU28KrldxSEFyXZTjaMD6Ve074B6vaaHL4dn+IN1/wjl1cNPdWFppscLyk9R5pdiBwOCCOOldZ4k+FtvqJ0O78K6rN4Z1PQYfs9hcwQrMixEAFHjb74wDjJ7knNN7Ltp+C1+92+4qWs2/8X4vT8LnFx/HrUZ/hTfa/a6bZXGo2OorYTXMSzGyUNyLgqQJRH22nnJHritYfF3UdG+GF34l1waBrM/2lLax/sC7doriR1DBHVxujZQckHnjoOM9NL4R8Xy+FY7I/EG6XWY7jz/7UTTIQrDp5bQ/dK47Z+9yc9KwbT4F6Y3g3W9H1vVZb691q5W6uL+3to7YJKhJQpEuVXqc+uT0zwPr8v0vb8SV0+f62/T/AIcfqHij4k+F/h9rmv8Aiuz8M+da2iTWcdiZztcsAyyqx54PVW6jvnjmvHXibxJq/wAENS8ReKNB0GTRryGzmsLBpZ2lO+RctKyOmMghlCtkZwScHPWP8NPE+o+DtY0DxL4+k1ePULWO2gkfS0j+zbWzuIV8uT0yTn1Jq/4i+Gv9v/B+38C/2r9n8m2toPt32bdu8krz5e4ddnTdxnvSkr3+Vvxv+gR0Sv5/pb9Tn9Y8feKNP8beHfB/hHS9HkOpaItzEbxpI0t3AbklSSUAT7oGT6iuE+IPxD8TeJvhL4q0jVbPS7S/0TUI7TWBD5m2WNpf3TwZzj5k53E/LyMZwNvxjouoTftEeE9L0fWpNKvofD7JDfxwLJtK+aMmNshgccg/nXVw/BKxb4e694f1HWbm81HXrj7Xe6s0SqzTBgykRg4CgjO3POW5GRhz95N97/8ApX+Se44+5JLZrl+Xu/59v+H5zxveaxZ+GPAf/CbaVoGo30uvW8cX2b7R5cKEDaw+dSX9Q2V6cGtjWPiT4v1PxJ4jsvh9pekS2fhdf9Pm1N5N1w4BJSEIQARtYfN3x073b34VazrOg+H7DxB4w/tCfQ9Ujvo7o6YsZkjQACIhZOvB+fk88g9aXxD8I7u88QatqfhTxXceHV16Py9Wt1s0uFueMZUsQYzgtyMnJyMUSu5O3nb7la/438/ImCSir+X5u9v0MfUvjXqlzpngW/8ACujWs58TTywS2l5KytHIjKm1ZBwAGJ+YqcgdBW/8PfG/iTV/GXiHwr4ztNMi1HR1ikE2l+Z5MiuM4+ck55HPH045bP8AB3T428FRaPfvZWnhS4adY5IfNa6LFWO5gV2klSScHr0GK29G8D/2R8SfEHiz+0PO/tmKGP7L5G3yfLUDO/cd2cegqtOby1/4AO/Ku9l993f8LHWUUUVIwooooAKKKKACiiigAooooAKKKKACiiigAooooAKKKKACiiigAooooAKKKKACiiigAooooAKKKKACiiigAooooAKKKKACiiigAooooAKKKKACiiigAooooAKKKKACiiigAooooAKKKKACiiigAooooAKKKKACiiobpisQKkg7uxoAmorO82T++350ebJ/fb86ANGis7zZP77fnR5sn99vzoA0aKyxeBrh4FuAZkUM0Yf5lBzgkdgcH8jRDdi4jEkFwJUJIDI+QSDg8j3BFAGpRVe0Zm37mJ6dTVigAooooAKKKKACiiigAooooAKKKKACiqek6tZa5pkeoaXN59rKWCSbGXJVip4YA9QRVygAorF1/wAQ/wBh3ui2/wBl8/8AtXUFst3mbfKyjvu6HP3MY469a2qPMNv6/rsFFFFABRRRQAUUVi6P4h/tbX9d0z7L5X9kXEcPmeZu83fEsmcYG3G7HU9KANqiiigAorE8M+Iv+Eji1N/sv2b7BqU9hjzN/meU2N/QYz6c49TW3R5h1a7afcFFFFABRRRQAUVVj1O0l1abTElzeQQpPJFtPyo5YKc4xyUbjOeKtUAFFFFABRRRQAUUUUAFFFFABRRRQAUUUUAFFFFABRRRQAUUUUAFFFFABRRRQAUUUUAFFFFABRRRQAUUUUAFFFFABRRRQAUUUUAFFFFABRRRQAUUUUAFFFFABRRRQAUUUUAFFFFABRRRQAVBd/6kf71T1Bd/6kf71AHOavrFzZ6lZadp1nFc3d2skii4uDDGqJt3fMFYk/MMAL68jFY3/Cd+V4esb++trKzuL+d4oUn1AJAoQnLPMUGPunGFbORjqSGeM9An1jWLGV9NmvrSGCRf9GS1kdHLL1W5+TBA6qN2R1xVzT9BvbzRLRdXuZ7O9s5mezng8pZoIzwquFXyidpwQFK9McjNJar+u4Pco33iq51fwJrV1oq2jXNnHNFNJBflo0xFu3xSqh3kAjAIXnIyMV0GjXOpyaYsmr2ttCRErIbe6acuNvJbdGmD+dTR6Xu0qew1G8uNSjnVkke5EasVYYK/u1UY69s80mk6ZLpdv5Emp3l+gVVT7UIsxgDGAURc/U5NPvbyDt8zO8FR+b4ch1SY77vVf9MnkI5JblV+irhQPQUWKjTfHF7ZQHFtfWwvfKA4SUPtcj03ZUn3BPerHh3T7rR4p9LkXdZQPusptw/1bEnyyOoKdM9CNvfIC6XY3R1e+1bUUWKafEEEIbd5cKFsEkcbmJLHHTgds0/tJrb/AIG35fcHRr+tzobP+P8ACrVVbP8Aj/CrVIAooooAKKKKACiiigAooooAKD0NFFJ7AeN6PPex+AfAdvY6hdWAu9dlgme2cKzxk3JKnIIIOB1HHUYIBGhqmtX3gi88bW2k3F5dQadocOpWqX13JdGGZjMrEPKzNt/dqdpOODgcmu7h8I6Jb2em2kNltg0u5N1aL5rnypTuy2c5P324ORz9KsnQtMbVrvUntFe6vLZLS4ZyWWSJSxCFSduPnbtznmjWzXr+Wn46jvqvl+d/y0OA1vQl0nUPA8y6rqV9Lca1Ebh7u9kmSZ/IlO8I5Kx8k8RhV5xjgYqyX2v+IbzxBcQ6Z4okvLK/mtNOfTtRt7e3tjFwhaJrhPN3HDnzUYEMAOOva2XgDw5YS2kkFnO5sZFksxPfTzLalQQBEruRGMHG1QAQBxwMWNQ8G6LqWoS3s0V1BcTgCd7K/ntfPwMDzBE6iQgcZbPHHSn1fz+W3+TF0Xlb9f8ANfccP4v1jW9C1G1FtfSW8+uWKR6nFJM8kejnKp9rTG4KAXKlRhSdrZAVzXW+Lb248I/DTUrrSWmmn0+yPkyXEhmfIGN7M5+bH3juPOOTWkPDOj+bqUj2SzPqkSw3hmdpPNjVSoT5icLgn5RgZJPUk1atdLtLPSI9MjjaSzji8kR3EjTbkxjaxcktxxyTQ9U/67/l/WyQR0a/rt+f9bs4TRxrWm6xY3MeneJbawaOQ6td6zqdvcRsojZhKiLPJsbeB8saqmGPGAuMixvNUt9Y8LaxpyatFpurX6wPPq2syTS3kckLvuNpgwxAlQwKFCMY2KDivQNN8G6NpNwstkl4FRDHHby6jcS28akY2rC7mNRjgAKABwMCoLP4f+GrG4tJoLCRnsZBJZ+fdzSi0IBGIg7kRrg4KrhThcjgYd/eT9Pz1/D0F0fz/LQw/D1lJ40m1jVNT1fVbee31Seztbex1B4Es0hcquY0IV2YjefMDZDAYxxVKw0RdX8ZePvP1DUreOK6gKR2V49th/sifOXjKux/2SxTvtzzXW6h4H0DUtSnv7i1uI57nb9p+zXs9ulzt6eakbqsnHHzA8cdOK0bbRNPs7vULm2t9k2pMr3bb2PmFUCA8nj5QBxioafLZb2t89NfwLTXNfpf9djE8Ia9fah8JtK127Bu7+TSkuJAAAZpPLyeBxkkdvWuQ8M3PiW/sdB1u003xJcX148Et7eXOpWxsZYJCPM2wC4IRVU5XZGH+UZJy2fTdJ0qz0PSLXS9Lh8iztIlihi3FtiAYAyxJP4ms218FaJY6gl3ZRXdtslMq20OoXCWyuTkkW4fyhkkn7vUk9ea0uudy/r+n+hnZ8ij/X9I88h1jUNH8GeIm0nz1nu/GU9oZLby/MjWS4VSU8whAxHygscAsDW5YrrmnSaoLfS9f07SDpU0jPrGpx3TpcrjYY2E8sgypbIJCgopABJz13/CLaKYdTgksVlg1aTzbyCZ2kikcgAkIxKqTgE7QMkZ60yx8J6Xp6XCxNqE63MJhkF5qdzc/IeoHmyNt/DFZSTcOXra3/ktvz1/Qu/v83m3/wCTX/LT/hzzu1g1I+FvAGrL4k1tdQ1uS2gvpzeblkjkt3cgRMDEpBUAOEDdyxYkm1qWtaj4Nm8c2mkXN5cw6dpVtfWi3ty908EknmKzb5mJKjYrbS2OD0ya79PDOkx6fpNilpi30do3sU8x/wByUQopznLYViPmzUv9hab/AGpe6g1or3N/Altcs5LLLGm7apUnbj527c55rWbTcrdW/u6fiJaJeSX33/y0OM0CHXbXxBpr2uleJY7WZXXVLjWdTguI5B5ZKyIi3Emxt4AxGqrhzxwuOa0241GD4QaF4vl1vV7nVlubZC8t9J5bRtdCMo0QIjfKsRuZWfnO7gY9M0vwfpGjXaT6et7H5SlIoH1K4kgiUjGEhaQxoAOAFUYHAxTl8IaGnhmDw8tjjS7dkeO385/lKyCRfm3bjhgD1/Si6vf0/MF2ZzFjo1rL8cdbnee/8yLTbK4RF1GcJuMk4IKB9pX5R8hBUc4HJz6DWVe+GtMv9at9WmjnjvrdQizW13LAXUNuCyCNgJFB52uCOTxyc6tL7KQP4m/62CiiikAUUUUAFFFFABRRRQAUUUUAFFFFABRRRQAUUUUAFFFFABRRRQAUUUUAFFFFABRRRQAUUUUAFFFFABRRRQAUUUUAFFFFABRRRQAUUUUAFFFFABRRRQAUUUUAFFFFABRRRQAUUUUAFIVDDDAEe4pagu/9SP8AeoAl8qP+4v5UeVH/AHF/Ks6qt/qdhpVuJ9UvbeyhLbRJcSrGpb0yxAzwaANvyo/7i/lR5Uf9xfyrLSWOWFZY3V42UMrqcgg8gg+lMtbu2vrZLmyuIrmB/uSwuHVuccEcGgDX8qP+4v5UeVH/AHF/Ks6igDSVVX7qgfQUtYkl9bQ30FnJKBczqzRxgEkqvU8dAMjk8ZIHeiK+tpr6ezjlBuLcK0kZBBAb7p56g4PI4yCO1AG3RVG2/wCPhfx/lV6gAooooAKKKKACiiigAooooAKK5e38cx3jRz2Og61d6VLMIk1S3hjeF/m27wgk84pu43CPGPm+781RweKNWuNb8YWNnp0N9Jogg+w2ySeS1yzweZsZ2JUZbgHAAHXNHS/9f1qHWx1lFQ2cs09jBLd25tZ5I1aWAuH8piOV3Dg4PGR1qam9GJO6uFFFFIYUUUUAFFc9da/dQfEbTtASOE2t1ptxdu5U+YHjkjUAHOMYc549K6Gjon/W9g62Ciiufg166l+I954faOH7JBpkN4rhT5hd5HUgnOMYQdvXmjrb+u4dG/63sdBRRRQAUUUUAFFFUb3V4LDU9OsZkkaXUZHjiKgbVKoXO7n0U9M80AXqKKKACiiigAooooAKKKKACiiigAooooAKKKKACiiigAooooAKKKKACiiigAooooAKKKKACiiigAooooAKKKKACiiigAooooAKKKKACiiigAooooAKKKKACiiigAooooAKKKKACiiigAooooAKgu/9SP8AeqeoLv8A1I/3qAOY8SalqWnpa/2dFiORyJrj7FJd+SAOB5UbBzk8ZHAxyOeFe8W/8Fz3S3UN35lnITNBGY0Y7TnCkkr6YJJB61d1HSrfVBGLmS7Ty87fs17Nb5z6+Wy56d81BN4d06fSY9MKXEVpHnCQXcsRbOc7mRgzZySdxOScnmpkrxa7lJ2kmR6UlzJ4N05LGWGGc2UO154jKg+Rc5UMpPHuKz9K1lNN+HDatJZW8a2kE0ht7KPyYzsZuFXJ25x6nrWpB4esbbSTpsD3qWxIIxqE+9cYwFk37lHA4BA9uTSab4c0zSrOa0tYpmtplKvBc3Ms6EHOQFkZgAcnOOvetJO7bXUzguVJPoMtJdYtLGa91yeykRIDKYLS2dShAyRvaQ7/AEztXPXjpWLoXivVNRvrDzrZ5be+BLLHpV1D9kBUspM0g2SDjbkBckgjjiug03QbHStws/tWwpsEU15NLGq+io7FVHbgDjimaf4b07S7hZbAXcQTISH7dMYUB7CIvsA9ABgdsVPUetin4eUXHiDxDezczrdraLn+CJI1ZV/Euzf8CpPEC/Z/Efh29hBE73b2j7f44niZmB9g0at+FXY9KltPEkuoWciC3vEAvIWzy6jCSLjvj5SD1AX0wVbTJ7nxGmoXciG3tIytpCnUOww8jH1x8oA6Asec8C6f1/V/1H3/AK/q36Gzbf8AHwv4/wAqvVRtv+Phfx/lV6gAooooAKKKKACiiigApkrxxQu87KkaqS7OcAAdSfan0UnsB5ZeJP4E8Pxa/wCA/EMOoeHHnXZo1ztnhcSzKMWsyYdTywVCXXJPAqDW1YD4wFlIDWERGR1H2I16HB4T8OWusHVrXQNLh1Iuzm8jso1mLNncd4G7JycnPOTVqfRdLubi4uLnTbOWa6g+zzySQKzTRf8APNiRll5PyniiSvFx8mv677Di+WakefxWljr3jjR9H8Uww3WnR+H4bjT7G6XfDcT5Ilco3yu6LsxnJUOSMZzVbWNPjl8b6Z4e03SNG1TQY9NkksdO1DUHjtXmExEuEEUquYxtAUgBATjHb0fUdB0fWLGOy1fSrG/tIiGjgurZJY0IGAQrAgYBxUc/hrQrnR49JudF0+bTYsGOyktUaFMdMIRtGPpVSd3fzf43/K/4ERVlbyX4W/O34/fQ8FabqGkeH5LPUBaJ5dzL9lt7S5eeO2iz8sQdkU4U5AG0BRgDgV5x4d0fXNf0GPWF0nQE19b0mbW59Wl+2W8yy4aIj7OSqgfJ5Qk27TjkHn2DT9NsdJsks9Ks7eyto/uQW0Sxov0VQAKp3Xhbw/e6suqXuhabcaghBW7ls43mXHTDkZ47c0faTH9lo8m8epb6jonizxFZ2Oiaa2kTyRJqmoI1xfy3MW3aIXLL9mw+AgBcNnOwZ+bqpLOx8S/FGbTfFsEF9aw6Rb3Gm2N4geGVmZxNKEYbWdfkXOCVDdtxrsJ/DGgXWpTahc6Hps17PGYprmS0jaSRCu0qzEZIK8YPGOKk1TQNH1y2jt9b0mx1GCJt0cV3bJKqHGMgMCAccUlpFLt/lb+vu8xvVv8Arqn/AMD+rHB3mhaJefE/w1pkUEdxpEWg3ax24lLwuglhARhnDoM/dbK8DjgY1vhsEtv+Eo0y2jWGy0/XZobWBBhIYzHG+xR0VdzsQBgDNdVbaPplm9u9pp1pA1rCYIGigVTDGSCUXA+VcgcDjgVLb2VrZvO1pbQwNcSGWYxRhTK5ABZsdTgAZPPAprT7mvvle/3aA9fw/Kx5J/ZWqeJ9T8VNd6Lod7qVrfywwXt/q0sVxpsYGYGiUW7+SNuHDKw3HJPPTVuH1iz8b67LbhLjWYvB8LRlB8slwHm+70yC1dzqnhjQdcuYrjWtE03UZ4RiOW7tI5WQZzgFgSOeatHTLA38N6bK3N3BGYorgxL5kaHqqtjIBwOBxUWfKl5fo1f8bv8AMq/vN/1un+ljzHwjoV9cQ+G9c0vTNAtGdkkudYh1eWe6v42U+YkubdTIxPOGc7WUf3RWRdaJp118OPiDq9zbCbUdP1XU5bG6kYtJZuj71aEk/ujuAJKYyRzmvWo/C3h+HWW1eLQtNTUmYs16tnGJiT1JfG7P41Z/sjTfsd1af2fa/Zrxne5h8hdk7P8AfLrjDFu+evervq36/mv8iFokuzX4J/5nCyaRY+H/AIgeEJNGtltp9Qiuo72YEmS8AhDjznOWkIYA7mJPXnk1znh3R9c1/QY9YXSdATX1vSZtbn1aX7ZbzLLhoiPs5KqB8nlCTbtOOQefYnsbSW4t55LWF5rbPkSNGC0WRg7T1XI44qjdeFvD97qy6pe6FptxqCEFbuWzjeZcdMORnjtzS+1cVny2OHsvDuka/wCL/H41zT4dRSK6h8uK6HmRxn7InzqjZVX/ANsANjjNYunafpniPTvhVeeJtPs9TuLy0aGaa9t1mabFqzKrMwOeQW575PWvYI7G0hmuJYbWGOS6Ia4dYwGmIG0Fj/FwAOe1Vbjw9ot3o8ek3WkWE+mxBRHZSWyNCgX7uEI2jHbjilsren4Fy1f3/p/kaCqqIERQqqMAAYAFLTIoo7eFIYI1iijUKiIuFUAYAAHQU+mJbBRRRQAUUUUAFFFFABRRRQAUUUUAFFFFABRRRQAUUUUAFFFFABRRRQAUUUUAFFFFABRRRQAUUUUAFFFFABRRRQAUUUUAFFFFABRRRQAUUUUAFFFFABRRRQAUUUUAFFFFABRRRQAUUUUAFIWCjLEAe5pagu/9SP8AeoAl82P++v50ebH/AH1/Os6qepanbaTZm6vBP5QOCYLaSYrwTkhFJA469KNgN3zY/wC+v50ebH/fX86yYLmK5s47qF90MsYkRsEZUjIOOvSoNL1Sz1rTYdQ0ybz7WYExybSucEg8EA9QaA31N3zY/wC+v50ebH/fX86zqKANHzY/76/nR5sf99fzrOooA0fNj/vr+dHmx/31/Os6igDR82P++v50ebH/AH1/Ouf1bWbPRLM3WomdYBks8VtJMEAGSW2Kdo9zgVeVg6BlOQwyDQBpebH/AH1/OjzY/wC+v51nUUAaPmx/31/OjzY/76/nWdVManA+sHTYg8k6RebKyjKxAnChj2LckD0Un0yAbvmx/wB9fzpQ6scKwJ9jWDb6nBcandafh47m2CsySDG9GHDr6rnIz6g1p2n+tP8Au0AXKK8+t/iFr0vhGTxU/hiyOjQ+ZJKIdWZroRRuVdhG0CoSApbb5gyB1zxXW3/ibQ9JtLa61fWLHT4boZge8uUhEnGeNxGeCKNwNSiql7q2naapOo6ha2gETTEzzKmI1xufk/dG4ZPQZHrXL+NvFgh+G11rvhLVbafbNAkV3avHOhzOiOAeVPBI9qN3YDs6KzdX8R6H4f8AK/t7WdP0zzs+V9tukh8zGM43EZxkdPWrF5qmn6fprajf31ta2KqGa6mmVIgDgAlycYOR+dAeRaorNj8R6JNoraxDrGnyaWmd18t0hgXBwcyZ29eOtWdP1Kx1exjvdKvLe+tJM7J7aVZI3wcHDKSDggj8KALNFZsniPRItaTR5dY09NUf7li10gnbjPEedx456VysPiTW3tfHDw3+mxS6VqPk2UmqnyraBPJibEjJg4y7HJ559KFrf0v+KX6jO8orO1HXtL0Kzhn8Q6rYaaspCiS6uViRnxkhS5Ge9Jf+I9E0rT4L/VNZ0+ys7jHk3FxdJHHLkZG1mIByOeO1AjSopiyCWASQOjq67kYHKkEcHI7ViaBrjyeGrK78R6nohurgSEzadc5tpQpYkxs5ycIuT6YbsKPUDeoqnpesaZrlobrRdRtNRtwxQzWk6ypuHUblJGeRxUereING0FIn13VrHTVmJWNry5SEOR1A3EZoDc0KKoarruk6FbJca5qllpsEjbElvLhIVZsZwCxAJwCce1SDVtOOkf2qL+1OneV532zzl8ny8Z3784245znFAFuiuL8WeMYX8ESar4N1m0vGS/tbc3FnJHcKN88asnG4ZKv9eQa6XT9d0jVrq5ttL1WyvZ7NtlzFbXCSNA2SMOFJKnIIwfQ0f1/X3gX6Kp6nq+m6JZ/a9Z1C10+23BfOu51iTJ6DcxAzXPeLPEM9qvhWfQ72NrbVNZt4JJYtkizwOjtw3IwcKcj86Fq7eaX3hsm+yb+5XOtorP1DxBo2k3dta6rq1jY3F0dtvDc3KRvMcgYUMQW5IHHrS6hrukaSsrarqtlYrCiySm5uEjEasxVWO4jALAgE9SMUAX6Ky/8AhJ9BFxZQHW9O87UED2cf2uPdcqehjGcuD6jNSat4g0bQUifXdWsdNWYlY2vLlIQ5HUDcRmgDQoqpe6tp2mqTqOoWtoBE0xM8ypiNcbn5P3RuGT0GR61i69470TRvBc3iSDUtPvLNQRA6XqCO4cZ+RXGQW4PAyeDQB0tFUrHWdM1PTP7R07UbS7scMftME6yR/L975wccYOfSl/tfTRb2c51C18m+ZVtJPPXbcFhlQhzhiRyMZyKALlFYPiTWprXT7mPQ9S0WLU7d4PMTVLgrHGsjgDftO5Sw3BPVsdarR+PdEbx1c+F5NR0+O6hhiZAb1N8srs4MQTruUKpxyfnHA7i1DbU6eiuK8FeM4LvR4U8Sa1Zpqd1qF5BawzyxxSTIly8aBE43YCgcAk/WuwubmCztpLi7mjggjG55ZXCqo9STwKA62JaKzrXxBo17q0+l2Wr2FxqFuCZrSK5R5YgCASyA5HJHUdxTD4n0Aa5/Yx1zTRqu7b9h+1x+fnG7Hl53Zxz06UAalFZt94j0PTNSg0/UtZ0+zvbjHk21xdJHJLk4G1ScnJ4GO9F14j0Sx1aHSr3WdPt9Rnx5VnLdIk0mTgbUJyckEDA7UBsaVFZ+oeING0m7trXVdWsbG4ujtt4bm5SN5jkDChiC3JA49adqut6VoVqtzrep2emwM+xZby4WFS2M4BYgZwDx7UAXqK5nwZrF5q515r25W4S21eaC2ZQoAhCoVAKjn72cnJ5raj1fTZtJOqQ6hayaeqNIbtZ1MQVc7m35xgYOTnjFHRPyT+/UFq7LvYuUVk3Xivw7Y30Fle69pltd3Kq0FvNeRpJKGOFKqTkgngY61mz6xfJ8WrLRlnxp8uiz3Tw7F5lWaNQ27GejEYzjmjql3v8Agm/0Dpf+ux1FFU/7Y0z+zotQ/tG0+xTMqxXPnr5blm2qA2cEkkAY6k4qPUvEGjaPcW8Gr6tY2E10dtvHdXKRNMcgYUMQW5I6eooA0KKKKACiiigAooooAKKKKACiiigAooooAKKKKACiiigAooooAKKKKACiiigAooooAKKKKACoLv8A1I/3qnqG6UtEAoJO7sKAOX8Sf2zstf7H+0+VvP2n7EYPtGMfLt88eXjPXOD0x3piXseoeBZ7iKe4uA1pKDJcoqSFgGDBgoCgggjgY44rT1HQdP1cRjVtKtr4RZ8v7TbLJsz1xuBx0H5Ulz4f029sYbO80i1uLWDHlQS2yskeBgbVIwMDjiplG8XHuNO0kynpMElz4N06KG6mtHazhxNCELr8q9N6svtyDWbZ67fW/wANZtZnb7beW1vPJl1C+YUZgMhQB0UZwBW2nhjSI9Nk0+PRLJbKR972y2iCN245K4wTwOfYVJp2gadpHmf2TpNrY+bjzPs1sse/HTO0DOMn86uT5m33JguVJdjPsI72z0qTUJ9Zn1hmtvNWPy4ViY43ZTYgbB6DLNwe/WsTw1qniPUJtMvXivp7O9TfctP9jFvGpUsDF5bmT72Bht3B5wa6qx8P6bplxJPpukWtnNKMSSW9ssbOM55IHPNRL4Z062uZb7TtIsLXUWDFbsWS7g7ZySRgnOeeRn1pdbh0saNcdBJ4i1e+177Dq62/9n33k2kBgTZJ+7jbbKxVjt+bHy4YZPJ4A2VsPFe4btU0sjPIGkSj/wBuK1obJLdpWgtljaZ/MlKR4LtgDccdTgAZPoKFvf8AroPocVqmr69deI9TsdKj1Bf7PSPylsltCsjOm7dL57BiuflwmPut82fu2pLrW7/xLbac9+2kq2lrdXKQRRyOku/BCs4YAevB4HGOtdBqHh3TNXkR9V0e0vnjGEa5tVkKj0BYHFUL3wZYal4gj1DUbG2u4YrT7NHaz2iuqfNu3DPA44xikul/60f62B+Xl+a/4Jk3WoXGqfCHUbq8YSTNYXCmVVAEwUMokAHGGADccc1ra1qJ0/RLVYpLhLi6dIIRapG0rsQThfMIQHAJy3HHc4rRv9B0/VY449U0q2vUi/1a3FusgT6BgcUz/hG9LGmHTRo1n9hLbja/ZV8rOc52YxnPtTeo+3zOSs/FGqW/h/xHLOzvPpdwsUT34h3xhlQky+QdhClieMcDnBzW7Mb7QfDuoai+qXOsyw2rTRpOkSqSqk/L5aKcH3JrXtdJtrCEw2NhDbREAFIYQikAYAwB6cVFp3h/TtIMh0nSbWxMmN5trZY9+OmdoGeppdBLRnOeHbzxDPqFpJcx6hPYXMJeaa8+xhEOAVMXkOW2nkYbdxjng5veEgGGsTSAfaX1ScTHOT8p2oP++Aladn4a0rTrtrrT9Fs7W4YENNBaIjkHr8wGeaItFa216bUbZnjW6jAuYNmRI4wFkB7EKCD6jHpT6/L/AIIuljM1dQvjXw9JCB57C4jkwcEw7ATn1G8R/ia6i0/1jf7tZUGismuT6pcM88zoIYAUwsEXBKj1LMMk98KO1a9qjLKSykDb3FHSw+p4pY2N9afCXTtVvdUvr7w0t1N/bOkFYlT7IZpAzK6IJSFOGZS53KGHTg7t5fSaX4/1fUJ/EPh3R7DUbS2Gm3erWJlhntgnMccvnxpw5ZinJIYHp09YopW0/r+v6Yf1+N/6+R5AU0fw94l+Hn9q6lZ3ljZ6dfNDqLw+XBGP3WxhksI1CnaCW44GeapeJUTUfD3j/W9GKtol3c6fJFNGMRTvE6GedG6MuAoLDgmNuTzXqV94e+2+MdJ177Vs/s23uIfI8vPmebs53Z4xs9DnPatqmu/X/g3DpY861/X7dvG7WTazZeHrafT4ZItRjgikutU3M+IYGkDKwXg7QjsfMGAM5PNaBLBpuhfDzUtfLLoFgt2jz3EYWO0uN+yB5cgCMBd6gkAKSBxxXtVFC02/rf8Az+/UTV3d/wBbf5HlnivUrLUdW0HXvDmqaQujWt7ObzUZLM3VrHc+WqxzOUdBgAMnmFsKSAfbpPAiwz3Gs6nb+ItJ1wX1wjyNpEHlwJIqBSf9bJliAuTn+EV19FC0B6/16/5nk82r2Gi+JJrfQNZ0vW49Q1pHuvDl3ADexTNJ880RyG2qQsg3ow2plXAxjN8TSInhH4u2ryILgXazGHcN4RreDa2OuDg4PsfSvaqKI6K3lb8v8i7+9fzv+f8AmeeSalpnh34qX+peLbqGwiutMt4dLvb1ljgCqWM0SyMcByxViuQSAOu3jIvb9dN8ejWrPWtC0TRbrSYItKvdT09mtwN7tJEj+dEsbH5GKnlgBgfIa9aopW/X8b/5krRW9Pwt/kc54EsodP8ABtvDa6pbarbmSaSK5tIvLh2tIzBY13NhFztX5iMAY4rzTw3bQXfhP4SxXUMc0f8AaM77JEDDcsU7KcHuCAQexAr26irvrf0/AOj+f4nF+H2K/F/xjGuAhtdOkIAxlisoJPqcKo/AVgatc3eifEvXbvVNe0HRIL63gSzudbsGkSWELh4kl8+NQQ+5inJO4Hp09ToqLD7nlTXsHhy38L6W3iHStPszp0uzxNLbIhKb0xb25kZkjJXHDF+EHynGRi6aot/D2lXeom6udAsPFt5NfvdW2womZDFNLHtUIokZWPyALndgAV7fRT63/rdP+vvF9nl/rZr9TzL4har4c8SfD7Un0S60/U421Cwiu5bYrKkn+kRYVmGQ3ynGMnHSta/jjtfjN4aitY0hj/sS+j2xqFARZLfavHYdhXb0ULR3Xn+KsD1Vv63ueb+MZb3S/iZY6tcatpWkaeumNDbX2rWTTQQzGTMi7xLGI2ddmCT8wUge+VfQW9j4c8N3ya3p+pWH/CXJeSXllGILWFX8wELmRwF8xuu45L167RRH3beX+dwl7yfmv/beU8gu5ZdM8T+LrbX/ABD4d0RdVuPlOuacz/bLUxKqiOQ3Eauq/MpQA7WJJ+8M6nh7TYoPi3p8dxOmpz2XhC3SO/kiAaQ+cymQZyV3Drz3r0uiiPu2/ro1+oS1TXf/ADT/AEseLNY2ln8B/EklpawwO2sXTloowpLJfkI2R3AVQD2AHpWrqlzd6J8Sdcu9U17QdEgvreBLO51uwaRJYQmHiSXz41BD7mKck7genT1Sik1r/Xawd/663PK9O0m1tvGHw8tDc22rRWum3z210kAVMDythRSW2gKdo5JAHWquqRzSaD8V4bWGSYpqCSrDCmWP+jQM2AOp4Jr16inrr6P8XcOiT8vysUdK1bTNf00XWkX1rqNo2UMttMsqZxyuVJGeelePx6dcXWm3mh2yiS58Bxzy2yDP+t84SWoB9fJjK/STvmvbqKOt1/T6P5dAW1n/AEu3zPG9Vni1j4baz4nhJePWtetJIGYY/cRXMUMePY7GYf79dUNSstH+M+oDVrqGy/tPS7OKyNzIsYuZFlmDJHkjcw8xPlHPzD1ruqKaaW23/AsLdWf9a3PEzbW9t+zr4ruYLeGOeS+vpnkWMbndLxtrE45I2rgnpgeld38VDn4P+JC3OdNkz/3zXY1keK9C/wCEn8I6non2n7L9vt2g87y9/l7hjO3Iz9MipeqsXFrmT83+LOJu7rRdc1vwTY+EJLSa80e8Es62ijOn2wgdZI5AB+63EqmxsHI6fKcc14g1lNU0C5Q6tb6ddW+sxlPDem2kYkh23ozNcZVpAT9/zF8tcsBltwJ9vhj8qCOPOdihc464FPq2/ev53/L/ACIV7K/a35/5nk/i3V9P8Pa5r15ous6Xd3940S3/AIY1ODdJqDKqIFtzkOSyfKPllQtxgENSa1rFhoGvavNoesaZqFzqF7Ab/wALX8Ia5mmxGn7ggh/uBSMpIuVyCoya9ZoqVpb+u2n9foOWqZ5Bdyy6Z4m8XW2v+IfDuiLqtx8p1zTmf7ZamJVURyG4jV1X5lKAHaxJP3hnQtZ7Pwr440i58WavC1jH4ditdP1e9IhieYN+++ZjhXdRG2CckA4zg16fRQtEvL9E1+oPW/8AXVP9PuOG+F/kGDxO1nF5UD+ILl41ERjBBVCCAQODnIPfOe9YeoWzw+IbrwBGM22saompbdvAsn3SXC85BBljKn2nFeq0ULS3kkvut/l+guj82399/wDP9Txvxvq0V5a+NtLn1S20N44pVi0mzs42vNVP2dcTOHV2ePHGY1BUISXG043rSYR/FPwvJdSqhu/C80URkcAzSB4XKjPVtoLY9AT2r0aiklbf+tGv1Keqt/W6f6Hh66zp8vwY0PQY7qN9WsNRsYryxXma1ZL1A3mp1jGRjLYB4wTkZ1L2efSfGXiyLXvEPh3RI9UlUQtruns4u7XyVUIkhuI1ZVJcFACQWJP3xXrlFD1v53/G3+X5j5tb/wBf1r+Rl+GLT7B4T0q0+3HUPIs4oxdlSpnAUAPgkkZ68k/WtSiiqk+ZtkJWVgooopDCiiigAooooAKKKKACiiigAooooAKKKKACiiigAooooAKKKKACiiigAooooAKa7rGuXOBTqgu/9SP96gB32mL+9+ho+0xf3v0NUaKAL32mL+9+ho+0xf3v0NZd5dw2FjPd3b+XBbxtLI+CdqqMk4HJ4FSRyLLEskZyrgMp9QaAND7TF/e/Q0faYv736GsDTNWGq3N4LaE/ZbaTyVuC3Esi5DgD0U4Ge53emSaZqw1Ca7tpYTb3dnLslhLbuDyjg91ZefzB5BoA6JJEkzsOcdeKdVWz/j/CrVABRRRQAUUUUAFFFFABRRRQAUUUjsERnc4VRkn0FGwC0Vxemaz4r8VaUuueHn0ix06cF7K2vreWWW6jBO12kSRRFvHQbJCowTknaNvVPFOm6LNb2upPMb6aMyi0sbWa7kCjALbIkZtgJxuIAzjvxRtuBs0ViXHjLw9a6ZYajNq1sLLUZRDa3AbKSuQxCgjoflIwe4x14qTSvFOk6yLv7JPLG9kAbmK8tpbWSFSMhmSVVYKQDhsYODzwaNgNeisDTfG+g6tc+VZXUxVo3ljnms5ooJkT7zRzOgjkGDnKscjkcc0WHjfQtSvo7S1muhLNG0kBn0+4hS4VQCTE7oFl4OfkJyORxzQBv0VyPg7x1b+JbTUZblJ7b7HdXK+bNYT28QhjlZVLPKoXdtALLnIOcgYIGnpPi/RdbuxbafcytI0ZliM1rLCtxGMZeJnUCVeR8yFhhlOeRk6XB6NrsbdFczafEXwvf/ZGs9SeaC8ZY4rpbSbyN7HAjabZsR88bGYNkgY5GbOr+M9E0O5mgv57kvbxiS4NtYz3C26kZzK0aMIxgE/MRxz0oDrY3aK5DV/HlvpnjLR9KSO4uLW/tJrhpbbTri4zgx+WUaNSpU7m3EZx8ucZGdHUfGug6VfyWl7eOJIdv2h4raWWO13dDNIilIRjnLleOenNG4G9RVbUNRs9K06a/wBRuEt7WBN8krngD+vsBya5TxD8R9P0/wAJanqempdtdWaLi3utKukYFs7GaMorhDtYb+FyCM54oA7SisKTxnolvZ2lxeT3FoLxnS3jurKeGWRl6qI3QPuPRRjLEgLkkVVs9bW58XXDjW5RZrpSXJ0ifTHheEF2/fl2AbJ2lfLIyMZxzR/X4XDdXX9f1c6eiucsfH/hrUprFLHUGmj1AhbW5FtKLeZyCdgmK+Xv4Pybt2QRjIxRrnj7w74dnuYtUu7gGzRZLprexnuEtg33fMaJGVCRzhiDjB6EUbbgtdjo6K5+78b6JZfZhM980txB9oW3h0y5lmSLON7xLGXjGeMuBnB9DW5b3EN3axXFrIssMyB45EOVdSMgg+hFAElFFFABRRRQAUUUUAFFFFABRRRQAUUUUAFFFFABRRRQAUUUUAFFFFABRRRQAUUUUAFFFFABRRRQAUUUUAFFFFABRRRQAUUUUAFFFFABRRRQAUUUUAFFFFABRRRQAUUUUAFFFFABRRRQAVBd/wCpH+9U9RXKNJGAgyc5oA4nxVdrDqmmQ6nfy6do0olNxcRzNADINvlo0ykFAfmPVclQM9jX17VtNsPDumpZXvnWV3OY47t9YeKI4Vm+e6G5wMrgYOSQBnGRXa/Zpf7v6ij7NL/d/UUdLD6nmtnFP4g+HfiC3llubgwSXC2iw380m4GIMqiU7WlQl+NwIII6jFdH4Uk0ibSCdB1Q3reUnm7tQkuvKbbwCHdtnfjjp7V0/wBml/u/qKPs0v8Ad/UUdGu9vwF2+f4nNeBSn/CD6Yi8PFD5cw7rKpIkB99wbNEY3/EW4eHGI9MRZyB/EZGKDP0D/nWxaaGtjfXdxbB0F2wkki3DYHAwXA7EjGexwD1ySadoa6aJzCrvLcytNNNIwLyMfU+gGAB2AApvWXMHS39dzRs/4/wq1UFtG8e7eMZxjmp6QBRRRQAUUUUAFFFFABRRRQAVHcQrc2ssD/dkQofoRipKKTSasxp2d0cB4X1mbwb4VtPDmtaPrE1/pcItoWsdOluIrxF4jdJUUom4AZEjJtOc8YY2GupfDvjzUdX1PTdSks9WsrZYpbWze7e3eLfuhdIQ7D7+4MMrndz0z29FNtt3e5NlseT2vh/V4IfD1xPptxD9o8XTam1qq7zZQSLNt37cheoJ5wGfFXPFPhzV9c8S+NbXT4pYhqPhu3tradwViklDz5TfjGcMAfQNXplFHSy/rSxV3e/9buX6nJWXiuW80k2WkaDqlrqsdlIY7e90+WGCKVFwsZmZRGwLYAKMwIGc4rj7C0u9S8ReDdRaPxTf30N60mqXWpQTW8FuTayDaIGCRr8xADxoRxguSw3eu0U07S5ibe7ynlq6XqF94I8XeD1tLy21W4ur6e3Z7ZxBPHJKZExOVMXzBgpXJI5yODV7QrdNU8QaVLfar4vnu9P3ypa6lpMdvBC5iZGVpUtkV8BiBtkIJAIyOa9EoqUrK3lb7lYctW35t/eeSW2j6qn7PWj6f/Z14uoRXFqzW3kMJUAvFYkrjIwoz9Oa0/Eh1HUPEms2OsJ4ie0WBf7Is9HSWKG5JiO55LiLbht+5dkkiJgKdpJBr0iinL3r+d/xKTseW6TDe6BbfDzUtQ0zUDb2ehPZXawWUs0tvK0cJUNEilxzGwJ28HrioDpV5pd34gsNX1bxXbW+p3s9xCNL0mK7huYpuxYW0jIwHyEOy9ARx09ZopzfPJyfW/4u5KuopLpb8NDndcsNOj8CDTtQstQ1KwSGKJo7dGa42qVw+Ew25cBvl+bI4BOBXE3MPiTV/BvinS7N9W1qwSyi/s6bV7L7Jdyyjl4sMkZcYVSHKDJYjLY49YopPW77gkkkuxweqTyeIPFvgfUtOsdR+zW17dfaGuLCaAw5tXALLIqlQSQASME9DUt1YXjfE3XLpbSc28vh2KGOYRnY8gklJQN0LYI468iu3opSSl+P4qw4tr8Pwdzy0aVqi/CLwFaJYXYu7W80o3EIhbzIVR13l1xlQBnOenequqRsPEfjDS/tl9ZaVqtwq3kdnoVzqMjhrdFkaOeHKwsw+XY6sRjdjDCvXK5qfwZ/pl5LpniHWNKhvZDNcWto8Jjd24ZgZIndCe+xlGeRg5NU225Pvd/fy/hp/wADsl7qVulvwv8Ajqcxr17pV4YdZ8M3XiKyvDpoWy1TR9NkvYbpMNtikQRup2sc/OEILEBh82O90KXUp/D+ny67BHbanJbRtdwxHKxylRuUcngHPc/U1JpemWejaXBp2mw+Ta26bI03FsD3JJJPckkknk1bovv/AF/XmLt/XYKKKKQwooooAKKKKACiiigAooooAKKKKACiiigAooooAKKKKACiiigAooooAKKKKACiiigAooooAKKKKACiiigAooooAKKKKACiiigAooooAKKKKACiiigAooooAKKKKACiiigAooooAKZJIIly2cZxxT6gu/8AUj/eoAPtcfo35Ufa4/RvyqnRQBc+1x+jflR9rj9G/KqdFAFz7XH6N+VH2uP0b8qp0UAXPtcfo35Ufa4/RvyrHsdTh1C5voYVkVrG4+zyFwAC2xXyOemHHpzmq13qso1+10mwjR5Sn2i6d84hhzgdP4mPA7cMe2CdvMDoftcfo35Uq3SMwADZJx0rndS1aXS9VsVuI0On3ji384Z3RTH7m7ttb7vs2Ou7jXi/1yf7wo6XA0aKKKACiiigAooooAKKKD0oAKK8lg1jxJH8KZvGcvjC7+2QiaVLKe1tTbTMkrKsOFiWQ78BRh92WGM9K7e78YC3uRZ2mi6lql/HbpcXVtZLHm1VhwHaV0XJwcKCW4zjFHQDo6K5m48eaXHNpMVlb32oyaxbSXFklrBzIE25VtxXyz8/8e0AggkHAJbePdKfTNSutQiu9Ml0qZYLyzuog00bvjywBGXD79y7dhbOcdeKAOmorB07xXHd3ctnqGlajpF4lubpLa7SN3miBwzJ5LyBsEgFc7hleORmC28aCTU7Wxv9B1bTJb5JGsjeLABcsi7ig2SsUfbkgSBOh9DQB0tFcf8AD3xPqfiTTruTVNMvoPLvbqNLm4NuEKpO6LEBHITuUAAkjB2nDN1O1Y+IrS8utXt3jmtZNIl2XAnCjKlA4kXBOUIPBODkHgYoem/qHWy9DWorlo/G8l1ptpeab4V1+9W5tVuykcMMZiRs7QTJKqsxAztQsQMbgMjONrOq2mueLfhvqmmyGW1u7m5liYqVJU2knUHkH2p2adg6XPQqK52Xxrp0XhfWteaG6NroslzHcIEXe5gJD7Buwc44yR74qTUfFcFncWlpZ6ffapf3cP2hLOzWMOsXGXZpHRFGSBy2STwDg4QPR2ZvUVzMnjqwa1sDYWV9f3t88scenwLGs6tEcTB/MdUXYeDlupGM5Fbmm3x1HT47lrS5s2bIa3ukCSRsCQQQCQeR1BII5BIINAFqiiigAooooAKKKKACiiigAooooAKKKKACiiigAooooAKKKKACiiigAooooAKKKKACiiigAooooAKKKKACiiigAooooAKKKKACiiigAooooAKKKKACiiigAooooAKKKKACiiigAooooAKKKKACiiigAooooAKgu/8AUj/eqeo54zLGAuAc55oA4jxDo41bxjoIubaSeyjhuvPADeWciPCyY4IOD8p4OOhrO8SeH307TNPtNMiMukpeSSXFtJZteRorAlV8iMqzRqx4UZxwcEDj0D7JJ6r+dH2ST1X86VtP673GeV6haJZ+CQJJp2tJNatmEFvptxZeQhkQMkURJkAPJG3uxxWh/ZdyLDxC/g+wk020uLSNbaAW5tS843b2WNtpUldq5O3JHXjNd3faHDqUUcd6iyJFMk6Dcww6MGU8ehA46VZ+ySeq/nT3i1/WyQuq/rrc8+8J2AttUkubFEt1W0ZXs7fQLjTkmbIKlmkYqzDkAjn5jzis3w/aXM/ibSL3+yEtDIsgv/L0aa2Zd8ZOyaaRj5/zD72MEjJIJAPqf2ST1X86Psknqv507h0scDoeiaNo3izUY5fD0cM8l4sthcQ6WWRIzEg4lVCsfzK/BI6571rWzC1+Id/HPwb6xhe3Y/xCNnDqPpvU/wDAq6j7JJ6r+dV7rRYrx4HuY0d7eUSwtkgowBGQR7Eg+oJBpdgfU5/xj+/0y0sI2xc3l9brCB1+SRZGI+ioxro4v9cn+8KYdGibUVvmjQ3KxGJZCSSqk5IHYZIGcdcD0FWktXWRSSuAc9aFsBaooooAKKKKACiiigAoPSiigDyOw+GlxpPg3S9X0vQ7O38ZaTdy3a7ViV7wGR90Lyjg742wCT8px0wa1NQ8L3UXizUNbfR9evrfWI4ZWt9K1xrSa1lSMIVdRcRRsuAuGDMQQR0wa9IooA8uvIH8P+NvBEWkaHcFYdO1AnT/ALWrzLkxEgO77Xbcf4nA5PPYyan4G1bxPb67q11bnTtQv7uymtLJ7woyx2rblWSWEnYzkycoW25UgkivQJ9IsbnWLTVZoN17ZxyRwS72GxZMbxjODnaOo7cVdo6f13uPbRHn1hoNzIt/c6XoWu6PrK6dNBZX2uayb1I5HAwFX7RNgblUk7R90delZekeD7tfE3hTU4vCMunz2E8h1TUtQvIZ7yctbOgJkV3aRNxA5YEfLhAvT1WimpNO/wDXX/MT1VjkfA9nqmh/b9G1HS5liF9dXcOorJEYJUlmaRVA3+YGAfBygHynk8ZzvHHhXVdT1k/2JbhrXXLVdO1eTzQhiiWVWD4Jyf3bTp8oJy69gSO/opdvIO/n/wAP+ZwPiHQLy88WyHUPDr+ItHa1ijsLRrmJbO1lG8O08TsN3VcOEkZQDhc9aGk+Etb0vSPh0JNPLy6FNIl9DDLH+6V4ZI94JYBlUsCQMnHQE8V6bRQtA/r8LHl2paF4lHhLxl4XtdBkuG1Wa9mtL8XUKwOs4LBSC3mBwWK4KbSQPmAORc1vwjdJ4ktNcFhquoxSabFY3NrpWrvZTxPGWZXGJokdfmYEF8g7SAcmvRaKSVrfL8E1+o27tt9b/i0/zR57c+H7YaDZW58Catcw/aJLogauhv7SctkSCZpwcsAclZsjIGGBOOj8FWmsWPhW3g8Qyyy3avJt8+USypEXJjSRxw7qm0MwJyQeT1O/RT2EFFFFABRRRQAUUUUAFFFFABRRRQAUUUUAFFFFABRRRQAUUUUAFFFFABRRRQAUUUUAFFFFABRRRQAUUUUAFFFFABRRRQAUUUUAFFFFABRRRQAUUUUAFFFFABRRRQAUUUUAFFFFABRRRQAUUUUAFFFFABRRRQAUyaXykDYzzjrT6gu/9SP96gBn2z/pn+tH2z/pn+tZd7qun6aM6jf2toNhfM8yp8oIBPJ6ZZRn1I9aSXV9Nh0xdRm1C1jsWAIunmUREHod+cc/WgDV+2f9M/1o+2f9M/1rLh1XT7ixS9gv7aW0kYKk6TKY2JbaAGBwTu4+vFMh1vSrmKWW31OzljhkEUrx3CsI3JwFJB4JJAwaANf7Z/0z/Wj7Z/0z/Wsiz1zSdQmWKw1OzupHQyKkNwjllB2lgAemeM+tFtrWl3t9LZWepWdxdw58y3inVpEwcHKg5GDxQBr/AGz/AKZ/rR9s/wCmf61zVhqGpf8ACWXul38trNDHapcwtDA0bKGd12tl2DYCDkAfSpDq/m+Ko9OtNQ0p0jic3VqZs3StxtIQHhcHnI7ijewPQ6H7Z/0z/Wj7Z/0z/WsS+8R6Jpdz9n1PWNPs5tobyri6SNsHocEg4qa+1jTdLt459S1G0s4ZDhJLidY1c4zwSeeKANX7Z/0z/Wj7Z/0z/WsPW9X/ALL0Vry2jF1LIUjto1biWRyFQZHYkjn0p0ltqY0DyYr9Tqaxg/aTCNjSDnlOynpjqAeueaA6m19s/wCmf61YjfzIw2MZ7Vz2iaous6NBfLEYWkBWSJjkxyKSrrnvhgRn2retv+Pdfx/nQBLRRRQAUUUHpQAUV4XpmraddfDuS5sfFupT+NgZza2dvrs1xO86yt5aG0MjIVwACCmAuScYyPS5vE2sTahNpeh6Nb399YwRvqDXN99niikdciJWVJCz45wQAAR83OKFtcP6/r+u51NFec3HirW9V8beGJfD1nA1je6ddTGC71F4CWVogwkRInXchyBy2SW5HfqbPxL9rvPEUH2TZ/Ykoj3eZnzswrLnp8v38d+mfak2krvz/AaV7WN2iuJt/iDcXtp4WNjooluvElhJdQxNdhUhZUjbaz7fu4c5YDI28KxOKsf8JZrU3iO68P2OgW0uo2dnBdTSSakUtl8wsCm/yi5IKHB8vBGc7eAaaadmLdXOuorJ8L6/H4n8N2uqxQtb+duWSFmDGORGKOuRwcMpGe/tWV8Pby5vfDF1LeXEtxIuq38YeVyxCrdSKq5PYAAAdgKT0TfYDq6K8y8J+M73Tfhl4Onu7e61q81i5NmXe5Hmbj5rBiznkDYAcnp0zgA6WpeJ2udG8WaR4q0SBZ9O0o3c1ra37SRXVu6ScCXy0ZSTG6n5eOCCexL3b+RUY3aXf/Ox3dFcXZ+Jja2eg6D4V0dbi8n0qO7S3uL1o4bS2Cqq75truSSdq/KS2CTjGat3HinVo5tP0uHQY2167SWWS1kvttvBFG20yNMEY7WJXaAm47uQuDhyVnb+v60Ii7q51NQve2sd9FZyXMK3UyNJHA0gDuq43MF6kDcMntketcm/xDgtNI1J9R06WLVtNu4rCTTYZA5lnl2+UI3O3cj7wQxC4GcgYIrM+1apN8ZPD/8Ab2nW9jOmk35U2t4biJkLwfxMkbBgRyNuMEYJ5AXX+u1x9P672PRaiuru3sbSW6vZ4ra3hQvLNM4RI1HJJY8AD1NclB46u5rOLWv7FRfDU06wx3pu/wDSCrOI1m8gJjyyxBz5m7ad23tVf4tSX6eE7NdPtredZNWsVlWe4aIH/SY9o4RsgtgHPQc4bGCLVpd2l94HZWOoWeqWMd5pl3BeWsozHPbyCRHGccMMg8irFcrL4m1ufVJdL0XQ7K7vbKBH1FptSaKCGRxlYkcQs0jY55RAAV9cCu3xEgl0jRL6w0y4nbVdQfTjbSSLHJbzKJNyt1UkNEVPOMHIJ6EDX+vvOyorkLjxbrdv4gs/D/8Awj9rLq91YyXn7vUj9miCSBcNIYg+CGHKxk7jjGMsM4/EjVF8PXutSeGFhstInkg1Qyaiu5TG+2QwBUPmgYJ+fyieMDmha/12dvzD+v1PQKKzda1y00Lw/Pq92JHghQMEjALyFiAqqCR8zEgAEjk1j23irVLXV9N0/wAU6LBpr6sWSzktr43K+aqFzFKTGmxtoONu8Ha3I4ydbB0ubq61pbaw2kLqVmdSSPzGshOvnKn94pndjkc471drg/hpLq0t14mbUrGygRtZuC0kF48rmQBF24MS5UKAA2c8Y2itCPxhf3/inU9K0XSbW6j0maOG887UBFc/OobfHDsIZMNwzOmSrAdMkWqXmk/6+8V9/JtfcdZRXC+F9W8RXHjbxXDfWtqbC1vUUH+0pHaEfZoyoSMxAYbIY/MMFm+9jJzda8Wf8JH8Ib7Xda8MRTaBPpone2fU2SaZtw+T5E4T/b3BuPuDNLdXRfLrY9MorlLzxTfW/iseGNE0VLu5XTY71Jri98mFVMjIVdtrOPujBCtknnaOarj4gq3hi2vhpp/tO51JtJjsfPGz7WrshBl28R/Izbtudv8ADk7afp/WtvzJ9f60v+Wp2dFcv4d8R63qfiXU9J1nRrCw/s5I2aS21JrgyeYMqQphTA4YHJByvTBBrqKACiiigAooooAKKKKACiiigAooooAKKKKACiiigAooooAKKKKACiiigAooooAKKKKACiiigAooooAKKKKACiiigAooooAKKKKACiiigAooooAKKKKACoLv/Uj/AHqnpk0XmoFzjnPSgDkb3SZbnx5pWpG2WS3tLO4TzW2kxyO0eMA85Kh+R7+tY9roup6db6ZdHTmumsb+9la0jlQPtlkfZIu5ghIVuhI4Y9+D3/2P/pp+lH2P/pp+lHRL+t7hv/XlY881Dw3f6nourltPEZ1TUre4+wSPGSkaNEHLkHaSwQsQCe3JNafizwzFqOjXQ06xSS7nFtC67gqtFHMH24J24ALfy9q7D7H/ANNP0o+x/wDTT9KFpsO7OFsNAv7TXxeR2kcebu+lZyy4IkCiMtg5OduPUAdqp6NpfiKbWtCutVt7yNLEOJ0nNosUTNEVxCIRu2Z4+Y5xt4PJHo32P/pp+lH2P/pp+lC0E9TjbaTUz46mvZNAvorSa0jtRM0tuQpWR2LECUnbhh0BPtRqUmpt4z0+7g0C+mtbOKeF5kltwH8wx4ZQZQcfIc5APsa7L7H/ANNP0o+x/wDTT9KFpbyB6ts5LX5NRm1W3thot7e6ZGBNIbaWAedID8qMHkU7RjJ9TgdAQaeuabq7+JYNYsV1IRvYi3aKxa086Ft+45E4K4OQDtbqg6jBHc/Y/wDpp+lH2P8A6afpQM4W90p9L8D6f9lt7x/7LuY7xrecoZtiybnXEXyEhS2AvHAArp5NTsotKOpvdRCyEXnefuymzGd2fTFaf2P/AKafpUP9jWv2ZbfyofIVgyxeUNoIO4HHTIIz9aO4utzB8I2s1t4eR7qNoZrqaa7aJxgx+bIzhSOxAYA++a6m2/491/H+dRfY/wDpp+lWI08uMLnOO9Aeo6iiigAoNFFAHnyfD/UYfh3pun29zaxeIdHuXvNPugzGJZTI7bWON2xlcowx0J64FJqvw/8AtPiS511vDPhnXJ9Sii+1W2rceRKi7d0UxhkLKQANpRfu5zyRXoVFIP6/U4u58MarZ3vh7U/D9ho8E2l289tLpiytb222XaT5brExGGQcbOcnp3cfD/iGz8Qa9Jp39mSWGulJJJZ5pBLaOIREwEYQiUEIpHzoRk9a7KihpNWf9XGm1scJovgfUdNm8CtNPasPDmnTWt1tZv3jPEiAp8vIyh647VtWGgXVr8QtY12SSE2t9ZWtvGisd4aJpSxIxjHzjHJ79K6Gircm3d/1cmySsc94F0C68MeFI9Mv5IZJkubmUtCxK4kneReoBzhhnjrmsy20TxT4dOo2XhtdJurC8upbqCa+uJIpLN5WLOvlrGwlUMSw+ZDztPTdXaUVFir/AOf9fecUfAclnpHg7TNMnjaHw/exzzPNlWlURSKxAAI3FnzjgdeaNb8G6hqWteKbuCa2WPWNATTLcOzArKPO5bC8L+9XkZPB4rtaKcvevfrf8VYItxaa6W/B3/M4hPCut6Nf6Rq2hNYXN5b6VHpl/Z3czRRTIgyrpKqMysrbuCpDBuxAqxc6N4kbVdP8R28elHWIbeW0urJp5FglhdwyhZvLLKyFRzsIbLcLkY6+im227+v43v8AmyUklb0/Db8kef3fgDU9QsdT1G5vLWPxDeahbajDs3Nb27W+PKh3YDMuAwZ8AneTt7Veh0HxBqXjrTtf12LS7SCzsbm0NpaXMk7N5pjIfe0acfIRt2jGM5bdheyopabf1tb8h/1+N/zPNNF+GcWgSW1lF4Q8IajbW0wMWq3EYjuxHuyNyeQwaRRxu8wZwGwOldb4w0O58QaLBaWTxJJHqFpdEykgbYp0kYcA84U49/St6imm1Z9g7nKXGja7pHifUdV8MQ6beRasqNdW99cyW5jmRQiyK6RybgVABUgYKgg8ms+H4f3dnYeHYYr2G4nsNafVb+eRTH5zSCUvsUbsfNIAAT0HWu7opLS39eYPX+vK35HPTaBdSfEu08QrJD9kh0qWyZCx8wu8sbggYxjCHvnOOKxrvwRqU/w88VaCk9qLrWLm9mt3LtsUTOWXcduQQDzgH8a7qihaK3r+Lv8AmO7/ABT+5WMXxD4dXxB4Tl0eWbyJGSMxzhd/lyowZGxxkBlBxxkcVkrofiHXtb0a88VJplnBo8puUh0+4kn+1TmNkDMXjTy1UMxCjfkkcjbz2FFPrcm2ljD8MaLc6L/a/wBqeJ/tupzXkflknCPjAOQOePf61z3ivwnrXie/KyaboMTRTo1lrqTyLe2cYZW+VBHy3DDiVVOeR1B72iktLeVvwCyaa73/ABOVstD1jS/GGs3VstlcaXrMiTSPJcNHNbOsIjICCNlkB2Kcllxk8HHOW/gXU2+Bh8GCe0/tH7B9m83e3k7s5znbux/wGu+oo6WKu73Och8PXcfxJfxAZIfsjaOlgEDHzPMErOTjGNuD65z2rj9Z8PTaT4Zj0S+e0muNY8TyXFtEZ5IUkDSNOqGdRvhfCcMoJ3AAZzXqdV7/AE6y1WxkstUs7e9tZcCSC5iWSN8HIyrAg8gH8KO3l/nf8xL+vkuX8jjvCd2dG8VS+GrrRrW0vLi2N/JcW2rS6jI4DBP38k0ayAnICZLAhWAxtxXc1R0rQ9J0G2e30PS7PTYHfe0VnbpCrNjGSFABOAOfar1Pov6/rsIKKKKQwooooAKKKKACiiigAooooAKKKKACiiigAooooAKKKKACiiigAooooAKKKKACiiigAooooAKKKKACiiigAooooAKKKKACiiigAooooAKKKKACo55DFGCuM5xzUlQXf+pH+9QBF9rk9F/Kj7XJ6L+VYup+IdM0i6htb6d1uLhGeGGOF5XlCkA7VQEkjcDgc4yegJCjX9OfSY9Simklt5WKoIoJHkZgSCojCl9wwcjGRg5xg0dLgbP2uT0X8qPtcnov5ViR+I9Ll0mXUluSttC5jk8yJ0dHBxsMZAcNkgBcZORgHIqnouutqviDVY0NwtpbxQGOO4tXgZS2/ccOqsQcDk8ccUAdP9rk9F/Kj7XJ6L+Vc34XuLnVLOTWrqV9t+d1tBu+SGAE7OP7zA7ifcDoBRpVxc2niG+0e7leePYLu0lkbLCNmIaMnvtbof7rAdqOtg8zqreZpd24AYx0qaqtn/H+FWqACiiigAooooAKKKKACiiigAooooAKRmCqWbgAZNeK6f4u0iT4kW/iVddsHub7VpdGaxW7TzVtMbIiY85/10ZYHHSYmu7/ALd1vXNc1i20A6dBYaNKLadryF5Hu5diuyKVdREAGUbiH5J+XjlN+7zLt/X5q/m7Dt71n/X9Wfy1Ok0nVrLXNJttT0qbz7O6TzIZNjLuX1wwBH4ikt9YsbrWbzSoJ917YpHJcRbGGxZN2w5Iwc7W6E4xzXnHg3X76y+HfgbRNDjtxqerWzFZblWkitooxukkZVKl+qqF3LksDng1q+EPt6/FfxcmqtbSXKWOnBprVGRJf9ed2xixTrjG5umc84FtasXS/wDW539FcdqXjC+0rVfE1lPBbyPYWMN5pqqGBn8zcgRuTk+amOMcMOM1DpPjLU9Tj8MW3lWa6jfTXEeqIFbbCLfckxjG7P8ArdgBOeGqVr/X9bA9P6+f49DqtI1ix17Tlv8ASp/PtmkeMPsZcsjlGGGAPDKR+FSxahZzX09lDdwSXduqtNbpIDJEG+6WXqAcHGeuK8m8K65rvhz4WjWrcacNKs9RuRLbSJJJNcI166swkBVYyCzYXa+cDkZwOh1DULibxH44tNNtdLtLqz0u2lW+azLyTB1lJWQh1LABMLyMZzz0qJS5Y839bXKSvLl8/wBbHoFFeYWfiu98IfDfwxHqmp6MtxqkUEFnc3MbWtvaR+RuLSlpW3lQvYpuJA+XOani+I90+k68mm3GleJL7S4oJku9HDPA6SsVJaNHkcGPazMgYllAwQTgaSXK2u39f10Ih7yT7npFFefXHjm+s/hxrfiS01bQPES2MQkgn01HjjLcFo5E8xypAIOd+fm5UY5vy6/4i0XxDosevf2XNp+tTtbKlnFIslnMULoC7MRMpCsu7ZHzg4GcAs72Dpf+tNzsqK81ufiHqFh4gtIpL7StSt5tTjsLi202wuZBaGR/LAa93GIyKSpZGVDgn2zsrrniPxBrGsQ+GH0yztNIuPshl1C3knN3MEVmA2Onlqu4Lu+ck54GOUtVf+un+a+8e39f12Z2NFecar8Stmu6pYW2v+F9GbSWEUkOr3H7y8l2K5VP3iGNBu27yHyc/L8uD0VzrE2vfDF9a0do7V7zTftUX2mIyqgZNxUhWXJxkZB6889DMpWg59EVFXko9zpaK840PWdb0bwL4U05Z9Ou9T1mOGCwP2Z4o7eMW/mM0g8xjIVVD90puJA+XrXQaPrupxeLJ/DXiI2c119jF7bXdnE0KTx79jqY2ZyrKdvO8ghh0xWko2k4/wBaGcZXipf1rp+ZtDWLE682iif/AImC2wuzDsbiIsVDbsY+8CMZzV2uDnuorH42393cNthg8LLJI3oq3Dk/oKy9K+KyXkmlXk2ueGpYdUuIoBo1pcCS9tfNYKhZxIQ5BK7lEa7cn5jt+aY+8lbd/wCbS/IqWkn5W/8ASU3+Z3sHiHTrnXp9HtpJpbu2/wBdstZWiiO0NtaUL5YbDA7S2cEcVp14ZrEXieHwN48k/tbSjANWkSdBpcoeQnyQSrfaMKMEcEN0PPPHtGmR6hFp6Lq9zbXV1zultbdoEI7YRncjj/aP4Uou8U+6T+9XFf3mvN/g7Fuq51CzXUV09ruAXrxmZbYyDzGQHBYL125IGelYfi7xBf6HcaFDpsNvK+p6iLNvtBYBQYpGBBHug7HjI46jNW/u7T4kWNhq1rpl9ejQ7i6e/tbAxTHbMgEabpHKqQ3K7jlgDx0ovr9/4K5TX9fOx21UtO1ix1Wa+isJ/NewuTa3I2MvlyhVYryBnhlORkc15/Y+MvFepR+FNQhvNBis/ElwVW0FjLLPbJ5byY3icB2ATax2qFJ6HGKr6Rea/YP8QL7Q202KKy1me4f7ZHJM1wVt4yUAVk8sYA+bL5JPyjHJs2pdE39zj/mFnpbr/wAH/I9Vorza/vdY1v4heEL/AEe9sLSG80e5uY0ubF5mQN5BYEiVM5yuDgYwc7s8ek1VmtxXTSaCiuUuNZ13V/E+o6V4Ym02zi0lUW6uL62kuDJM6h1jVEkj2gKQSxJyWAA4NZUfxB1G/t/Dy2Nha295qWpXOmXcVw7OttLCkm4qwxuG6PI4G4ED5c5CWuwPT+vmdvqWoWuk6Xc6jqEvk2trE000m0tsRRknABJ4HapYJ47m2jngbdFKgdGxjIIyDzXL+OUu4/hH4hXUp4bi6Gk3PmSwQmJGPlt0QsxH/fRrMt9e8Q+HbDw1cauNMm0rUXtrFoLaOQTWjyKBG/mlsSjdwR5aEbgecHItW16fjcHok/X8Lf5nf0VxA8ReJdYj1XVPDg0sadptxLbx2tzFI8180JIkxIrgQ5YMq5STpuPXFZVjquqeJPiRouraNf2ENhe6B9qijnsHkkETSRFkLCZRuyOGxgdNrdaFq0u/+Ta/IUtE3/W6T/M7/TtYsdVmvorCfzXsLk2tyNjL5coVWK8gZ4ZTkZHNXa8q0i81+wf4gX2htpsUVlrM9w/2yOSZrgrbxkoArJ5YwB82XySflGOe+/tuSfwWNd06xku5ZLD7XBZo2GlJj3rGDjqemcfhSuuRS8k381f/ADKt73L5v8H/AMMaks0dvC808ixRRqWd3YBVA5JJPQU21ure+tIrqynjuLeZA8U0Th0dTyCCOCD6iuH0DxVd654f1O5uNW8PaykNg7z2lrbSQyWsu0/uponkckHDA7hGflPynPyw6L4n1G+0nwno/hu00zT7zUdGTUp3NsxtbKIKg2pCrqTlnwBvGACecYLs7ten43/yFpa/9dP8ztrHWLHUr2/tLKfzJ9OmEF0mxh5blFcDJGD8rKcjI5q7XlOmeJn8Ip8QdX1lLV7m31a3jbZKYYZpGt4EQlmz5aklSc7tozy2MnT0v4hyvqT2C6toHim5ksZrqGPQJArJJEAfKYGWTO7d8r/LyDleaV1a/l+lx2d7ef62PQ6K43wN4ovfEjPJNrGh36rFm4tLKGSC5sJc48uVHdiejjLCM5T7pz8tm/1rWNQ8W3Hh/wANS2Fq9hbR3N5d30D3AHmFgkaxq6c4RiWLccDBzkU00JWaub2qapZ6Lpk2oanN5FtCAXfaWPJwAFAJYkkAAAkkgAZp9jexajYx3Vuk6RyDKrcW7wOOcco4DL+IFeYeLdd1TxH4FjCGz0/UNO8R2tjfRtE06GVLqLYyEOhCncj4OTg7cg/NXea/qWqaF4NuL6G2XVNSt4VJS3hdVdsgM4jBZtoyW2gscDAJNLRQ5n/Wid/xD7XL/W9v0NuivKfEmu6nr3wm1y7sPEXh3VrbykH2rT7WTGG+9E0fnNscZQhix6kFBjJ6TVtc8RaNe+HNI83TLy/1ieeF7j7NJDFHtiZwwTzHJwFORu+bGMpnIHo7CTudUuoWbak+nrdwG9SITNbCUeYqE4Dlc5CkgjPSrFcRDqNxa+PtRtry00ua/tNAjuH1GCzMUkpMkg2ZLsRH8gIXJ5J5qhYeNvEZ8PeF/EeqJpKWGtzWsEtlBFKZYjPwrrMWwfmKkoY+ASN5xki129PvbS/Ibur3/rRP9T0aivOfEnjTxDDH4tutEm0eyg8MqA8OpW0ksl03lCTcCsqeWpDBV4bJB5HQTa54w1fSNS06wv8AVNF0RJ7ITNquqWMot7ick/uVHnKImAGSGkYndwOCaO39b6jt/X3f5noFFR2zTNaxNdLGs5QGRYmLIGxyASASM98CpKCVqgooooGFFFFABRRRQAUUUUAFFFFABRRRQAUUUUAFFFFABRRRQAUUUUAFQXf+pH+9U9MkjEq4bIGc8UAcDrkl9H8RNHOl21vcTf2ddZS4uGhXG+HncqOc+2Pxon8NatFpFvDZXSPI99Ld30K3ctosvmbm2LLGC6hWZf8AexzjOK7r7JH6t+dH2SP1b86Olv63uHX+u1jgLTwnqdro8qiW3a8XVE1GFJLiWVDgKPLaRwXPRhuwexwPujW0nTNRTWNSv9X+yD7bFCiw2zMwjCb8gswG77w5wPTHGT1P2SP1b86Pskfq350dLf12/QXW/wDXc5LweWstL/sK6XZdaSBCRjAki58qQezKPwIYdqXS/wDiaeKbzV0Qi1gh+w28hGPNIcmRh/s7gqg99p7YNdZ9kj9W/Oj7JH6t+dPrcfSwyz/j/CrVMihWLO0k59afSAKKKKACiiigAooooAKKKKACqmqW1zeaTdW1hdLaXM0TJFcNH5giYjAbbkZx1xkVbopNJqzGnZ3OdvPB9tcfDz/hFIJ2gijsktoLjbuaJkA2SYzyQyq3XqKpweEdXsNUvbrStet4E1Xy31GOXTzJumVBG0sJ8weWWVRwwkAIBx1B66im/ebb6iWiS/r+v66nFW/w9k07QPDttpWrCHU/DwZLW9ntfMSRHG10kjDKSGGOjKQQDnsdHw/4Xu9K8S6trmpaqt9dapBbxSpHa+THEYt4+QbmO0hxwxJBB5IIA6SincVjmvEPg5Ne8SaRqv2vyFsSVuIPK3C6TekiKTkbdskStnB7jvTdI8GjS/G2qa+1958d2CLa1MIX7Lv2GXDZ+be0at0GPeunopL3dvP8dxvXf+rHGL8Ptvw0ufCX9p/6+aWX7X9n+7vuDNjZu7Z29ff2rSi8Jxr4k17U5royR61aQWrwLHtMYjWQE7snOfM9BjHeuhopNJqzHfW/9dzi7bwNqEWgabYT65E9zobI2kXsdiVeILGY8TAyMJQysQ23y85ONpwRqjTvFMmnTpP4hsEvC6NBNbaUUjQKclWR5nLBuhwynHTB5rfoqm29xWseU+PvDFxpnw98c63ql9b3epanYRxytZ2ZtogkWQvyF3Jf5jlix4CgAY562DwtqF7rOn3/AIi1eK/h0wtJYwQWfkYdkKeZK29t7hGIG0IuWJ29NvU0Utwev9en+RwNv8OdQh0PTNEbxDH/AGXpN9BdWkcWnBZHWKbzAkzlyHJxjcioc8nPIOpN4V1ey1fUbzwvrsOnxao4mube7sTdBJtoUyRESJsJAGQ24ZAOOueqoo/r77f5INzl38M6vYareX3hrWbS0Oosst7De6e1xG0yoqeYgSWMoSqjIJYHAxjnO+9mbnSWsr6XzTLAYppEXZvyuGIHOM81ZopNJqz2BaO5xdv4G1GPw/pthNrsLXWhvG2kXsdiVaIJGY8TAyMJdyEhtvl5ycYOCNTRvDdza67c67rmoR6hqk8C2qtBbmCGGFSW2ohd2BLHLEsc4GMYroKKq7vcVtLf13MC58MCfxqNe8+Py5dObTrq1khLeam8spDbhtwSc5U5B7VX0Xw9r2hJaafba/bTaNZ4SKK409muvKHRDMJQpwON3l5wBnJyT09FJabf1u/1Y3rq/wCtLfkkcnd+BIr3w94j0qe/cLrl290JY4wDAxCbRgkhsFAe2enFJenxVDqnh21TUo5pDdO+om10po4JbcL0Znkfy2BIwAxZiem0NjraKSVreVvw2/rqHf5/iYuv+Hv7cvdFuPtXkf2VqC3u3y93m4R029Rj7+c89OlV9S0Jk8Wf8JUkssjWukz2Ys4YsvIWdZMq2evyYAx3610VFDWmnn+Kt+Q766/1rf8AM8S8N6lb+H7Syn8MX3hTVdan8qKfTbXSiuqzAsPME8yy7g68l3eJRuUlguePR7Twf9lsPFFt9u3/APCQXU1xu8nHkeZEseMbvmxtznjriumopytJNPrdfJ20/AUbp3ORl8F3kEfhybR9Wit9Q0K0azWW5tDNFPGyIrbo1kQg5jUgh+OetWtFk1yXxnrxvLqSXRkWBLOOSy8jypQp80Ix+aRT8h3HIySB9010lFO7buxJJR5Uc1feG9Ti1+61bwzq9vp0t9GqXkN3Ym5jkZBhJFCyRlXC/KckggLxxmqtt8PraxHh1bO+lxot7NeyPMgeS7klSQOzEYCktKW4GOMYFdfRSWmw3qZviPSP+Eg8Mano/n/Z/t9rJb+bs3bN6lc4yM4z0yKxIfB1/LdaUmta1Hfabo7rLaW8dkIpJJETajTPvIfGScIqDdg9sV1tFC0dweqt/Wu5yFx4N1SJtStdD19NP0rVJXluIGsvNmhaT/WmCTeoTdyfmR8MSenFSSeC3sdT0i98MX0OnHTbE6cIbm2aeOS3yhAwsiEOCgw2SOTwa6uihabf10/JsHruczaeD/sth4otvt2//hILqa43eTjyPMiWPGN3zY25zx1xWhaaPcWHhC30ay1BoLi3s0to71YVJUqgXeEbIzxnByPrWtRRsreSX3aIOt/X8dzj08F395rVxq+v6rZ3F8+mSabC1jpxtlWOQhmL7pZC5BAwNygfNxzkRw+A7rTbXw7LomsRW+qaJpw003FxZmWG6h2qCGjEikHcisCH45Bzmu0oo22/rf8Azf3h/X5f5I422+HyvY+IINY1SS7l1y6ju5J4IVha3lRI1Uxj5gNrRhlzkjABLHJOla6b4p8qaPUfEdi4aAxxS2elGGRHOMSEvNIrEc8bQMnp2roKKAOX03wvqI8VQ+IPEOqWd7eW1o9pB9h082o2OysxfdLIWOUGACoGW4OeJtT8OX58QtrnhzU4NPvZrdba6W6szcwzohYodqyRsHUs2CGxhiCDwR0VFAHIN4Ai/wCEXXSl1GRp31SLVLq8ljDNPMs6zN8oIAB2hR/dGOuOej1W3vrrT3i0q/WwusgpO0AmUYOcFCRkHocEHBOCDgi5RR0t/XT/ACQdbnEzfD2TVYfED6/qkcl9rlpHaSTadafZkjSPcUYKzuWcFjyW6AAAY5vN4X1K+1Tw/qOtataz3Oi3E0v+i2LQrOHhaMDDSuVI3Zzk56YFdRRQG/8AXyMCXwv5vizUNa+2Y+26Ymn+T5X3NrO2/dnn7+MY7dazz4Dz4J8OeHv7S/5Ac9nN9o8j/X/Z2Bxt3fLu2+px7119FC028n9zbX4sHrv/AFpb8keQancaVF461jUdR1jwzpepQXam2j8RaWLm8VUjUK1s3mxt5bEEqqBvmLc5JUdTBa+LvFHhqG5uL2x0n+0bLyrvTL7SWuFjJDAsoMkbLuByVkDY4GAQ2e2opfZ5X/X/AA4XfNzIo6HpEGgeH7DSLR5JILC3jt43lILMqKFBJGBnj0q9RRVNtu7ElZWQUUUUhhRRRQAUUUUAFFFFABRRRQAUUUUAFFFFABRRRQAUUUUAFFFFABUVy7RxgocHNS1Bd/6kf71AEH2mX+9+go+0y/3v0FZkusWlvqMtpcuIDFAtw0sjBU2sxXqT1yP1FZ954usbKQpLb3jn7d9gURRby8vl7+ADnHbPr145o/r9PzD+v1/I6P7TL/e/QUfaZf736CsOz8QJeWt462F7Hc2cgilsnVDKHIBUAqxTBDA53YHcjBxXbxdbQafqlzf2N7ZPpaCS4t5VRn2EZDKUdlIOD/Fng0AdJ9pl/vfoKPtMv979BWHp3iGO/wBRFnLYXtjJJCZ4Ddoq+fGCASoDEjGVyrBWG4cdcVPDxOq6nqOtXDbys8tlaLniKKNtrY92dSSfQKO1AdDp/tMv979BUttK8khDnIx6VycRbSfHH2SN/wDRNWgkuBET/q54yocr7Mrgkeqk9WNdTaf64/7tHS4dS5RRRQAUUUUAFFFFABRRRQAUUUEZBGce47UAZTeKfD663/Yza7po1TcF+wm8j8/JGQPLzuzjnp0rVry2I3vw90SLR/GGgW+t+Go7ncusW22R42aZSj3MDgHcGYsZEL8qDgE1r29x4g8Q+NvFWkw+IptLs9MktvsxtLWFpQZIAxBaRWBTOTjbuz/EBxR0v/XT/MOrR0+peILXS9a0jTLiOZptWlkigZFBVSkZkO7JBAwp6A802w8U6LqVrf3NpqMRg066e0u5JMxrDKhAZSWA9Rz0OeDXntnrt14i1X4cX2o+WbtdS1C3meJdqSPFDNGXUZOASmfxqPX9S1XXvhh4se61WeJrLXZ7WMwxRDMKTKqxnKHgZzn72QOeoJ1a/rp/mKTtG/8AX2v8j1t2CIzHooycVneHtctvEvh2y1mwSWO3vYhLGswAcA+oBIz+NS21pNZaQYLnULjUZFVs3Nysau+c9RGiLx04UV5p4O1PUD4E8B+HdJvG06XU7OSWW9SJZHiihwWCBwV3sXUZYMAN3GcUdWvT9f8AIq2h6xRXnGp+Jdb0C18Y6RLqLXt1pOjf2lYajJDGJcMsg2yKqhCVaPghQCCMgkEmx/amu6Vq3hG5vdbe+j1+b7Pc2ZtYo4Yibd5Q8WB5gIMeMM7jDH2wLXb+r3X5oT0Wvn+Fn+p39FeQ6l4r1i/uL+3tfFk+meIItYFnD4ds4bWSQwCVRv2yRtIcxEymTOxR2+U16F4ofW7Twfcnw4HutUSNFRmVDIwyA7qp2oX27iAcKWxxjilf3eYdve5TXubqCzt3uLyeOCFBl5JXCqv1J4FS15D4j1JtY+G+vRWni3Vria0ktzPb3+nw215BvZfkkQwr8hBDKQgOVPzsOB0usXGuad4p8M+HbXxBcuupQ3v2i8nt4GmOwRsrKFjVAwBYD5SOcsrYp2d7f1tclO7Opg17TbnxBd6JDchtRs4Unng2MNiPnackYOcHoTjvWhXDJrWrWnifxPpb6jJcxaXolvcW7yxRh/NYTbnO1QCTsXjG3jgCsvT9c8RweH/BniPUNde7OtzWkN1YLaRJbhZ4/vLhfMDA7SSXKk5woBAAtXb0/FtL8hvTX+tEm/zPTaK8j8T+LNYa68R21p4ql0jXLG5WDStBtoLaSS9TajK+2SNncvub5lIVAOQdrZ1/Eeq61outCHVtb1jS9HisUaHVrbTobmOSYHEhuyIm8scqQVWJMb/mHYWqT7/5XDrY7jWdYsfD+jXWq6vP9nsrRDJNLsZti+uFBJ/AVahmjuII5oWDxyKHRh3BGQa5zx3rF3pHwz1nV9JukS7t7B5oLhFVl3BchgDkEfXNZdxqGuan8RhoFrrT6dYnQ4r13gtonmEhmZSUZ1ZRkAAhlbgcbTzRZ3t/Wzf6B9nm/rdL9Ttbm6t7OIS3c8cEZdUDyuFBZiFUZPckgAdyalryHW9Q1XX/AIbRfatXuIrmx8TRafJcQRQg3AS+SNXYMhAYDDfKFG4dNvy11dzLq914qt/Clnr95araWAvrvUvIga5uNzsiIMx+Uo+VixEeeFAxzQtUn3/yT/Ib0bXb/O35nZ1zUnj7QrXT9av9RmlsrTRb77DdTTRkjzCEIKhNxK/vFGSB37c03wdrN/fXGt6Tq0q3N1ot6LX7WqBftEbRpIjMBwHw+GwAMjIABwOIl1i+0Hwz8Q9R0mf7PdReJ0VJNitgN9lVuGBHKsRTjrO3lf8AGP6MXT52/P8AyPXgcgEdDRXFXl3repfE290C01qTTdPj0mC63W9vE8wkMsikq0isoBCgEMrdONpyTgDx/qq+FNKt57mb7feaxd6VLqFtp7XEqx27SgyrDGrZkZYx/CVBJbbtGKW6v/W9vzG1Z2/ra/5HqlFebxa94pm0nXrXQRqupyW0UEllf6lpRs533sRMgSSOKOR0VdynaASyhs4JO74J1iLU/t8Ka/f6pLbtH5ttqtgtpd2jMucOgjj+UjBB2dQ3zN2dhHV1Dd3UNjZT3d0/lwQRtJI+CdqqMk4HJ4FcBqHiHxDEfEug2uoINZ/tKCLSrh4UPlQXChlbbjDbNs/Uc7OSaLbxhqmtGymsLg20cHh2XUL6Ly1J+0N8kanK8bWjmOARyORWcpWi5dv8r/h+ZSXvW/re34na6frumarp+n3tjexSQakgksyx2GcFd3yq2DnbzjGRio7PxBa3vibUtDijmFzpsUEszso2MJd23ac5J+Q5yB26154Tq3iP/hWl/P4gvrS5v7MyzPbRW3+tNoWaQB4mAJ3EEfdx0APNaFrYahffFzxXBY6xNpirYaeZJ7eCN53bEu3mQMgXhsjZk5GCuMHSa5ZOPZtERd1f0/Q9HrL8OeILXxPoqanYRzRwvLLEFmUBsxyNG3QkYypxz0xVLwHrV14g8EadqOoFWupFZJnRdodkdkLY7Z25x7155oPia40L4b6DZWbzwS6trN/btdW9k93JAiz3DsyRIrFnwuBlWAzkggEUnoxrWN/62b/Q9koryzUvGOu6X4O8Vz2dxqdyumWkVzY6nq2ktaSM7Eh42Roo1fbtByqjhwDyMneF5rWieNtCs77WpdTg1qO4E0D20UccEiIHBi2qHC/eGHaQ4I5yMk2YPT+v67na1ElzBJcyW8c8bTxBWkiVwWQNnaSOozg49cGvI/8AhKNb1qW2Sz8YXNprsus/Zbrw9ZQWrtaW4lKM2HiaRdqAOZGJUngAblx0ehabe/8AC2vEkr6/qDxQxWjG3MdvskVllIRiIt2FzxhgfUmhapPv/lcT0dv6/rQ6rw54gtfE+ipqdhHNHC8ssQWZQGzHI0bdCRjKnHPTFL4j1618L+G73Wr+OaS2sojLIkCguR7AkDP4ivK9AvNZ0L4Rt4istYaGKx1G4ZdPjtozFMn21lcSMwZyxyxBRkAyODgk9n8Xjn4QeIz/ANOZ/mKV9Llqzny+f6nZqdygjoRmlrzzXvFdw3jKXQI7/V9LtrGyhuJJ9J0d72aZ5C4Ck+TKiIAmeVyxPBG0gxz+IfFN14Z0a7lg1ayga4mh1K60/S83aqrlIpVtpUZgj8MwCMyg8DGSH0uQttf60uej0V51e67q1xoWhXeka1qGoaNM0ovtX0jTo5bwYOIg0BRsY5Em2IsGX7qDIHVaBeJrng63uLHXjqC3ELCLVIIkRzyQGKFSokHQgqBuB+UfdB0b7DH634o07RPCl54hkc3djaRmRzaFZCwBwQvIBOeOvatdTuUEdCM14q9pdW/7M+sXN1qt1frNaSlYLhIgkRE7Z2+Witz3yT7Yrthd6zonjXQLK+1l9Rg1mKdZYGto444JI4w4aLaN4X7ww7ueRzxR11Ff3U/66Ha0V5TfeL9Xtb611PStT1bV9PbVYrS4f7DbQabiSbySkZYC4YruBDo0iFh1xkDYjuvEOueI/F1lD4im0y20meIWn2W1haQFrdXIZpFYMm45xtDZ/ixwFf3eb+tLf5oq2tv6/rQ76isHwfrs3iDwBpGuXnlQzXljHcTEDCKxUFjjPAznv0rirHxXrEeu6BcW2pavrGlarei1lurqwtrayffG7g264W4ABUbS29SufmY4aqatLlJTvHm/ruep1S1nWLHw/o11qurz/Z7K0QyTS7GbYvrhQSfwFYPj/XbnQtN054rxdLtLq/jt73VGCH7DEwPz/OCoJYKmWBA35IrkX8Qa7aeC/G+uaf4ru9YtbCJhpN9Jb2vlPiNWZ0McQEm19y7vu8EYyCanVp26f8D/ADKS1S7nq0M0dxBHNCweORQ6MO4IyDT64t/FFxoGv6r/AG/dNJpv9krqtqzIo2CMETxjAGcfu25yfnx0xWJceKNctm0LRtW1DUbW6vbGTUb6707SWu54suNkEaJE6qF3YLuh4Ud2yKe9v66/5MlbXf8AW3+a+89Pory+fxb4kGl6TFbT3EEsviSPTFvdS0poWvLdomYO0LhCDk4JUKCyEgAHbXQ6BfalZePdS8N6hqtxq0MdhBfQ3F1FEkqF3dGQmJEUr8gI+XPJ5PGC39fK/wCQ3p/Xm1+aOvorhdb8TapoXiPxBaPOsySaVHeaRE6Ku2bcYnTIGWBdoTznG/0qto/iPXL2Tw1o09/nVI766i1eYQIPOjtgVY7duEDs8J4wcNwaS1/rzs/u6g9P68r/AInZ6Jr2m+IrBr3RrkXNuszwM+xlw6MVYYYA8EGmHXrUeKhoBSX7UbI3u/A8vYHCYznOcn0xjvXC2fjHXLrwhp0a3ajU9X1+50uK8eFSLeNJpvmCgBSwjiwuQQWxnPIMw0/ULf4qS2c2uXVzIfDkhivnggW4jJnH91BGcdv3frnNTdq3z/CN/wDIJaX+X/pVjrta8Vabonhdtfd2vLAGPa9mVk8wSOqKVOQCMsOc9K2a8Sls7q2/ZitpZNTuL0zwWDxRXUcflwfv4/lXy1Riv+8xPHUV3cV5rGjfETTNJv8AWJdTt9Ws7iZklt4o1t5IjH/qtihghDkYcueF+bqTdtbeb/K4/NHZUUUUhBRRRQAUUUUAFFFFABRRRQAUUUUAFQXf+pH+9U9NdFkXDjI60AclrHhmHWtUguLmUfZhA8FxbmPPnqSGUbs8YYZ6HPtVe38KPFDpon1DzprK/e9kl8nHnFldcY3HHDjnnp0GeOy+zRf3f1NH2aL+7+poWm39a3/MN/68rfkc54i0dtd0drFLhYCZI3zJF5kbhWDFHTI3K2MEZHWuV1PwbJpPg/xL9iS3luNQswotdOsBAgZQwGyNSxOQw6knIPOMAem/Zov7v6mj7NF/d/U0DvqvI5ew0a7/ALUi1LWbyG6uYIWhgFvbGBI1YqWJBdyWO0c5AwOnemaLb3Gk6vqGnvE7WdxK97azquVXecyRsexDksPUNx9011f2aL+7+po+zRf3f1NBPSxytvbz6h4sk1GeB4baxia1tvMGDKzFTI4H935VUHv8x6YJ6O0/1x/3an+zRf3f1NOSJI2yi4PTrR0sPqPooooAKKKKACiiigAooooAKbJGJYnjYsFdSpKsVOD6Ecg+4p1FG4HJnwDFNClnqHiHW9Q0lJA/9m3c0TxsA25VaTyxM6g44aQ5wA2RkHHsvDGoX3xC8aXCajrGiQ3MlosdxaKgW4UW4DbTLG68HjcmGB4zXolFHqG2xz0ngrSxHoKWLT2I0GfzbQwsGJyjI6uXDFgwY5P3snOQeaZ/wg2knw/rOjStcy2us3U13cbpAGR5G3HYQBgAgEZz05zXSUUb/wBf12Dt5f8AB/zZT02xmsbAW13qN1qbgnM92sQdgexEaIuB9KwYfAFhbeHtP0q11DUIG0uUyafeRvGJ7XOflU7NrLtJXDq2QecnBrqqKA2Vjml8Dae2kazaXl3e3lzrcBgvtQmdPPkTaVUDaoRQoY4CoBySQSSTbu/C9leNoRlluAdDmE9ttZfnYRNF8/HI2uTxjnH0raoo/wCB+Gwf19+55Mj6xY22p29pd+LdN1eW7uZIdMstJjntDI8jMhFxLA6bWyGYtMoBLDCY2j0SbT73VvDtvb6hez6dflI3mm02TYUlGCdpYEFdw6MCCOCCCRWrRQtrf1oD1d/X8TlT4A0+5stXh1i+v9Vn1eFILi7uXjSQRpkoqCJERdrMzAhcknkngVah8Jx/2rpOpX+rahqN5pInWGW48ld4lChgwjjUHAUYwB75roKKOtwMWTwtZSazq2pNLcedqtnHZTqGXaqJvwV4yD+8PUkdOKh/4QzT/wDhH9C0fzrr7PoclvJbNvXe5hGE3nbg574A/Cugoo2/D8NvzB67/wBdDy+WXULLUtaBuvFmk3k99LJFZ6VpSXVvcZwscgnkgkVS6quQ0iBTnIUDJ3ofCmr63ocLeI9f1OyuryzSPU7CxeHyHbbhwpaNmTIJB8tl9Qc812VFJJWt/Wg+t1/VzJ1fw3Y6x4SufDkvmW9hcWv2U+QwDJHjHykg8geoNEPhy0g8Uf28kk5uvsC6fsLDZ5auXBxjO7J65x7VrUVV3e5Nla3T/hv8kcy/gPSn8OX2jNLdeTeXz6h5u9fMhnaXzQyHbj5XAIBBHHOafc+EDdGyuTr+qxarZq8a6pF5CzSRscmN08rymXOMfu8jaCDnJPR0Uv6/T8tB77mZoWgWnh+zlhszLLJcTNcXNzO26S4lbG6RzwMnA4AAAAAAAArIvfh9pt9a65ayXd6ltrd3FeTxI0YEcsZT5kOzI3eWmQSRxxjJrqqKd7O/9f1ogMyPQbWLxXP4gWSb7XPZpZshYeWER2YEDGc5c9/TisxPAelxaKdOjnvEK382owXSyATW08js5ZCFxgF2GGBBBwwYE56ail/X43/PUP6/C35GAPDN22nT21z4p1ueWR0dLrdBHJCUOQFEcSqRnqGVg3Q5HFS6J4Zi0e/vNQm1C91TULxY45bu9MYby0zsQLGiIACzHhcksck8Y2qKAMS58KWF14xtPEkjzC7tYTEsalfLfhgGYYyWUSOAcj754qvpfgjTdJGti2mun/tp3abzJA3lBtx2R8cKC7kA55Y9uK6Oik0muV7B1uczL4FsToehafa319Zy6AirYX0LRmaPEflHO9GRsqSDlfpir+neHLfTtfv9YW4uJ7vUIIIJzKV2kQhgrAKowTvOe3oBWvRVNttt9RW6GZ4e0K28NaHBpVi80kEJcq0xBY7nLnJAA6se1ZUPgHTYNEOmR3d6qR30l/ZzK6LJYyuzMfKIUZALvw4bIYg5XiuoopD8jmr3wb/avhrU9F1vXtV1KHUYxE8s3kI8S/7HlxKo+pUmtG+0C2vtZ0rVJHmE+leaYFVgFbzE2HdwT06YxWpRQ9QPIrWbX7LQWtdHufFVnr+6RotG/sqN7GOZnLFTdSQENFkklvPyR0IOFrvx4YX/AISQa/Df3VlezQxRX0Nt5ZhuxHnaGDozDG5hlCpwea3qKFoD1OZHgPSx4Hn8Kie7+wzSSSNJvXzQXmMpwduPvHHTp+dauv6JaeI/Dt7o2oeYLa9haGQxkBgCOoJBGR1HBrRooDZ3OevPCS3Fxb3ttrOpWGpw2620moW3k+ZcxjnEiPG0R5JbIQEEnGASC+48NXU1vaLF4o1q2uLZWVrqJoC04Y5O9GiMZOcYIQEYwMAkHeooA5eHwQljZ28Gka/rOmvEZWkmgkic3LyPvkeRZI2QsW5yFGOQuASDr6Dodr4d0ePTrEyvGjPI8kzbnlkdi7ux4GWZiTgAc8ADArRooA5Fvh3YN4a1Pw8dU1L+x9QV1W03RYtd7l28tvL39Sfvs2OgravdAtb/AFrStTmkmE2lGUwqrDa3mJsO4YyeOmCK1KKPINzjl+GtgLKCwbV9XbTbS7ju7Ow86NYrZkl8xVBVAzrnjbIz4HTBAI27Lw7aWGpazewyTNJrEiSXAZhtUrGIxt444Udc81rUUdLf1/Wg763MrRfDtlofhS08PQGSeytbYWq+ewLOgGPmIAGcegFY9p8PbS2bShPrOsXsOjzJLp8E80YSDapULhEUyDacZkLMMcEZbPW0Udbi6WOQ8fxXDpo0sSahHBbX3nTXumQfaLi0/duqssW194JfafkfAJO0feXKstN1LxamsaPqOo67eeGr2w8hrrVLGKzuBMTyIlEMbbdp5Lx4zjaTzXolFCBt/wBetzB8Q+D9P8SQ2EV9LcxrYyBh5DqvnJjDRPkHKMAMgYPA5FTa14bg1i5tbyO7utO1GzDLb3tmyiRFfG9CHVkZTtHDKeQCMEA1sUUBsc9N4RjvbfTU1TVtRv5dN1BdQiuJjEru6ggKwSNV24Y8AA+9Xo9BtYvFc/iBZJvtc9mlmyFh5YRHZgQMZzlz39OK06KP6/C35B/X43/MxNc8KWGv6rpWoXrzJLpcvmxrEVCy8q218gkruRGwCOVFJY+ErDT/ABdqHiKGW5a7v4wjxO4MUfCglBjILbEzyfujpzW5RQtNv6uD13OYHgHSl8NjR1mu1WO+fULe6WRRNbztI0m9DtxwXIAIII4OQTmfTfCMNjr39tXWp6hqeoG0azaa7eMBoy4cDZGiqCCOoAznnPGOgoo/r8LfloD13/rW/wCZyC/DmwHha48NtqupvpEjRmC2Zof9ECSiQLG3l7iMgD5yxwOo61uXeg2t54l0/W5ZJhc6fDNDEisNjCXbu3DGc/IMYI79a06KACiiigAooooAKKKKACiiigAooooAKKKKACobpisQKkg7uxqaoLv/AFI/3qAKvmyf32/OjzZP77fnWXrJ1A2pisLG0vIpEZZlubx4MAjoNsb5zz6YrH0zWltvDPh+DRNLUS39uv2W0kuWEcKKgY7pdrHAGBnaSSRx1IAOs82T++350ebJ/fb86wbLWb3UbXULddPgj1SxlEMts90fKbcAwYShCcFWz9wHORjvWdpeq2ug/DH+07LTBb29nDK4skuGfG12yBIwyckE5I70B1sdf5sn99vzphvAtwsDXAEzqXWMv8zKMAkDrgZHPuKxtP1q9m1r+ztS06O0aS3NzA0dz5pKBgpDjaArfMvALDrzxzX8LD7dcaprM/zzz3ktshYf6uGFyioPQZDMfdjR/X6BfT+vU6GK7E4Yw3AkCsUYo+cMOCD7j0q1auzSkMxI29zXJsv9m/EGFbf5YtWtJHnjA482EoBJ9Sr7Se+1fSuqtP8AXH/do6XDqXKKKKACiiigAooooAKKKKACiiigCleaxY2Go2Fhdz+Xc6jI8dqmxj5jKhdhkDAwoJ5xV2uL8XqzfETwGVUkLe3ZOB0H2WSsSIXeteC9c8WXWualp+qW0t79m2XjpBZC3kdUVoAfLfhMtvVidx5xjCbSTb2RXK20l1/4P+R3w1gHxMdG/s+/BFr9p+2+Qfsx+bb5fmZ+/wB9vpzWjXnuia7qOqfECBrp57eO48JQXj2RkOyKZpWyducbu2euBXO2E+oWnwp8L+LJNb1a51Z7mxjkea+kMckclwsbI0QPlt8rkbmUvnB3ZGau1mk+9vxa/Qi61a/r3U/1PZKq6jqdppNqtzqEvlRNLHCG2lvnkcIgwAerMB+NZPja01q98LzReG2P2wOjtEtybd7iMMC8SygExsy5AYYwT1HUee+Ixp2oeEZLIP4isZ7HXtPS4stS1OVpbfzJ4hxKsrb1ZfmU722nkbSOJjq0vNL8V/mN6as9irOstYF7rOo6d/Z9/bmwMY+0zwFIbjeucxPn58dD6GuS1GzkHxG0Xw5FqWqRaXJo11JLEmoTb5SssW0mUsZMjcfmDBu2cZFZeo6lqFpD8UooNQvFXTbGH7ETcuzW5+x5yhJyDnknqTyeaG0o83k39zsOMXKXL6fjY9SorzdxdaJq3gi+i1XU7mfWLgW1/wDabx3jnVrV3z5WfLQhkU5RV7+prEuxqPiCXUbYz+JX8QDWzDC+nXV5b2C2qTDI8yMiEARBg2T5m8Mo5xTs+bl/rp/n+ZKd4839df8AI9jrO13VxoWjy6gdPv8AUREVH2fT4POmbLAZVM84zk+wNcJ4nivdA1q91XXjr0ugQxw/Zb7SdTcf2aihQzTwbx53zEuXImJHBXA53Pijf3Nj8N727026mtphLbbJoJCjANcRg4I55BI+hoWtn5j2ep2AOQDRXBG2m134q69pd7qmpx6bb6dZypaWl7Jbr5jNLl90ZVwcKOAwB7g4GNL4bapd6r4As7i/mkuZ4pLi3MsjAvIIpnjUseMkhBk9zS6XYdbf13Ororx/RdQ8T67ott4gtNI8TSazNceasv8AaVuliiCTDQm3+0AbQgKktF5mecg4w7xrqGoTWPiTXPDP9rSPorSM2oXGtSW1vHJCATHDbRgpMFIIbzVXPI3N2Ful/X9a/wBaXdtbf1/Wh69WLceIfI8cWPh37Lu+12M159o8zGzy3Rdu3HOfMznPGOlc87TeKviFdaPqF9eWlhp2m210ltY3klq1xJMZAXLxMrlVCYC7sZOSDxilqWhh/ir4d0ttS1LyYtBu0eUXJE8yCWEbWlA3g9DuUqxwMtyctJ8yT8/wT/Vf1sTdWb9Pxt+jPSKK5D4fXdxIviHTp7m4uYtK1mW0t3uZmlkEWxHCl2yzYLkAsScAc1ysl9r/AIhvPEFxDpniiS8sr+a0059O1G3t7e2MXCFomuE83ccOfNRgQwA46zfbzV/lp+OpVn172/P/ACO/h8Q+b45uvDv2XH2fT4737R5n3t8jpt244xsznPfpW1XndteXtv8AEzVL25tf9Oj8KW0slshz+9EkpKAjrzxWV4ZufEt/Y6DrdppviS4vrx4Jb28udStjYywSEeZtgFwQiqpyuyMP8oyTls1FX0/rdpfkJvr/AF8Kb/M9Zorxy6bUbjwJ44159e1hb3RdT1A6d5d66RwCJ9yqUXAkXIxtkDgDgACukMd1oHjjwusGqalef2vFcrfLd3TSJMyRB1ZYz8kbZH/LNVGCRil0Tf8AV1cJaNrza+52Z39FeP6LqHifXdFtvEFppHiaTWZrjzVl/tK3SxRBJhoTb/aANoQFSWi8zPOQcY2reyn8QeKfG8Goaxq6W1jcwi0gtb+S3EBNqhLAxlW6nO0krnnbnJpN2V36/l/n/W40rux3lzqNraXlpaXEuye9dkgTaTvZVLEZAwPlBPOKtV5BboPF0Pwx1LW7y++1ahav57W+oTW29xbM24CJ1AYnOSACRx04ruvHep3mh+C559LkaGcyQ263GA5t1klWMy/NkHaGLc5HHNOWja87Ep31OlrA8OeIbvxFc300dhBDpUFxNbQ3BuiZpnicxuTFsAVdytg7ySAOBnjBu7N/Cnizw7Y6bqOqXVtrMk1peW95qE1yxCws4mVpGLRlSuDsKg7xxkLg+EmlW9h4bvpYJLt2k1W+jInvJplAS6lAwrsQDjqQAWPJJPNNLdg9v68zsYdVtLm4v7e2l8yfT3CXCbSNjFA4GSMH5WB4z1qn4T1//hKPCWna39m+y/boRL5Pmb9me27Az+Qrk/Cei2kXjrxtdLPftNBfIFV9RuHTDWsZO6MuVbknGQcAADAAA5jRIbjRPg94T8Q2mqakb1bixhCfa2WDyZLhY2jMK4jYbXb5mUvnB3cDCjra/Xl/EqWifz/A9rpHdY0Z5GCqoyzMcAD1ry67vtX1/wAVeI4X03xPcLpdyLSx/sfUYLWOD9yj+YytPGZWJbOHV0wAAOWB7e1srrXPAcdj4si8m7vdPEOoxxOBtdkxIAVJA5J6Eilq48y/q4WSlZkNl478P6hfW1rb3VwGu2KWs01jPFBckAnEUzoI5MgEjaxyBkZFdDXn9tqHifwJd6PpWuvZ65ol1PFp9vqMQMF1AzBgvmx8pIOEXcpU9SVNc/BqPifX9P1PV7DSfEs2sx3tzFYSQajbxWUHlSsiRtAbhQ4+X5y8ZY7jg4CkVo3pt/w3+ZKv18vxv/kewVnaPrA1hbwjT7+x+y3T2xF7AYvN24/eJz8yHPDd65WGO51r4pa1p1/f6hHZW2n2NwlpbXjwqsjNNk7kIb+EZAOD3B4xzj+JNbh8O6jFby6jdSXfjG403zLeVDNDBvJ2RtKwVM7di5IA3cc4pdbf1ul+o+l/6+Fv8kevUV53Z2Hiow61ZaFa6xo0FxYZs5dd1GO7aK6zjKOJZnClcZ3ZClcgcnN7wNdRw6lcaZd2uvaZqgtYp5rDVtRa+QjJBkimLvkbsqRlegJQZo/r8/8AIV/6/r1O2pGO1ScE4GcDqa841y/1Kw8QeJNCjvr1W1hLN9NlEpLW5mbyJfKJ+7s2iTjoWzijw1qep6rrHhzSri8ujLo1pdNqjeawM8sb/Zo/M5+YNiSTByCVB7Ur3Wn9WWv3Fbb/ANX2+863T/FNneaXpl5d219pT6nObeC11C2aKYSAOdrLztyI2IJOMY55FLD4h83xzdeHfsuPs+nx3v2jzPvb5HTbtxxjZnOe/SvLrGA+IfBfwzutZv8AUpp59SeOWZdSnid8x3ByWRwd3ygBvvAZAOCQelfRIr/4x3ti97qENrH4ftQyW928ckuJpcbplPm8YzkOM/xZqvtW82vujcJK0b+Sf/k1vyPRqK5P4bahdX/hJ1vriW5ez1C8s0mmffI0cU7om5jyx2qASeTjJya5SytbrVvBfijV73xHrEF1puoaibKaO+kRLURSMVBRSFkUbR8sm4Y4GBxUykkr9LX+Wn+Y1FvTzt+f+R6vRXmMt/e+K/7Nto7bVZtYOkW93d20WsSaZaWRlBOXkh/eM7FWAXa4G3+HJJZZv4o8Q/D/AML37fbNSSPeuqWthqBs7m5wxjV1mBjyVwWK7ow34bTUk4tp97foZqSdvS56jRXmkn27XfD+iXfh867qWkWs08V/px1FrPUd4baFM25C5iIdSpkG7glnI5oSeJZNYm8OaTo0XiW/0q4tLqeeKK6S2vmkhlSPyJJZJI2HlliG2vubC5LAsSvT+uv5F2PWqxJfEXl+PLfw39lz5+nSX32jzPu7JETZtx335znt0ribu+8TWOgwaVdLqWkwanr8Wn2tzeXEc13DZugZgZEeT5tweNXLFgCpJyMm9aaVHo/xusLa2ur2aA+H7llS8u5LkoxuIckPIWfnA4LEDHAHOXFXku2v/pN/8vmJ6J99Pzt/meh0Vw/jez1g6zb3v2XVtT0KK1ZZbTRdSazuYpeW835Xj81cALt38HkK2eMW91+41zXNH03To/EGsaM2ipfrJpt3FZz3jM2wPJIZIWG0DJVCMl/mGMCpWv8AXr/l/Wtm9Nf66f5nqVFeW3k3iSDT/C9jfXGq6S03iI2yNLcxPcyWnlSlVlZGdWOOMklvlDE7vmqe+vP+EN8UaxYDV9W/sU6E1/Iz3L3c9nKJPLBiabeSXGcKcruTpyaf9fcub8vxD+vxt/Xkel0V5loDaxpPxE0i1ktr6x03VLK6Y22oa3NqEzGIxlWdX3LC3zHiORgQ3PQVX0C9A+Gc/ibXtY12W48+5tI/st2xcD7U0SRxxk7C7HADuCw3cMoA2j/r77CW1z1XpVXTNStNY0u31HTZfOtLmMSRSbSu5T0OCAR+NecaPFq9t43l0XUIr6w0zU9FnuBbSa/cXs6NHKihvMb5oX2yEERyMvAweMml4fEmifBPw4+kX17bTaw9laT3b3ck/wBlWRwrNGsjMsZ5KjaAASODii23na3zbX5oeyd+n+Vz16iuDdZvC3j7SdJ0y/v7mx1Wyumntr28lumieIIVmV5WZlB3bSu7bkqQM5qb4XQS3vgnRdd1HUNQvb+5sVR3uLyRkxn/AJ552FuPvkFzzlqFr/Xr/l/WwjtqKKKACiiigAooooAKKKKACiiigAqC7/1I/wB6p6QqGGGAI9xQBzmrXl7awkWOlTag0iEDyZY02N23b2Xj3GT7VnWfhYp4d0ezmvJra+0yFUS7syAVO3awAdSpU+jKex4IFdn5Uf8AcX8qPKj/ALi/lQBzEGhfZbG4ittRvI7q5kEs1/iJppG4HIKFANoC4CgAdOeapw+D4Y/Dd3oc+qahdWd1G0eJfJDRBiSxUrGOST/Fn2rs/Kj/ALi/lR5Uf9xfyoAwjpkJ1iLUt0nnR27W4XI27SysT0znKjvVLS9PutK1q+jjXzNNvHN0jbhmCU43pjqQx+YEd9wOOM9V5Uf9xfyo8qP+4v5UActa2N1P4kn1S/RYkhjNtZxg7jsJBeQnsWIUAdgvPJwN+0/1x/3ateVH/cX8qUIqnKqAfYUdLB1uLRRRQAUUUUAFFFFABRRRQAUyWKO4heGeNZYpFKujqCrA8EEHqKfRQBhaR4M0PQ7xLrTraYSxRmKDz7uadbdDjKRLI7CJeAMIAMADoBTLzwN4ev7+a7urF2Ny4kuYFuZUt7lh/FLArCOQ8DllOcDPQV0FFAFD+xNP/tx9Y+z/AOnPaizaXe3MIYsF25x1JOcZ96qjwlog8OWmgiy/4llm8TwQea/yGNw6HdnccMAeTz3rZooD+v0/IoavotjrtmttqKSsiOJEaGeSF0cdGV0YMp9wR1PrVFPBegpo93pjWbzQXrh7l57mWWaVhjaxmZjJuXA2ndlcDGMVu0UAZNn4Y0uxvrS9ijuJLqzgkt4Z7m8mnkEcjBmUtIzFslRyckYwMDikn8LaPcf2z51nu/txBHqH71x5yhPLA6/L8vHy4/Oteih66MFo7ozp9A025OmGe23HSZBLZ/vGHlMEMYPB5+ViOc9fWvPJPDOsLDqNr/YOtjVLm4nePUNP8QNZ6fmRyUk8tJ1ZcAjcBCxLAk7ydx9UooeruC0VkcqvgDSbuFJNbW4vLuZY2v8AZeTxW95KqqC8kCuI3ztHDKRgAHgAVuavo1hr2lyabqsHn2khRmj3smSrBl5Ug8FQfwq9RTbuJKyKUOj2NvrV1q0UG2+u4o4Zpd7HeiFioxnAxvboO9GkaPY6Dpy2GlQeRbLI8gTezYZ3LscsSeWYn8au0UhmC3gvRP7Sa9iiu7aR5vPeK11C4ggeTOS7Qo4jZiRkkryeuah1D4feGtUlvmv7CSaPUCWurY3cwt5WIA3mEP5YfgHeF3AgHOea6SijbYDH1XwppGszW015BMlxaoY4bm0u5baZUPVPMiZWKnAO0nGQDjinWXhjSNPu7G6tbVlnsLVrS3kaaRykTFWZTuY7slVOTk8da1qKNgKWnaPY6VNfS2EHlPf3Jurk72bzJSqqW5JxwqjAwOKoah4N0XUtQlvZorqC4nAE72V/Pa+fgYHmCJ1EhA4y2eOOlblFAGf/AGHp41uPVxE4vo7f7KJRM4DRZyFZc4bBJILAkZOOpqja+CtEsdQS7soru22SmVbaHULhLZXJySLcP5QyST93qSevNb1FGwGOfCminR9T0o2X+hatJNLexea/71pf9Yc5yufYjHbFWp9GsLnULC9mg3XGnb/sr72Hl7l2txnByOOc1eooAwW8F6J/aTXsUV3bSPN57xWuoXEEDyZyXaFHEbMSMkleT1zV+20XT7S81G6t7fZNqbq9229j5hVAgOCcD5QBxir9FHSwdbmFJ4L0F9C0/RxaSRWmmBfsXkXUsUtvhSo2yqwkHykg/NyCQc1qTafa3OmNp93CtzaPF5MkVx+9EiYwQ27O7I65znvVmijfcNjE0jwho2iXgurKC4e4WPyY5by8mumiT+5GZXYopwMhcA4Gegq/pmlWWjWj22mw+TC80k7LvZsvI5dzkk9WYnHQZ4q5RTuwMlvDOlt4gfWlinivpFCytDdSxpNhSoMkasEkIBwCykjj0FMHhLRB4ctNBFl/xLLN4ngg81/kMbh0O7O44YA8nnvWzRSAxdT8I6Rq2oG+uI7qC7ZAkk9hfT2jyqOgcwupcDnG7OMnGMmr82lWNzpJ0u6tY7mxaIRNBOvmKyAYwwbOfxq3RRbSwdbnP6b4H0LSru2ubeG7me0GLYXmoXF0lvxjMaSuyoccZUA4JHQkU678F6Jd6jLemK7t5Z2DzrZ6hcW0c7f3pI43VHJGASwJIAByBW9RRfqBSh0ext9audWhg2313FHDNLvY70QsUGM4GN7cgd+aqDwpog0y+09tPje01C5e6uYpGZw8rncXGSdpyARjGCARitiigDBj8GaMljdWkgv7mG7UJKLvVLm4bAORtaSQlcHkFSCDzVjSPDOl6HcTXFjHcPczqEkuLy8mupSoyQu+VmYKCSdoOMknFa1FAGbe+HtL1DXNP1i7tvMv9NEgtZvMYeWHADDaDhs4HUHGMik0/wAOaVper6jqlhaCG81Nla7lDsfMKjA4JwvU9AMk5PNadFAbmEfBeg/8I3a6EtkyWFm4ktljuJEkgcEkMkoYOrZJ5DZwSOhq3ZeH9OsNS/tC3ikN59lSzM8txJK7RISVBLscnLE7jyc8k1pUUAUtK0ex0S1kttMg8iKSeS4dd7NmSRy7nJJ6sScdB2ri/DPw6tGtdTPiXT5N9zrF1dfZxeOIbmNpS0bSxI/lycY4cE4AB6Yr0GihaO/y/L/IOlvO/wCf+Zjal4S0bVdTXULy3lFyIxE7QXUsImjBJCSqjASryflcMOTxyart4E8P/YbKzt7WezisFdLb7FfT2zxKxyyh43VtpODtzjgccDHQ0UB5nOv4E8Pm2tIYra5tfsiukUtnfz28uHO590kbq7bmAZtxO4gE5IzU0ngzQZNHtNMFj5NvZMXtngmkimhY/eZZkYSBmydzbstk5Jya3KKAMVvCWjyaDNo9zBPdWc773F3eTTyFuMMJXcuGBAIIYFcDGMUmm+D9F0nVV1S0t5n1BYGt/tdzdzXEpiZgxQvI7EjKggE8c4xk526Kd2tgsYmreENI1q9N3ereJO0flPJaahcWpkQZwreU67gMnAOcZOOpp174S0S+tLO3ey+zrYLstHspXtZLdcYKpJEysqkAAgHBwM1s0UvIDh/FHgsXkXhmx0+2murKy1hbq6M948kiJ5cgL+ZI5ckMykEEsDyOlblr4N0K1sb+0FkbiPUk2Xj3k8lzJcLjAV5JGZyACcDOBk4xmtyijo13/wCB/kHVeX+bf6mFp3gvQtL1KDUba2mkvrdGjiurq8muZVRsZTfI7Nt4yFzgEkgAk5kXwloaeGpfD4sFOlys7PA0jH5ncyFgxO4HeSwIOQcYxgVs0UbgYmm+D9E0rVU1O0tpW1BYGtvtdzdSzzNEzBijPIzMwyoxknHOMZOWW3gnQLTTb3To7Fn0+9BWWymuJZbdQSThInYpGMknCBe3oK3qKOlg2MfSvCukaNcS3FpDPJcyx+U1zeXc11N5fXYJJWZguedoIGecZq5pOk2WhaTbaZpUPkWdqnlwx72bavpliSfxNXKKACiiigAooooAKKKKACiiigAooooAKgu/9SP96p6gu/8AUj/eoAp0VzfifxG2j6hp1kL/AE7TBeLK5vNRBaNdm35AN6cnd1Ldjwc1mjxZq8Ph/SpLtIRfanNIFkh0+eVI41yQ3koxd8gAjlRhsnpydLgdtRXD6pqWrav8PdeLKtrJbwzo80+nTRLdReUTlI3ZWQ84ySwBU9a6TQY9Sj02L+07u1uAYk8v7PatDtGO+ZHz29KO/wAvxB9Pn+BqVG88MUscckqJJKSI0ZgC5AyQB34BNNu7lbOxnuZAzJDG0jBRkkAZ4/KuRE2rXmveGL7UprLybl5ZY7e3gYNFugYgGQuQ+AcZCrnrQD0O0orl7HxLeXWgaJfSRwCXUL37PKFU7VXLjK89flHXPesK48beIBDcTwRaasUcd9IqvHIW220u3nDDJYHGOMdcn7tC1/r5huei1DdXltZQiW9uIreMsEDyuEBYnAGT3J4rjJ/Fmuy61Ja2MenxxC/Fkhmjdm5tvO3nDDpyMfxZ6rjJm1HVb2/8E6TrLw6bJFMbV7i1ubRpQzPIgBQ7xtKliRkN2p2/T8Q3OzornfEviGfS76xsLNSs12skhm+wzXYjVNuf3UXzEksOcgD8gYY9f1ibwrLex6dJ9siuPJJazlXcm4AzLA2JCNpzsznggE9Sg2Ooqvb31tdT3ENvKJHtXEcwUHCMQDtz0zgg47ZFZOnazLc+Hb66+1w3tzbCTKxWclqyMq5CNFIzMrd+cZBHFS+EraO18I6asZ3GS3WaRz1kdxvdj7lmJ/Gjv8vx/wCGFfb+tjRsb621KzS6spRLC+cMARyDggg8ggggg8gjFaNn/H+FcppY+y+OdbtIciCaC3vGUdFlYujH8RGp/A+tdXZ/x/hQPrYtUUVDdtMljO1qoedY2ManoWxwPzpN2VxpXdiaivGvCGi6xq3h/QtdtdM0G31N54Jb3XW1WR72UhwJ4pAbcZJG6Pyi+1TtA+6uH2VrY/8ACdxaOu1fA41aQ2UXlgwvqaqWaAHOBCG3uo2481WAPCg1bW39dP8APT/giezf9df69Lvoeqabq8GqTX8VukitYXRtZd4AywVWyME8Ycdcd6vV5d4a0DQrG08fT6fpFha3lve3cAlhtUR44zAjBAQAQpznA4qvYWekWPwn8M3Emg22p6lr0NjbyG5mMQupGQMBPLhmaIYOEIZeFULjAqU7xv5R++Sf+X4h1frL8D1mkdgiMx6KMnFeJr/aXhdfiDp2hXOmRT2uk21x5OhWZt4rSZ/NDsIg74kEaq2RjOFOO57qx8I+CF0dZdL07TZzfWD4mCq7X8RCktIes2TtJZtxyc9TRPSLa7f5/wCQ1rJL+un+Z0uiatBr2hWWrWaSJBewJPGsoAYKwyAQCRn8TS61eS6foOoXtsivNbW0ksasCQWVSQCBzjIrlvhFpmmWPwu0GfTLG1tZLuwge5kghVGmkCAFnIALNnPJ5rmhYaVq/hvxzrfiSKCTWrK5voBcznElhGikQrE5+aJShVvlIyXJ5zRX93nUeif4f8OFPXlb6tf1+B6V4e1CXVvDOmajcqizXdpFPIsYIUMyBiBkk4yfWtGvM9CdY/EHw43sF8zw5OqZONzbLY4HqcAn8K53Xpkn8H/EiS2nyp8R2u2WCQgg/wCiDIZTkEHuDkGtJK9Rpef/AKUl+pFP4It9bflc9uorzW+8H6BD8VtLsYdMhjs77SruW+t1JEd68ckIVp1ziYjzHOZN2S2Tzg1z97EsfgjUdLgaS3s7XxrDa20dvI0X2eI3ER2RlSCgG9sbSMZ4xUxV2l3/APklH9Rt2T/rpf8AQ9qorzceDPDo+K0unDSLZdOn0cXM9gq4tp5RMQJJIR8kjAH7zKTnB6gVj6LG1j4Ls/EEA58M67ewDPJj0/7S8UkYP9xE2sB28oelJapef+dvz/AL6tdv8r/15nsFFcp4LiTULrWPEzDc2q3RjgY44toSY48exId/+B1yV+raWurfD22CRjV9Tj+xomV2WV1vefGP7vlXPTplaFrZd/8Agaf12Y+jfb8u/wDXc9Yorxzxfp+m6rF4qls9M0Owi0CL7O+qaojTzo6wIyJbjen2dQHXayv97JCZOTpQWsHiTx94ag16Jb+C48KG4nhnG6Od/Mh5dOjjLE4YEZwcZAII+9Ky/rRv9BN23/rVJ/megWF7qVxqupW99pJs7S3dBaXX2hZPtalcs2wcptPGD161ok4Bryt72z0Wb4lT3Fo09tHdWkQtoZjBu3W8SKu9eUXJAJ7DP0pPDemt4d+LttYRR6BpxvdGnnudN0O18lY9ssflmQ7v3hG6QLJsjz83HYLdadv0uNqyv/W52ngPX7rxR4G0zWdQjhjubuNmdYFIQEORwCSe3rRpniC6vfH2vaHLHCLbTba0lhdVO9jL5m7cc4I+QYwB3615PpOlaNF+z3Y69YQwnxFEuywvkkzcrc+eQkKOTuAJODGCBhm45NdHrNzq1jr/AMSrrSFYalHoVk8JjByGCT8r7jnHuKqbSu+w0ru39bpf18z1aivMvDXh+7g1HQ9X0nTfD2kWTqz3V9YatJcS6lE0TEby1unmtu2yb2YkYb1Oa/hbT7Xwp4k0KG803S9RfVmnFl4n06b/AEi8zGZc3K4y4Zdx3B3XcqnavGHy62JvdXPVaK4fxvFbaz4k0nw8dI0/Ubu4gnuUfV90lrbohjVn8jpNJ84wPlIG75lyc8toelya38PrnRrXV9Il+zeIJ47O3kUrY3ypl/suzex8r7x2gvtC9CBtqE7/ANeaT/Mb0/ryb/Q9horkvAE9mLXVtNtNEg0ObTr4w3NnZzebbK5RWDREBQFKspI2J8xbIyST534nW3vNGv8AxbptnoukNb6sYoL65Vp9SuZo7nY22YuphHykCP8AeApxhR8tPql3/wCB/n/XRSdot9v+D/ke41gaxrl3p/i7w9pcEcTW+pvcLO7qSy+XFvXaQcDJ9QapfE69utP+HuoT2U0tv80ST3ELFXhgaVVldSOQQhY57Yz2rBvND8P6B8TPBNv4es7OwEovJGhtAEEoEGBIyrwx7byCeetIJaI9Kqha6vBd6zf6ZGkgmsBEZWYDafMBIxzntzkCvHNQEMtro3jDTLLRNF+1a7bx2srI02p3Ya52OWuCykEoXBiIkwoIyMYXrNG0bw/ZfE7xlqDaPZC7s0trlJY7VBMm+J97IwGQWIbJB5OaNo8z8/wSf6jd+blX9bno1c1pOs6prHjDWLeF7ODS9InW0eJrdmnnkMKyFxJvCoo8xRjYxODyM8ecWNvFaax4H17T7PQ9E/tm+Xyre0DS31zA8LszTXJYGbJKlgUbDFTvJ5Nm40LSbLRfi1d2Wl2VvcxmeJJordEdUayidlDAZALEsR3Jz1p7KTfRP71b/MaXM4rvb8b/AOR7HRXmmq6Xo0GjaBZQ+HdP1HUtfeMM1/IVindIGffcnBM+0ZKowPOMbcZHLXivpvw5+J+mW93YvBp8qCJdKhNvb27mKMusce9/LIfOQG+9uOATTkrNrt/wP8xQ99K3X9T3SivM9S8H6DB8RvDdrDp6JBqFleG/RXYfbygiK/aOf3/LMT5m7OTnNYV9Pc6N4Y8Wabo3l2el2fiaC3MSXDWsVrayLC0ih0UmJCznJUfKHY8Ulq7f1ul+odL9P+A3+h7TRXD+FPDuo6N4oaaLR9B0DS5bNllsdJvHkE0oddkuzyI1Uhd4LDJOVB6Cu4p9LiCiiikMKKKKACiiigAooooAKKKKACiiigAooooAKKKKACiiigAooooAKKKKACiiigAooooAKKKKACiiigAooooAKgu/9SP96p6KAOG8R6FqGoaxa3tksc0cUDxNEdQmsXBLKQ3mQqWYcY2njoalsPDPmaHHaa/LJdSpO08LJdSl7bJOFSfIkOASNxIJBIwBxXaUULRW/ruG5gWul21pYyWa+dNBJneLq4kuCwIwRukZjj2ziqkOlNodg0fh+Bp3O0LDfalOUVRx8pYSbcDsBiuqooA5a2m16a4WPUdL0yO2bIkaLUJJWAx/dMCg/mKZZeFNG0+6t7i2tX821yLdpLiSTyQVKlUDMdq4P3RgdOOBXWUUAclD4S0WC8juUtHMkUxnhDXEjJC5JJKIW2pkk5CgA04+FdGaF4jZ/I6Tow81+VnbdKOvcjPt2xXV0UbB1ucyvh3S1uTcLa4lNx9p3eY3+s8vyt3X+5xjp3681BdeEtIu9PtrGWO6W1tUVIoYr6eNQFIK5CuNxBAIJyeK62igDmbjw9p91aW0E63DfZSTDN9rlEyZ4OJQ2/kHB+bmnnRbU6YLDzb7yQ27d/aE/m5zn/W79+PbOK6OigDn9P0mz0y3khtI3xKxeRppXleQ4xlnclm4AHJ6ACq+g6XNotnJYeYslnC5+x9d8cZ58tu3ynIBH8OB2yeoooA5jRdMmsvtV3qEiS397IJJ2jzsQAYVFzztUdz1JJ4zgbtn/H+FWqKACiiigDJk8KeHpdZ/teXQdMfU9wb7a1nGZsgYB343Zxx16VOdC0htJTS20qyOnxkFLQ26eSpDbgQmMDDc9OvNX6KA3M+XQNHn1RtTm0mxkv2jMJu3tkMpQjBXfjO3BxjOKfNo2l3OjjSbjTbOXTQixiykgVoQq42rsI24GBgY4wKu0UB1uU7DR9M0pQul6daWQWMRAW8Cx4QEkL8oHALMQOmSfWq+n+GNA0m+kvdK0PTbK7lz5lxbWkccj5OTllAJya1KKOtw8ijp+h6TpNxdXGl6XZWU14++5ktrdI2nbJOXKgFjkk5PqajufDeh3urJql5o2n3GoRrtS7ltUaVRzwHIyBye/c1pUUAZ194e0XVNNh0/U9IsLyygx5VtcWySRx4GBtUggYHAx2p76JpUltNbyaZZtBOyvNE1upWRlChSwxgkBVxnptHoKvUUAQtZ2z3sd49vE1zEjRxzlAXRWILKG6gEquR3wPSoG0bTHjeNtNtGSS4F06mBcNMCCJCMcuCAd3XgVdooAi+yW/237Z9ni+1eX5Xn7Bv2Zzt3dcZ5xWJruj3b6HNpPhq006zhv/NS6mc7PJ8zO+RY1QiRyWY4Yrk8kmugopNJqzGnZ3RV0zTrbSNJtdOsI/LtrSFYYkH8KqMAfkKc+nWUmoxahJZ273sKGOO5aJTIiHqobGQD3FWKKptt3ZKSSsjNufDmiXmqrqd3o+nz36oY1u5bVGlCEEFQ5GcYJGM9zVmPTbGG4iuIbK3jmhh+zxSLEoaOLIOxTjIXgcDjgVZopDKraXp7C8DWNsRfDF2DCv8ApA27fn4+b5eOc8cVBp3h7RdHWMaTo9hYiIOIxbWqR7A+N2NoGM7Vz67R6Vo0UAZUHhbw/bahBf22habDeW0flwXMdnGskSYI2qwGQMEjA7Grn9m2P9qf2l9it/t/leR9q8pfN8vOdm/GduecZxmrNFAGTbeE/Dtlqcmo2egaXb30pYyXUVnGsr7vvZcDJz355p2n+F9A0jUJb7StD02xvJgRJcW1pHHI4JyQWUAnJAP1rUooAoatoWka9BHDrml2WpRRtvSO8t0mVWxjIDA4OO9NuvD2i31nLaX2j2FzbTP5kkM1qjo78fMVIwTwOfYVo0UAVdO0yw0ixSy0myt7G1jyUgtoljRcnJwqgAZJzVVvC+gPqFxfvoemteXS7Li4NpGZJl44ZsZYfKvX0HpWpRR5h5COiyIySKGVhhlYZBHpWZpvhfQNG2/2Roem2G1zIv2W0jiw5XaWG0DnaSM+nFalFAGVH4W8PxXlxdxaFpqXN04knmWzjDysGDhmbGWIYBsnuM9anudE0q81O31K70yznvrUYt7qW3VpYf8AdcjK9exq9RQBl2fhfQNOmkm0/Q9NtZZZRM7wWkaM8gzhyQOWG5uevzH1q02lae8V5G9jbNHfEm7UwqRcZUKd4x83ygDnPAAq1RR5B1uUr/RtL1XThp+qabZ3tkNuLa4gWSMY6fKwI47UwaBo4sJbEaTYi0mjWKW3+zJ5booCqpXGCAAAAegFaFFAEL2dtJdQ3MlvE1xArLFKyAvGGxuCnqAcDOOuBTYrCzgNyYbSCM3b77gpGB5zYC5f+8cADJ7AVYooAy9J8MaDoEkkmhaJpumPKAsjWdpHCXA6AlQM1qUUUAFFFFABRRRQAUUUUAFFFFABRRRQAUUUUAFFFFABRRRQAUUUUAFFFFABRRRQAUUUUAFFFFABRRRQAUUUUAFFFFABRRRQAUUUUAFFFFABRRRQAUUUUAFFFFABRRRQAUUUUAFFFFABRRRQAUUUUAFFFFABRRRQAUUUUAFFFFABRRRQAUUUUAFFFFABRRRQAUUUUAFFFFABRRRQAUUUUAFFFFABRRRQAUUUUAFFFFABRRRQAUUUUAFFFFABRRRQAUUUUAFFFFABRRRQAUUUUAFFFFABRRRQAUUUUAFFFFABRRRQAUUUUAFFFFABRRRQAUUUUAf/2Q==)"
      ]
    },
    {
      "cell_type": "code",
      "metadata": {
        "colab": {
          "base_uri": "https://localhost:8080/"
        },
        "id": "VdAgRs1MjCz3",
        "outputId": "5a439abd-4f95-4ea1-9357-6aa0b85d27b3"
      },
      "source": [
        "monte.str[0:3]"
      ],
      "execution_count": 35,
      "outputs": [
        {
          "output_type": "execute_result",
          "data": {
            "text/plain": [
              "0    Gra\n",
              "1    Joh\n",
              "2    Ter\n",
              "3    Eri\n",
              "4    Ter\n",
              "5    Mic\n",
              "dtype: object"
            ]
          },
          "metadata": {
            "tags": []
          },
          "execution_count": 35
        }
      ]
    },
    {
      "cell_type": "code",
      "metadata": {
        "colab": {
          "base_uri": "https://localhost:8080/"
        },
        "id": "WA-xdQvVjIys",
        "outputId": "f4856824-c60f-4bb2-e824-1540a55c8d2a"
      },
      "source": [
        "monte.str.split().str.get(-1)"
      ],
      "execution_count": 36,
      "outputs": [
        {
          "output_type": "execute_result",
          "data": {
            "text/plain": [
              "0    Chapman\n",
              "1     Cleese\n",
              "2    Gilliam\n",
              "3       Idle\n",
              "4      Jones\n",
              "5      Palin\n",
              "dtype: object"
            ]
          },
          "metadata": {
            "tags": []
          },
          "execution_count": 36
        }
      ]
    },
    {
      "cell_type": "markdown",
      "metadata": {
        "id": "DhUqrnW5jTua"
      },
      "source": [
        "#**Time Series**"
      ]
    },
    {
      "cell_type": "code",
      "metadata": {
        "id": "XNqIOa7wkPnC"
      },
      "source": [
        "from datetime import datetime"
      ],
      "execution_count": 39,
      "outputs": []
    },
    {
      "cell_type": "code",
      "metadata": {
        "colab": {
          "base_uri": "https://localhost:8080/"
        },
        "id": "0EGKWCA2kYwU",
        "outputId": "6609ba5c-96cd-4373-e639-8d5911c94668"
      },
      "source": [
        "datetime(year=2015, month=7, day=4)"
      ],
      "execution_count": 40,
      "outputs": [
        {
          "output_type": "execute_result",
          "data": {
            "text/plain": [
              "datetime.datetime(2015, 7, 4, 0, 0)"
            ]
          },
          "metadata": {
            "tags": []
          },
          "execution_count": 40
        }
      ]
    },
    {
      "cell_type": "code",
      "metadata": {
        "id": "poRYGZwHkeoj"
      },
      "source": [
        "from dateutil import parser"
      ],
      "execution_count": 41,
      "outputs": []
    },
    {
      "cell_type": "code",
      "metadata": {
        "colab": {
          "base_uri": "https://localhost:8080/"
        },
        "id": "FGl9El9Wkjkd",
        "outputId": "bb09c861-f42f-48f6-d234-1be875b11985"
      },
      "source": [
        "#Bu metod string ifadelerden date çıkarabilmemize yarar\r\n",
        "date = parser.parse(\"4th of July, 2015\")\r\n",
        "date"
      ],
      "execution_count": 43,
      "outputs": [
        {
          "output_type": "execute_result",
          "data": {
            "text/plain": [
              "datetime.datetime(2015, 7, 4, 0, 0)"
            ]
          },
          "metadata": {
            "tags": []
          },
          "execution_count": 43
        }
      ]
    },
    {
      "cell_type": "code",
      "metadata": {
        "colab": {
          "base_uri": "https://localhost:8080/",
          "height": 35
        },
        "id": "rQahVFUpklui",
        "outputId": "511e125e-1400-4361-db86-a9db4ad14054"
      },
      "source": [
        "date.strftime('%A')\r\n",
        "#Bu bir format metodudur. Günü belirler"
      ],
      "execution_count": 44,
      "outputs": [
        {
          "output_type": "execute_result",
          "data": {
            "application/vnd.google.colaboratory.intrinsic+json": {
              "type": "string"
            },
            "text/plain": [
              "'Saturday'"
            ]
          },
          "metadata": {
            "tags": []
          },
          "execution_count": 44
        }
      ]
    },
    {
      "cell_type": "markdown",
      "metadata": {
        "id": "-I3AFsUClGQM"
      },
      "source": [
        "***NumPy içinde de zaman metodları vardır ve kullanılabilir***"
      ]
    },
    {
      "cell_type": "code",
      "metadata": {
        "colab": {
          "base_uri": "https://localhost:8080/"
        },
        "id": "6Bf36uuPlYth",
        "outputId": "754b1a1d-0728-4abd-f31c-61ea11800adf"
      },
      "source": [
        "date = np.array('2015-07-04', dtype=np.datetime64)\r\n",
        "date"
      ],
      "execution_count": 45,
      "outputs": [
        {
          "output_type": "execute_result",
          "data": {
            "text/plain": [
              "array('2015-07-04', dtype='datetime64[D]')"
            ]
          },
          "metadata": {
            "tags": []
          },
          "execution_count": 45
        }
      ]
    },
    {
      "cell_type": "code",
      "metadata": {
        "colab": {
          "base_uri": "https://localhost:8080/"
        },
        "id": "3uk-wHq6lcAr",
        "outputId": "9fcb0798-c21d-4cec-825e-30f78b53defc"
      },
      "source": [
        "date + np.arange(12)"
      ],
      "execution_count": 46,
      "outputs": [
        {
          "output_type": "execute_result",
          "data": {
            "text/plain": [
              "array(['2015-07-04', '2015-07-05', '2015-07-06', '2015-07-07',\n",
              "       '2015-07-08', '2015-07-09', '2015-07-10', '2015-07-11',\n",
              "       '2015-07-12', '2015-07-13', '2015-07-14', '2015-07-15'],\n",
              "      dtype='datetime64[D]')"
            ]
          },
          "metadata": {
            "tags": []
          },
          "execution_count": 46
        }
      ]
    },
    {
      "cell_type": "markdown",
      "metadata": {
        "id": "Usu-tD-4lf2O"
      },
      "source": [
        "***Pandas'da da çeşitli zaman metodları kullanılır***"
      ]
    },
    {
      "cell_type": "code",
      "metadata": {
        "colab": {
          "base_uri": "https://localhost:8080/"
        },
        "id": "cNVH28kBl85D",
        "outputId": "caa39706-8c2e-436c-9686-7aba765818fa"
      },
      "source": [
        "date = pd.to_datetime(\"4th of July, 2015\")\r\n",
        "date"
      ],
      "execution_count": 47,
      "outputs": [
        {
          "output_type": "execute_result",
          "data": {
            "text/plain": [
              "Timestamp('2015-07-04 00:00:00')"
            ]
          },
          "metadata": {
            "tags": []
          },
          "execution_count": 47
        }
      ]
    },
    {
      "cell_type": "code",
      "metadata": {
        "colab": {
          "base_uri": "https://localhost:8080/",
          "height": 35
        },
        "id": "Fiy8RGGUl-1u",
        "outputId": "e1c05629-2815-4a45-b573-c439e2f334a6"
      },
      "source": [
        "date.strftime('%A')"
      ],
      "execution_count": 48,
      "outputs": [
        {
          "output_type": "execute_result",
          "data": {
            "application/vnd.google.colaboratory.intrinsic+json": {
              "type": "string"
            },
            "text/plain": [
              "'Saturday'"
            ]
          },
          "metadata": {
            "tags": []
          },
          "execution_count": 48
        }
      ]
    },
    {
      "cell_type": "code",
      "metadata": {
        "colab": {
          "base_uri": "https://localhost:8080/"
        },
        "id": "_5pYg1LHmBDF",
        "outputId": "cf4982b4-11cf-4fa9-d0b2-1930a22097ec"
      },
      "source": [
        "date + pd.to_timedelta(np.arange(12), 'D')"
      ],
      "execution_count": 49,
      "outputs": [
        {
          "output_type": "execute_result",
          "data": {
            "text/plain": [
              "DatetimeIndex(['2015-07-04', '2015-07-05', '2015-07-06', '2015-07-07',\n",
              "               '2015-07-08', '2015-07-09', '2015-07-10', '2015-07-11',\n",
              "               '2015-07-12', '2015-07-13', '2015-07-14', '2015-07-15'],\n",
              "              dtype='datetime64[ns]', freq=None)"
            ]
          },
          "metadata": {
            "tags": []
          },
          "execution_count": 49
        }
      ]
    },
    {
      "cell_type": "code",
      "metadata": {
        "colab": {
          "base_uri": "https://localhost:8080/"
        },
        "id": "kol7cw1QmDhg",
        "outputId": "1220a79d-a526-4bed-d109-e6902146d1ba"
      },
      "source": [
        "index = pd.DatetimeIndex(['2014-07-04', '2014-08-04',\r\n",
        "                          '2015-07-04', '2015-08-04'])\r\n",
        "data = pd.Series([0, 1, 2, 3], index=index)\r\n",
        "data"
      ],
      "execution_count": 50,
      "outputs": [
        {
          "output_type": "execute_result",
          "data": {
            "text/plain": [
              "2014-07-04    0\n",
              "2014-08-04    1\n",
              "2015-07-04    2\n",
              "2015-08-04    3\n",
              "dtype: int64"
            ]
          },
          "metadata": {
            "tags": []
          },
          "execution_count": 50
        }
      ]
    },
    {
      "cell_type": "code",
      "metadata": {
        "colab": {
          "base_uri": "https://localhost:8080/"
        },
        "id": "Vwb0LqqGmKkl",
        "outputId": "20ed2fcf-f611-4373-da7e-e84724b0d6ba"
      },
      "source": [
        "data['2015']"
      ],
      "execution_count": 51,
      "outputs": [
        {
          "output_type": "execute_result",
          "data": {
            "text/plain": [
              "2015-07-04    2\n",
              "2015-08-04    3\n",
              "dtype: int64"
            ]
          },
          "metadata": {
            "tags": []
          },
          "execution_count": 51
        }
      ]
    }
  ]
}