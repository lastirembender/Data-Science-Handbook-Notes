{
  "nbformat": 4,
  "nbformat_minor": 0,
  "metadata": {
    "colab": {
      "name": "Numpy.ipynb",
      "provenance": [],
      "collapsed_sections": [],
      "toc_visible": true
    },
    "kernelspec": {
      "name": "python3",
      "display_name": "Python 3"
    }
  },
  "cells": [
    {
      "cell_type": "markdown",
      "metadata": {
        "id": "-XbEiRIOXfsG"
      },
      "source": [
        "NumPy  çeşitli matematiksel işlemler yapmamızı, çok  boyutlu diziler ve matrisler üzerinde çalışmamızı sağlayan bir python kütüphanesidir. Aşağıdaki kod satırıyla koda dahil edilir.\r\n",
        "\r\n"
      ]
    },
    {
      "cell_type": "code",
      "metadata": {
        "id": "V7SLhP7ZiJoB"
      },
      "source": [
        "import numpy as np"
      ],
      "execution_count": null,
      "outputs": []
    },
    {
      "cell_type": "markdown",
      "metadata": {
        "id": "66lbXFuyu2Jv"
      },
      "source": [
        "# NumPy Dizisi(Array) Oluşturma"
      ]
    },
    {
      "cell_type": "code",
      "metadata": {
        "id": "Ro7MiFE6iZFc"
      },
      "source": [
        "dizi=np.array([2,3,5,7])"
      ],
      "execution_count": null,
      "outputs": []
    },
    {
      "cell_type": "code",
      "metadata": {
        "id": "_WwnVArmjDXG"
      },
      "source": [
        "dizi1=np.array([[1,1,2],\r\n",
        "               [8,13,21],\r\n",
        "               [42,76,118]])"
      ],
      "execution_count": null,
      "outputs": []
    },
    {
      "cell_type": "code",
      "metadata": {
        "id": "Qv48yfHZkgeT"
      },
      "source": [
        "dizi2=np.array((1,2,3)) #Tuple ile oluşturulmuş NumPy array"
      ],
      "execution_count": null,
      "outputs": []
    },
    {
      "cell_type": "code",
      "metadata": {
        "colab": {
          "base_uri": "https://localhost:8080/"
        },
        "id": "NmSu9J4ytPiI",
        "outputId": "8d475db6-8e37-40de-db2b-af0678a84288"
      },
      "source": [
        "np.zeros((2,2)) #Sadece 0lardan oluşan 2x2 boyutunda bir dizi üretir"
      ],
      "execution_count": null,
      "outputs": [
        {
          "output_type": "execute_result",
          "data": {
            "text/plain": [
              "array([[0., 0.],\n",
              "       [0., 0.]])"
            ]
          },
          "metadata": {
            "tags": []
          },
          "execution_count": 5
        }
      ]
    },
    {
      "cell_type": "markdown",
      "metadata": {
        "id": "9Us8a8VEwp61"
      },
      "source": [
        "👇Fark edileceği üzere bu array içindekiler float değerindedir. Integer değere çevirmek için aşağıdaki kod satırı uygulanabilir. 👇"
      ]
    },
    {
      "cell_type": "code",
      "metadata": {
        "colab": {
          "base_uri": "https://localhost:8080/"
        },
        "id": "huHBdqDnwjgM",
        "outputId": "7ff0cbc6-798e-4e9f-e9a9-55107f4856c7"
      },
      "source": [
        "np.zeros((2,2), dtype = np.int64)"
      ],
      "execution_count": null,
      "outputs": [
        {
          "output_type": "execute_result",
          "data": {
            "text/plain": [
              "array([[0, 0],\n",
              "       [0, 0]])"
            ]
          },
          "metadata": {
            "tags": []
          },
          "execution_count": 6
        }
      ]
    },
    {
      "cell_type": "code",
      "metadata": {
        "colab": {
          "base_uri": "https://localhost:8080/"
        },
        "id": "ncju_u71tsRz",
        "outputId": "0cad8cd6-22ec-42ce-ea43-79454b899483"
      },
      "source": [
        "np.ones((3,3)) #Sadece 1lerden olluşan 3x3 boyutunda dizi üretir"
      ],
      "execution_count": null,
      "outputs": [
        {
          "output_type": "execute_result",
          "data": {
            "text/plain": [
              "array([[1., 1., 1.],\n",
              "       [1., 1., 1.],\n",
              "       [1., 1., 1.]])"
            ]
          },
          "metadata": {
            "tags": []
          },
          "execution_count": 7
        }
      ]
    },
    {
      "cell_type": "code",
      "metadata": {
        "colab": {
          "base_uri": "https://localhost:8080/"
        },
        "id": "zT2znYkbt7rm",
        "outputId": "66149f44-eebf-4eee-f568-483586f7d131"
      },
      "source": [
        "np.random.random((5,5)) #Rastgele sayılardan oluşan 5x5lik bir dizi üretir"
      ],
      "execution_count": null,
      "outputs": [
        {
          "output_type": "execute_result",
          "data": {
            "text/plain": [
              "array([[0.95371473, 0.29926984, 0.0863122 , 0.90524503, 0.2906997 ],\n",
              "       [0.14219347, 0.1693388 , 0.42844603, 0.74550543, 0.42774069],\n",
              "       [0.36687317, 0.6243246 , 0.53088091, 0.65008288, 0.79063679],\n",
              "       [0.70449142, 0.35725706, 0.73282972, 0.24272965, 0.99830351],\n",
              "       [0.50715984, 0.89543242, 0.78856009, 0.09240374, 0.91204965]])"
            ]
          },
          "metadata": {
            "tags": []
          },
          "execution_count": 8
        }
      ]
    },
    {
      "cell_type": "code",
      "metadata": {
        "id": "ME76kvYvHGyI"
      },
      "source": [
        "np.random.normal(0, 1, (3, 3))"
      ],
      "execution_count": null,
      "outputs": []
    },
    {
      "cell_type": "code",
      "metadata": {
        "id": "TAVpoGVxHOTs"
      },
      "source": [
        "np.random.randint(0, 10, (3, 3))"
      ],
      "execution_count": null,
      "outputs": []
    },
    {
      "cell_type": "code",
      "metadata": {
        "colab": {
          "base_uri": "https://localhost:8080/"
        },
        "id": "7CXSidUauWsr",
        "outputId": "9b9ead54-5d96-4e9e-e4a5-82e6b79f793a"
      },
      "source": [
        "np.empty((2,2)) #2x2lik boş bir dizi üretir"
      ],
      "execution_count": null,
      "outputs": [
        {
          "output_type": "execute_result",
          "data": {
            "text/plain": [
              "array([[3.57195233e-316, 2.47379779e-091],\n",
              "       [2.44041296e-154, 2.46564255e-154]])"
            ]
          },
          "metadata": {
            "tags": []
          },
          "execution_count": 9
        }
      ]
    },
    {
      "cell_type": "code",
      "metadata": {
        "colab": {
          "base_uri": "https://localhost:8080/"
        },
        "id": "hYUoMfrOgf3O",
        "outputId": "d0ac4ee7-fb19-4ff5-c31a-2930a1374d20"
      },
      "source": [
        "np.full((2,2),6,dtype=\"int\")"
      ],
      "execution_count": null,
      "outputs": [
        {
          "output_type": "execute_result",
          "data": {
            "text/plain": [
              "array([[6, 6],\n",
              "       [6, 6]])"
            ]
          },
          "metadata": {
            "tags": []
          },
          "execution_count": 10
        }
      ]
    },
    {
      "cell_type": "code",
      "metadata": {
        "id": "VTbniCx8G2ZR"
      },
      "source": [
        "# nested lists result in multi-dimensional arrays\r\n",
        "np.array([range(i, i + 3) for i in [2, 4, 6]])"
      ],
      "execution_count": null,
      "outputs": []
    },
    {
      "cell_type": "markdown",
      "metadata": {
        "id": "jBkPTYaYvBvc"
      },
      "source": [
        "# Slicing İşlemi"
      ]
    },
    {
      "cell_type": "code",
      "metadata": {
        "colab": {
          "base_uri": "https://localhost:8080/"
        },
        "id": "93XGnQY8lJsU",
        "outputId": "a61cf3b7-43c4-4a1a-e59e-dcc8fa3f5a61"
      },
      "source": [
        "dizi[:2] #Baştan ikinci indeksteki elemana kadar olan kısmı yazdırır"
      ],
      "execution_count": null,
      "outputs": [
        {
          "output_type": "execute_result",
          "data": {
            "text/plain": [
              "array([2, 3])"
            ]
          },
          "metadata": {
            "tags": []
          },
          "execution_count": 11
        }
      ]
    },
    {
      "cell_type": "code",
      "metadata": {
        "colab": {
          "base_uri": "https://localhost:8080/"
        },
        "id": "e9FXioJflMPD",
        "outputId": "43451927-54ee-4c14-cc4a-9f3d2546e4eb"
      },
      "source": [
        "dizi[::2] #Baştan sona ikişer ikişer atlaya atlaya yazdırır"
      ],
      "execution_count": null,
      "outputs": [
        {
          "output_type": "execute_result",
          "data": {
            "text/plain": [
              "array([2, 5])"
            ]
          },
          "metadata": {
            "tags": []
          },
          "execution_count": 12
        }
      ]
    },
    {
      "cell_type": "code",
      "metadata": {
        "colab": {
          "base_uri": "https://localhost:8080/"
        },
        "id": "uoeuy41mlQCe",
        "outputId": "9d66b2fd-a594-48f6-a637-f68509bb74f9"
      },
      "source": [
        "dizi1[:1] #İki boyutlu dizilerde satır bazında slicing işlemi yapılır"
      ],
      "execution_count": null,
      "outputs": [
        {
          "output_type": "execute_result",
          "data": {
            "text/plain": [
              "array([[1, 1, 2]])"
            ]
          },
          "metadata": {
            "tags": []
          },
          "execution_count": 13
        }
      ]
    },
    {
      "cell_type": "code",
      "metadata": {
        "colab": {
          "base_uri": "https://localhost:8080/"
        },
        "id": "hZiNah9QmDwP",
        "outputId": "5c26cf8f-b401-4ae5-8e1e-77032c4bd9fc"
      },
      "source": [
        "dizi1[:,:2] "
      ],
      "execution_count": null,
      "outputs": [
        {
          "output_type": "execute_result",
          "data": {
            "text/plain": [
              "array([[ 1,  1],\n",
              "       [ 8, 13],\n",
              "       [42, 76]])"
            ]
          },
          "metadata": {
            "tags": []
          },
          "execution_count": 14
        }
      ]
    },
    {
      "cell_type": "markdown",
      "metadata": {
        "id": "-VZA6ibUn8YY"
      },
      "source": [
        "İki boyutlu dizilerde şu tarz bir slicing işlemi yapılabilir ancak dikkat edilmesi gerek husus slicing işlemi yapılacak NumPy dizisinin eşit boyutlarda (örneğin 3x3 veya 4x4 lük matris) olmasıdır. Aksi halde \"too many indices for array\" hatası alınacaktır"
      ]
    },
    {
      "cell_type": "markdown",
      "metadata": {
        "id": "0RGZgSyruqKg"
      },
      "source": [
        "\r\n",
        "\r\n",
        "# NumPy Dizilerinde Basit İşlemler"
      ]
    },
    {
      "cell_type": "markdown",
      "metadata": {
        "id": "GKlusTj-yXvg"
      },
      "source": [
        "## **Matematiksel İşlemler**"
      ]
    },
    {
      "cell_type": "code",
      "metadata": {
        "id": "Wr90pJpooor6"
      },
      "source": [
        "a=np.array([[1,2,3],\r\n",
        "           [4,5,6],\r\n",
        "           [7,8,9]])"
      ],
      "execution_count": null,
      "outputs": []
    },
    {
      "cell_type": "code",
      "metadata": {
        "colab": {
          "base_uri": "https://localhost:8080/"
        },
        "id": "FQSJO3qJo8OB",
        "outputId": "a59a49c6-2329-44c4-87ac-927f49acc0f9"
      },
      "source": [
        "a.sum() #NumPy dizisi içindeki tüm elemanların toplamıdır"
      ],
      "execution_count": null,
      "outputs": [
        {
          "output_type": "execute_result",
          "data": {
            "text/plain": [
              "45"
            ]
          },
          "metadata": {
            "tags": []
          },
          "execution_count": 16
        }
      ]
    },
    {
      "cell_type": "code",
      "metadata": {
        "id": "kziGAlSzsepd"
      },
      "source": [
        "b=np.array([[1,1,1],\r\n",
        "           [1,1,1],\r\n",
        "           [1,1,1]])"
      ],
      "execution_count": null,
      "outputs": []
    },
    {
      "cell_type": "code",
      "metadata": {
        "colab": {
          "base_uri": "https://localhost:8080/"
        },
        "id": "LOENRtYZs0E0",
        "outputId": "2e95b837-657d-4042-d488-835be062bc5f"
      },
      "source": [
        "a+b #İki dizinin tüm elemanlarını birbiriyle toplar"
      ],
      "execution_count": null,
      "outputs": [
        {
          "output_type": "execute_result",
          "data": {
            "text/plain": [
              "array([[ 2,  3,  4],\n",
              "       [ 5,  6,  7],\n",
              "       [ 8,  9, 10]])"
            ]
          },
          "metadata": {
            "tags": []
          },
          "execution_count": 18
        }
      ]
    },
    {
      "cell_type": "code",
      "metadata": {
        "colab": {
          "base_uri": "https://localhost:8080/"
        },
        "id": "ySLxyMqzs676",
        "outputId": "2dccbf1c-b538-40b5-c8e6-9381c8efe4fa"
      },
      "source": [
        "a-1 #Dizideki her elemandan bir azaltır"
      ],
      "execution_count": null,
      "outputs": [
        {
          "output_type": "execute_result",
          "data": {
            "text/plain": [
              "array([[0, 1, 2],\n",
              "       [3, 4, 5],\n",
              "       [6, 7, 8]])"
            ]
          },
          "metadata": {
            "tags": []
          },
          "execution_count": 19
        }
      ]
    },
    {
      "cell_type": "code",
      "metadata": {
        "colab": {
          "base_uri": "https://localhost:8080/"
        },
        "id": "2AO4FdNqxz8C",
        "outputId": "7af76424-dacd-4296-9980-44a8515010c6"
      },
      "source": [
        "np.sqrt(a) #A dizisindeki her elemanın karekökünü alır"
      ],
      "execution_count": null,
      "outputs": [
        {
          "output_type": "execute_result",
          "data": {
            "text/plain": [
              "array([[1.        , 1.41421356, 1.73205081],\n",
              "       [2.        , 2.23606798, 2.44948974],\n",
              "       [2.64575131, 2.82842712, 3.        ]])"
            ]
          },
          "metadata": {
            "tags": []
          },
          "execution_count": 20
        }
      ]
    },
    {
      "cell_type": "code",
      "metadata": {
        "colab": {
          "base_uri": "https://localhost:8080/"
        },
        "id": "sN_VmNbhtCgT",
        "outputId": "1fa33997-4b61-4ef5-af75-a798378c571b"
      },
      "source": [
        "a.shape #A dizisinin boyutudur"
      ],
      "execution_count": null,
      "outputs": [
        {
          "output_type": "execute_result",
          "data": {
            "text/plain": [
              "(3, 3)"
            ]
          },
          "metadata": {
            "tags": []
          },
          "execution_count": 21
        }
      ]
    },
    {
      "cell_type": "code",
      "metadata": {
        "colab": {
          "base_uri": "https://localhost:8080/"
        },
        "id": "gK4Vm7G9yJeg",
        "outputId": "d3239177-16bf-4cb1-cb78-e7421d9ce7c2"
      },
      "source": [
        "a.T #A dizisinin satırlarıyla sütunlarını yer değiştirir. Bir anlamda Transpoze işlemi yapar"
      ],
      "execution_count": null,
      "outputs": [
        {
          "output_type": "execute_result",
          "data": {
            "text/plain": [
              "array([[1, 4, 7],\n",
              "       [2, 5, 8],\n",
              "       [3, 6, 9]])"
            ]
          },
          "metadata": {
            "tags": []
          },
          "execution_count": 22
        }
      ]
    },
    {
      "cell_type": "markdown",
      "metadata": {
        "id": "ZjiRr5bcyKiK"
      },
      "source": [
        "## **Basit işlemler**"
      ]
    },
    {
      "cell_type": "code",
      "metadata": {
        "colab": {
          "base_uri": "https://localhost:8080/"
        },
        "id": "9rHHhSoTv7zM",
        "outputId": "4743d85e-b63a-4565-de8c-8e459a9fae98"
      },
      "source": [
        "a.ndim #A dizisinin kaç boyutlu olduğudur"
      ],
      "execution_count": null,
      "outputs": [
        {
          "output_type": "execute_result",
          "data": {
            "text/plain": [
              "2"
            ]
          },
          "metadata": {
            "tags": []
          },
          "execution_count": 23
        }
      ]
    },
    {
      "cell_type": "code",
      "metadata": {
        "colab": {
          "base_uri": "https://localhost:8080/"
        },
        "id": "KssCJd8awVNe",
        "outputId": "9cfd8d5d-618c-4530-9bb0-d98ee470905a"
      },
      "source": [
        "a.dtype #A dizisindeki elemanların tip değerlerini gösterir"
      ],
      "execution_count": null,
      "outputs": [
        {
          "output_type": "execute_result",
          "data": {
            "text/plain": [
              "dtype('int64')"
            ]
          },
          "metadata": {
            "tags": []
          },
          "execution_count": 24
        }
      ]
    },
    {
      "cell_type": "code",
      "metadata": {
        "colab": {
          "base_uri": "https://localhost:8080/"
        },
        "id": "RUyPZ2noxTjJ",
        "outputId": "408b066a-4280-4122-baa1-da6133467a02"
      },
      "source": [
        "a.astype(float) #A dizisinin elemanlarını tiplerini değiştirir"
      ],
      "execution_count": null,
      "outputs": [
        {
          "output_type": "execute_result",
          "data": {
            "text/plain": [
              "array([[1., 2., 3.],\n",
              "       [4., 5., 6.],\n",
              "       [7., 8., 9.]])"
            ]
          },
          "metadata": {
            "tags": []
          },
          "execution_count": 25
        }
      ]
    },
    {
      "cell_type": "markdown",
      "metadata": {
        "id": "74TdZvp4xYvQ"
      },
      "source": [
        "## **Kopyalama ve Sıralama**\r\n"
      ]
    },
    {
      "cell_type": "code",
      "metadata": {
        "id": "DLH6cjxmZ1Dd"
      },
      "source": [
        "copy_array=np.copy(a)"
      ],
      "execution_count": null,
      "outputs": []
    },
    {
      "cell_type": "code",
      "metadata": {
        "colab": {
          "base_uri": "https://localhost:8080/"
        },
        "id": "F8jtaPXIZ8wh",
        "outputId": "aba9f0e9-4911-4856-d62e-af062e9be910"
      },
      "source": [
        "copy_array"
      ],
      "execution_count": null,
      "outputs": [
        {
          "output_type": "execute_result",
          "data": {
            "text/plain": [
              "array([[1, 2, 3],\n",
              "       [4, 5, 6],\n",
              "       [7, 8, 9]])"
            ]
          },
          "metadata": {
            "tags": []
          },
          "execution_count": 27
        }
      ]
    },
    {
      "cell_type": "code",
      "metadata": {
        "id": "IgKPSAVhaTsj"
      },
      "source": [
        "d=np.array([[9,8,7],\r\n",
        "           [6,5,4],\r\n",
        "           [3,2,1]])"
      ],
      "execution_count": null,
      "outputs": []
    },
    {
      "cell_type": "code",
      "metadata": {
        "id": "-qwAm5_laFsw"
      },
      "source": [
        "d.sort()"
      ],
      "execution_count": null,
      "outputs": []
    },
    {
      "cell_type": "code",
      "metadata": {
        "colab": {
          "base_uri": "https://localhost:8080/"
        },
        "id": "L4XWiRMaaPDE",
        "outputId": "a3a2cd48-e21e-459e-8663-f5fba7167486"
      },
      "source": [
        "print(d)"
      ],
      "execution_count": null,
      "outputs": [
        {
          "output_type": "stream",
          "text": [
            "[[7 8 9]\n",
            " [4 5 6]\n",
            " [1 2 3]]\n"
          ],
          "name": "stdout"
        }
      ]
    },
    {
      "cell_type": "markdown",
      "metadata": {
        "id": "nJoOBdgEa6sK"
      },
      "source": [
        "# Liste Manipülasyonu"
      ]
    },
    {
      "cell_type": "code",
      "metadata": {
        "colab": {
          "base_uri": "https://localhost:8080/"
        },
        "id": "oZPQn6kUa-2N",
        "outputId": "85caa0f1-d944-4eb8-e7a6-e1b1055d563a"
      },
      "source": [
        "np.append(a,-5)  #Bir diziye yeni elemanlar eklemeye yarar"
      ],
      "execution_count": null,
      "outputs": [
        {
          "output_type": "execute_result",
          "data": {
            "text/plain": [
              "array([ 1,  2,  3,  4,  5,  6,  7,  8,  9, -5])"
            ]
          },
          "metadata": {
            "tags": []
          },
          "execution_count": 31
        }
      ]
    },
    {
      "cell_type": "code",
      "metadata": {
        "colab": {
          "base_uri": "https://localhost:8080/"
        },
        "id": "4I4axW9jcNhz",
        "outputId": "728d04fd-f626-4659-da84-75a6092fb408"
      },
      "source": [
        "np.append(a,b)  #İki diziyi birbirine eklemeye yarar"
      ],
      "execution_count": null,
      "outputs": [
        {
          "output_type": "execute_result",
          "data": {
            "text/plain": [
              "array([1, 2, 3, 4, 5, 6, 7, 8, 9, 1, 1, 1, 1, 1, 1, 1, 1, 1])"
            ]
          },
          "metadata": {
            "tags": []
          },
          "execution_count": 32
        }
      ]
    },
    {
      "cell_type": "code",
      "metadata": {
        "id": "Bnblqkt_iXAB"
      },
      "source": [
        "x=np.array([[1,1,1],\r\n",
        "            [2,2,2],\r\n",
        "            [3,3,3]])"
      ],
      "execution_count": null,
      "outputs": []
    },
    {
      "cell_type": "code",
      "metadata": {
        "colab": {
          "base_uri": "https://localhost:8080/"
        },
        "id": "mbIGS7rbcdzE",
        "outputId": "b85f5bf2-4672-49ab-81b9-e6761fc473e3"
      },
      "source": [
        "np.delete(x,1,axis=0)"
      ],
      "execution_count": null,
      "outputs": [
        {
          "output_type": "execute_result",
          "data": {
            "text/plain": [
              "array([[1, 1, 1],\n",
              "       [3, 3, 3]])"
            ]
          },
          "metadata": {
            "tags": []
          },
          "execution_count": 34
        }
      ]
    },
    {
      "cell_type": "code",
      "metadata": {
        "colab": {
          "base_uri": "https://localhost:8080/"
        },
        "id": "CG2_DHCii_gf",
        "outputId": "30e8f7db-f9fc-4b5a-b001-75728a7b0e41"
      },
      "source": [
        "np.divide(x,a)"
      ],
      "execution_count": null,
      "outputs": [
        {
          "output_type": "execute_result",
          "data": {
            "text/plain": [
              "array([[1.        , 0.5       , 0.33333333],\n",
              "       [0.5       , 0.4       , 0.33333333],\n",
              "       [0.42857143, 0.375     , 0.33333333]])"
            ]
          },
          "metadata": {
            "tags": []
          },
          "execution_count": 35
        }
      ]
    },
    {
      "cell_type": "code",
      "metadata": {
        "colab": {
          "base_uri": "https://localhost:8080/"
        },
        "id": "EQdpmwKTj6iL",
        "outputId": "2dd548a5-6cfa-42d9-e4bb-f4cd52e7da5e"
      },
      "source": [
        "np.add(x,a)"
      ],
      "execution_count": null,
      "outputs": [
        {
          "output_type": "execute_result",
          "data": {
            "text/plain": [
              "array([[ 2,  3,  4],\n",
              "       [ 6,  7,  8],\n",
              "       [10, 11, 12]])"
            ]
          },
          "metadata": {
            "tags": []
          },
          "execution_count": 36
        }
      ]
    },
    {
      "cell_type": "markdown",
      "metadata": {
        "id": "1CKy2B9AkZUq"
      },
      "source": [
        "# Örnekler"
      ]
    },
    {
      "cell_type": "markdown",
      "metadata": {
        "id": "-xpdBUDPkb0c"
      },
      "source": [
        "Örnek1: Oluşturulan NumPy arrayde NaN değer olup olmadığını sorgulayan program"
      ]
    },
    {
      "cell_type": "code",
      "metadata": {
        "colab": {
          "base_uri": "https://localhost:8080/"
        },
        "id": "iThUqE1mmfQ0",
        "outputId": "8474e624-4db7-4791-973a-b1b382f3359f"
      },
      "source": [
        "soru1=np.array([1, 0, np.nan, 3])\r\n",
        "print(np.isfinite(soru1))"
      ],
      "execution_count": null,
      "outputs": [
        {
          "output_type": "stream",
          "text": [
            "[ True  True False  True]\n"
          ],
          "name": "stdout"
        }
      ]
    },
    {
      "cell_type": "markdown",
      "metadata": {
        "id": "D9gTQVV4mpLn"
      },
      "source": [
        "Örnek2: 30'dan 70'e kadar giden bir numpy array yazın"
      ]
    },
    {
      "cell_type": "code",
      "metadata": {
        "colab": {
          "base_uri": "https://localhost:8080/"
        },
        "id": "FEgb9yt6jfGH",
        "outputId": "008342e0-e76b-42df-c6cc-783877f06390"
      },
      "source": [
        "np.arange(30,71)"
      ],
      "execution_count": null,
      "outputs": [
        {
          "output_type": "execute_result",
          "data": {
            "text/plain": [
              "array([30, 31, 32, 33, 34, 35, 36, 37, 38, 39, 40, 41, 42, 43, 44, 45, 46,\n",
              "       47, 48, 49, 50, 51, 52, 53, 54, 55, 56, 57, 58, 59, 60, 61, 62, 63,\n",
              "       64, 65, 66, 67, 68, 69, 70])"
            ]
          },
          "metadata": {
            "tags": []
          },
          "execution_count": 38
        }
      ]
    },
    {
      "cell_type": "markdown",
      "metadata": {
        "id": "ezAVmNxBjjZ4"
      },
      "source": [
        "Örnek3: 30'dan 70'e kadar tüm çift tam sayılardan oluşan bir dizi"
      ]
    },
    {
      "cell_type": "code",
      "metadata": {
        "colab": {
          "base_uri": "https://localhost:8080/"
        },
        "id": "RJ5zy-rIjydM",
        "outputId": "bdcd403a-ffb5-4e6e-bfca-1fb3416fd234"
      },
      "source": [
        "np.arange(30,71,2)"
      ],
      "execution_count": null,
      "outputs": [
        {
          "output_type": "execute_result",
          "data": {
            "text/plain": [
              "array([30, 32, 34, 36, 38, 40, 42, 44, 46, 48, 50, 52, 54, 56, 58, 60, 62,\n",
              "       64, 66, 68, 70])"
            ]
          },
          "metadata": {
            "tags": []
          },
          "execution_count": 39
        }
      ]
    },
    {
      "cell_type": "markdown",
      "metadata": {
        "id": "zCJ9RJcjkqGM"
      },
      "source": [
        "Örnek3: 3x3 lük bir birim matris oluşturunuz"
      ]
    },
    {
      "cell_type": "code",
      "metadata": {
        "colab": {
          "base_uri": "https://localhost:8080/"
        },
        "id": "EM71Wog7k3_B",
        "outputId": "43f098e8-5288-40cb-c956-055c5e68c85c"
      },
      "source": [
        "np.identity(3)"
      ],
      "execution_count": null,
      "outputs": [
        {
          "output_type": "execute_result",
          "data": {
            "text/plain": [
              "array([[1., 0., 0.],\n",
              "       [0., 1., 0.],\n",
              "       [0., 0., 1.]])"
            ]
          },
          "metadata": {
            "tags": []
          },
          "execution_count": 40
        }
      ]
    },
    {
      "cell_type": "markdown",
      "metadata": {
        "id": "VC9K4_UxllZD"
      },
      "source": [
        "Örnek4: 15 adet rastgele sayı içeren bir array yazınız"
      ]
    },
    {
      "cell_type": "code",
      "metadata": {
        "colab": {
          "base_uri": "https://localhost:8080/"
        },
        "id": "Z19aJo9vl6gm",
        "outputId": "f72c9716-ef35-440a-b6ed-4daabe5eaf33"
      },
      "source": [
        "np.random.normal(0,1,15)"
      ],
      "execution_count": null,
      "outputs": [
        {
          "output_type": "execute_result",
          "data": {
            "text/plain": [
              "array([ 1.40506323, -0.3343443 ,  0.98105687,  0.0588875 ,  0.26062577,\n",
              "       -1.07793241, -0.36601622,  0.5279415 , -0.91157526,  0.49348451,\n",
              "        0.09106866, -3.09394266, -0.30668684,  0.69506775, -0.04312586])"
            ]
          },
          "metadata": {
            "tags": []
          },
          "execution_count": 41
        }
      ]
    },
    {
      "cell_type": "markdown",
      "metadata": {
        "id": "FcJ88bfmmLVU"
      },
      "source": [
        "Örnek5: 15 ile 55 arasındaki sayılarla bir array oluşturun. İlk ve son değerler hariç diğerlerini yazdırın"
      ]
    },
    {
      "cell_type": "code",
      "metadata": {
        "colab": {
          "base_uri": "https://localhost:8080/"
        },
        "id": "yTyQWNZzmbvk",
        "outputId": "b861ade3-3438-4b90-e0d6-8dae60e180e2"
      },
      "source": [
        "soru5=np.arange(15,56)\r\n",
        "soru5[1:-1]"
      ],
      "execution_count": null,
      "outputs": [
        {
          "output_type": "execute_result",
          "data": {
            "text/plain": [
              "array([16, 17, 18, 19, 20, 21, 22, 23, 24, 25, 26, 27, 28, 29, 30, 31, 32,\n",
              "       33, 34, 35, 36, 37, 38, 39, 40, 41, 42, 43, 44, 45, 46, 47, 48, 49,\n",
              "       50, 51, 52, 53, 54])"
            ]
          },
          "metadata": {
            "tags": []
          },
          "execution_count": 42
        }
      ]
    },
    {
      "cell_type": "markdown",
      "metadata": {
        "id": "xQeWu9MJoMPb"
      },
      "source": [
        "Örnek6: 10dan 21e kadar olan sayıları 3x5lük bir matrise yazınız"
      ]
    },
    {
      "cell_type": "code",
      "metadata": {
        "colab": {
          "base_uri": "https://localhost:8080/"
        },
        "id": "altOhquSQjrp",
        "outputId": "ca703b7c-13c3-4ea1-b241-26400e30ff95"
      },
      "source": [
        "np.arange(10,22).reshape((3, 4))"
      ],
      "execution_count": null,
      "outputs": [
        {
          "output_type": "execute_result",
          "data": {
            "text/plain": [
              "array([[10, 11, 12, 13],\n",
              "       [14, 15, 16, 17],\n",
              "       [18, 19, 20, 21]])"
            ]
          },
          "metadata": {
            "tags": []
          },
          "execution_count": 44
        }
      ]
    },
    {
      "cell_type": "markdown",
      "metadata": {
        "id": "XPPGrvUcQpp5"
      },
      "source": [
        "Örnek7: Ana köşegen 1,2,3,4,5 olan bir sıfır matris oluşturunuz"
      ]
    },
    {
      "cell_type": "markdown",
      "metadata": {
        "id": "lrLvR623Rka5"
      },
      "source": [
        "***Çözüm 1***"
      ]
    },
    {
      "cell_type": "code",
      "metadata": {
        "colab": {
          "base_uri": "https://localhost:8080/"
        },
        "id": "-oRvt-xhQ6B3",
        "outputId": "57bcfd3f-0ca1-4245-a44b-aa4272eb3279"
      },
      "source": [
        "soru7=np.zeros((5,5),dtype='int')\r\n",
        "soru7[0][0]=1\r\n",
        "soru7[1][1]=2\r\n",
        "soru7[2][2]=3\r\n",
        "soru7[3][3]=4\r\n",
        "soru7[4][4]=5\r\n",
        "print(soru7)"
      ],
      "execution_count": null,
      "outputs": [
        {
          "output_type": "stream",
          "text": [
            "[[1 0 0 0 0]\n",
            " [0 2 0 0 0]\n",
            " [0 0 3 0 0]\n",
            " [0 0 0 4 0]\n",
            " [0 0 0 0 5]]\n"
          ],
          "name": "stdout"
        }
      ]
    },
    {
      "cell_type": "code",
      "metadata": {
        "colab": {
          "base_uri": "https://localhost:8080/"
        },
        "id": "qsA-kLIeRqnl",
        "outputId": "cde18aca-a8ef-4fe9-c767-ba3518ba08b6"
      },
      "source": [
        "np.diag([1, 2, 3, 4, 5])"
      ],
      "execution_count": null,
      "outputs": [
        {
          "output_type": "execute_result",
          "data": {
            "text/plain": [
              "array([[1, 0, 0, 0, 0],\n",
              "       [0, 2, 0, 0, 0],\n",
              "       [0, 0, 3, 0, 0],\n",
              "       [0, 0, 0, 4, 0],\n",
              "       [0, 0, 0, 0, 5]])"
            ]
          },
          "metadata": {
            "tags": []
          },
          "execution_count": 49
        }
      ]
    },
    {
      "cell_type": "markdown",
      "metadata": {
        "id": "61W-eb0NRvdh"
      },
      "source": [
        "Örnek8: Tüm elemanların toplamını, her bir sütunun toplamını ve belirli bir dizinin her satırının toplamını hesaplayınız"
      ]
    },
    {
      "cell_type": "code",
      "metadata": {
        "colab": {
          "base_uri": "https://localhost:8080/"
        },
        "id": "S1sotxq-SEe0",
        "outputId": "ff96a0e3-83bd-42e4-bbc5-39fb15b0167e"
      },
      "source": [
        "soru8=np.array([[1,2,3],\r\n",
        "                [4,5,6],\r\n",
        "                [7,8,9]])\r\n",
        "toplam=soru8.sum()\r\n",
        "toplam_satır=soru8.sum(axis=0)\r\n",
        "toplam_sutun=soru8.sum(axis=1)\r\n",
        "print(toplam,toplam_satır,toplam_sutun)"
      ],
      "execution_count": null,
      "outputs": [
        {
          "output_type": "stream",
          "text": [
            "45 [12 15 18] [ 6 15 24]\n"
          ],
          "name": "stdout"
        }
      ]
    },
    {
      "cell_type": "markdown",
      "metadata": {
        "id": "Dr1zh7ycbNX7"
      },
      "source": [
        "Örnek9: Verilen iki vektörün iç çarpımını yazan kod"
      ]
    },
    {
      "cell_type": "code",
      "metadata": {
        "colab": {
          "base_uri": "https://localhost:8080/"
        },
        "id": "Qar67CKghMaS",
        "outputId": "024d96cc-0ef2-4f1a-cb8c-088a39c80a10"
      },
      "source": [
        "soru9=np.array([1,2,3])\r\n",
        "soru9_1=np.array([9,8,7])\r\n",
        "print(np.dot(soru9,soru9_1))\r\n",
        "\r\n",
        "# 1*7+2*8+3*9"
      ],
      "execution_count": null,
      "outputs": [
        {
          "output_type": "stream",
          "text": [
            "46\n"
          ],
          "name": "stdout"
        }
      ]
    },
    {
      "cell_type": "markdown",
      "metadata": {
        "id": "SzGlp4XiiOj3"
      },
      "source": [
        "Örnek10: Bir matrisin her satırına bir vektördeki sayıları ekleyen kod"
      ]
    },
    {
      "cell_type": "code",
      "metadata": {
        "colab": {
          "base_uri": "https://localhost:8080/"
        },
        "id": "seeMM5NOkBEk",
        "outputId": "6c99e6d8-759d-4ea8-9d17-8a6a0cfe31c0"
      },
      "source": [
        "soru10 = np.array([[1,2,3], \r\n",
        "                   [4,5,6], \r\n",
        "                   [7,8,9], \r\n",
        "                   [10, 11, 12]])\r\n",
        "soru10_1=np.array([1, 1, 0])\r\n",
        "empty_array=np.empty_like(soru10)\r\n",
        "\r\n",
        "for i in range(len(soru10)):\r\n",
        "  empty_array[i,:]=soru10[i,:]+soru10_1\r\n",
        "\r\n",
        "print(empty_array)\r\n"
      ],
      "execution_count": null,
      "outputs": [
        {
          "output_type": "stream",
          "text": [
            "[[ 2  3  3]\n",
            " [ 5  6  6]\n",
            " [ 8  9  9]\n",
            " [11 12 12]]\n"
          ],
          "name": "stdout"
        }
      ]
    },
    {
      "cell_type": "markdown",
      "metadata": {
        "id": "36_vEqPml6kR"
      },
      "source": [
        "Örnek11: Numpy dtype'ları yerel python türlerine dönüştüren kod"
      ]
    },
    {
      "cell_type": "code",
      "metadata": {
        "colab": {
          "base_uri": "https://localhost:8080/"
        },
        "id": "IxON-Mm2mX7Q",
        "outputId": "792877bd-d76c-41db-b1cb-2ebe314b9a85"
      },
      "source": [
        "soru11_numpy_value=np.float32(0)\r\n",
        "print(type(soru11_numpy_value))\r\n",
        "soru11_python_value=soru11_numpy_value.item()\r\n",
        "print(type(soru11_python_value))"
      ],
      "execution_count": null,
      "outputs": [
        {
          "output_type": "stream",
          "text": [
            "<class 'numpy.float32'>\n",
            "<class 'float'>\n"
          ],
          "name": "stdout"
        }
      ]
    }
  ]
}